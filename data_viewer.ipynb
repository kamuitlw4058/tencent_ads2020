{
 "cells": [
  {
   "cell_type": "code",
   "execution_count": 1,
   "metadata": {},
   "outputs": [],
   "source": [
    "import os\n",
    "import pandas as pd\n",
    "import numpy as np\n",
    "import random\n",
    "import gc\n",
    "from datetime import datetime\n",
    "from tqdm import tqdm\n",
    "import matplotlib.pyplot as plt\n",
    "\n",
    "np.random.seed(2019)\n",
    "random.seed(2019)\n",
    "pd.set_option('display.max_rows', 50)\n",
    "pd.set_option('display.max_columns', 500)\n",
    "pd.set_option('display.width', 280)\n",
    "pd.set_option('display.max_colwidth', 150)\n",
    "data_path = '/data/workspace/kimi/tencent_ads/2020/dataset'"
   ]
  },
  {
   "cell_type": "code",
   "execution_count": 2,
   "metadata": {},
   "outputs": [
    {
     "name": "stdout",
     "output_type": "stream",
     "text": [
      "          time  user_id  creative_id  click_times\n",
      "0            9    30920       567330            1\n",
      "1           65    30920      3072255            1\n",
      "2           56    30920      2361327            1\n",
      "3            6   309204       325532            1\n",
      "4           59   309204      2746730            1\n",
      "5           12   309204       726402            1\n",
      "6           79   309204      2851451            1\n",
      "7           32   309204      1569716            1\n",
      "8            5   309204        71956            1\n",
      "9            8   309204       322354            1\n",
      "10           8   309204       118351            1\n",
      "11          10   309204       580576            1\n",
      "12          40   309204        98510            1\n",
      "13          13   309204       819237            1\n",
      "14           7   309204       336926            1\n",
      "15          14   309204       819237            1\n",
      "16          12   309204       623579            1\n",
      "17          27   309204      1413507            1\n",
      "18          55   309204      2634847            1\n",
      "19          40   309204      1874456            1\n",
      "20          57   309204      2615402            2\n",
      "21          12   309204       195896            1\n",
      "22          11   309204        20297            1\n",
      "23          10   309204       629406            1\n",
      "24           5   309204       197866            1\n",
      "...        ...      ...          ...          ...\n",
      "30082746    11    30920       563952            1\n",
      "30082747    26    30920      1390285            1\n",
      "30082748    18    30920       566646            1\n",
      "30082749    50    30920      2346223            1\n",
      "30082750    29    30920      1520949            1\n",
      "30082751    77    30920      3735774            1\n",
      "30082752    91    30920      4351674            1\n",
      "30082753    77    30920      3260862            1\n",
      "30082754    28    30920      1237871            1\n",
      "30082755    29    30920        15373            1\n",
      "30082756    29    30920       475252            1\n",
      "30082757    35    30920      1638771            1\n",
      "30082758    52    30920      1875572            1\n",
      "30082759    63    30920      1711578            1\n",
      "30082760    54    30920      2233268            1\n",
      "30082761    52    30920      2361397            1\n",
      "30082762    52    30920         9148            1\n",
      "30082763    53    30920      2361397            1\n",
      "30082764    40    30920        22298            2\n",
      "30082765    72    30920      2361397            1\n",
      "30082766     6    30920       228129            1\n",
      "30082767    57    30920      2361397            1\n",
      "30082768    26    30920       629802            1\n",
      "30082769    86    30920      2713031            1\n",
      "30082770    25    30920       629802            1\n",
      "\n",
      "[30082771 rows x 4 columns]\n"
     ]
    }
   ],
   "source": [
    "clk_df = pd.read_csv(f'{data_path}/train_preliminary/click_log.csv' )\n",
    "print(clk_df)\n",
    "del clk_df"
   ]
  },
  {
   "cell_type": "code",
   "execution_count": 3,
   "metadata": {},
   "outputs": [
    {
     "name": "stdout",
     "output_type": "stream",
     "text": [
      "        user_id  age  gender\n",
      "0             1    4       1\n",
      "1             2   10       1\n",
      "2             3    7       2\n",
      "3             4    5       1\n",
      "4             5    4       1\n",
      "5             6    6       1\n",
      "6             7    6       2\n",
      "7             8    5       1\n",
      "8             9    5       1\n",
      "9            10    9       2\n",
      "10           11    8       2\n",
      "11           12    5       1\n",
      "12           13    6       2\n",
      "13           14    7       1\n",
      "14           15    5       2\n",
      "15           16    3       2\n",
      "16           17    3       1\n",
      "17           18    2       2\n",
      "18           19    3       1\n",
      "19           20    4       1\n",
      "20           21    6       2\n",
      "21           22    4       1\n",
      "22           23    5       2\n",
      "23           24    1       2\n",
      "24           25    6       2\n",
      "...         ...  ...     ...\n",
      "899975   899976    4       2\n",
      "899976   899977    3       2\n",
      "899977   899978    6       1\n",
      "899978   899979    2       2\n",
      "899979   899980    4       1\n",
      "899980   899981    2       2\n",
      "899981   899982    2       1\n",
      "899982   899983    5       1\n",
      "899983   899984    9       1\n",
      "899984   899985    5       1\n",
      "899985   899986    1       2\n",
      "899986   899987    5       1\n",
      "899987   899988    6       1\n",
      "899988   899989    3       1\n",
      "899989   899990    5       1\n",
      "899990   899991    3       1\n",
      "899991   899992    9       1\n",
      "899992   899993    2       2\n",
      "899993   899994    4       2\n",
      "899994   899995    2       2\n",
      "899995   899996    5       1\n",
      "899996   899997    3       2\n",
      "899997   899998    4       2\n",
      "899998   899999    3       1\n",
      "899999   900000    3       2\n",
      "\n",
      "[900000 rows x 3 columns]\n"
     ]
    }
   ],
   "source": [
    "user_df = pd.read_csv(f'{data_path}/train_preliminary/user.csv' )\n",
    "print(user_df)\n",
    "del user_df"
   ]
  },
  {
   "cell_type": "code",
   "execution_count": 4,
   "metadata": {},
   "outputs": [
    {
     "name": "stdout",
     "output_type": "stream",
     "text": [
      "         creative_id    ad_id product_id  product_category  advertiser_id industry\n",
      "0                  1        1         \\N                 5            381       78\n",
      "1                  4        4         \\N                 5            108      202\n",
      "2                  7        7         \\N                 5            148      297\n",
      "3                  8        8         \\N                 5            713      213\n",
      "4                  9        9         \\N                 5            695      213\n",
      "5                 10       10         \\N                 5            100       73\n",
      "6                 12       12         \\N                 5            765        6\n",
      "7                 13       13         \\N                 5            113      267\n",
      "8                 16       16         \\N                 5            623        1\n",
      "9                 20       20      34647                 5            312      267\n",
      "10                21       21         \\N                 5            108      202\n",
      "11                22       22         \\N                 5            108      202\n",
      "12                23       23         \\N                 5            108      202\n",
      "13                24       24         \\N                 5            108      202\n",
      "14                27       27         59                 1          62948      254\n",
      "15                28       28         \\N                 5            108      202\n",
      "16                29       29         \\N                 5            108      202\n",
      "17                36       36         \\N                18            955       25\n",
      "18                39       39         \\N                 5           1175      213\n",
      "19                41       41         \\N                 5           1875        6\n",
      "20                44       44         \\N                18            955      168\n",
      "21                46       46       1263                 1           1274      247\n",
      "22                48       48         \\N                 5            108      202\n",
      "23                49       49         \\N                 5            108      202\n",
      "24                50       50         \\N                 5            108      202\n",
      "...              ...      ...        ...               ...            ...      ...\n",
      "2481110      4445680  3812162       1849                 2          61136      317\n",
      "2481111      4445681  3812163      35885                17            427       \\N\n",
      "2481112      4445682  3812164      35885                17            427       \\N\n",
      "2481113      4445683  3812165      39063                17            427       \\N\n",
      "2481114      4445684  3812166       1849                 2          61136      317\n",
      "2481115      4445686  3812168      41285                17            427       \\N\n",
      "2481116      4445687  3812169      39063                17            427       \\N\n",
      "2481117      4445688  3812170      39287                17            427       \\N\n",
      "2481118      4445690  3812172         \\N                 5          16192      288\n",
      "2481119      4445691  3812173      41285                17            427       \\N\n",
      "2481120      4445695  3812177      41285                17            427       \\N\n",
      "2481121      4445698  3812180      39030                17            427       \\N\n",
      "2481122      4445699  3812181      35885                17            427       \\N\n",
      "2481123      4445700  3812182      35885                17            427       \\N\n",
      "2481124      4445704  3812186      39063                17            427       \\N\n",
      "2481125      4445705  3812187      39063                17            427       \\N\n",
      "2481126      4445706  3812188         \\N                 5          19188       \\N\n",
      "2481127      4445708  3812190      39030                17            427       \\N\n",
      "2481128      4445710  3812192      39063                17            427       \\N\n",
      "2481129      4445711  3812193      35885                17            427       \\N\n",
      "2481130      4445714  3812196       9152                 3          56976      248\n",
      "2481131      4445715  3812197      39063                17            427       \\N\n",
      "2481132      4445716  3812198      39063                17            427       \\N\n",
      "2481133      4445717  3812199      35885                17            427       \\N\n",
      "2481134      4445718  3812200      39287                17            427       \\N\n",
      "\n",
      "[2481135 rows x 6 columns]\n"
     ]
    }
   ],
   "source": [
    "ad_df = pd.read_csv(f'{data_path}/train_preliminary/ad.csv' )\n",
    "print(ad_df)\n"
   ]
  },
  {
   "cell_type": "code",
   "execution_count": 7,
   "metadata": {},
   "outputs": [
    {
     "name": "stdout",
     "output_type": "stream",
     "text": [
      "326\n",
      "247    262634\n",
      "319    178677\n",
      "6      161962\n",
      "322    159928\n",
      "\\N     101048\n",
      "242     77113\n",
      "238     76788\n",
      "326     65196\n",
      "54      64318\n",
      "73      64130\n",
      "Name: industry, dtype: int64\n",
      "null:101048\n"
     ]
    },
    {
     "data": {
      "image/png": "[encoded data removed]",
      "text/plain": [
       "<Figure size 432x288 with 1 Axes>"
      ]
     },
     "metadata": {
      "needs_background": "light"
     },
     "output_type": "display_data"
    }
   ],
   "source": [
    "adv_count_value= ad_df['industry'].value_counts()\n",
    "print(len(adv_count_value))\n",
    "print(adv_count_value[:10])\n",
    "null_counts = adv_count_value['\\\\N']\n",
    "print(f\"null:{null_counts}\")\n",
    "x = adv_count_value.index\n",
    "y = adv_count_value.values\n",
    "plt.scatter(x,y)\n",
    "plt.show()\n",
    "\n",
    "del adv_count_value"
   ]
  },
  {
   "cell_type": "code",
   "execution_count": 9,
   "metadata": {},
   "outputs": [
    {
     "name": "stdout",
     "output_type": "stream",
     "text": [
      "52090\n",
      "14681    26906\n",
      "14056    24500\n",
      "14682    18915\n",
      "9058     12127\n",
      "32876     8633\n",
      "22897     8336\n",
      "15855     8164\n",
      "24894     5864\n",
      "25260     5789\n",
      "10988     5761\n",
      "Name: advertiser_id, dtype: int64\n",
      "null:101048\n"
     ]
    },
    {
     "data": {
      "image/png": "[encoded data removed]",
      "text/plain": [
       "<Figure size 432x288 with 1 Axes>"
      ]
     },
     "metadata": {
      "needs_background": "light"
     },
     "output_type": "display_data"
    }
   ],
   "source": [
    "adv_count_value= ad_df['advertiser_id'].value_counts()\n",
    "print(len(adv_count_value))\n",
    "print(adv_count_value[:10])\n",
    "#null_counts = adv_count_value['\\\\N']\n",
    "print(f\"null:{null_counts}\")\n",
    "x = adv_count_value.index\n",
    "y = adv_count_value.values\n",
    "plt.scatter(x,y)\n",
    "plt.show()\n",
    "\n",
    "del adv_count_value"
   ]
  },
  {
   "cell_type": "code",
   "execution_count": 12,
   "metadata": {},
   "outputs": [
    {
     "name": "stdout",
     "output_type": "stream",
     "text": [
      "18\n",
      "2     923994\n",
      "18    663346\n",
      "3     283817\n",
      "8     233832\n",
      "5     227970\n",
      "13     38072\n",
      "17     35638\n",
      "4      22917\n",
      "12     19592\n",
      "6      12077\n",
      "7       7611\n",
      "16      7216\n",
      "9       2970\n",
      "11      1379\n",
      "15       332\n",
      "1        259\n",
      "14        95\n",
      "10        18\n",
      "Name: product_category, dtype: int64\n",
      "null:101048\n"
     ]
    },
    {
     "data": {
      "image/png": "[encoded data removed]",
      "text/plain": [
       "<Figure size 432x288 with 1 Axes>"
      ]
     },
     "metadata": {
      "needs_background": "light"
     },
     "output_type": "display_data"
    }
   ],
   "source": [
    "adv_count_value= ad_df['product_category'].value_counts()\n",
    "print(len(adv_count_value))\n",
    "print(adv_count_value[:20])\n",
    "#null_counts = adv_count_value['\\\\N']\n",
    "print(f\"null:{null_counts}\")\n",
    "x = adv_count_value.index\n",
    "y = adv_count_value.values\n",
    "plt.scatter(x,y)\n",
    "plt.show()\n",
    "\n",
    "del adv_count_value"
   ]
  },
  {
   "cell_type": "code",
   "execution_count": 14,
   "metadata": {},
   "outputs": [
    {
     "name": "stdout",
     "output_type": "stream",
     "text": [
      "33273\n",
      "\\N      929524\n",
      "23       37705\n",
      "1766     33103\n",
      "1674     32395\n",
      "1064     30665\n",
      "136      29479\n",
      "1810     25195\n",
      "111      23236\n",
      "1261     21242\n",
      "1334     21185\n",
      "Name: product_id, dtype: int64\n",
      "null:929524\n"
     ]
    }
   ],
   "source": [
    "adv_count_value= ad_df['product_id'].value_counts()\n",
    "print(len(adv_count_value))\n",
    "print(adv_count_value[:10])\n",
    "null_counts = adv_count_value['\\\\N']\n",
    "print(f\"null:{null_counts}\")\n",
    "#x = adv_count_value.index\n",
    "#y = adv_count_value.values\n",
    "#plt.scatter(x,y)\n",
    "#plt.show()\n",
    "\n",
    "del adv_count_value"
   ]
  },
  {
   "cell_type": "code",
   "execution_count": 16,
   "metadata": {},
   "outputs": [
    {
     "name": "stdout",
     "output_type": "stream",
     "text": [
      "2264190\n",
      "1729961    19\n",
      "2179954    18\n",
      "1771929    17\n",
      "2763747    17\n",
      "3718339    16\n",
      "681564     16\n",
      "847568     16\n",
      "926023     16\n",
      "3288857    16\n",
      "1779604    16\n",
      "Name: ad_id, dtype: int64\n"
     ]
    }
   ],
   "source": [
    "adv_count_value= ad_df['ad_id'].value_counts()\n",
    "print(len(adv_count_value))\n",
    "print(adv_count_value[:10])\n",
    "#null_counts = adv_count_value['\\\\N']\n",
    "#print(f\"null:{null_counts}\")\n",
    "# x = adv_count_value.index\n",
    "# y = adv_count_value.values\n",
    "# plt.scatter(x,y)\n",
    "# plt.show()\n",
    "\n",
    "del adv_count_value"
   ]
  },
  {
   "cell_type": "code",
   "execution_count": 17,
   "metadata": {},
   "outputs": [
    {
     "name": "stdout",
     "output_type": "stream",
     "text": [
      "         creative_id    ad_id product_id  product_category  advertiser_id industry\n",
      "0                  1        1         \\N                 5            381       78\n",
      "1                  3        3         \\N                 5            598      165\n",
      "2                  4        4         \\N                 5            108      202\n",
      "3                  5        5         \\N                 5            109        6\n",
      "4                  6        6         \\N                 5            400        6\n",
      "5                  7        7         \\N                 5            148      297\n",
      "6                 10       10         \\N                 5            100       73\n",
      "7                 13       13         \\N                 5            113      267\n",
      "8                 14       14         \\N                 5            556        2\n",
      "9                 16       16         \\N                 5            623        1\n",
      "10                17       17         \\N                 5            623        1\n",
      "11                18       18       1358                 1            421      247\n",
      "12                19       19         \\N                 5            846       91\n",
      "13                20       20      34647                 5            312      267\n",
      "14                21       21         \\N                 5            108      202\n",
      "15                22       22         \\N                 5            108      202\n",
      "16                25       25         \\N                 5            108      202\n",
      "17                27       27         59                 1          62948      254\n",
      "18                28       28         \\N                 5            108      202\n",
      "19                29       29         \\N                 5            108      202\n",
      "20                30       30         \\N                 5            108      202\n",
      "21                32       32         \\N                 5            108      202\n",
      "22                33       33         \\N                 5            108      202\n",
      "23                36       36         \\N                18            955       25\n",
      "24                38       38         \\N                 5           1175      213\n",
      "...              ...      ...        ...               ...            ...      ...\n",
      "2618134      4445682  3812164      35885                17            427       \\N\n",
      "2618135      4445683  3812165      39063                17            427       \\N\n",
      "2618136      4445684  3812166       1849                 2          61136      317\n",
      "2618137      4445685  3812167       1849                 2          61136      317\n",
      "2618138      4445686  3812168      41285                17            427       \\N\n",
      "2618139      4445687  3812169      39063                17            427       \\N\n",
      "2618140      4445688  3812170      39287                17            427       \\N\n",
      "2618141      4445689  3812171       1849                 2          61136      317\n",
      "2618142      4445692  3812174      41285                17            427       \\N\n",
      "2618143      4445695  3812177      41285                17            427       \\N\n",
      "2618144      4445696  3812178      41285                17            427       \\N\n",
      "2618145      4445699  3812181      35885                17            427       \\N\n",
      "2618146      4445700  3812182      35885                17            427       \\N\n",
      "2618147      4445702  3812184         \\N                 5          19188      296\n",
      "2618148      4445703  3812185         \\N                 5          19188      296\n",
      "2618149      4445704  3812186      39063                17            427       \\N\n",
      "2618150      4445707  3812189      39063                17            427       \\N\n",
      "2618151      4445708  3812190      39030                17            427       \\N\n",
      "2618152      4445711  3812193      35885                17            427       \\N\n",
      "2618153      4445712  3812194      35885                17            427       \\N\n",
      "2618154      4445713  3812195      39063                17            427       \\N\n",
      "2618155      4445715  3812197      39063                17            427       \\N\n",
      "2618156      4445718  3812200      39287                17            427       \\N\n",
      "2618157      4445719  3812201      39287                17            427       \\N\n",
      "2618158      4445720  3812202      39287                17            427       \\N\n",
      "\n",
      "[2618159 rows x 6 columns]\n"
     ]
    }
   ],
   "source": [
    "ad_test_df = pd.read_csv(f'{data_path}/test/ad.csv' )\n",
    "print(ad_test_df)"
   ]
  },
  {
   "cell_type": "code",
   "execution_count": null,
   "metadata": {},
   "outputs": [],
   "source": []
  }
 ],
 "metadata": {
  "kernelspec": {
   "display_name": "Python 3",
   "language": "python",
   "name": "python3"
  },
  "language_info": {
   "codemirror_mode": {
    "name": "ipython",
    "version": 3
   },
   "file_extension": ".py",
   "mimetype": "text/x-python",
   "name": "python",
   "nbconvert_exporter": "python",
   "pygments_lexer": "ipython3",
   "version": "3.7.3"
  }
 },
 "nbformat": 4,
 "nbformat_minor": 2
}
