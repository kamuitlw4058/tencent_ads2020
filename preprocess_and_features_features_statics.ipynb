{
 "cells": [
  {
   "cell_type": "code",
   "execution_count": 1,
   "metadata": {},
   "outputs": [
    {
     "name": "stdout",
     "output_type": "stream",
     "text": [
      "INFO: Pandarallel will run on 8 workers.\n",
      "INFO: Pandarallel will use Memory file system to transfer data between the main process and workers.\n"
     ]
    }
   ],
   "source": [
    "import os\n",
    "import pandas as pd\n",
    "import numpy as np\n",
    "import random\n",
    "import gc\n",
    "from datetime import datetime\n",
    "from tqdm import tqdm\n",
    "import matplotlib.pyplot as plt\n",
    "from gensim.corpora import WikiCorpus\n",
    "from gensim.models import Word2Vec\n",
    "from gensim.models.word2vec import LineSentence\n",
    "from sklearn.feature_extraction.text import TfidfVectorizer\n",
    "from sklearn.model_selection import train_test_split\n",
    "from  collections import Counter\n",
    "from pandarallel import pandarallel\n",
    "\n",
    "pandarallel.initialize(progress_bar=True)\n",
    "\n",
    "np.random.seed(2019)\n",
    "random.seed(2019)\n",
    "pd.set_option('display.max_rows', 6)\n",
    "pd.set_option('display.max_columns', 500)\n",
    "pd.set_option('display.width', 280)\n",
    "pd.set_option('display.max_colwidth', 150)\n",
    "data_path = '/data/workspace/kimi/tencent_ads/2020/dataset'\n",
    "preprocess_path = 'preprocess'\n"
   ]
  },
  {
   "cell_type": "code",
   "execution_count": 2,
   "metadata": {},
   "outputs": [
    {
     "name": "stdout",
     "output_type": "stream",
     "text": [
      "          time   user_id  creative_id  click_times      ad_id  product_id  product_category  advertiser_id  industry\n",
      "0          9.0   30920.0     567330.0          1.0   504423.0     30673.0               3.0        32638.0     319.0\n",
      "1         15.0  320815.0     567330.0          1.0   504423.0     30673.0               3.0        32638.0     319.0\n",
      "2         11.0  355089.0     567330.0          1.0   504423.0     30673.0               3.0        32638.0     319.0\n",
      "...        ...       ...          ...          ...        ...         ...               ...            ...       ...\n",
      "30082768  76.0  309198.0    3686554.0          2.0  3172440.0      3979.0               2.0        52506.0     247.0\n",
      "30082769  50.0  309198.0    2386973.0          1.0  2057811.0      1946.0               2.0        17757.0     259.0\n",
      "30082770  12.0   30920.0     717026.0          1.0   634512.0        -1.0              18.0        26466.0     126.0\n",
      "\n",
      "[30082771 rows x 9 columns]\n"
     ]
    }
   ],
   "source": [
    "merged_df = pd.read_pickle(f'{preprocess_path}/train_merged_log.pkl' )\n",
    "label_df = pd.read_csv(f'{data_path}/train_preliminary/user.csv')\n",
    "merged_df = merged_df.merge(label_df,on='user_id')\n",
    "print(merged_df)"
   ]
  },
  {
   "cell_type": "code",
   "execution_count": null,
   "metadata": {},
   "outputs": [],
   "source": [
    "agg_dic = {\n",
    "    'age':['count','min','max','std','var'], \n",
    "}"
   ]
  },
  {
   "cell_type": "code",
   "execution_count": 7,
   "metadata": {},
   "outputs": [
    {
     "name": "stdout",
     "output_type": "stream",
     "text": [
      "         click_times         ad_id product_id product_category advertiser_id industry\n",
      "                 sum count nunique    nunique          nunique       nunique  nunique\n",
      "user_id                                                                              \n",
      "1.0             14.0    13      12          6                3            12        9\n",
      "2.0             46.0    45      42         20                3            36       15\n",
      "3.0             30.0    30      30         17                6            28        8\n",
      "...              ...   ...     ...        ...              ...           ...      ...\n",
      "899998.0        15.0    14      14          5                4             9        5\n",
      "899999.0        22.0    22      18          5                7            16       14\n",
      "900000.0        12.0    12      12          2                2            10       10\n",
      "\n",
      "[900000 rows x 7 columns]\n"
     ]
    }
   ],
   "source": [
    "industry_df =  merged_df.groupby('industry').agg(agg_dic,axis=0)\n",
    "print(industry_df.head(500))"
   ]
  },
  {
   "cell_type": "code",
   "execution_count": 10,
   "metadata": {},
   "outputs": [
    {
     "name": "stdout",
     "output_type": "stream",
     "text": [
      "          click_times_sum  click_times_count  ad_id_nunique  product_id_nunique  product_category_nunique  advertiser_id_nunique  industry_nunique\n",
      "user_id                                                                                                                                           \n",
      "1.0                  14.0                 13             12                   6                         3                     12                 9\n",
      "2.0                  46.0                 45             42                  20                         3                     36                15\n",
      "3.0                  30.0                 30             30                  17                         6                     28                 8\n",
      "...                   ...                ...            ...                 ...                       ...                    ...               ...\n",
      "899998.0             15.0                 14             14                   5                         4                      9                 5\n",
      "899999.0             22.0                 22             18                   5                         7                     16                14\n",
      "900000.0             12.0                 12             12                   2                         2                     10                10\n",
      "\n",
      "[900000 rows x 7 columns]\n"
     ]
    }
   ],
   "source": [
    "advertiser_id_df =  merged_df.groupby('advertiser_id').agg(agg_dic,axis=0)\n",
    "print(advertiser_id_df.head(500))"
   ]
  },
  {
   "cell_type": "code",
   "execution_count": null,
   "metadata": {},
   "outputs": [],
   "source": [
    "product_category_df =  merged_df.groupby('product_category').agg(agg_dic,axis=0)\n",
    "print(product_category_df.head(500))"
   ]
  },
  {
   "cell_type": "code",
   "execution_count": null,
   "metadata": {},
   "outputs": [],
   "source": [
    "product_id_df =  merged_df.groupby('product_id').agg(agg_dic,axis=0)\n",
    "print(product_id.head(500))"
   ]
  },
  {
   "cell_type": "code",
   "execution_count": null,
   "metadata": {},
   "outputs": [],
   "source": []
  },
  {
   "cell_type": "code",
   "execution_count": null,
   "metadata": {},
   "outputs": [],
   "source": []
  }
 ],
 "metadata": {
  "kernelspec": {
   "display_name": "Python 3",
   "language": "python",
   "name": "python3"
  },
  "language_info": {
   "codemirror_mode": {
    "name": "ipython",
    "version": 3
   },
   "file_extension": ".py",
   "mimetype": "text/x-python",
   "name": "python",
   "nbconvert_exporter": "python",
   "pygments_lexer": "ipython3",
   "version": "3.7.3"
  }
 },
 "nbformat": 4,
 "nbformat_minor": 2
}
