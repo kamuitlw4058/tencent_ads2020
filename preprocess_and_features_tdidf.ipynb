{
 "cells": [
  {
   "cell_type": "code",
   "execution_count": 1,
   "metadata": {},
   "outputs": [],
   "source": [
    "import os\n",
    "import pandas as pd\n",
    "import numpy as np\n",
    "import random\n",
    "import gc\n",
    "from datetime import datetime\n",
    "from tqdm import tqdm\n",
    "import matplotlib.pyplot as plt\n",
    "from gensim.corpora import WikiCorpus\n",
    "from gensim.models import Word2Vec\n",
    "from gensim.models.word2vec import LineSentence\n",
    "from sklearn.feature_extraction.text import TfidfVectorizer\n",
    "\n",
    "\n",
    "np.random.seed(2019)\n",
    "random.seed(2019)\n",
    "pd.set_option('display.max_rows', 20)\n",
    "pd.set_option('display.max_columns', 500)\n",
    "pd.set_option('display.width', 280)\n",
    "pd.set_option('display.max_colwidth', 150)\n",
    "data_path = '/data/workspace/kimi/tencent_ads/2020/dataset'"
   ]
  },
  {
   "cell_type": "code",
   "execution_count": 2,
   "metadata": {},
   "outputs": [
    {
     "name": "stdout",
     "output_type": "stream",
     "text": [
      "          time  user_id  creative_id  click_times\n",
      "0            9    30920       567330            1\n",
      "1           65    30920      3072255            1\n",
      "2           56    30920      2361327            1\n",
      "3            6   309204       325532            1\n",
      "4           59   309204      2746730            1\n",
      "5           12   309204       726402            1\n",
      "6           79   309204      2851451            1\n",
      "7           32   309204      1569716            1\n",
      "8            5   309204        71956            1\n",
      "9            8   309204       322354            1\n",
      "...        ...      ...          ...          ...\n",
      "30082761    52    30920      2361397            1\n",
      "30082762    52    30920         9148            1\n",
      "30082763    53    30920      2361397            1\n",
      "30082764    40    30920        22298            2\n",
      "30082765    72    30920      2361397            1\n",
      "30082766     6    30920       228129            1\n",
      "30082767    57    30920      2361397            1\n",
      "30082768    26    30920       629802            1\n",
      "30082769    86    30920      2713031            1\n",
      "30082770    25    30920       629802            1\n",
      "\n",
      "[30082771 rows x 4 columns]\n"
     ]
    }
   ],
   "source": [
    "clk_df = pd.read_csv(f'{data_path}/train_preliminary/click_log.csv' )\n",
    "print(clk_df)"
   ]
  },
  {
   "cell_type": "code",
   "execution_count": 3,
   "metadata": {},
   "outputs": [
    {
     "name": "stdout",
     "output_type": "stream",
     "text": [
      "        user_id  click_times_total\n",
      "0             1                 14\n",
      "1             2                 46\n",
      "2             3                 30\n",
      "3             4                 29\n",
      "4             5                 34\n",
      "5             6                 17\n",
      "6             7                 10\n",
      "7             8                 52\n",
      "8             9                 21\n",
      "9            10                 10\n",
      "...         ...                ...\n",
      "899990   899991                153\n",
      "899991   899992                 37\n",
      "899992   899993                 47\n",
      "899993   899994                 14\n",
      "899994   899995                 20\n",
      "899995   899996                 14\n",
      "899996   899997                 20\n",
      "899997   899998                 15\n",
      "899998   899999                 22\n",
      "899999   900000                 12\n",
      "\n",
      "[900000 rows x 2 columns]\n"
     ]
    }
   ],
   "source": [
    "user_click_sum_df = clk_df.groupby(['user_id']).click_times.sum().reset_index().rename(columns={'click_times':'click_times_total'})\n",
    "print(user_click_sum_df)"
   ]
  },
  {
   "cell_type": "code",
   "execution_count": 4,
   "metadata": {},
   "outputs": [
    {
     "name": "stdout",
     "output_type": "stream",
     "text": [
      "        user_id  active_days\n",
      "0             1           10\n",
      "1             2           28\n",
      "2             3           23\n",
      "3             4           15\n",
      "4             5           26\n",
      "5             6           14\n",
      "6             7           10\n",
      "7             8           34\n",
      "8             9           17\n",
      "9            10           10\n",
      "...         ...          ...\n",
      "899990   899991           68\n",
      "899991   899992           23\n",
      "899992   899993           30\n",
      "899993   899994           11\n",
      "899994   899995           16\n",
      "899995   899996           12\n",
      "899996   899997           14\n",
      "899997   899998           10\n",
      "899998   899999           17\n",
      "899999   900000           12\n",
      "\n",
      "[900000 rows x 2 columns]\n"
     ]
    }
   ],
   "source": [
    "user_day_count_df = clk_df.groupby(['user_id']).time.nunique().reset_index().rename(columns={'time':'active_days'})\n",
    "print(user_day_count_df)"
   ]
  },
  {
   "cell_type": "code",
   "execution_count": 5,
   "metadata": {},
   "outputs": [
    {
     "name": "stdout",
     "output_type": "stream",
     "text": [
      "        user_id  active_days  click_times_total\n",
      "0             1           10                 14\n",
      "1             2           28                 46\n",
      "2             3           23                 30\n",
      "3             4           15                 29\n",
      "4             5           26                 34\n",
      "5             6           14                 17\n",
      "6             7           10                 10\n",
      "7             8           34                 52\n",
      "8             9           17                 21\n",
      "9            10           10                 10\n",
      "...         ...          ...                ...\n",
      "899990   899991           68                153\n",
      "899991   899992           23                 37\n",
      "899992   899993           30                 47\n",
      "899993   899994           11                 14\n",
      "899994   899995           16                 20\n",
      "899995   899996           12                 14\n",
      "899996   899997           14                 20\n",
      "899997   899998           10                 15\n",
      "899998   899999           17                 22\n",
      "899999   900000           12                 12\n",
      "\n",
      "[900000 rows x 3 columns]\n"
     ]
    }
   ],
   "source": [
    "user_df = user_day_count_df.merge(user_click_sum_df,on='user_id')\n",
    "print(user_df)"
   ]
  },
  {
   "cell_type": "code",
   "execution_count": 6,
   "metadata": {},
   "outputs": [],
   "source": [
    "ad_df = pd.read_csv(f'{data_path}/train_preliminary/ad.csv' )"
   ]
  },
  {
   "cell_type": "code",
   "execution_count": 7,
   "metadata": {},
   "outputs": [
    {
     "name": "stdout",
     "output_type": "stream",
     "text": [
      "          time  user_id  creative_id  click_times    ad_id product_id  product_category  advertiser_id industry\n",
      "0            9    30920       567330            1   504423      30673                 3          32638      319\n",
      "1           15   320815       567330            1   504423      30673                 3          32638      319\n",
      "2           11   355089       567330            1   504423      30673                 3          32638      319\n",
      "3            9   363442       567330            1   504423      30673                 3          32638      319\n",
      "4           14   370513       567330            1   504423      30673                 3          32638      319\n",
      "5            9   372445       567330            1   504423      30673                 3          32638      319\n",
      "6           16   399556       567330            2   504423      30673                 3          32638      319\n",
      "7           10   429834       567330            1   504423      30673                 3          32638      319\n",
      "8           10   458264       567330            1   504423      30673                 3          32638      319\n",
      "9            9   547777       567330            1   504423      30673                 3          32638      319\n",
      "...        ...      ...          ...          ...      ...        ...               ...            ...      ...\n",
      "30082761    18   309192       972958            1   856148       2730                 2          24076      247\n",
      "30082762    47   309198      2229812            1  1924760      32137                 5          22460      289\n",
      "30082763    70   309198      3426765            1  2949867         23                 2          25736      319\n",
      "30082764    82   309198      3926511            1  3373064       3818                 2          45797      247\n",
      "30082765    83   309198      4049817            1  3476184       2819                 2           2466      253\n",
      "30082766    52   309198      2459911            1  2119242        161                 2            676      231\n",
      "30082767     5   309198       452252            1   402185       2870                 2           7158      247\n",
      "30082768    76   309198      3686554            2  3172440       3979                 2          52506      247\n",
      "30082769    50   309198      2386973            1  2057811       1946                 2          17757      259\n",
      "30082770    12    30920       717026            1   634512         \\N                18          26466      126\n",
      "\n",
      "[30082771 rows x 9 columns]\n"
     ]
    }
   ],
   "source": [
    "merged_df = clk_df.merge(ad_df,on='creative_id')\n",
    "#merged_df['wday'] = merged_df['time'].apply(lambda x :int(x /7))\n",
    "#merged_df['month'] = merged_df['time'].apply(lambda x :int(x /30))\n",
    "print(merged_df)\n",
    "del clk_df"
   ]
  },
  {
   "cell_type": "code",
   "execution_count": 8,
   "metadata": {},
   "outputs": [],
   "source": [
    "\n",
    "def tfidf(log,pivot,f,flag,L):\n",
    "    #word2vec算法\n",
    "    #log为曝光日志，以pivot为主键，f为embedding的对象，flag为dev或test，L是embedding的维度\n",
    "    print(\"tdidf:\",pivot,f)\n",
    "    \n",
    "    #构造文档\n",
    "    log[f]=log[f].fillna(-1).astype(str)\n",
    "    sentence=[]\n",
    "    dic={}\n",
    "    day=0\n",
    "    log=log.sort_values(by='time')\n",
    "    log['day']=log['time']\n",
    "    for item in tqdm(log[['day',pivot,f]].values,total=len(log)):\n",
    "        try:\n",
    "            dic[item[1]].append(str(item[2]))\n",
    "        except:\n",
    "            dic[item[1]]=[str(item[2])]\n",
    "    for key in dic:\n",
    "        sentence.append(\" \".join(dic[key]))\n",
    "    print(len(sentence))\n",
    "    print(sentence[:3])\n",
    "    #训练Word2Vec模型\n",
    "    print('training...')\n",
    "    #random.shuffle(sentence)\n",
    "    tfidf_list = TfidfVectorizer(min_df=30,max_features=100000).fit_transform(sentence)\n",
    "    print('outputing...')\n",
    "    df_data = []\n",
    "    arr_len = 0\n",
    "    for v1,v2 in zip(list(dic.keys()),tfidf_list):\n",
    "        arr = np.array(v2.todense()).flatten().tolist()\n",
    "        if arr_len == 0:\n",
    "            arr_len = len(arr)\n",
    "            print(arr_len)\n",
    "        df_data.append([v1] + arr)\n",
    "    cols = ['user_id'] + [f'tfidf_{i}'  for i in range(arr_len)]\n",
    "    tfidf_df= pd.DataFrame(df_data,columns=cols)\n",
    "    #保存文件\n",
    "    return tfidf_df \n",
    "\n"
   ]
  },
  {
   "cell_type": "code",
   "execution_count": null,
   "metadata": {},
   "outputs": [
    {
     "name": "stdout",
     "output_type": "stream",
     "text": [
      "tdidf: user_id ad_id\n"
     ]
    },
    {
     "name": "stderr",
     "output_type": "stream",
     "text": [
      "100%|██████████| 30082771/30082771 [00:36<00:00, 820219.50it/s]\n"
     ]
    },
    {
     "name": "stdout",
     "output_type": "stream",
     "text": [
      "900000\n",
      "['19795 830863 98161 957742 1389902 8817 781605 1503442 1179303 546184 98161 218984 36050 20627 50437 1590599 2668141 50437 361112 1590599 2966129 361112 3154105 645289', '1987 375895 274066 421202 416757 113365 372482 281421 541204 689820 603359 781743 1004050 77588 1068365 42488 66362 1284704 1273221 256790 33048 1037268 628585 691985 1357225 214929 1022255 1037268 1079521 171487 18677 691985 45721 1288065 1299028 45721 192570 1037268 1022255 44540 1370291 1423553 273021 1282811 691985 1514583 1037268 56505 1573382 876195 691985 36050 1248304 36050 986453 1791905 1831856 1844292 114353 36050 547477 89833 1981795 18260 36050 1966194 86828 2497700 2811670 83984 3217162 33052 31961 2755834 3048693 3125777 3090079 2888766 3062684 2562573 2562495 2562525 3397048 3456811 2143509 64402 2704157 3455012 3614323 3586103 71140 3614342 3440593', '54883 95685 204809 54552 56387 817021 847786 1193330 876084 22877 1338283 646322 927816 960258 1226542 1226542 1226542 1295167 942883 1219782 1540555 1732507 1540555 51659 947925 2045675 2168945 1066306 1540555 2563439 2558992 1296798 2267064 2939463 982732 2474403 3175760 3128014 33597 3330480 3021200 51659 2397856']\n",
      "training...\n",
      "outputing...\n",
      "112909\n"
     ]
    }
   ],
   "source": [
    "tfidf_df  = tfidf(merged_df,'user_id','ad_id','train',64)\n",
    "print(tfidf_df)\n",
    "print(tfidf_df.shape)\n",
    "tfidf_df.to_pickle(\"preprocess/train_tfidf_ad_id_age.pkl\")"
   ]
  }
 ],
 "metadata": {
  "kernelspec": {
   "display_name": "Python 3",
   "language": "python",
   "name": "python3"
  },
  "language_info": {
   "codemirror_mode": {
    "name": "ipython",
    "version": 3
   },
   "file_extension": ".py",
   "mimetype": "text/x-python",
   "name": "python",
   "nbconvert_exporter": "python",
   "pygments_lexer": "ipython3",
   "version": "3.7.3"
  }
 },
 "nbformat": 4,
 "nbformat_minor": 4
}