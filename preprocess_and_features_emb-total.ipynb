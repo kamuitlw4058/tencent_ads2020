{
 "cells": [
  {
   "cell_type": "code",
   "execution_count": 2,
   "metadata": {},
   "outputs": [],
   "source": [
    "import os\n",
    "import pandas as pd\n",
    "import numpy as np\n",
    "import random\n",
    "import gc\n",
    "from datetime import datetime\n",
    "from tqdm import tqdm\n",
    "import matplotlib.pyplot as plt\n",
    "from gensim.corpora import WikiCorpus\n",
    "from gensim.models import Word2Vec\n",
    "from gensim.models.word2vec import LineSentence\n",
    "from sklearn.feature_extraction.text import TfidfVectorizer\n",
    "from sklearn.model_selection import train_test_split\n",
    "from  collections import Counter\n",
    "\n",
    "np.random.seed(2019)\n",
    "random.seed(2019)\n",
    "pd.set_option('display.max_rows', 6)\n",
    "pd.set_option('display.max_columns', 500)\n",
    "pd.set_option('display.width', 280)\n",
    "pd.set_option('display.max_colwidth', 150)\n",
    "data_path = '/data/workspace/kimi/tencent_ads/2020/dataset'\n",
    "preprocess_path = 'preprocess'"
   ]
  },
  {
   "cell_type": "code",
   "execution_count": 3,
   "metadata": {},
   "outputs": [
    {
     "name": "stdout",
     "output_type": "stream",
     "text": [
      "          time  user_id  creative_id  click_times\n",
      "0            9    30920       567330            1\n",
      "1           65    30920      3072255            1\n",
      "2           56    30920      2361327            1\n",
      "...        ...      ...          ...          ...\n",
      "30082768    26    30920       629802            1\n",
      "30082769    86    30920      2713031            1\n",
      "30082770    25    30920       629802            1\n",
      "\n",
      "[30082771 rows x 4 columns]\n"
     ]
    }
   ],
   "source": [
    "clk_train_file= 'click_log.pkl'\n",
    "clk_train_file_path = f'{preprocess_path}/{clk_train_file}'\n",
    "if not os.path.exists(clk_train_file_path):\n",
    "    clk_df = pd.read_csv(f'{data_path}/train_preliminary/click_log.csv' )\n",
    "    clk_df.to_pickle(clk_train_file_path)\n",
    "else: \n",
    "    clk_df = pd.read_pickle(clk_train_file_path)\n",
    "    \n",
    "print(clk_df)"
   ]
  },
  {
   "cell_type": "code",
   "execution_count": 14,
   "metadata": {},
   "outputs": [
    {
     "name": "stdout",
     "output_type": "stream",
     "text": [
      "        user_id  click_times_total\n",
      "0             1                 14\n",
      "1             2                 46\n",
      "2             3                 30\n",
      "...         ...                ...\n",
      "899997   899998                 15\n",
      "899998   899999                 22\n",
      "899999   900000                 12\n",
      "\n",
      "[900000 rows x 2 columns]\n"
     ]
    }
   ],
   "source": [
    "user_click_sum_df = clk_df.groupby(['user_id']).click_times.sum().reset_index().rename(columns={'click_times':'click_times_total'})\n",
    "print(user_click_sum_df)"
   ]
  },
  {
   "cell_type": "code",
   "execution_count": 16,
   "metadata": {},
   "outputs": [
    {
     "name": "stdout",
     "output_type": "stream",
     "text": [
      "        user_id  active_days\n",
      "0             1           10\n",
      "1             2           28\n",
      "2             3           23\n",
      "...         ...          ...\n",
      "899997   899998           10\n",
      "899998   899999           17\n",
      "899999   900000           12\n",
      "\n",
      "[900000 rows x 2 columns]\n"
     ]
    }
   ],
   "source": [
    "user_day_count_df = clk_df.groupby(['user_id']).time.nunique().reset_index().rename(columns={'time':'active_days'})\n",
    "print(user_day_count_df)"
   ]
  },
  {
   "cell_type": "code",
   "execution_count": 19,
   "metadata": {},
   "outputs": [
    {
     "name": "stdout",
     "output_type": "stream",
     "text": [
      "          user_id  time  day_clicks\n",
      "0               1    20           3\n",
      "1               1    39           1\n",
      "2               1    40           1\n",
      "...           ...   ...         ...\n",
      "19825288   900000    72           1\n",
      "19825289   900000    74           1\n",
      "19825290   900000    91           1\n",
      "\n",
      "[19825291 rows x 3 columns]\n"
     ]
    }
   ],
   "source": [
    "user_log_day_clicks_df = clk_df.groupby(['user_id','time']).creative_id.count().reset_index().rename(columns={'creative_id':'day_clicks'})\n",
    "print(user_log_day_clicks_df)\n",
    "user_day_clicks_max_df = user_log_day_clicks_df.groupby(['user_id']).day_clicks.max().reset_index().rename(columns={'day_clicks':'day_clicks_max'})\n",
    "user_day_clicks_min_df = user_log_day_clicks_df.groupby(['user_id']).day_clicks.min().reset_index().rename(columns={'day_clicks':'day_clicks_min'})\n",
    "user_day_clicks_mean_df = user_log_day_clicks_df.groupby(['user_id']).day_clicks.mean().reset_index().rename(columns={'day_clicks':'day_clicks_mean'})\n",
    "user_day_clicks_std_df = user_log_day_clicks_df.groupby(['user_id']).day_clicks.std().reset_index().rename(columns={'day_clicks':'day_clicks_std'})\n",
    "\n"
   ]
  },
  {
   "cell_type": "code",
   "execution_count": 20,
   "metadata": {},
   "outputs": [
    {
     "name": "stdout",
     "output_type": "stream",
     "text": [
      "        user_id  active_days  click_times_total  day_clicks_max  day_clicks_min  day_clicks_mean  day_clicks_std\n",
      "0             1           10                 14               3               1         1.300000        0.674949\n",
      "1             2           28                 46               4               1         1.607143        0.994030\n",
      "2             3           23                 30               3               1         1.304348        0.634950\n",
      "...         ...          ...                ...             ...             ...              ...             ...\n",
      "899997   899998           10                 15               3               1         1.400000        0.699206\n",
      "899998   899999           17                 22               2               1         1.294118        0.469668\n",
      "899999   900000           12                 12               1               1         1.000000        0.000000\n",
      "\n",
      "[900000 rows x 7 columns]\n"
     ]
    }
   ],
   "source": [
    "user_df = user_day_count_df.merge(user_click_sum_df,on='user_id')\n",
    "user_df = user_df.merge(user_day_clicks_max_df,on='user_id')\n",
    "user_df = user_df.merge(user_day_clicks_min_df,on='user_id')\n",
    "user_df = user_df.merge(user_day_clicks_mean_df,on='user_id')\n",
    "user_df = user_df.merge(user_day_clicks_std_df,on='user_id')\n",
    "print(user_df)\n"
   ]
  },
  {
   "cell_type": "code",
   "execution_count": 6,
   "metadata": {},
   "outputs": [],
   "source": [
    "ad_df = pd.read_csv(f'{data_path}/train_preliminary/ad.csv' )"
   ]
  },
  {
   "cell_type": "code",
   "execution_count": 7,
   "metadata": {},
   "outputs": [],
   "source": [
    "merged_df = clk_df.merge(ad_df,on='creative_id')\n",
    "merged_df.replace(\"\\\\N\",-1,inplace=True)\n",
    "merged_df = merged_df.fillna(-1).astype(int)\n",
    "\n",
    "train_merged= 'train_merged.pkl'\n",
    "train_merged_path = f'{preprocess_path}/{train_merged}'\n",
    "merged_df.to_pickle(train_merged_path)\n",
    "\n",
    "del clk_df"
   ]
  },
  {
   "cell_type": "code",
   "execution_count": 8,
   "metadata": {},
   "outputs": [
    {
     "name": "stdout",
     "output_type": "stream",
     "text": [
      "          time  user_id  creative_id  click_times\n",
      "0           20  3131989       645764            1\n",
      "1           20  3131989      1027422            1\n",
      "2           20  3131989      1106443            1\n",
      "...        ...      ...          ...          ...\n",
      "33585509    12  3131989       589027            1\n",
      "33585510    61  3131989      2404831            1\n",
      "33585511    14  3131989       665822            1\n",
      "\n",
      "[33585512 rows x 4 columns]\n"
     ]
    }
   ],
   "source": [
    "clk_test_file= 'click_log_test.pkl'\n",
    "clk_test_file_path = f'{preprocess_path}/{clk_test_file}'\n",
    "if not os.path.exists(clk_test_file_path):\n",
    "    clk_test_df = pd.read_csv(f'{data_path}/test/click_log.csv' )\n",
    "    clk_test_df.to_pickle(clk_test_file_path)\n",
    "else: \n",
    "    clk_test_df = pd.read_pickle(clk_test_file_path)\n",
    "print(clk_test_df)"
   ]
  },
  {
   "cell_type": "code",
   "execution_count": 9,
   "metadata": {},
   "outputs": [
    {
     "name": "stdout",
     "output_type": "stream",
     "text": [
      "        user_id  click_times_total\n",
      "0       3000001                 11\n",
      "1       3000002                 65\n",
      "2       3000003                 36\n",
      "...         ...                ...\n",
      "999997  3999998                 20\n",
      "999998  3999999                 86\n",
      "999999  4000000                 67\n",
      "\n",
      "[1000000 rows x 2 columns]\n"
     ]
    }
   ],
   "source": [
    "user_click_sum_test_df = clk_test_df.groupby(['user_id']).click_times.sum().reset_index().rename(columns={'click_times':'click_times_total'})\n",
    "print(user_click_sum_test_df)"
   ]
  },
  {
   "cell_type": "code",
   "execution_count": 10,
   "metadata": {},
   "outputs": [
    {
     "name": "stdout",
     "output_type": "stream",
     "text": [
      "        user_id  active_days\n",
      "0       3000001            7\n",
      "1       3000002           37\n",
      "2       3000003           23\n",
      "...         ...          ...\n",
      "999997  3999998           18\n",
      "999998  3999999           45\n",
      "999999  4000000           39\n",
      "\n",
      "[1000000 rows x 2 columns]\n"
     ]
    }
   ],
   "source": [
    "user_day_count_test_df = clk_test_df.groupby(['user_id']).time.nunique().reset_index().rename(columns={'time':'active_days'})\n",
    "print(user_day_count_test_df)"
   ]
  },
  {
   "cell_type": "code",
   "execution_count": 1,
   "metadata": {},
   "outputs": [
    {
     "ename": "NameError",
     "evalue": "name 'clk_test_df' is not defined",
     "output_type": "error",
     "traceback": [
      "\u001b[0;31m---------------------------------------------------------------------------\u001b[0m",
      "\u001b[0;31mNameError\u001b[0m                                 Traceback (most recent call last)",
      "\u001b[0;32m<ipython-input-1-d0f80616fc92>\u001b[0m in \u001b[0;36m<module>\u001b[0;34m\u001b[0m\n\u001b[0;32m----> 1\u001b[0;31m \u001b[0muser_day_clicks_test_df\u001b[0m \u001b[0;34m=\u001b[0m \u001b[0mclk_test_df\u001b[0m\u001b[0;34m.\u001b[0m\u001b[0mgroupby\u001b[0m\u001b[0;34m(\u001b[0m\u001b[0;34m[\u001b[0m\u001b[0;34m'user_id'\u001b[0m\u001b[0;34m,\u001b[0m\u001b[0;34m'time'\u001b[0m\u001b[0;34m]\u001b[0m\u001b[0;34m)\u001b[0m\u001b[0;34m.\u001b[0m\u001b[0mindusty\u001b[0m\u001b[0;34m.\u001b[0m\u001b[0mcount\u001b[0m\u001b[0;34m(\u001b[0m\u001b[0;34m)\u001b[0m\u001b[0;34m.\u001b[0m\u001b[0mreset_index\u001b[0m\u001b[0;34m(\u001b[0m\u001b[0;34m)\u001b[0m\u001b[0;34m.\u001b[0m\u001b[0mrename\u001b[0m\u001b[0;34m(\u001b[0m\u001b[0mcolumns\u001b[0m\u001b[0;34m=\u001b[0m\u001b[0;34m{\u001b[0m\u001b[0;34m'industy'\u001b[0m\u001b[0;34m:\u001b[0m\u001b[0;34m'day_clicks'\u001b[0m\u001b[0;34m}\u001b[0m\u001b[0;34m)\u001b[0m\u001b[0;34m\u001b[0m\u001b[0;34m\u001b[0m\u001b[0m\n\u001b[0m\u001b[1;32m      2\u001b[0m \u001b[0mprint\u001b[0m\u001b[0;34m(\u001b[0m\u001b[0muser_day_count_test_df\u001b[0m\u001b[0;34m)\u001b[0m\u001b[0;34m\u001b[0m\u001b[0;34m\u001b[0m\u001b[0m\n",
      "\u001b[0;31mNameError\u001b[0m: name 'clk_test_df' is not defined"
     ]
    }
   ],
   "source": [
    "user_day_clicks_test_df = clk_test_df.groupby(['user_id','time']).industy.count().reset_index().rename(columns={'industy':'day_clicks'})\n",
    "print(user_day_count_test_df)"
   ]
  },
  {
   "cell_type": "code",
   "execution_count": 11,
   "metadata": {},
   "outputs": [
    {
     "name": "stdout",
     "output_type": "stream",
     "text": [
      "        user_id  active_days  click_times_total\n",
      "0       3000001            7                 11\n",
      "1       3000002           37                 65\n",
      "2       3000003           23                 36\n",
      "...         ...          ...                ...\n",
      "999997  3999998           18                 20\n",
      "999998  3999999           45                 86\n",
      "999999  4000000           39                 67\n",
      "\n",
      "[1000000 rows x 3 columns]\n"
     ]
    }
   ],
   "source": [
    "user_test_df = user_day_count_test_df.merge(user_click_sum_test_df,on='user_id')\n",
    "print(user_test_df)"
   ]
  },
  {
   "cell_type": "code",
   "execution_count": 12,
   "metadata": {},
   "outputs": [],
   "source": [
    "user_total_df = pd.concat([user_df, user_test_df], axis=0).reset_index().drop(['index'], axis=1)\n",
    "user_total= 'user_total_df.pkl'\n",
    "user_total_path = f'{preprocess_path}/{user_total}'\n",
    "user_total_df.to_pickle(user_total_path)"
   ]
  },
  {
   "cell_type": "code",
   "execution_count": 13,
   "metadata": {},
   "outputs": [
    {
     "name": "stdout",
     "output_type": "stream",
     "text": [
      "         creative_id    ad_id product_id  product_category  advertiser_id industry\n",
      "0                  1        1         \\N                 5            381       78\n",
      "1                  3        3         \\N                 5            598      165\n",
      "2                  4        4         \\N                 5            108      202\n",
      "...              ...      ...        ...               ...            ...      ...\n",
      "2618156      4445718  3812200      39287                17            427       \\N\n",
      "2618157      4445719  3812201      39287                17            427       \\N\n",
      "2618158      4445720  3812202      39287                17            427       \\N\n",
      "\n",
      "[2618159 rows x 6 columns]\n"
     ]
    }
   ],
   "source": [
    "ad_test_df = pd.read_csv(f'{data_path}/test/ad.csv' )\n",
    "print(ad_test_df)"
   ]
  },
  {
   "cell_type": "code",
   "execution_count": 14,
   "metadata": {},
   "outputs": [
    {
     "name": "stdout",
     "output_type": "stream",
     "text": [
      "          time  user_id  creative_id  click_times   ad_id  product_id  product_category  advertiser_id  industry\n",
      "0           20  3131989       645764            1  573314          58                 2          14689         6\n",
      "1           10  3142948       645764            1  573314          58                 2          14689         6\n",
      "2           14  3170643       645764            1  573314          58                 2          14689         6\n",
      "...        ...      ...          ...          ...     ...         ...               ...            ...       ...\n",
      "33585509     5  3131984       322785            1  290114        2031                 2          19976       238\n",
      "33585510    16  3131984       900585            1  793805        1766                 2          33097       319\n",
      "33585511    16  3131988       899450            1  792851          -1                18          22897        47\n",
      "\n",
      "[33585512 rows x 9 columns]\n"
     ]
    }
   ],
   "source": [
    "merged_test_df = clk_test_df.merge(ad_test_df,on='creative_id')\n",
    "merged_test_df.replace(\"\\\\N\",-1,inplace=True)\n",
    "merged_test_df = merged_test_df.fillna(-1).astype(int)\n",
    "print(merged_test_df)\n",
    "\n",
    "test_merged= 'test_merged.pkl'\n",
    "test_merged_path = f'{preprocess_path}/{test_merged}'\n",
    "merged_test_df.to_pickle(test_merged_path)\n",
    "\n",
    "del clk_test_df"
   ]
  },
  {
   "cell_type": "code",
   "execution_count": 18,
   "metadata": {},
   "outputs": [],
   "source": [
    "total_merged_df = pd.concat([merged_df, merged_test_df], axis=0).reset_index().drop(['index'], axis=1)\n",
    "total_merged_df=total_merged_df.sort_values(by='time')\n",
    "print(total_merged_df)\n",
    "\n",
    "del merged_df\n",
    "del merged_test_df\n",
    "\n",
    "total_merged= 'total_merged.pkl'\n",
    "total_merged_path = f'{preprocess_path}/{total_merged}'\n",
    "total_merged_df.to_pickle(total_merged_path)"
   ]
  },
  {
   "cell_type": "code",
   "execution_count": null,
   "metadata": {},
   "outputs": [],
   "source": []
  }
 ],
 "metadata": {
  "kernelspec": {
   "display_name": "Python 3",
   "language": "python",
   "name": "python3"
  },
  "language_info": {
   "codemirror_mode": {
    "name": "ipython",
    "version": 3
   },
   "file_extension": ".py",
   "mimetype": "text/x-python",
   "name": "python",
   "nbconvert_exporter": "python",
   "pygments_lexer": "ipython3",
   "version": "3.7.3"
  }
 },
 "nbformat": 4,
 "nbformat_minor": 2
}
