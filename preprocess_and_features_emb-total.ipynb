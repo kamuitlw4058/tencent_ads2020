{
 "cells": [
  {
   "cell_type": "code",
   "execution_count": 2,
   "metadata": {},
   "outputs": [],
   "source": [
    "import os\n",
    "import pandas as pd\n",
    "import numpy as np\n",
    "import random\n",
    "import gc\n",
    "from datetime import datetime\n",
    "from tqdm import tqdm\n",
    "import matplotlib.pyplot as plt\n",
    "from gensim.corpora import WikiCorpus\n",
    "from gensim.models import Word2Vec\n",
    "from gensim.models.word2vec import LineSentence\n",
    "from sklearn.feature_extraction.text import TfidfVectorizer\n",
    "from sklearn.model_selection import train_test_split\n",
    "from  collections import Counter\n",
    "\n",
    "np.random.seed(2019)\n",
    "random.seed(2019)\n",
    "pd.set_option('display.max_rows', 6)\n",
    "pd.set_option('display.max_columns', 500)\n",
    "pd.set_option('display.width', 280)\n",
    "pd.set_option('display.max_colwidth', 150)\n",
    "data_path = '/data/workspace/kimi/tencent_ads/2020/dataset'\n",
    "preprocess_path = 'preprocess'"
   ]
  },
  {
   "cell_type": "code",
   "execution_count": 3,
   "metadata": {},
   "outputs": [
    {
     "name": "stdout",
     "output_type": "stream",
     "text": [
      "          time  user_id  creative_id  click_times\n",
      "0            9    30920       567330            1\n",
      "1           65    30920      3072255            1\n",
      "2           56    30920      2361327            1\n",
      "...        ...      ...          ...          ...\n",
      "30082768    26    30920       629802            1\n",
      "30082769    86    30920      2713031            1\n",
      "30082770    25    30920       629802            1\n",
      "\n",
      "[30082771 rows x 4 columns]\n"
     ]
    }
   ],
   "source": [
    "clk_train_file= 'click_log.pkl'\n",
    "clk_train_file_path = f'{preprocess_path}/{clk_train_file}'\n",
    "if not os.path.exists(clk_train_file_path):\n",
    "    clk_df = pd.read_csv(f'{data_path}/train_preliminary/click_log.csv' )\n",
    "    clk_df.to_pickle(clk_train_file_path)\n",
    "else: \n",
    "    clk_df = pd.read_pickle(clk_train_file_path)\n",
    "    \n",
    "print(clk_df)"
   ]
  },
  {
   "cell_type": "code",
   "execution_count": 14,
   "metadata": {},
   "outputs": [
    {
     "name": "stdout",
     "output_type": "stream",
     "text": [
      "        user_id  click_times_total\n",
      "0             1                 14\n",
      "1             2                 46\n",
      "2             3                 30\n",
      "...         ...                ...\n",
      "899997   899998                 15\n",
      "899998   899999                 22\n",
      "899999   900000                 12\n",
      "\n",
      "[900000 rows x 2 columns]\n"
     ]
    }
   ],
   "source": [
    "user_click_sum_df = clk_df.groupby(['user_id']).click_times.sum().reset_index().rename(columns={'click_times':'click_times_total'})\n",
    "print(user_click_sum_df)"
   ]
  },
  {
   "cell_type": "code",
   "execution_count": 16,
   "metadata": {},
   "outputs": [
    {
     "name": "stdout",
     "output_type": "stream",
     "text": [
      "        user_id  active_days\n",
      "0             1           10\n",
      "1             2           28\n",
      "2             3           23\n",
      "...         ...          ...\n",
      "899997   899998           10\n",
      "899998   899999           17\n",
      "899999   900000           12\n",
      "\n",
      "[900000 rows x 2 columns]\n"
     ]
    }
   ],
   "source": [
    "user_day_count_df = clk_df.groupby(['user_id']).time.nunique().reset_index().rename(columns={'time':'active_days'})\n",
    "print(user_day_count_df)"
   ]
  },
  {
   "cell_type": "code",
   "execution_count": 19,
   "metadata": {},
   "outputs": [
    {
     "name": "stdout",
     "output_type": "stream",
     "text": [
      "          user_id  time  day_clicks\n",
      "0               1    20           3\n",
      "1               1    39           1\n",
      "2               1    40           1\n",
      "...           ...   ...         ...\n",
      "19825288   900000    72           1\n",
      "19825289   900000    74           1\n",
      "19825290   900000    91           1\n",
      "\n",
      "[19825291 rows x 3 columns]\n"
     ]
    }
   ],
   "source": [
    "user_log_day_clicks_df = clk_df.groupby(['user_id','time']).creative_id.count().reset_index().rename(columns={'creative_id':'day_clicks'})\n",
    "print(user_log_day_clicks_df)\n",
    "user_day_clicks_max_df = user_log_day_clicks_df.groupby(['user_id']).day_clicks.max().reset_index().rename(columns={'day_clicks':'day_clicks_max'})\n",
    "user_day_clicks_min_df = user_log_day_clicks_df.groupby(['user_id']).day_clicks.min().reset_index().rename(columns={'day_clicks':'day_clicks_min'})\n",
    "user_day_clicks_mean_df = user_log_day_clicks_df.groupby(['user_id']).day_clicks.mean().reset_index().rename(columns={'day_clicks':'day_clicks_mean'})\n",
    "user_day_clicks_std_df = user_log_day_clicks_df.groupby(['user_id']).day_clicks.std().reset_index().rename(columns={'day_clicks':'day_clicks_std'})\n",
    "\n"
   ]
  },
  {
   "cell_type": "code",
   "execution_count": 20,
   "metadata": {},
   "outputs": [
    {
     "name": "stdout",
     "output_type": "stream",
     "text": [
      "        user_id  active_days  click_times_total  day_clicks_max  day_clicks_min  day_clicks_mean  day_clicks_std\n",
      "0             1           10                 14               3               1         1.300000        0.674949\n",
      "1             2           28                 46               4               1         1.607143        0.994030\n",
      "2             3           23                 30               3               1         1.304348        0.634950\n",
      "...         ...          ...                ...             ...             ...              ...             ...\n",
      "899997   899998           10                 15               3               1         1.400000        0.699206\n",
      "899998   899999           17                 22               2               1         1.294118        0.469668\n",
      "899999   900000           12                 12               1               1         1.000000        0.000000\n",
      "\n",
      "[900000 rows x 7 columns]\n"
     ]
    }
   ],
   "source": [
    "user_df = user_day_count_df.merge(user_click_sum_df,on='user_id')\n",
    "user_df = user_df.merge(user_day_clicks_max_df,on='user_id')\n",
    "user_df = user_df.merge(user_day_clicks_min_df,on='user_id')\n",
    "user_df = user_df.merge(user_day_clicks_mean_df,on='user_id')\n",
    "user_df = user_df.merge(user_day_clicks_std_df,on='user_id')\n",
    "print(user_df)\n"
   ]
  },
  {
   "cell_type": "code",
   "execution_count": 6,
   "metadata": {},
   "outputs": [],
   "source": [
    "ad_df = pd.read_csv(f'{data_path}/train_preliminary/ad.csv' )"
   ]
  },
  {
   "cell_type": "code",
   "execution_count": 7,
   "metadata": {},
   "outputs": [],
   "source": [
    "merged_df = clk_df.merge(ad_df,on='creative_id')\n",
    "merged_df.replace(\"\\\\N\",-1,inplace=True)\n",
    "merged_df = merged_df.fillna(-1).astype(int)\n",
    "\n",
    "train_merged= 'train_merged.pkl'\n",
    "train_merged_path = f'{preprocess_path}/{train_merged}'\n",
    "merged_df.to_pickle(train_merged_path)\n",
    "\n",
    "del clk_df"
   ]
  },
  {
   "cell_type": "code",
   "execution_count": 8,
   "metadata": {},
   "outputs": [
    {
     "name": "stdout",
     "output_type": "stream",
     "text": [
      "          time  user_id  creative_id  click_times\n",
      "0           20  3131989       645764            1\n",
      "1           20  3131989      1027422            1\n",
      "2           20  3131989      1106443            1\n",
      "...        ...      ...          ...          ...\n",
      "33585509    12  3131989       589027            1\n",
      "33585510    61  3131989      2404831            1\n",
      "33585511    14  3131989       665822            1\n",
      "\n",
      "[33585512 rows x 4 columns]\n"
     ]
    }
   ],
   "source": [
    "clk_test_file= 'click_log_test.pkl'\n",
    "clk_test_file_path = f'{preprocess_path}/{clk_test_file}'\n",
    "if not os.path.exists(clk_test_file_path):\n",
    "    clk_test_df = pd.read_csv(f'{data_path}/test/click_log.csv' )\n",
    "    clk_test_df.to_pickle(clk_test_file_path)\n",
    "else: \n",
    "    clk_test_df = pd.read_pickle(clk_test_file_path)\n",
    "print(clk_test_df)"
   ]
  },
  {
   "cell_type": "code",
   "execution_count": 9,
   "metadata": {},
   "outputs": [
    {
     "name": "stdout",
     "output_type": "stream",
     "text": [
      "        user_id  click_times_total\n",
      "0       3000001                 11\n",
      "1       3000002                 65\n",
      "2       3000003                 36\n",
      "...         ...                ...\n",
      "999997  3999998                 20\n",
      "999998  3999999                 86\n",
      "999999  4000000                 67\n",
      "\n",
      "[1000000 rows x 2 columns]\n"
     ]
    }
   ],
   "source": [
    "user_click_sum_test_df = clk_test_df.groupby(['user_id']).click_times.sum().reset_index().rename(columns={'click_times':'click_times_total'})\n",
    "print(user_click_sum_test_df)"
   ]
  },
  {
   "cell_type": "code",
   "execution_count": 10,
   "metadata": {},
   "outputs": [
    {
     "name": "stdout",
     "output_type": "stream",
     "text": [
      "        user_id  active_days\n",
      "0       3000001            7\n",
      "1       3000002           37\n",
      "2       3000003           23\n",
      "...         ...          ...\n",
      "999997  3999998           18\n",
      "999998  3999999           45\n",
      "999999  4000000           39\n",
      "\n",
      "[1000000 rows x 2 columns]\n"
     ]
    }
   ],
   "source": [
    "user_day_count_test_df = clk_test_df.groupby(['user_id']).time.nunique().reset_index().rename(columns={'time':'active_days'})\n",
    "print(user_day_count_test_df)"
   ]
  },
  {
   "cell_type": "code",
   "execution_count": 1,
   "metadata": {},
   "outputs": [
    {
     "ename": "NameError",
     "evalue": "name 'clk_test_df' is not defined",
     "output_type": "error",
     "traceback": [
      "\u001b[0;31m---------------------------------------------------------------------------\u001b[0m",
      "\u001b[0;31mNameError\u001b[0m                                 Traceback (most recent call last)",
      "\u001b[0;32m<ipython-input-1-d0f80616fc92>\u001b[0m in \u001b[0;36m<module>\u001b[0;34m\u001b[0m\n\u001b[0;32m----> 1\u001b[0;31m \u001b[0muser_day_clicks_test_df\u001b[0m \u001b[0;34m=\u001b[0m \u001b[0mclk_test_df\u001b[0m\u001b[0;34m.\u001b[0m\u001b[0mgroupby\u001b[0m\u001b[0;34m(\u001b[0m\u001b[0;34m[\u001b[0m\u001b[0;34m'user_id'\u001b[0m\u001b[0;34m,\u001b[0m\u001b[0;34m'time'\u001b[0m\u001b[0;34m]\u001b[0m\u001b[0;34m)\u001b[0m\u001b[0;34m.\u001b[0m\u001b[0mindusty\u001b[0m\u001b[0;34m.\u001b[0m\u001b[0mcount\u001b[0m\u001b[0;34m(\u001b[0m\u001b[0;34m)\u001b[0m\u001b[0;34m.\u001b[0m\u001b[0mreset_index\u001b[0m\u001b[0;34m(\u001b[0m\u001b[0;34m)\u001b[0m\u001b[0;34m.\u001b[0m\u001b[0mrename\u001b[0m\u001b[0;34m(\u001b[0m\u001b[0mcolumns\u001b[0m\u001b[0;34m=\u001b[0m\u001b[0;34m{\u001b[0m\u001b[0;34m'industy'\u001b[0m\u001b[0;34m:\u001b[0m\u001b[0;34m'day_clicks'\u001b[0m\u001b[0;34m}\u001b[0m\u001b[0;34m)\u001b[0m\u001b[0;34m\u001b[0m\u001b[0;34m\u001b[0m\u001b[0m\n\u001b[0m\u001b[1;32m      2\u001b[0m \u001b[0mprint\u001b[0m\u001b[0;34m(\u001b[0m\u001b[0muser_day_count_test_df\u001b[0m\u001b[0;34m)\u001b[0m\u001b[0;34m\u001b[0m\u001b[0;34m\u001b[0m\u001b[0m\n",
      "\u001b[0;31mNameError\u001b[0m: name 'clk_test_df' is not defined"
     ]
    }
   ],
   "source": [
    "user_day_clicks_test_df = clk_test_df.groupby(['user_id','time']).industy.count().reset_index().rename(columns={'industy':'day_clicks'})\n",
    "print(user_day_count_test_df)"
   ]
  },
  {
   "cell_type": "code",
   "execution_count": 11,
   "metadata": {},
   "outputs": [
    {
     "name": "stdout",
     "output_type": "stream",
     "text": [
      "        user_id  active_days  click_times_total\n",
      "0       3000001            7                 11\n",
      "1       3000002           37                 65\n",
      "2       3000003           23                 36\n",
      "...         ...          ...                ...\n",
      "999997  3999998           18                 20\n",
      "999998  3999999           45                 86\n",
      "999999  4000000           39                 67\n",
      "\n",
      "[1000000 rows x 3 columns]\n"
     ]
    }
   ],
   "source": [
    "user_test_df = user_day_count_test_df.merge(user_click_sum_test_df,on='user_id')\n",
    "print(user_test_df)"
   ]
  },
  {
   "cell_type": "code",
   "execution_count": 12,
   "metadata": {},
   "outputs": [],
   "source": [
    "user_total_df = pd.concat([user_df, user_test_df], axis=0).reset_index().drop(['index'], axis=1)\n",
    "user_total= 'user_total_df.pkl'\n",
    "user_total_path = f'{preprocess_path}/{user_total}'\n",
    "user_total_df.to_pickle(user_total_path)"
   ]
  },
  {
   "cell_type": "code",
   "execution_count": 13,
   "metadata": {},
   "outputs": [
    {
     "name": "stdout",
     "output_type": "stream",
     "text": [
      "         creative_id    ad_id product_id  product_category  advertiser_id industry\n",
      "0                  1        1         \\N                 5            381       78\n",
      "1                  3        3         \\N                 5            598      165\n",
      "2                  4        4         \\N                 5            108      202\n",
      "...              ...      ...        ...               ...            ...      ...\n",
      "2618156      4445718  3812200      39287                17            427       \\N\n",
      "2618157      4445719  3812201      39287                17            427       \\N\n",
      "2618158      4445720  3812202      39287                17            427       \\N\n",
      "\n",
      "[2618159 rows x 6 columns]\n"
     ]
    }
   ],
   "source": [
    "ad_test_df = pd.read_csv(f'{data_path}/test/ad.csv' )\n",
    "print(ad_test_df)"
   ]
  },
  {
   "cell_type": "code",
   "execution_count": 14,
   "metadata": {},
   "outputs": [
    {
     "name": "stdout",
     "output_type": "stream",
     "text": [
      "          time  user_id  creative_id  click_times   ad_id  product_id  product_category  advertiser_id  industry\n",
      "0           20  3131989       645764            1  573314          58                 2          14689         6\n",
      "1           10  3142948       645764            1  573314          58                 2          14689         6\n",
      "2           14  3170643       645764            1  573314          58                 2          14689         6\n",
      "...        ...      ...          ...          ...     ...         ...               ...            ...       ...\n",
      "33585509     5  3131984       322785            1  290114        2031                 2          19976       238\n",
      "33585510    16  3131984       900585            1  793805        1766                 2          33097       319\n",
      "33585511    16  3131988       899450            1  792851          -1                18          22897        47\n",
      "\n",
      "[33585512 rows x 9 columns]\n"
     ]
    }
   ],
   "source": [
    "merged_test_df = clk_test_df.merge(ad_test_df,on='creative_id')\n",
    "merged_test_df.replace(\"\\\\N\",-1,inplace=True)\n",
    "merged_test_df = merged_test_df.fillna(-1).astype(int)\n",
    "print(merged_test_df)\n",
    "\n",
    "test_merged= 'test_merged.pkl'\n",
    "test_merged_path = f'{preprocess_path}/{test_merged}'\n",
    "merged_test_df.to_pickle(test_merged_path)\n",
    "\n",
    "del clk_test_df"
   ]
  },
  {
   "cell_type": "code",
   "execution_count": 18,
   "metadata": {},
   "outputs": [],
   "source": [
    "total_merged_df = pd.concat([merged_df, merged_test_df], axis=0).reset_index().drop(['index'], axis=1)\n",
    "total_merged_df=total_merged_df.sort_values(by='time')\n",
    "print(total_merged_df)\n",
    "\n",
    "del merged_df\n",
    "del merged_test_df\n",
    "\n",
    "total_merged= 'total_merged.pkl'\n",
    "total_merged_path = f'{preprocess_path}/{total_merged}'\n",
    "total_merged_df.to_pickle(total_merged_path)"
   ]
  },
  {
   "cell_type": "code",
   "execution_count": 19,
   "metadata": {},
   "outputs": [],
   "source": [
    "def w2v(log,pivot,f,flag,L,model_path,seq_len=200,sentence_len=100,window=5):\n",
    "    #word2vec算法\n",
    "    #log为曝光日志，以pivot为主键，f为embedding的对象，flag为dev或test，L是embedding的维度\n",
    "    print(\"w2v:\",pivot,f,model_path)\n",
    "    #构造文档\n",
    "    sentence=[]\n",
    "    dic={}\n",
    "    day=0\n",
    "    log['day'] = log['time']\n",
    "    print('build...')\n",
    "    for item in tqdm(log[['day',pivot,f]].values,total=len(log)):\n",
    "        try:\n",
    "            user_values = dic[item[1]]\n",
    "            user_list = user_values[0] + [str(int(item[2]))]\n",
    "            user_values[1].update([str(int(item[2]))])\n",
    "            dic[item[1]] = [user_list,user_values[1],user_values[2] +1]\n",
    "        except:\n",
    "            c=  Counter([str(int(item[2]))])\n",
    "            dic[item[1]]=[[str(int(item[2]))],c,1]\n",
    "\n",
    "    c = Counter()\n",
    "    for key in dic:\n",
    "        c.update([len(dic[key][0])])\n",
    "        sentence.append(dic[key][0])\n",
    "    print(f\"sentence counter:{c}\")\n",
    "    print(len(sentence))\n",
    "    #训练Word2Vec模型\n",
    "    print('shuffle...')\n",
    "    random.shuffle(sentence)\n",
    "    print('training...')\n",
    "    model = Word2Vec(sentence, size=L, window=window, min_count=1, workers=10,iter=10)\n",
    "    print(model_path)\n",
    "    model.save(model_path)\n",
    "    del sentence\n",
    "    print(model)\n",
    "    \n",
    "    ret = []\n",
    "    for key in dic:\n",
    "         ret.append([key,dic[key][0]])\n",
    "    print(ret[:3])\n",
    "    cols = ['user_id'] + [f'{f}_seq']\n",
    "    ret_df = pd.DataFrame(ret,columns=cols)\n",
    "    \n",
    "    del model\n",
    "    del dic\n",
    "    del ret\n",
    "    return ret_df\n",
    "    \n"
   ]
  },
  {
   "cell_type": "code",
   "execution_count": 21,
   "metadata": {},
   "outputs": [
    {
     "name": "stdout",
     "output_type": "stream",
     "text": [
      "w2v: user_id industry /data/workspace/kimi/tencent_ads/2020/kimi/industry_emb_model\n",
      "build...\n"
     ]
    },
    {
     "name": "stderr",
     "output_type": "stream",
     "text": [
      "100%|██████████| 63668283/63668283 [17:55<00:00, 59192.32it/s]  \n"
     ]
    },
    {
     "name": "stdout",
     "output_type": "stream",
     "text": [
      "sentence counter:Counter({11: 93286, 12: 87214, 13: 81029, 10: 77471, 14: 76229, 15: 70573, 16: 66238, 17: 62740, 18: 57944, 19: 55232, 20: 52154, 21: 48979, 22: 46991, 23: 43486, 24: 41647, 25: 39427, 26: 37492, 27: 35835, 28: 34030, 29: 32371, 30: 30529, 31: 29284, 32: 27737, 33: 26608, 34: 25306, 35: 23813, 36: 22840, 9: 22055, 37: 21589, 38: 20817, 39: 19824, 40: 18832, 41: 17805, 42: 16972, 43: 16152, 44: 15485, 45: 14859, 46: 14021, 47: 13440, 48: 12881, 49: 12346, 50: 11843, 51: 10976, 52: 10637, 53: 10448, 54: 9820, 55: 9333, 56: 9043, 57: 8753, 58: 8157, 59: 8077, 60: 7668, 61: 7403, 62: 7140, 63: 6954, 64: 6448, 65: 6262, 66: 6033, 67: 5835, 68: 5552, 69: 5301, 70: 5197, 71: 4957, 72: 4824, 8: 4776, 74: 4573, 73: 4404, 75: 4318, 76: 4079, 77: 3945, 78: 3828, 79: 3707, 80: 3503, 81: 3424, 82: 3370, 83: 3307, 84: 3072, 85: 3062, 86: 2866, 87: 2828, 88: 2781, 89: 2672, 90: 2539, 91: 2440, 92: 2437, 94: 2303, 93: 2298, 95: 2197, 96: 2041, 98: 2003, 97: 1999, 100: 1890, 101: 1863, 99: 1792, 102: 1736, 103: 1701, 104: 1622, 105: 1548, 107: 1470, 108: 1469, 106: 1459, 109: 1421, 110: 1375, 112: 1337, 111: 1308, 113: 1256, 7: 1232, 114: 1190, 115: 1173, 116: 1156, 117: 1129, 118: 1104, 120: 1066, 119: 1043, 121: 1006, 122: 1003, 123: 916, 124: 880, 125: 849, 126: 837, 129: 819, 127: 807, 128: 801, 130: 782, 131: 737, 133: 723, 132: 711, 134: 687, 137: 672, 135: 652, 136: 645, 138: 637, 139: 620, 140: 614, 141: 587, 146: 551, 144: 539, 143: 526, 149: 523, 142: 508, 147: 505, 145: 503, 148: 488, 150: 468, 151: 460, 152: 445, 154: 432, 155: 426, 153: 415, 157: 403, 158: 386, 156: 381, 160: 367, 159: 353, 162: 350, 163: 349, 161: 343, 166: 335, 164: 333, 167: 307, 172: 306, 165: 304, 169: 297, 171: 296, 168: 296, 173: 288, 170: 275, 177: 271, 174: 268, 178: 257, 6: 248, 176: 246, 175: 239, 179: 236, 180: 218, 184: 217, 182: 210, 181: 204, 183: 204, 186: 203, 189: 200, 185: 196, 187: 195, 188: 189, 195: 187, 193: 176, 199: 174, 201: 174, 191: 172, 196: 168, 197: 166, 190: 164, 198: 163, 194: 161, 192: 156, 202: 143, 200: 143, 205: 132, 204: 131, 206: 130, 210: 129, 203: 129, 207: 124, 214: 119, 209: 115, 208: 115, 211: 115, 212: 112, 213: 112, 220: 110, 215: 110, 218: 101, 224: 101, 217: 96, 219: 93, 221: 91, 222: 91, 223: 89, 216: 88, 229: 87, 225: 87, 226: 84, 233: 83, 232: 83, 228: 82, 5: 82, 230: 80, 227: 80, 242: 77, 235: 76, 240: 74, 244: 73, 231: 72, 234: 70, 245: 70, 241: 70, 243: 68, 238: 63, 236: 63, 237: 62, 247: 61, 250: 60, 239: 59, 246: 58, 252: 57, 249: 56, 248: 55, 262: 54, 255: 53, 259: 52, 251: 52, 267: 52, 264: 51, 254: 49, 256: 48, 270: 48, 282: 46, 272: 46, 283: 44, 271: 44, 260: 43, 265: 43, 257: 42, 279: 41, 261: 41, 269: 41, 253: 40, 263: 40, 268: 39, 276: 39, 284: 37, 258: 36, 303: 35, 277: 35, 275: 34, 281: 34, 273: 34, 305: 33, 266: 33, 300: 32, 296: 29, 285: 28, 286: 28, 278: 28, 289: 28, 274: 28, 294: 27, 295: 27, 4: 27, 306: 26, 290: 25, 288: 25, 298: 24, 292: 24, 307: 24, 280: 24, 291: 23, 312: 23, 308: 23, 297: 23, 314: 22, 287: 22, 299: 21, 315: 21, 329: 21, 302: 21, 322: 20, 321: 20, 332: 20, 331: 19, 293: 18, 328: 18, 318: 18, 319: 18, 376: 18, 304: 18, 335: 18, 320: 17, 313: 17, 333: 17, 344: 17, 340: 16, 354: 15, 327: 15, 338: 14, 330: 14, 349: 14, 309: 14, 310: 13, 334: 13, 350: 12, 347: 12, 323: 12, 301: 12, 377: 12, 311: 12, 324: 12, 343: 11, 358: 11, 352: 11, 342: 11, 341: 11, 3: 11, 325: 10, 337: 10, 351: 10, 346: 10, 316: 10, 356: 10, 317: 10, 366: 10, 345: 10, 339: 10, 357: 10, 407: 10, 386: 10, 365: 9, 373: 9, 336: 9, 368: 9, 384: 9, 392: 9, 367: 9, 362: 9, 440: 9, 326: 9, 403: 9, 369: 8, 361: 8, 375: 8, 374: 8, 383: 7, 382: 7, 370: 7, 355: 7, 397: 7, 390: 6, 396: 6, 412: 6, 398: 6, 385: 6, 411: 6, 478: 6, 359: 6, 360: 6, 456: 6, 372: 6, 424: 6, 410: 6, 353: 6, 435: 6, 399: 5, 414: 5, 394: 5, 490: 5, 371: 5, 378: 5, 348: 5, 437: 5, 455: 5, 541: 5, 409: 5, 364: 5, 363: 5, 433: 5, 389: 5, 401: 5, 393: 5, 419: 5, 496: 4, 406: 4, 495: 4, 388: 4, 439: 4, 671: 4, 422: 4, 420: 4, 391: 4, 448: 4, 405: 4, 400: 4, 464: 4, 421: 4, 444: 4, 423: 4, 387: 4, 453: 4, 379: 4, 546: 4, 472: 4, 443: 4, 418: 4, 593: 4, 470: 4, 402: 4, 494: 4, 438: 4, 434: 4, 510: 3, 562: 3, 559: 3, 575: 3, 416: 3, 446: 3, 492: 3, 463: 3, 441: 3, 503: 3, 408: 3, 395: 3, 528: 3, 427: 3, 552: 3, 592: 3, 380: 3, 544: 3, 619: 3, 447: 3, 432: 3, 417: 3, 426: 3, 517: 3, 489: 3, 520: 3, 477: 3, 445: 3, 542: 3, 404: 3, 565: 3, 2: 3, 454: 2, 557: 2, 602: 2, 590: 2, 523: 2, 539: 2, 486: 2, 585: 2, 525: 2, 554: 2, 425: 2, 594: 2, 547: 2, 460: 2, 582: 2, 607: 2, 583: 2, 498: 2, 450: 2, 475: 2, 480: 2, 905: 2, 1065: 2, 481: 2, 658: 2, 527: 2, 500: 2, 642: 2, 482: 2, 652: 2, 752: 2, 381: 2, 623: 2, 462: 2, 613: 2, 769: 2, 449: 2, 678: 2, 473: 2, 506: 2, 553: 2, 488: 2, 777: 2, 501: 2, 659: 2, 458: 2, 476: 2, 442: 2, 436: 2, 639: 2, 632: 2, 461: 2, 429: 2, 504: 2, 640: 2, 415: 2, 748: 2, 512: 2, 543: 2, 467: 2, 598: 2, 568: 2, 11116: 1, 113974: 1, 18178: 1, 26609: 1, 25506: 1, 10318: 1, 2064: 1, 413: 1, 812: 1, 16868: 1, 540: 1, 570: 1, 499: 1, 731: 1, 536: 1, 631: 1, 870: 1, 994: 1, 451: 1, 700: 1, 728: 1, 509: 1, 687: 1, 620: 1, 1180: 1, 686: 1, 457: 1, 739: 1, 627: 1, 1210: 1, 534: 1, 485: 1, 1162: 1, 561: 1, 711: 1, 466: 1, 911: 1, 1577: 1, 519: 1, 580: 1, 771: 1, 679: 1, 882: 1, 668: 1, 1225: 1, 751: 1, 633: 1, 2108: 1, 896: 1, 556: 1, 696: 1, 776: 1, 715: 1, 1237: 1, 558: 1, 1585: 1, 926: 1, 430: 1, 521: 1, 815: 1, 1296: 1, 566: 1, 431: 1, 690: 1, 469: 1, 908: 1, 532: 1, 550: 1, 867: 1, 946: 1, 714: 1, 930: 1, 2295: 1, 895: 1, 522: 1, 879: 1, 829: 1, 484: 1, 1011: 1, 820: 1, 502: 1, 1082: 1, 483: 1, 1273: 1, 563: 1, 636: 1, 567: 1, 465: 1, 1706: 1, 689: 1, 904: 1, 657: 1, 787: 1, 625: 1, 515: 1, 1532: 1, 487: 1, 511: 1, 530: 1, 803: 1, 948: 1, 516: 1, 608: 1, 785: 1, 745: 1, 474: 1, 945: 1, 612: 1, 635: 1, 1120: 1, 645: 1, 1321: 1, 493: 1, 524: 1, 737: 1, 654: 1, 471: 1, 915: 1, 601: 1, 597: 1, 1211: 1, 798: 1, 628: 1, 581: 1, 621: 1, 665: 1, 479: 1, 578: 1, 459: 1, 1160: 1, 656: 1, 1661: 1, 778: 1, 531: 1, 538: 1, 1066: 1, 758: 1, 576: 1, 514: 1, 920: 1, 816: 1, 526: 1, 726: 1, 617: 1, 886: 1, 741: 1, 518: 1, 912: 1, 549: 1, 1052: 1, 997: 1, 452: 1})\n",
      "seq counter:Counter({11: 93286, 12: 87214, 13: 81029, 10: 77471, 14: 76229, 15: 70573, 16: 66238, 17: 62740, 18: 57944, 19: 55232, 20: 52154, 21: 48979, 22: 46991, 23: 43486, 24: 41647, 25: 39427, 26: 37492, 27: 35835, 28: 34030, 29: 32371, 30: 30529, 31: 29284, 32: 27737, 33: 26608, 34: 25306, 35: 23813, 36: 22840, 9: 22055, 37: 21589, 38: 20817, 39: 19824, 40: 18832, 41: 17805, 42: 16972, 43: 16152, 44: 15485, 45: 14859, 46: 14021, 47: 13440, 48: 12881, 49: 12346, 50: 11843, 51: 10976, 52: 10637, 53: 10448, 54: 9820, 55: 9333, 56: 9043, 57: 8753, 58: 8157, 59: 8077, 60: 7668, 61: 7403, 62: 7140, 63: 6954, 64: 6448, 65: 6262, 66: 6033, 67: 5835, 68: 5552, 69: 5301, 70: 5197, 71: 4957, 72: 4824, 8: 4776, 74: 4573, 73: 4404, 75: 4318, 76: 4079, 77: 3945, 78: 3828, 79: 3707, 80: 3503, 81: 3424, 82: 3370, 83: 3307, 84: 3072, 85: 3062, 86: 2866, 87: 2828, 88: 2781, 89: 2672, 90: 2539, 91: 2440, 92: 2437, 94: 2303, 93: 2298, 95: 2197, 96: 2041, 98: 2003, 97: 1999, 100: 1890, 101: 1863, 99: 1792, 102: 1736, 103: 1701, 104: 1622, 105: 1548, 107: 1470, 108: 1469, 106: 1459, 109: 1421, 110: 1375, 112: 1337, 111: 1308, 113: 1256, 7: 1232, 114: 1190, 115: 1173, 116: 1156, 117: 1129, 118: 1104, 120: 1066, 119: 1043, 121: 1006, 122: 1003, 123: 916, 124: 880, 125: 849, 126: 837, 129: 819, 127: 807, 128: 801, 130: 782, 131: 737, 133: 723, 132: 711, 134: 687, 137: 672, 135: 652, 136: 645, 138: 637, 139: 620, 140: 614, 141: 587, 146: 551, 144: 539, 143: 526, 149: 523, 142: 508, 147: 505, 145: 503, 148: 488, 150: 468, 151: 460, 152: 445, 154: 432, 155: 426, 153: 415, 157: 403, 158: 386, 156: 381, 160: 367, 159: 353, 162: 350, 163: 349, 161: 343, 166: 335, 164: 333, 167: 307, 172: 306, 165: 304, 169: 297, 171: 296, 168: 296, 173: 288, 170: 275, 177: 271, 174: 268, 178: 257, 6: 248, 176: 246, 175: 239, 179: 236, 180: 218, 184: 217, 182: 210, 181: 204, 183: 204, 186: 203, 189: 200, 185: 196, 187: 195, 188: 189, 195: 187, 193: 176, 199: 174, 201: 174, 191: 172, 196: 168, 197: 166, 190: 164, 198: 163, 194: 161, 192: 156, 202: 143, 200: 143, 205: 132, 204: 131, 206: 130, 210: 129, 203: 129, 207: 124, 214: 119, 209: 115, 208: 115, 211: 115, 212: 112, 213: 112, 220: 110, 215: 110, 218: 101, 224: 101, 217: 96, 219: 93, 221: 91, 222: 91, 223: 89, 216: 88, 229: 87, 225: 87, 226: 84, 233: 83, 232: 83, 228: 82, 5: 82, 230: 80, 227: 80, 242: 77, 235: 76, 240: 74, 244: 73, 231: 72, 234: 70, 245: 70, 241: 70, 243: 68, 238: 63, 236: 63, 237: 62, 247: 61, 250: 60, 239: 59, 246: 58, 252: 57, 249: 56, 248: 55, 262: 54, 255: 53, 259: 52, 251: 52, 267: 52, 264: 51, 254: 49, 256: 48, 270: 48, 282: 46, 272: 46, 283: 44, 271: 44, 260: 43, 265: 43, 257: 42, 279: 41, 261: 41, 269: 41, 253: 40, 263: 40, 268: 39, 276: 39, 284: 37, 258: 36, 303: 35, 277: 35, 275: 34, 281: 34, 273: 34, 305: 33, 266: 33, 300: 32, 296: 29, 285: 28, 286: 28, 278: 28, 289: 28, 274: 28, 294: 27, 295: 27, 4: 27, 306: 26, 290: 25, 288: 25, 298: 24, 292: 24, 307: 24, 280: 24, 291: 23, 312: 23, 308: 23, 297: 23, 314: 22, 287: 22, 299: 21, 315: 21, 329: 21, 302: 21, 322: 20, 321: 20, 332: 20, 331: 19, 293: 18, 328: 18, 318: 18, 319: 18, 376: 18, 304: 18, 335: 18, 320: 17, 313: 17, 333: 17, 344: 17, 340: 16, 354: 15, 327: 15, 338: 14, 330: 14, 349: 14, 309: 14, 310: 13, 334: 13, 350: 12, 347: 12, 323: 12, 301: 12, 377: 12, 311: 12, 324: 12, 343: 11, 358: 11, 352: 11, 342: 11, 341: 11, 3: 11, 325: 10, 337: 10, 351: 10, 346: 10, 316: 10, 356: 10, 317: 10, 366: 10, 345: 10, 339: 10, 357: 10, 407: 10, 386: 10, 365: 9, 373: 9, 336: 9, 368: 9, 384: 9, 392: 9, 367: 9, 362: 9, 440: 9, 326: 9, 403: 9, 369: 8, 361: 8, 375: 8, 374: 8, 383: 7, 382: 7, 370: 7, 355: 7, 397: 7, 390: 6, 396: 6, 412: 6, 398: 6, 385: 6, 411: 6, 478: 6, 359: 6, 360: 6, 456: 6, 372: 6, 424: 6, 410: 6, 353: 6, 435: 6, 399: 5, 414: 5, 394: 5, 490: 5, 371: 5, 378: 5, 348: 5, 437: 5, 455: 5, 541: 5, 409: 5, 364: 5, 363: 5, 433: 5, 389: 5, 401: 5, 393: 5, 419: 5, 496: 4, 406: 4, 495: 4, 388: 4, 439: 4, 671: 4, 422: 4, 420: 4, 391: 4, 448: 4, 405: 4, 400: 4, 464: 4, 421: 4, 444: 4, 423: 4, 387: 4, 453: 4, 379: 4, 546: 4, 472: 4, 443: 4, 418: 4, 593: 4, 470: 4, 402: 4, 494: 4, 438: 4, 434: 4, 510: 3, 562: 3, 559: 3, 575: 3, 416: 3, 446: 3, 492: 3, 463: 3, 441: 3, 503: 3, 408: 3, 395: 3, 528: 3, 427: 3, 552: 3, 592: 3, 380: 3, 544: 3, 619: 3, 447: 3, 432: 3, 417: 3, 426: 3, 517: 3, 489: 3, 520: 3, 477: 3, 445: 3, 542: 3, 404: 3, 565: 3, 2: 3, 454: 2, 557: 2, 602: 2, 590: 2, 523: 2, 539: 2, 486: 2, 585: 2, 525: 2, 554: 2, 425: 2, 594: 2, 547: 2, 460: 2, 582: 2, 607: 2, 583: 2, 498: 2, 450: 2, 475: 2, 480: 2, 905: 2, 1065: 2, 481: 2, 658: 2, 527: 2, 500: 2, 642: 2, 482: 2, 652: 2, 752: 2, 381: 2, 623: 2, 462: 2, 613: 2, 769: 2, 449: 2, 678: 2, 473: 2, 506: 2, 553: 2, 488: 2, 777: 2, 501: 2, 659: 2, 458: 2, 476: 2, 442: 2, 436: 2, 639: 2, 632: 2, 461: 2, 429: 2, 504: 2, 640: 2, 415: 2, 748: 2, 512: 2, 543: 2, 467: 2, 598: 2, 568: 2, 11116: 1, 113974: 1, 18178: 1, 26609: 1, 25506: 1, 10318: 1, 2064: 1, 413: 1, 812: 1, 16868: 1, 540: 1, 570: 1, 499: 1, 731: 1, 536: 1, 631: 1, 870: 1, 994: 1, 451: 1, 700: 1, 728: 1, 509: 1, 687: 1, 620: 1, 1180: 1, 686: 1, 457: 1, 739: 1, 627: 1, 1210: 1, 534: 1, 485: 1, 1162: 1, 561: 1, 711: 1, 466: 1, 911: 1, 1577: 1, 519: 1, 580: 1, 771: 1, 679: 1, 882: 1, 668: 1, 1225: 1, 751: 1, 633: 1, 2108: 1, 896: 1, 556: 1, 696: 1, 776: 1, 715: 1, 1237: 1, 558: 1, 1585: 1, 926: 1, 430: 1, 521: 1, 815: 1, 1296: 1, 566: 1, 431: 1, 690: 1, 469: 1, 908: 1, 532: 1, 550: 1, 867: 1, 946: 1, 714: 1, 930: 1, 2295: 1, 895: 1, 522: 1, 879: 1, 829: 1, 484: 1, 1011: 1, 820: 1, 502: 1, 1082: 1, 483: 1, 1273: 1, 563: 1, 636: 1, 567: 1, 465: 1, 1706: 1, 689: 1, 904: 1, 657: 1, 787: 1, 625: 1, 515: 1, 1532: 1, 487: 1, 511: 1, 530: 1, 803: 1, 948: 1, 516: 1, 608: 1, 785: 1, 745: 1, 474: 1, 945: 1, 612: 1, 635: 1, 1120: 1, 645: 1, 1321: 1, 493: 1, 524: 1, 737: 1, 654: 1, 471: 1, 915: 1, 601: 1, 597: 1, 1211: 1, 798: 1, 628: 1, 581: 1, 621: 1, 665: 1, 479: 1, 578: 1, 459: 1, 1160: 1, 656: 1, 1661: 1, 778: 1, 531: 1, 538: 1, 1066: 1, 758: 1, 576: 1, 514: 1, 920: 1, 816: 1, 526: 1, 726: 1, 617: 1, 886: 1, 741: 1, 518: 1, 912: 1, 549: 1, 1052: 1, 997: 1, 452: 1})\n",
      "1900000\n",
      "shuffle...\n"
     ]
    },
    {
     "name": "stdout",
     "output_type": "stream",
     "text": [
      "training...\n",
      "/data/workspace/kimi/tencent_ads/2020/kimi/industry_emb_model\n",
      "Word2Vec(vocab=332, size=16, alpha=0.025)\n"
     ]
    },
    {
     "ename": "ValueError",
     "evalue": "Shape of passed values is (2, 1), indices imply (2, 2)",
     "output_type": "error",
     "traceback": [
      "\u001b[0;31m---------------------------------------------------------------------------\u001b[0m",
      "\u001b[0;31mValueError\u001b[0m                                Traceback (most recent call last)",
      "\u001b[0;32m~/anaconda3/lib/python3.7/site-packages/pandas/core/internals/managers.py\u001b[0m in \u001b[0;36mcreate_block_manager_from_blocks\u001b[0;34m(blocks, axes)\u001b[0m\n\u001b[1;32m   1650\u001b[0m                 blocks = [make_block(values=blocks[0],\n\u001b[0;32m-> 1651\u001b[0;31m                                      placement=slice(0, len(axes[0])))]\n\u001b[0m\u001b[1;32m   1652\u001b[0m \u001b[0;34m\u001b[0m\u001b[0m\n",
      "\u001b[0;32m~/anaconda3/lib/python3.7/site-packages/pandas/core/internals/blocks.py\u001b[0m in \u001b[0;36mmake_block\u001b[0;34m(values, placement, klass, ndim, dtype, fastpath)\u001b[0m\n\u001b[1;32m   3094\u001b[0m \u001b[0;34m\u001b[0m\u001b[0m\n\u001b[0;32m-> 3095\u001b[0;31m     \u001b[0;32mreturn\u001b[0m \u001b[0mklass\u001b[0m\u001b[0;34m(\u001b[0m\u001b[0mvalues\u001b[0m\u001b[0;34m,\u001b[0m \u001b[0mndim\u001b[0m\u001b[0;34m=\u001b[0m\u001b[0mndim\u001b[0m\u001b[0;34m,\u001b[0m \u001b[0mplacement\u001b[0m\u001b[0;34m=\u001b[0m\u001b[0mplacement\u001b[0m\u001b[0;34m)\u001b[0m\u001b[0;34m\u001b[0m\u001b[0;34m\u001b[0m\u001b[0m\n\u001b[0m\u001b[1;32m   3096\u001b[0m \u001b[0;34m\u001b[0m\u001b[0m\n",
      "\u001b[0;32m~/anaconda3/lib/python3.7/site-packages/pandas/core/internals/blocks.py\u001b[0m in \u001b[0;36m__init__\u001b[0;34m(self, values, placement, ndim)\u001b[0m\n\u001b[1;32m   2630\u001b[0m         super(ObjectBlock, self).__init__(values, ndim=ndim,\n\u001b[0;32m-> 2631\u001b[0;31m                                           placement=placement)\n\u001b[0m\u001b[1;32m   2632\u001b[0m \u001b[0;34m\u001b[0m\u001b[0m\n",
      "\u001b[0;32m~/anaconda3/lib/python3.7/site-packages/pandas/core/internals/blocks.py\u001b[0m in \u001b[0;36m__init__\u001b[0;34m(self, values, placement, ndim)\u001b[0m\n\u001b[1;32m     86\u001b[0m                 \u001b[0;34m'Wrong number of items passed {val}, placement implies '\u001b[0m\u001b[0;34m\u001b[0m\u001b[0;34m\u001b[0m\u001b[0m\n\u001b[0;32m---> 87\u001b[0;31m                 '{mgr}'.format(val=len(self.values), mgr=len(self.mgr_locs)))\n\u001b[0m\u001b[1;32m     88\u001b[0m \u001b[0;34m\u001b[0m\u001b[0m\n",
      "\u001b[0;31mValueError\u001b[0m: Wrong number of items passed 1, placement implies 2",
      "\nDuring handling of the above exception, another exception occurred:\n",
      "\u001b[0;31mValueError\u001b[0m                                Traceback (most recent call last)",
      "\u001b[0;32m<ipython-input-21-11dd4aa012e8>\u001b[0m in \u001b[0;36m<module>\u001b[0;34m\u001b[0m\n\u001b[0;32m----> 1\u001b[0;31m \u001b[0mindusty_seq_df\u001b[0m \u001b[0;34m=\u001b[0m  \u001b[0mw2v\u001b[0m\u001b[0;34m(\u001b[0m\u001b[0mtotal_merged_df\u001b[0m\u001b[0;34m,\u001b[0m\u001b[0;34m'user_id'\u001b[0m\u001b[0;34m,\u001b[0m\u001b[0;34m'industry'\u001b[0m\u001b[0;34m,\u001b[0m\u001b[0;34m'train'\u001b[0m\u001b[0;34m,\u001b[0m\u001b[0;36m16\u001b[0m\u001b[0;34m,\u001b[0m\u001b[0;34m'/data/workspace/kimi/tencent_ads/2020/kimi/industry_emb_model'\u001b[0m\u001b[0;34m,\u001b[0m\u001b[0;36m500\u001b[0m\u001b[0;34m,\u001b[0m\u001b[0;36m500\u001b[0m\u001b[0;34m,\u001b[0m\u001b[0;36m10\u001b[0m\u001b[0;34m)\u001b[0m\u001b[0;34m\u001b[0m\u001b[0;34m\u001b[0m\u001b[0m\n\u001b[0m",
      "\u001b[0;32m<ipython-input-19-d4f9fa94a829>\u001b[0m in \u001b[0;36mw2v\u001b[0;34m(log, pivot, f, flag, L, model_path, seq_len, sentence_len, window)\u001b[0m\n\u001b[1;32m     41\u001b[0m     \u001b[0mprint\u001b[0m\u001b[0;34m(\u001b[0m\u001b[0mmodel\u001b[0m\u001b[0;34m)\u001b[0m\u001b[0;34m\u001b[0m\u001b[0;34m\u001b[0m\u001b[0m\n\u001b[1;32m     42\u001b[0m     \u001b[0mcols\u001b[0m \u001b[0;34m=\u001b[0m \u001b[0;34m[\u001b[0m\u001b[0;34m'user_id'\u001b[0m\u001b[0;34m]\u001b[0m \u001b[0;34m+\u001b[0m \u001b[0;34m[\u001b[0m\u001b[0;34mf'{f}_seq'\u001b[0m\u001b[0;34m]\u001b[0m\u001b[0;34m\u001b[0m\u001b[0;34m\u001b[0m\u001b[0m\n\u001b[0;32m---> 43\u001b[0;31m     \u001b[0mret_df\u001b[0m \u001b[0;34m=\u001b[0m \u001b[0mpd\u001b[0m\u001b[0;34m.\u001b[0m\u001b[0mDataFrame\u001b[0m\u001b[0;34m(\u001b[0m\u001b[0mret\u001b[0m\u001b[0;34m,\u001b[0m\u001b[0mcolumns\u001b[0m\u001b[0;34m=\u001b[0m\u001b[0mcols\u001b[0m\u001b[0;34m)\u001b[0m\u001b[0;34m\u001b[0m\u001b[0;34m\u001b[0m\u001b[0m\n\u001b[0m\u001b[1;32m     44\u001b[0m \u001b[0;34m\u001b[0m\u001b[0m\n\u001b[1;32m     45\u001b[0m     \u001b[0;32mdel\u001b[0m \u001b[0mmodel\u001b[0m\u001b[0;34m\u001b[0m\u001b[0;34m\u001b[0m\u001b[0m\n",
      "\u001b[0;32m~/anaconda3/lib/python3.7/site-packages/pandas/core/frame.py\u001b[0m in \u001b[0;36m__init__\u001b[0;34m(self, data, index, columns, dtype, copy)\u001b[0m\n\u001b[1;32m    449\u001b[0m                 \u001b[0;32melse\u001b[0m\u001b[0;34m:\u001b[0m\u001b[0;34m\u001b[0m\u001b[0;34m\u001b[0m\u001b[0m\n\u001b[1;32m    450\u001b[0m                     mgr = init_ndarray(data, index, columns, dtype=dtype,\n\u001b[0;32m--> 451\u001b[0;31m                                        copy=copy)\n\u001b[0m\u001b[1;32m    452\u001b[0m             \u001b[0;32melse\u001b[0m\u001b[0;34m:\u001b[0m\u001b[0;34m\u001b[0m\u001b[0;34m\u001b[0m\u001b[0m\n\u001b[1;32m    453\u001b[0m                 \u001b[0mmgr\u001b[0m \u001b[0;34m=\u001b[0m \u001b[0minit_dict\u001b[0m\u001b[0;34m(\u001b[0m\u001b[0;34m{\u001b[0m\u001b[0;34m}\u001b[0m\u001b[0;34m,\u001b[0m \u001b[0mindex\u001b[0m\u001b[0;34m,\u001b[0m \u001b[0mcolumns\u001b[0m\u001b[0;34m,\u001b[0m \u001b[0mdtype\u001b[0m\u001b[0;34m=\u001b[0m\u001b[0mdtype\u001b[0m\u001b[0;34m)\u001b[0m\u001b[0;34m\u001b[0m\u001b[0;34m\u001b[0m\u001b[0m\n",
      "\u001b[0;32m~/anaconda3/lib/python3.7/site-packages/pandas/core/internals/construction.py\u001b[0m in \u001b[0;36minit_ndarray\u001b[0;34m(values, index, columns, dtype, copy)\u001b[0m\n\u001b[1;32m    165\u001b[0m         \u001b[0mvalues\u001b[0m \u001b[0;34m=\u001b[0m \u001b[0mmaybe_infer_to_datetimelike\u001b[0m\u001b[0;34m(\u001b[0m\u001b[0mvalues\u001b[0m\u001b[0;34m)\u001b[0m\u001b[0;34m\u001b[0m\u001b[0;34m\u001b[0m\u001b[0m\n\u001b[1;32m    166\u001b[0m \u001b[0;34m\u001b[0m\u001b[0m\n\u001b[0;32m--> 167\u001b[0;31m     \u001b[0;32mreturn\u001b[0m \u001b[0mcreate_block_manager_from_blocks\u001b[0m\u001b[0;34m(\u001b[0m\u001b[0;34m[\u001b[0m\u001b[0mvalues\u001b[0m\u001b[0;34m]\u001b[0m\u001b[0;34m,\u001b[0m \u001b[0;34m[\u001b[0m\u001b[0mcolumns\u001b[0m\u001b[0;34m,\u001b[0m \u001b[0mindex\u001b[0m\u001b[0;34m]\u001b[0m\u001b[0;34m)\u001b[0m\u001b[0;34m\u001b[0m\u001b[0;34m\u001b[0m\u001b[0m\n\u001b[0m\u001b[1;32m    168\u001b[0m \u001b[0;34m\u001b[0m\u001b[0m\n\u001b[1;32m    169\u001b[0m \u001b[0;34m\u001b[0m\u001b[0m\n",
      "\u001b[0;32m~/anaconda3/lib/python3.7/site-packages/pandas/core/internals/managers.py\u001b[0m in \u001b[0;36mcreate_block_manager_from_blocks\u001b[0;34m(blocks, axes)\u001b[0m\n\u001b[1;32m   1658\u001b[0m         \u001b[0mblocks\u001b[0m \u001b[0;34m=\u001b[0m \u001b[0;34m[\u001b[0m\u001b[0mgetattr\u001b[0m\u001b[0;34m(\u001b[0m\u001b[0mb\u001b[0m\u001b[0;34m,\u001b[0m \u001b[0;34m'values'\u001b[0m\u001b[0;34m,\u001b[0m \u001b[0mb\u001b[0m\u001b[0;34m)\u001b[0m \u001b[0;32mfor\u001b[0m \u001b[0mb\u001b[0m \u001b[0;32min\u001b[0m \u001b[0mblocks\u001b[0m\u001b[0;34m]\u001b[0m\u001b[0;34m\u001b[0m\u001b[0;34m\u001b[0m\u001b[0m\n\u001b[1;32m   1659\u001b[0m         \u001b[0mtot_items\u001b[0m \u001b[0;34m=\u001b[0m \u001b[0msum\u001b[0m\u001b[0;34m(\u001b[0m\u001b[0mb\u001b[0m\u001b[0;34m.\u001b[0m\u001b[0mshape\u001b[0m\u001b[0;34m[\u001b[0m\u001b[0;36m0\u001b[0m\u001b[0;34m]\u001b[0m \u001b[0;32mfor\u001b[0m \u001b[0mb\u001b[0m \u001b[0;32min\u001b[0m \u001b[0mblocks\u001b[0m\u001b[0;34m)\u001b[0m\u001b[0;34m\u001b[0m\u001b[0;34m\u001b[0m\u001b[0m\n\u001b[0;32m-> 1660\u001b[0;31m         \u001b[0mconstruction_error\u001b[0m\u001b[0;34m(\u001b[0m\u001b[0mtot_items\u001b[0m\u001b[0;34m,\u001b[0m \u001b[0mblocks\u001b[0m\u001b[0;34m[\u001b[0m\u001b[0;36m0\u001b[0m\u001b[0;34m]\u001b[0m\u001b[0;34m.\u001b[0m\u001b[0mshape\u001b[0m\u001b[0;34m[\u001b[0m\u001b[0;36m1\u001b[0m\u001b[0;34m:\u001b[0m\u001b[0;34m]\u001b[0m\u001b[0;34m,\u001b[0m \u001b[0maxes\u001b[0m\u001b[0;34m,\u001b[0m \u001b[0me\u001b[0m\u001b[0;34m)\u001b[0m\u001b[0;34m\u001b[0m\u001b[0;34m\u001b[0m\u001b[0m\n\u001b[0m\u001b[1;32m   1661\u001b[0m \u001b[0;34m\u001b[0m\u001b[0m\n\u001b[1;32m   1662\u001b[0m \u001b[0;34m\u001b[0m\u001b[0m\n",
      "\u001b[0;32m~/anaconda3/lib/python3.7/site-packages/pandas/core/internals/managers.py\u001b[0m in \u001b[0;36mconstruction_error\u001b[0;34m(tot_items, block_shape, axes, e)\u001b[0m\n\u001b[1;32m   1689\u001b[0m         \u001b[0;32mraise\u001b[0m \u001b[0mValueError\u001b[0m\u001b[0;34m(\u001b[0m\u001b[0;34m\"Empty data passed with indices specified.\"\u001b[0m\u001b[0;34m)\u001b[0m\u001b[0;34m\u001b[0m\u001b[0;34m\u001b[0m\u001b[0m\n\u001b[1;32m   1690\u001b[0m     raise ValueError(\"Shape of passed values is {0}, indices imply {1}\".format(\n\u001b[0;32m-> 1691\u001b[0;31m         passed, implied))\n\u001b[0m\u001b[1;32m   1692\u001b[0m \u001b[0;34m\u001b[0m\u001b[0m\n\u001b[1;32m   1693\u001b[0m \u001b[0;34m\u001b[0m\u001b[0m\n",
      "\u001b[0;31mValueError\u001b[0m: Shape of passed values is (2, 1), indices imply (2, 2)"
     ]
    }
   ],
   "source": [
    "industy_seq_df =  w2v(total_merged_df,'user_id','industry','train',16,'/data/workspace/kimi/tencent_ads/2020/kimi/industry_emb_model',500,500,10)\n"
   ]
  },
  {
   "cell_type": "code",
   "execution_count": null,
   "metadata": {},
   "outputs": [],
   "source": [
    "advertiser_id_seq_df = w2v(total_merged_df,'user_id','advertiser_id','train',32,'/data/workspace/kimi/tencent_ads/2020/kimi/advertiser_id_emb_model',500,500,10)\n"
   ]
  },
  {
   "cell_type": "code",
   "execution_count": null,
   "metadata": {},
   "outputs": [],
   "source": [
    "total_final = 'total_final.pkl'\n",
    "total_final_path = f'{preprocess_path}/{total_final}'\n",
    "\n",
    "\n",
    "total_df =  user_final_df.merge(advertiser_id_seq_df,on='user_id')\n",
    "total_df  = total_df.merge(industy_seq_df,on='user_id')\n",
    "total_df.to_pickle(total_merged_path)"
   ]
  },
  {
   "cell_type": "code",
   "execution_count": null,
   "metadata": {},
   "outputs": [],
   "source": []
  }
 ],
 "metadata": {
  "kernelspec": {
   "display_name": "Python 3",
   "language": "python",
   "name": "python3"
  },
  "language_info": {
   "codemirror_mode": {
    "name": "ipython",
    "version": 3
   },
   "file_extension": ".py",
   "mimetype": "text/x-python",
   "name": "python",
   "nbconvert_exporter": "python",
   "pygments_lexer": "ipython3",
   "version": "3.7.3"
  }
 },
 "nbformat": 4,
 "nbformat_minor": 2
}
