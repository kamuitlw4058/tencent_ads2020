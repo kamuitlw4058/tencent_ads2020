{
 "cells": [
  {
   "cell_type": "code",
   "execution_count": 1,
   "metadata": {},
   "outputs": [],
   "source": [
    "import lightgbm as lgb\n",
    "import os\n",
    "import math\n",
    "import pandas as pd\n",
    "import numpy as np\n",
    "import random\n",
    "import gc\n",
    "from datetime import datetime\n",
    "from tqdm import tqdm\n",
    "import matplotlib.pyplot as plt\n",
    "from sklearn.metrics import classification_report\n",
    "from sklearn.metrics import precision_score\n",
    "from sklearn.model_selection import train_test_split\n",
    "from sklearn.preprocessing import  OneHotEncoder\n",
    "\n",
    "np.random.seed(2019)\n",
    "random.seed(2019)\n",
    "pd.set_option('display.max_rows', 6)\n",
    "pd.set_option('display.max_columns', 500)\n",
    "pd.set_option('display.width', 280)\n",
    "pd.set_option('display.max_colwidth', 150)\n",
    "data_path = '/data/workspace/kimi/tencent_ads/2020/dataset'\n",
    "preprocess_path = 'preprocess'"
   ]
  },
  {
   "cell_type": "code",
   "execution_count": 2,
   "metadata": {},
   "outputs": [
    {
     "name": "stdout",
     "output_type": "stream",
     "text": [
      "          user_id  click_times_sum  click_times_count  ad_id_nunique  product_id_nunique  product_category_nunique  advertiser_id_nunique  industry_nunique  click_times_sum_log  click_times_count_log\n",
      "0       3000001.0             11.0               11.0           11.0                 7.0                       4.0                   10.0               5.0             2.397895               2.397895\n",
      "1       3000002.0             65.0               61.0           49.0                24.0                       5.0                   41.0              21.0             4.174387               4.110874\n",
      "2       3000003.0             36.0               36.0           35.0                15.0                       5.0                   29.0              17.0             3.583519               3.583519\n",
      "...           ...              ...                ...            ...                 ...                       ...                    ...               ...                  ...                    ...\n",
      "999997  3999998.0             20.0               19.0           18.0                10.0                       5.0                   16.0              13.0             2.995732               2.944439\n",
      "999998  3999999.0             86.0               80.0           79.0                26.0                       4.0                   63.0              29.0             4.454347               4.382027\n",
      "999999  4000000.0             67.0               63.0           63.0                27.0                       6.0                   59.0              27.0             4.204693               4.143135\n",
      "\n",
      "[1000000 rows x 10 columns]\n"
     ]
    }
   ],
   "source": [
    "flag ='test'\n",
    "user_base_statics_df= pd.read_pickle(f'{preprocess_path}/{flag}_user_base_statics.pkl')\n",
    "user_base_statics_df = user_base_statics_df.reset_index()\n",
    "user_base_statics_df['click_times_sum_log'] = user_base_statics_df['click_times_sum'].apply(lambda x :math.log(x))\n",
    "user_base_statics_df['click_times_count_log'] = user_base_statics_df['click_times_count'].apply(lambda x :math.log(x))\n",
    "user_base_statics_df = user_base_statics_df.astype(float)\n",
    "print(user_base_statics_df)\n"
   ]
  },
  {
   "cell_type": "code",
   "execution_count": 3,
   "metadata": {},
   "outputs": [],
   "source": [
    "def merge_features(train_df,train_file,target_encode=False):\n",
    "    train_features_df  = pd.read_pickle(f'{preprocess_path}/{train_file}')\n",
    "    if target_encode:\n",
    "        train_features_df.columns = [ '_'.join(i) for i in train_features_df.columns.values  ]\n",
    "    train_df = train_df.merge(train_features_df,on='user_id')\n",
    "    print(train_df)\n",
    "    return train_df\n",
    "\n"
   ]
  },
  {
   "cell_type": "code",
   "execution_count": 4,
   "metadata": {},
   "outputs": [],
   "source": [
    "#test_df = merge_features(user_base_statics_df,'test_user_target_encoder_product_id.pkl',True)\n"
   ]
  },
  {
   "cell_type": "code",
   "execution_count": 5,
   "metadata": {},
   "outputs": [
    {
     "name": "stdout",
     "output_type": "stream",
     "text": [
      "          user_id  click_times_sum  click_times_count  ad_id_nunique  product_id_nunique  product_category_nunique  advertiser_id_nunique  industry_nunique  click_times_sum_log  click_times_count_log  product_id_gender0_kfold_mean_min  product_id_gender0_kfold_mean_max  \\\n",
      "0       3000001.0             11.0               11.0           11.0                 7.0                       4.0                   10.0               5.0             2.397895               2.397895                           0.506373                           0.995902   \n",
      "1       3000002.0             65.0               61.0           49.0                24.0                       5.0                   41.0              21.0             4.174387               4.110874                           0.230769                           0.803830   \n",
      "2       3000003.0             36.0               36.0           35.0                15.0                       5.0                   29.0              17.0             3.583519               3.583519                           0.475446                           0.800000   \n",
      "...           ...              ...                ...            ...                 ...                       ...                    ...               ...                  ...                    ...                                ...                                ...   \n",
      "999997  3999998.0             20.0               19.0           18.0                10.0                       5.0                   16.0              13.0             2.995732               2.944439                           0.576323                           0.920409   \n",
      "999998  3999999.0             86.0               80.0           79.0                26.0                       4.0                   63.0              29.0             4.454347               4.382027                           0.588407                           0.986082   \n",
      "999999  4000000.0             67.0               63.0           63.0                27.0                       6.0                   59.0              27.0             4.204693               4.143135                           0.254453                           0.990367   \n",
      "\n",
      "        product_id_gender0_kfold_mean_mean  product_id_gender0_kfold_mean_std  product_id_gender1_kfold_mean_min  product_id_gender1_kfold_mean_max  product_id_gender1_kfold_mean_mean  product_id_gender1_kfold_mean_std  \n",
      "0                                 0.750753                           0.160663                           0.004098                           0.493627                            0.249247                           0.160663  \n",
      "1                                 0.625404                           0.089834                           0.196170                           0.769231                            0.374596                           0.089834  \n",
      "2                                 0.672138                           0.044424                           0.200000                           0.524554                            0.327862                           0.044424  \n",
      "...                                    ...                                ...                                ...                                ...                                 ...                                ...  \n",
      "999997                            0.693857                           0.073008                           0.079591                           0.423677                            0.306143                           0.073008  \n",
      "999998                            0.736904                           0.117495                           0.013918                           0.411593                            0.263096                           0.117495  \n",
      "999999                            0.704308                           0.122781                           0.009633                           0.745547                            0.295692                           0.122781  \n",
      "\n",
      "[1000000 rows x 18 columns]\n"
     ]
    }
   ],
   "source": [
    "test_df = merge_features(user_base_statics_df,'test_user_target_encoder_product_id_gender.pkl',True)"
   ]
  },
  {
   "cell_type": "code",
   "execution_count": 6,
   "metadata": {},
   "outputs": [
    {
     "name": "stdout",
     "output_type": "stream",
     "text": [
      "          user_id  click_times_sum  click_times_count  ad_id_nunique  product_id_nunique  product_category_nunique  advertiser_id_nunique  industry_nunique  click_times_sum_log  click_times_count_log  product_id_gender0_kfold_mean_min  product_id_gender0_kfold_mean_max  \\\n",
      "0       3000001.0             11.0               11.0           11.0                 7.0                       4.0                   10.0               5.0             2.397895               2.397895                           0.506373                           0.995902   \n",
      "1       3000002.0             65.0               61.0           49.0                24.0                       5.0                   41.0              21.0             4.174387               4.110874                           0.230769                           0.803830   \n",
      "2       3000003.0             36.0               36.0           35.0                15.0                       5.0                   29.0              17.0             3.583519               3.583519                           0.475446                           0.800000   \n",
      "...           ...              ...                ...            ...                 ...                       ...                    ...               ...                  ...                    ...                                ...                                ...   \n",
      "999997  3999998.0             20.0               19.0           18.0                10.0                       5.0                   16.0              13.0             2.995732               2.944439                           0.576323                           0.920409   \n",
      "999998  3999999.0             86.0               80.0           79.0                26.0                       4.0                   63.0              29.0             4.454347               4.382027                           0.588407                           0.986082   \n",
      "999999  4000000.0             67.0               63.0           63.0                27.0                       6.0                   59.0              27.0             4.204693               4.143135                           0.254453                           0.990367   \n",
      "\n",
      "        product_id_gender0_kfold_mean_mean  product_id_gender0_kfold_mean_std  product_id_gender1_kfold_mean_min  product_id_gender1_kfold_mean_max  product_id_gender1_kfold_mean_mean  product_id_gender1_kfold_mean_std  product_category_gender0_kfold_mean_min  \\\n",
      "0                                 0.750753                           0.160663                           0.004098                           0.493627                            0.249247                           0.160663                                 0.661163   \n",
      "1                                 0.625404                           0.089834                           0.196170                           0.769231                            0.374596                           0.089834                                 0.582394   \n",
      "2                                 0.672138                           0.044424                           0.200000                           0.524554                            0.327862                           0.044424                                 0.481649   \n",
      "...                                    ...                                ...                                ...                                ...                                 ...                                ...                                      ...   \n",
      "999997                            0.693857                           0.073008                           0.079591                           0.423677                            0.306143                           0.073008                                 0.661163   \n",
      "999998                            0.736904                           0.117495                           0.013918                           0.411593                            0.263096                           0.117495                                 0.667772   \n",
      "999999                            0.704308                           0.122781                           0.009633                           0.745547                            0.295692                           0.122781                                 0.481649   \n",
      "\n",
      "        product_category_gender0_kfold_mean_max  product_category_gender0_kfold_mean_mean  product_category_gender0_kfold_mean_std  product_category_gender1_kfold_mean_min  product_category_gender1_kfold_mean_max  product_category_gender1_kfold_mean_mean  \\\n",
      "0                                      0.708423                                  0.674417                                 0.017565                                 0.291577                                 0.338837                                  0.325583   \n",
      "1                                      0.708423                                  0.694384                                 0.023177                                 0.291577                                 0.417606                                  0.305616   \n",
      "2                                      0.708423                                  0.682940                                 0.039604                                 0.291577                                 0.518351                                  0.317060   \n",
      "...                                         ...                                       ...                                      ...                                      ...                                      ...                                       ...   \n",
      "999997                                 0.708423                                  0.690102                                 0.020266                                 0.291577                                 0.338837                                  0.309898   \n",
      "999998                                 0.708423                                  0.692476                                 0.016978                                 0.291577                                 0.332228                                  0.307524   \n",
      "999999                                 0.708423                                  0.661868                                 0.061728                                 0.291577                                 0.518351                                  0.338132   \n",
      "\n",
      "        product_category_gender1_kfold_mean_std  \n",
      "0                                      0.017565  \n",
      "1                                      0.023177  \n",
      "2                                      0.039604  \n",
      "...                                         ...  \n",
      "999997                                 0.020266  \n",
      "999998                                 0.016978  \n",
      "999999                                 0.061728  \n",
      "\n",
      "[1000000 rows x 26 columns]\n"
     ]
    }
   ],
   "source": [
    "test_df = merge_features(test_df,'test_user_target_encoder_product_category_gender.pkl',True)"
   ]
  },
  {
   "cell_type": "code",
   "execution_count": 7,
   "metadata": {},
   "outputs": [
    {
     "name": "stdout",
     "output_type": "stream",
     "text": [
      "          user_id  click_times_sum  click_times_count  ad_id_nunique  product_id_nunique  product_category_nunique  advertiser_id_nunique  industry_nunique  click_times_sum_log  click_times_count_log  product_id_gender0_kfold_mean_min  product_id_gender0_kfold_mean_max  \\\n",
      "0       3000001.0             11.0               11.0           11.0                 7.0                       4.0                   10.0               5.0             2.397895               2.397895                           0.506373                           0.995902   \n",
      "1       3000002.0             65.0               61.0           49.0                24.0                       5.0                   41.0              21.0             4.174387               4.110874                           0.230769                           0.803830   \n",
      "2       3000003.0             36.0               36.0           35.0                15.0                       5.0                   29.0              17.0             3.583519               3.583519                           0.475446                           0.800000   \n",
      "...           ...              ...                ...            ...                 ...                       ...                    ...               ...                  ...                    ...                                ...                                ...   \n",
      "999997  3999998.0             20.0               19.0           18.0                10.0                       5.0                   16.0              13.0             2.995732               2.944439                           0.576323                           0.920409   \n",
      "999998  3999999.0             86.0               80.0           79.0                26.0                       4.0                   63.0              29.0             4.454347               4.382027                           0.588407                           0.986082   \n",
      "999999  4000000.0             67.0               63.0           63.0                27.0                       6.0                   59.0              27.0             4.204693               4.143135                           0.254453                           0.990367   \n",
      "\n",
      "        product_id_gender0_kfold_mean_mean  product_id_gender0_kfold_mean_std  product_id_gender1_kfold_mean_min  product_id_gender1_kfold_mean_max  product_id_gender1_kfold_mean_mean  product_id_gender1_kfold_mean_std  product_category_gender0_kfold_mean_min  \\\n",
      "0                                 0.750753                           0.160663                           0.004098                           0.493627                            0.249247                           0.160663                                 0.661163   \n",
      "1                                 0.625404                           0.089834                           0.196170                           0.769231                            0.374596                           0.089834                                 0.582394   \n",
      "2                                 0.672138                           0.044424                           0.200000                           0.524554                            0.327862                           0.044424                                 0.481649   \n",
      "...                                    ...                                ...                                ...                                ...                                 ...                                ...                                      ...   \n",
      "999997                            0.693857                           0.073008                           0.079591                           0.423677                            0.306143                           0.073008                                 0.661163   \n",
      "999998                            0.736904                           0.117495                           0.013918                           0.411593                            0.263096                           0.117495                                 0.667772   \n",
      "999999                            0.704308                           0.122781                           0.009633                           0.745547                            0.295692                           0.122781                                 0.481649   \n",
      "\n",
      "        product_category_gender0_kfold_mean_max  product_category_gender0_kfold_mean_mean  product_category_gender0_kfold_mean_std  product_category_gender1_kfold_mean_min  product_category_gender1_kfold_mean_max  product_category_gender1_kfold_mean_mean  \\\n",
      "0                                      0.708423                                  0.674417                                 0.017565                                 0.291577                                 0.338837                                  0.325583   \n",
      "1                                      0.708423                                  0.694384                                 0.023177                                 0.291577                                 0.417606                                  0.305616   \n",
      "2                                      0.708423                                  0.682940                                 0.039604                                 0.291577                                 0.518351                                  0.317060   \n",
      "...                                         ...                                       ...                                      ...                                      ...                                      ...                                       ...   \n",
      "999997                                 0.708423                                  0.690102                                 0.020266                                 0.291577                                 0.338837                                  0.309898   \n",
      "999998                                 0.708423                                  0.692476                                 0.016978                                 0.291577                                 0.332228                                  0.307524   \n",
      "999999                                 0.708423                                  0.661868                                 0.061728                                 0.291577                                 0.518351                                  0.338132   \n",
      "\n",
      "        product_category_gender1_kfold_mean_std  advertiser_id_gender0_kfold_mean_min  advertiser_id_gender0_kfold_mean_max  advertiser_id_gender0_kfold_mean_mean  advertiser_id_gender0_kfold_mean_std  advertiser_id_gender1_kfold_mean_min  advertiser_id_gender1_kfold_mean_max  \\\n",
      "0                                      0.017565                              0.495204                              0.996310                               0.791741                              0.213686                              0.003690                              0.504796   \n",
      "1                                      0.023177                              0.139831                              0.808277                               0.551568                              0.174184                              0.191723                              0.860169   \n",
      "2                                      0.039604                              0.502557                              0.853163                               0.675086                              0.067183                              0.146837                              0.497443   \n",
      "...                                         ...                                   ...                                   ...                                    ...                                   ...                                   ...                                   ...   \n",
      "999997                                 0.020266                              0.544408                              0.984742                               0.725746                              0.119567                              0.015258                              0.455592   \n",
      "999998                                 0.016978                              0.480181                              1.000000                               0.775345                              0.132385                              0.000000                              0.519819   \n",
      "999999                                 0.061728                              0.217368                              0.995805                               0.774121                              0.168577                              0.004195                              0.782632   \n",
      "\n",
      "        advertiser_id_gender1_kfold_mean_mean  advertiser_id_gender1_kfold_mean_std  \n",
      "0                                    0.208259                              0.213686  \n",
      "1                                    0.448432                              0.174184  \n",
      "2                                    0.324914                              0.067183  \n",
      "...                                       ...                                   ...  \n",
      "999997                               0.274254                              0.119567  \n",
      "999998                               0.224655                              0.132385  \n",
      "999999                               0.225879                              0.168577  \n",
      "\n",
      "[1000000 rows x 34 columns]\n"
     ]
    }
   ],
   "source": [
    "test_df = merge_features(test_df,'test_user_target_encoder_advertiser_id_gender.pkl',True)"
   ]
  },
  {
   "cell_type": "code",
   "execution_count": 8,
   "metadata": {},
   "outputs": [
    {
     "name": "stdout",
     "output_type": "stream",
     "text": [
      "          user_id  click_times_sum  click_times_count  ad_id_nunique  product_id_nunique  product_category_nunique  advertiser_id_nunique  industry_nunique  click_times_sum_log  click_times_count_log  product_id_gender0_kfold_mean_min  product_id_gender0_kfold_mean_max  \\\n",
      "0       3000001.0             11.0               11.0           11.0                 7.0                       4.0                   10.0               5.0             2.397895               2.397895                           0.506373                           0.995902   \n",
      "1       3000002.0             65.0               61.0           49.0                24.0                       5.0                   41.0              21.0             4.174387               4.110874                           0.230769                           0.803830   \n",
      "2       3000003.0             36.0               36.0           35.0                15.0                       5.0                   29.0              17.0             3.583519               3.583519                           0.475446                           0.800000   \n",
      "...           ...              ...                ...            ...                 ...                       ...                    ...               ...                  ...                    ...                                ...                                ...   \n",
      "999997  3999998.0             20.0               19.0           18.0                10.0                       5.0                   16.0              13.0             2.995732               2.944439                           0.576323                           0.920409   \n",
      "999998  3999999.0             86.0               80.0           79.0                26.0                       4.0                   63.0              29.0             4.454347               4.382027                           0.588407                           0.986082   \n",
      "999999  4000000.0             67.0               63.0           63.0                27.0                       6.0                   59.0              27.0             4.204693               4.143135                           0.254453                           0.990367   \n",
      "\n",
      "        product_id_gender0_kfold_mean_mean  product_id_gender0_kfold_mean_std  product_id_gender1_kfold_mean_min  product_id_gender1_kfold_mean_max  product_id_gender1_kfold_mean_mean  product_id_gender1_kfold_mean_std  product_category_gender0_kfold_mean_min  \\\n",
      "0                                 0.750753                           0.160663                           0.004098                           0.493627                            0.249247                           0.160663                                 0.661163   \n",
      "1                                 0.625404                           0.089834                           0.196170                           0.769231                            0.374596                           0.089834                                 0.582394   \n",
      "2                                 0.672138                           0.044424                           0.200000                           0.524554                            0.327862                           0.044424                                 0.481649   \n",
      "...                                    ...                                ...                                ...                                ...                                 ...                                ...                                      ...   \n",
      "999997                            0.693857                           0.073008                           0.079591                           0.423677                            0.306143                           0.073008                                 0.661163   \n",
      "999998                            0.736904                           0.117495                           0.013918                           0.411593                            0.263096                           0.117495                                 0.667772   \n",
      "999999                            0.704308                           0.122781                           0.009633                           0.745547                            0.295692                           0.122781                                 0.481649   \n",
      "\n",
      "        product_category_gender0_kfold_mean_max  product_category_gender0_kfold_mean_mean  product_category_gender0_kfold_mean_std  product_category_gender1_kfold_mean_min  product_category_gender1_kfold_mean_max  product_category_gender1_kfold_mean_mean  \\\n",
      "0                                      0.708423                                  0.674417                                 0.017565                                 0.291577                                 0.338837                                  0.325583   \n",
      "1                                      0.708423                                  0.694384                                 0.023177                                 0.291577                                 0.417606                                  0.305616   \n",
      "2                                      0.708423                                  0.682940                                 0.039604                                 0.291577                                 0.518351                                  0.317060   \n",
      "...                                         ...                                       ...                                      ...                                      ...                                      ...                                       ...   \n",
      "999997                                 0.708423                                  0.690102                                 0.020266                                 0.291577                                 0.338837                                  0.309898   \n",
      "999998                                 0.708423                                  0.692476                                 0.016978                                 0.291577                                 0.332228                                  0.307524   \n",
      "999999                                 0.708423                                  0.661868                                 0.061728                                 0.291577                                 0.518351                                  0.338132   \n",
      "\n",
      "        product_category_gender1_kfold_mean_std  advertiser_id_gender0_kfold_mean_min  advertiser_id_gender0_kfold_mean_max  advertiser_id_gender0_kfold_mean_mean  advertiser_id_gender0_kfold_mean_std  advertiser_id_gender1_kfold_mean_min  advertiser_id_gender1_kfold_mean_max  \\\n",
      "0                                      0.017565                              0.495204                              0.996310                               0.791741                              0.213686                              0.003690                              0.504796   \n",
      "1                                      0.023177                              0.139831                              0.808277                               0.551568                              0.174184                              0.191723                              0.860169   \n",
      "2                                      0.039604                              0.502557                              0.853163                               0.675086                              0.067183                              0.146837                              0.497443   \n",
      "...                                         ...                                   ...                                   ...                                    ...                                   ...                                   ...                                   ...   \n",
      "999997                                 0.020266                              0.544408                              0.984742                               0.725746                              0.119567                              0.015258                              0.455592   \n",
      "999998                                 0.016978                              0.480181                              1.000000                               0.775345                              0.132385                              0.000000                              0.519819   \n",
      "999999                                 0.061728                              0.217368                              0.995805                               0.774121                              0.168577                              0.004195                              0.782632   \n",
      "\n",
      "        advertiser_id_gender1_kfold_mean_mean  advertiser_id_gender1_kfold_mean_std  industry_gender0_kfold_mean_min  industry_gender0_kfold_mean_max  industry_gender0_kfold_mean_mean  industry_gender0_kfold_mean_std  industry_gender1_kfold_mean_min  \\\n",
      "0                                    0.208259                              0.213686                         0.621762                         0.950098                          0.720718                         0.141786                         0.049902   \n",
      "1                                    0.448432                              0.174184                         0.323817                         0.766963                          0.608019                         0.090551                         0.233037   \n",
      "2                                    0.324914                              0.067183                         0.441955                         0.860794                          0.662379                         0.073809                         0.139206   \n",
      "...                                       ...                                   ...                              ...                              ...                               ...                              ...                              ...   \n",
      "999997                               0.274254                              0.119567                         0.572708                         0.950098                          0.702477                         0.098011                         0.049902   \n",
      "999998                               0.224655                              0.132385                         0.518814                         0.958688                          0.722854                         0.110852                         0.041312   \n",
      "999999                               0.225879                              0.168577                         0.504972                         0.950098                          0.687206                         0.114959                         0.049902   \n",
      "\n",
      "        industry_gender1_kfold_mean_max  industry_gender1_kfold_mean_mean  industry_gender1_kfold_mean_std  \n",
      "0                              0.378238                          0.279282                         0.141786  \n",
      "1                              0.676183                          0.391981                         0.090551  \n",
      "2                              0.558045                          0.337621                         0.073809  \n",
      "...                                 ...                               ...                              ...  \n",
      "999997                         0.427292                          0.297523                         0.098011  \n",
      "999998                         0.481186                          0.277146                         0.110852  \n",
      "999999                         0.495028                          0.312794                         0.114959  \n",
      "\n",
      "[1000000 rows x 42 columns]\n"
     ]
    }
   ],
   "source": [
    "test_df = merge_features(test_df,'test_user_target_encoder_industry_gender.pkl',True)"
   ]
  },
  {
   "cell_type": "code",
   "execution_count": 9,
   "metadata": {},
   "outputs": [],
   "source": [
    "\n",
    "drop_list = ['user_id','click_times_sum','click_times_count']\n",
    "test_df = test_df.drop(drop_list, axis=1)\n"
   ]
  },
  {
   "cell_type": "code",
   "execution_count": 10,
   "metadata": {},
   "outputs": [
    {
     "name": "stdout",
     "output_type": "stream",
     "text": [
      "Feature importances: [744, 852, 395, 719, 951, 849, 704, 942, 1262, 1060, 838, 959, 1116, 916, 666, 685, 565, 1453, 1326, 235, 360, 1002, 554, 1252, 1702, 1182, 942, 1312, 1545, 1259, 803, 1378, 1327, 1392, 1266, 898, 813, 1029, 635]\n"
     ]
    }
   ],
   "source": [
    "\n",
    "gbm = lgb.Booster(model_file='model/gender_target_encode.model')\n",
    "print('Feature importances:', list(gbm.feature_importance()))\n"
   ]
  },
  {
   "cell_type": "code",
   "execution_count": 11,
   "metadata": {},
   "outputs": [
    {
     "name": "stdout",
     "output_type": "stream",
     "text": [
      "[[1. 0.]\n",
      " [0. 1.]\n",
      " [1. 0.]\n",
      " ...\n",
      " [1. 0.]\n",
      " [1. 0.]\n",
      " [1. 0.]]\n",
      "        user_id  predicted_gender\n",
      "0       3000001                 1\n",
      "1       3000002                 2\n",
      "2       3000003                 1\n",
      "...         ...               ...\n",
      "999997  3999998                 1\n",
      "999998  3999999                 1\n",
      "999999  4000000                 1\n",
      "\n",
      "[1000000 rows x 2 columns]\n",
      "1    680123\n",
      "2    319877\n",
      "Name: predicted_gender, dtype: int64\n"
     ]
    }
   ],
   "source": [
    "y_pred = gbm.predict(test_df.astype(float))\n",
    "for i in range(len(y_pred)):\n",
    "        max_value=max(y_pred[i])\n",
    "        for j in range(len(y_pred[i])):\n",
    "            if max_value==y_pred[i][j]:\n",
    "                y_pred[i][j]=1\n",
    "            else:\n",
    "                y_pred[i][j]=0\n",
    "print(y_pred)             \n",
    "\n",
    "ret = []\n",
    "for user_id,age in zip(range(1000000),y_pred):\n",
    "    ret.append([int(user_id+3000001),int(age.tolist().index(1) + 1)])\n",
    "\n",
    "ret_df = pd.DataFrame(ret,columns=['user_id','predicted_gender'])\n",
    "ret_df.to_pickle(\"gender_target_out1.pkl\")\n",
    "print(ret_df)\n",
    "print(ret_df['predicted_gender'].value_counts())"
   ]
  },
  {
   "cell_type": "code",
   "execution_count": 12,
   "metadata": {},
   "outputs": [],
   "source": [
    "age_df = pd.read_pickle('age_target_out1.pkl')[['user_id','predicted_age']]\n",
    "gender_df = pd.read_pickle('gender_emb_out.pkl')[['user_id','predicted_gender']]\n",
    "\n",
    "output_df = age_df.merge(gender_df,on='user_id')\n",
    "output_df.to_csv(\"submission_target.csv\",index=False)"
   ]
  }
 ],
 "metadata": {
  "kernelspec": {
   "display_name": "Python 3",
   "language": "python",
   "name": "python3"
  },
  "language_info": {
   "codemirror_mode": {
    "name": "ipython",
    "version": 3
   },
   "file_extension": ".py",
   "mimetype": "text/x-python",
   "name": "python",
   "nbconvert_exporter": "python",
   "pygments_lexer": "ipython3",
   "version": "3.7.3"
  }
 },
 "nbformat": 4,
 "nbformat_minor": 2
}
