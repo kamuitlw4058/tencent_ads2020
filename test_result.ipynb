{
 "cells": [
  {
   "cell_type": "code",
   "execution_count": 1,
   "metadata": {},
   "outputs": [],
   "source": [
    "import lightgbm as lgb\n",
    "import os\n",
    "import math\n",
    "import pandas as pd\n",
    "import numpy as np\n",
    "import random\n",
    "import gc\n",
    "from datetime import datetime\n",
    "from tqdm import tqdm\n",
    "import matplotlib.pyplot as plt\n",
    "from sklearn.metrics import classification_report\n",
    "from sklearn.metrics import precision_score\n",
    "from sklearn.model_selection import train_test_split\n",
    "from sklearn.preprocessing import  OneHotEncoder\n",
    "import cmath\n",
    "\n",
    "np.random.seed(2019)\n",
    "random.seed(2019)\n",
    "pd.set_option('display.max_rows', 4)\n",
    "pd.set_option('display.max_columns', 10)\n",
    "pd.set_option('display.width', 280)\n",
    "pd.set_option('display.max_colwidth', 150)\n",
    "data_path = '/data/workspace/kimi/tencent_ads/2020/dataset'\n",
    "preprocess_path = 'preprocess'"
   ]
  },
  {
   "cell_type": "code",
   "execution_count": null,
   "metadata": {},
   "outputs": [],
   "source": []
  },
  {
   "cell_type": "code",
   "execution_count": 8,
   "metadata": {},
   "outputs": [
    {
     "name": "stdout",
     "output_type": "stream",
     "text": [
      "        user_id  predicted_age                                                                                                                                        lgb_age_precent\n",
      "0       3000001              3  [0.0028889586486444854, 0.045188251216377734, 0.60632804379472, 0.3054728934737454, 0.03678698479029757, 0.0018154506690055414, 0.0012171000687226...\n",
      "1       3000002              7  [0.0017253463481559117, 0.0026205938752497967, 0.006022812537324088, 0.006128980281137767, 0.009692144732614736, 0.07299333260728408, 0.5842831473...\n",
      "...         ...            ...                                                                                                                                                    ...\n",
      "999998  3999999              2  [0.09551533442342093, 0.5832584538815928, 0.2947450410770101, 0.016546191858453668, 0.0038013669310788473, 0.002146904157632699, 0.000987487043077...\n",
      "999999  4000000              4  [0.01218308852772241, 0.05399057145956054, 0.05036616997277871, 0.4063970559469065, 0.3117204381909871, 0.14279503751492278, 0.018153935609211483,...\n",
      "\n",
      "[1000000 rows x 3 columns]\n",
      "        user_id  predicted_age                                                                                                                              age_percent\n",
      "0       3000001              3     [0.00094938726, 0.030507457, 0.7374537, 0.2018274, 0.026994014, 0.0019912398, 0.000240724, 3.341317e-05, 1.9608422e-06, 7.18248e-07]\n",
      "1       3000002              8   [0.00027378518, 0.00012342796, 0.00027071242, 0.0002558099, 0.009641608, 0.044181608, 0.35961723, 0.52451736, 0.05347052, 0.007647908]\n",
      "...         ...            ...                                                                                                                                      ...\n",
      "999998  3999999              2  [0.03182201, 0.6542797, 0.3032294, 0.009348201, 0.0011368439, 0.00010577795, 5.0857525e-05, 2.516624e-05, 1.4698018e-06, 5.2580714e-07]\n",
      "999999  4000000              5           [0.01257553, 0.031715017, 0.102768734, 0.2079633, 0.37220874, 0.15168242, 0.08190191, 0.036039438, 0.0026181461, 0.0005267383]\n",
      "\n",
      "[1000000 rows x 3 columns]\n"
     ]
    }
   ],
   "source": [
    "valid_lgb_df = pd.read_pickle(f'output/lgb_test_output.pkl')\n",
    "print(valid_lgb_df)\n",
    "valid_trans_df = pd.read_pickle(f'output/transform_test_ret.pkl')\n",
    "valid_trans_df['user_id'] = valid_trans_df['user_id'].map(lambda row: int(row) + 2280000)\n",
    "print(valid_trans_df)"
   ]
  },
  {
   "cell_type": "code",
   "execution_count": 10,
   "metadata": {},
   "outputs": [
    {
     "name": "stdout",
     "output_type": "stream",
     "text": [
      "        user_id  predicted_age                                                                                                                              age_percent  trans_age0  trans_age1  ...  trans_age5  trans_age6  trans_age7  trans_age8    trans_age9\n",
      "0       3000001              3     [0.00094938726, 0.030507457, 0.7374537, 0.2018274, 0.026994014, 0.0019912398, 0.000240724, 3.341317e-05, 1.9608422e-06, 7.18248e-07]    0.000949    0.030507  ...    0.001991    0.000241    0.000033    0.000002  7.182480e-07\n",
      "1       3000002              8   [0.00027378518, 0.00012342796, 0.00027071242, 0.0002558099, 0.009641608, 0.044181608, 0.35961723, 0.52451736, 0.05347052, 0.007647908]    0.000274    0.000123  ...    0.044182    0.359617    0.524517    0.053471  7.647908e-03\n",
      "...         ...            ...                                                                                                                                      ...         ...         ...  ...         ...         ...         ...         ...           ...\n",
      "999998  3999999              2  [0.03182201, 0.6542797, 0.3032294, 0.009348201, 0.0011368439, 0.00010577795, 5.0857525e-05, 2.516624e-05, 1.4698018e-06, 5.2580714e-07]    0.031822    0.654280  ...    0.000106    0.000051    0.000025    0.000001  5.258071e-07\n",
      "999999  4000000              5           [0.01257553, 0.031715017, 0.102768734, 0.2079633, 0.37220874, 0.15168242, 0.08190191, 0.036039438, 0.0026181461, 0.0005267383]    0.012576    0.031715  ...    0.151682    0.081902    0.036039    0.002618  5.267383e-04\n",
      "\n",
      "[1000000 rows x 13 columns]\n",
      "        user_id  predicted_age                                                                                                                                        lgb_age_precent  lgb_age0  lgb_age1  ...  lgb_age5  lgb_age6  lgb_age7  lgb_age8  lgb_age9\n",
      "0       3000001              3  [0.0028889586486444854, 0.045188251216377734, 0.60632804379472, 0.3054728934737454, 0.03678698479029757, 0.0018154506690055414, 0.0012171000687226...  0.002889  0.045188  ...  0.001815  0.001217  0.000206  0.000077  0.000019\n",
      "1       3000002              7  [0.0017253463481559117, 0.0026205938752497967, 0.006022812537324088, 0.006128980281137767, 0.009692144732614736, 0.07299333260728408, 0.5842831473...  0.001725  0.002621  ...  0.072993  0.584283  0.301634  0.013345  0.001555\n",
      "...         ...            ...                                                                                                                                                    ...       ...       ...  ...       ...       ...       ...       ...       ...\n",
      "999998  3999999              2  [0.09551533442342093, 0.5832584538815928, 0.2947450410770101, 0.016546191858453668, 0.0038013669310788473, 0.002146904157632699, 0.000987487043077...  0.095515  0.583258  ...  0.002147  0.000987  0.002499  0.000444  0.000056\n",
      "999999  4000000              4  [0.01218308852772241, 0.05399057145956054, 0.05036616997277871, 0.4063970559469065, 0.3117204381909871, 0.14279503751492278, 0.018153935609211483,...  0.012183  0.053991  ...  0.142795  0.018154  0.003458  0.000785  0.000151\n",
      "\n",
      "[1000000 rows x 13 columns]\n",
      "        user_id  trans_age0  trans_age1  trans_age2  trans_age3  ...  lgb_age5  lgb_age6  lgb_age7  lgb_age8  lgb_age9\n",
      "0       3000001    0.000949    0.030507    0.737454    0.201827  ...  0.001815  0.001217  0.000206  0.000077  0.000019\n",
      "1       3000002    0.000274    0.000123    0.000271    0.000256  ...  0.072993  0.584283  0.301634  0.013345  0.001555\n",
      "...         ...         ...         ...         ...         ...  ...       ...       ...       ...       ...       ...\n",
      "999998  3999999    0.031822    0.654280    0.303229    0.009348  ...  0.002147  0.000987  0.002499  0.000444  0.000056\n",
      "999999  4000000    0.012576    0.031715    0.102769    0.207963  ...  0.142795  0.018154  0.003458  0.000785  0.000151\n",
      "\n",
      "[1000000 rows x 21 columns]\n"
     ]
    }
   ],
   "source": [
    "valid_trans_df[[f'trans_age{i}' for i in range(10)]] = pd.DataFrame(valid_trans_df.age_percent.values.tolist(), index= valid_trans_df.index)\n",
    "print(valid_trans_df)\n",
    "valid_lgb_df[[f'lgb_age{i}' for i in range(10)]] = pd.DataFrame(valid_lgb_df.lgb_age_precent.values.tolist(), index= valid_lgb_df.index)\n",
    "print(valid_lgb_df)\n",
    "valid_df = valid_trans_df[['user_id'] + [f'trans_age{i}' for i in range(10)]].merge(valid_lgb_df[['user_id'] + [f'lgb_age{i}' for i in range(10)]],on='user_id')\n",
    "\n",
    "print(valid_df)"
   ]
  },
  {
   "cell_type": "code",
   "execution_count": 11,
   "metadata": {},
   "outputs": [
    {
     "name": "stdout",
     "output_type": "stream",
     "text": [
      "        trans_age0  trans_age1  trans_age2  trans_age3  trans_age4  ...  lgb_age5  lgb_age6  lgb_age7  lgb_age8  lgb_age9\n",
      "0         0.000949    0.030507    0.737454    0.201827    0.026994  ...  0.001815  0.001217  0.000206  0.000077  0.000019\n",
      "1         0.000274    0.000123    0.000271    0.000256    0.009642  ...  0.072993  0.584283  0.301634  0.013345  0.001555\n",
      "...            ...         ...         ...         ...         ...  ...       ...       ...       ...       ...       ...\n",
      "999998    0.031822    0.654280    0.303229    0.009348    0.001137  ...  0.002147  0.000987  0.002499  0.000444  0.000056\n",
      "999999    0.012576    0.031715    0.102769    0.207963    0.372209  ...  0.142795  0.018154  0.003458  0.000785  0.000151\n",
      "\n",
      "[1000000 rows x 20 columns]\n"
     ]
    }
   ],
   "source": [
    "\n",
    "drop_list = ['user_id']\n",
    "\n",
    "\n",
    "valid_x = valid_df.drop(drop_list, axis=1)\n",
    "\n",
    "\n",
    "print(valid_x)\n",
    "\n",
    "\n",
    "\n"
   ]
  },
  {
   "cell_type": "code",
   "execution_count": 12,
   "metadata": {},
   "outputs": [
    {
     "name": "stdout",
     "output_type": "stream",
     "text": [
      "Feature importances: [2451, 2116, 2305, 2512, 2335, 2407, 2080, 2132, 2151, 2207, 2554, 2522, 2759, 2657, 2572, 2335, 2288, 2418, 2210, 2349]\n"
     ]
    }
   ],
   "source": [
    "\n",
    "gbm = lgb.Booster(model_file='model/age_result.model')\n",
    "print('Feature importances:', list(gbm.feature_importance()))"
   ]
  },
  {
   "cell_type": "code",
   "execution_count": 13,
   "metadata": {},
   "outputs": [
    {
     "name": "stdout",
     "output_type": "stream",
     "text": [
      "[[0. 0. 1. ... 0. 0. 0.]\n",
      " [0. 0. 0. ... 0. 0. 0.]\n",
      " [0. 0. 1. ... 0. 0. 0.]\n",
      " ...\n",
      " [0. 1. 0. ... 0. 0. 0.]\n",
      " [0. 1. 0. ... 0. 0. 0.]\n",
      " [0. 0. 0. ... 0. 0. 0.]]\n"
     ]
    }
   ],
   "source": [
    "y_pred = gbm.predict(valid_x.astype(float))\n",
    "y_pred_precent = y_pred.copy()\n",
    "for i in range(len(y_pred)):\n",
    "        max_value=max(y_pred[i])\n",
    "        for j in range(len(y_pred[i])):\n",
    "            if max_value==y_pred[i][j]:\n",
    "                y_pred[i][j]=1\n",
    "            else:\n",
    "                y_pred[i][j]=0\n",
    "print(y_pred)             \n",
    "\n",
    "ret = []\n",
    "for user_id,age in zip(range(1000000),y_pred):\n",
    "    ret.append([int(user_id+3000001),int(age.tolist().index(1) + 1)])\n",
    "\n",
    "ret_df = pd.DataFrame(ret,columns=['user_id','predicted_age'])\n",
    "ret_df.to_pickle(\"output/lgb_age_result_output.pkl\")\n",
    "print(ret_df)"
   ]
  },
  {
   "cell_type": "code",
   "execution_count": null,
   "metadata": {},
   "outputs": [],
   "source": []
  }
 ],
 "metadata": {
  "kernelspec": {
   "display_name": "Python 3",
   "language": "python",
   "name": "python3"
  },
  "language_info": {
   "codemirror_mode": {
    "name": "ipython",
    "version": 3
   },
   "file_extension": ".py",
   "mimetype": "text/x-python",
   "name": "python",
   "nbconvert_exporter": "python",
   "pygments_lexer": "ipython3",
   "version": "3.7.3"
  }
 },
 "nbformat": 4,
 "nbformat_minor": 4
}
