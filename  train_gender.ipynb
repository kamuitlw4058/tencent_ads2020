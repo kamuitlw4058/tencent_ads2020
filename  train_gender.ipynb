{
 "cells": [
  {
   "cell_type": "code",
   "execution_count": 1,
   "metadata": {},
   "outputs": [],
   "source": [
    "import lightgbm as lgb\n",
    "import os\n",
    "import pandas as pd\n",
    "import numpy as np\n",
    "import random\n",
    "import gc\n",
    "from datetime import datetime\n",
    "from tqdm import tqdm\n",
    "import matplotlib.pyplot as plt\n",
    "from sklearn.metrics import classification_report\n",
    "from sklearn.metrics import precision_score\n",
    "\n",
    "np.random.seed(2019)\n",
    "random.seed(2019)\n",
    "pd.set_option('display.max_rows', 50)\n",
    "pd.set_option('display.max_columns', 500)\n",
    "pd.set_option('display.width', 280)\n",
    "pd.set_option('display.max_colwidth', 150)\n",
    "data_path = '/data/workspace/kimi/tencent_ads/2020/dataset'"
   ]
  },
  {
   "cell_type": "code",
   "execution_count": 6,
   "metadata": {},
   "outputs": [],
   "source": [
    "train_df =pd.read_pickle('train.pkl')\n",
    "train_df.replace(\"\\\\N\",-1,inplace=True)\n",
    "train_df=train_df.astype(float,inplace=True)\n",
    "train_df['age']  = train_df['age'] -1\n",
    "train_df['gender']  = train_df['gender'] -1"
   ]
  },
  {
   "cell_type": "code",
   "execution_count": 14,
   "metadata": {},
   "outputs": [
    {
     "name": "stdout",
     "output_type": "stream",
     "text": [
      "         user_id  max_clicked_industry  max_clicked_advertiser_id  gender\n",
      "0            1.0                 326.0                      188.0     0.0\n",
      "1            2.0                   6.0                    42272.0     0.0\n",
      "2            3.0                 322.0                     8371.0     1.0\n",
      "3            4.0                  -1.0                     8877.0     0.0\n",
      "4            5.0                   6.0                     2862.0     0.0\n",
      "5            6.0                  54.0                     7115.0     0.0\n",
      "6            7.0                  54.0                     2421.0     1.0\n",
      "7            8.0                   6.0                     6783.0     0.0\n",
      "8            9.0                 329.0                    21035.0     0.0\n",
      "9           10.0                   6.0                    14681.0     1.0\n",
      "10          11.0                   6.0                    14681.0     1.0\n",
      "11          12.0                   6.0                    21451.0     0.0\n",
      "12          13.0                 319.0                    13792.0     1.0\n",
      "13          14.0                   6.0                     5502.0     0.0\n",
      "14          15.0                   6.0                      918.0     1.0\n",
      "15          16.0                 317.0                    25203.0     1.0\n",
      "16          17.0                   6.0                    41347.0     0.0\n",
      "17          18.0                 318.0                    22885.0     1.0\n",
      "18          19.0                 247.0                    19065.0     0.0\n",
      "19          20.0                   6.0                     8520.0     0.0\n",
      "20          21.0                 247.0                    10334.0     1.0\n",
      "21          22.0                  60.0                     1106.0     0.0\n",
      "22          23.0                 319.0                    21599.0     1.0\n",
      "23          24.0                 317.0                    14681.0     1.0\n",
      "24          25.0                   6.0                    13732.0     1.0\n",
      "...          ...                   ...                        ...     ...\n",
      "899975  899976.0                   6.0                    27851.0     1.0\n",
      "899976  899977.0                  60.0                    29841.0     1.0\n",
      "899977  899978.0                  -1.0                      828.0     0.0\n",
      "899978  899979.0                   6.0                      881.0     1.0\n",
      "899979  899980.0                 322.0                    35086.0     0.0\n",
      "899980  899981.0                   6.0                      918.0     1.0\n",
      "899981  899982.0                   6.0                    22885.0     0.0\n",
      "899982  899983.0                 200.0                    10989.0     0.0\n",
      "899983  899984.0                 319.0                    22918.0     0.0\n",
      "899984  899985.0                 247.0                    10986.0     0.0\n",
      "899985  899986.0                   6.0                    22885.0     1.0\n",
      "899986  899987.0                 202.0                    10989.0     0.0\n",
      "899987  899988.0                   6.0                     8371.0     0.0\n",
      "899988  899989.0                   6.0                     2623.0     0.0\n",
      "899989  899990.0                 247.0                      918.0     0.0\n",
      "899990  899991.0                 247.0                    14681.0     0.0\n",
      "899991  899992.0                  54.0                    10986.0     0.0\n",
      "899992  899993.0                   6.0                    40575.0     1.0\n",
      "899993  899994.0                 322.0                    14681.0     1.0\n",
      "899994  899995.0                   6.0                    14681.0     1.0\n",
      "899995  899996.0                  54.0                     6433.0     0.0\n",
      "899996  899997.0                 321.0                    24274.0     1.0\n",
      "899997  899998.0                   6.0                    14681.0     1.0\n",
      "899998  899999.0                 317.0                    10690.0     0.0\n",
      "899999  900000.0                 147.0                    14681.0     1.0\n",
      "\n",
      "[900000 rows x 4 columns]\n"
     ]
    }
   ],
   "source": [
    "final_train_x_df = train_df.drop(['active_days', 'click_times_total','age','user_id','max_clicked_industry_cnt','max_clicked_advertiser_cnt','max_clicked_industry_ratio','max_clicked_advertiser_ratio'], axis=1)\n",
    "final_train_y_df = train_df['gender']\n",
    "train_data_show_df =train_df.drop(['active_days', 'click_times_total','age','max_clicked_industry_cnt','clicked_industry','clicked_advertiser','max_clicked_advertiser_cnt','max_clicked_industry_ratio','max_clicked_advertiser_ratio'], axis=1)\n",
    "print(train_data_show_df)\n",
    "                                \n",
    "#train_data = lgb.Dataset(final_train_x_df, label=final_train_y_df, feature_name=[   'max_clicked_industry', 'max_clicked_advertiser_id' ], categorical_feature=['max_clicked_industry','max_clicked_advertiser_id'])\n",
    "train_data = lgb.Dataset(final_train_x_df, label=final_train_y_df, feature_name=[ 'active_days', 'click_times_total', 'max_clicked_industry', 'max_clicked_industry_cnt', 'clicked_industry', 'max_clicked_advertiser_id', 'max_clicked_advertiser_cnt', 'clicked_advertiser',  'max_clicked_industry_ratio', 'max_clicked_advertiser_ratio'], categorical_feature=['max_clicked_industry','max_clicked_advertiser_id'])\n"
   ]
  },
  {
   "cell_type": "code",
   "execution_count": 20,
   "metadata": {},
   "outputs": [
    {
     "name": "stdout",
     "output_type": "stream",
     "text": [
      "Starting training...\n"
     ]
    },
    {
     "name": "stderr",
     "output_type": "stream",
     "text": [
      "/home/ubuntu/anaconda3/lib/python3.7/site-packages/lightgbm/basic.py:1205: UserWarning: Using categorical_feature in Dataset.\n",
      "  warnings.warn('Using categorical_feature in Dataset.')\n"
     ]
    },
    {
     "name": "stdout",
     "output_type": "stream",
     "text": [
      "<lightgbm.basic.Booster object at 0x7f078f299e80>\n"
     ]
    }
   ],
   "source": [
    "params = {\n",
    "    #'boosting_type': 'gbdt',\n",
    "    'objective': 'softmax',\n",
    "    'num_class':2,\n",
    "    'metric': 'multi_error',\n",
    "    'num_leaves': 31,\n",
    "    'learning_rate': 0.1,\n",
    "    #'feature_fraction': 0.9,\n",
    "    #'bagging_fraction': 0.8,\n",
    "    #'bagging_freq': 5,\n",
    "    'verbose': 0\n",
    "}\n",
    "print('Starting training...')\n",
    "# train\n",
    "\n",
    "gbm = lgb.train(params,\n",
    "                train_data)\n",
    "                #early_stopping_rounds=5)\n",
    "\n",
    "print(gbm)"
   ]
  },
  {
   "cell_type": "code",
   "execution_count": 21,
   "metadata": {},
   "outputs": [
    {
     "name": "stdout",
     "output_type": "stream",
     "text": [
      "[[2.86834409e-05 9.99971317e-01]\n",
      " [2.86834409e-05 9.99971317e-01]\n",
      " [2.86834409e-05 9.99971317e-01]\n",
      " ...\n",
      " [2.86834409e-05 9.99971317e-01]\n",
      " [2.86834409e-05 9.99971317e-01]\n",
      " [2.86834409e-05 9.99971317e-01]]\n",
      "[[0. 1.]\n",
      " [0. 1.]\n",
      " [0. 1.]\n",
      " ...\n",
      " [0. 1.]\n",
      " [0. 1.]\n",
      " [0. 1.]]\n"
     ]
    }
   ],
   "source": [
    "y_pred = gbm.predict(train_df)\n",
    "\n",
    "print(y_pred)\n",
    "\n",
    "for i in range(len(y_pred)):\n",
    "        max_value=max(y_pred[i])\n",
    "        for j in range(len(y_pred[i])):\n",
    "            if max_value==y_pred[i][j]:\n",
    "                y_pred[i][j]=1\n",
    "            else:\n",
    "                y_pred[i][j]=0\n",
    "print(y_pred)"
   ]
  },
  {
   "cell_type": "code",
   "execution_count": 22,
   "metadata": {},
   "outputs": [
    {
     "name": "stdout",
     "output_type": "stream",
     "text": [
      "[0. 0. 1. ... 1. 0. 1.]\n",
      "[[0.]\n",
      " [0.]\n",
      " [1.]\n",
      " ...\n",
      " [1.]\n",
      " [0.]\n",
      " [1.]]\n",
      "(900000, 2)\n"
     ]
    },
    {
     "name": "stderr",
     "output_type": "stream",
     "text": [
      "/home/ubuntu/anaconda3/lib/python3.7/site-packages/sklearn/preprocessing/_encoders.py:415: FutureWarning: The handling of integer data will change in version 0.22. Currently, the categories are determined based on the range [0, max(values)], while in the future they will be determined based on the unique values.\n",
      "If you want the future behaviour and silence this warning, you can specify \"categories='auto'\".\n",
      "In case you used a LabelEncoder before this OneHotEncoder to convert the categories to integers, then you can now use the OneHotEncoder directly.\n",
      "  warnings.warn(msg, FutureWarning)\n"
     ]
    }
   ],
   "source": [
    "print(final_train_y_df.values)\n",
    "from sklearn.preprocessing import  OneHotEncoder\n",
    "\n",
    "before_one_hot =  final_train_y_df.values.reshape([-1,1])\n",
    "print(before_one_hot)\n",
    "enc = OneHotEncoder()\n",
    "enc.fit(before_one_hot)\n",
    "\n",
    "one_hoted_y  = enc.transform(before_one_hot).toarray()\n",
    "print(one_hoted_y.shape)\n"
   ]
  },
  {
   "cell_type": "code",
   "execution_count": 23,
   "metadata": {},
   "outputs": [
    {
     "name": "stderr",
     "output_type": "stream",
     "text": [
      "/home/ubuntu/anaconda3/lib/python3.7/site-packages/sklearn/metrics/classification.py:1437: UndefinedMetricWarning: Precision and F-score are ill-defined and being set to 0.0 in labels with no predicted samples.\n",
      "  'precision', 'predicted', average, warn_for)\n"
     ]
    },
    {
     "data": {
      "text/plain": [
       "0.33043333333333336"
      ]
     },
     "execution_count": 23,
     "metadata": {},
     "output_type": "execute_result"
    }
   ],
   "source": [
    "\n",
    "classification_report(one_hoted_y, y_pred)\n",
    "precision_score(one_hoted_y, y_pred,average='micro')"
   ]
  },
  {
   "cell_type": "code",
   "execution_count": null,
   "metadata": {},
   "outputs": [],
   "source": []
  }
 ],
 "metadata": {
  "kernelspec": {
   "display_name": "Python 3",
   "language": "python",
   "name": "python3"
  },
  "language_info": {
   "codemirror_mode": {
    "name": "ipython",
    "version": 3
   },
   "file_extension": ".py",
   "mimetype": "text/x-python",
   "name": "python",
   "nbconvert_exporter": "python",
   "pygments_lexer": "ipython3",
   "version": "3.7.3"
  }
 },
 "nbformat": 4,
 "nbformat_minor": 2
}
