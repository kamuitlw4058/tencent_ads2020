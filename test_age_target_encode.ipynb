{
 "cells": [
  {
   "cell_type": "code",
   "execution_count": 1,
   "metadata": {},
   "outputs": [],
   "source": [
    "import lightgbm as lgb\n",
    "import os\n",
    "import math\n",
    "import pandas as pd\n",
    "import numpy as np\n",
    "import random\n",
    "import gc\n",
    "from datetime import datetime\n",
    "from tqdm import tqdm\n",
    "import matplotlib.pyplot as plt\n",
    "from sklearn.metrics import classification_report\n",
    "from sklearn.metrics import precision_score\n",
    "from sklearn.model_selection import train_test_split\n",
    "from sklearn.preprocessing import  OneHotEncoder\n",
    "\n",
    "np.random.seed(2019)\n",
    "random.seed(2019)\n",
    "pd.set_option('display.max_rows', 4)\n",
    "pd.set_option('display.max_columns', 10)\n",
    "pd.set_option('display.width', 280)\n",
    "pd.set_option('display.max_colwidth', 150)\n",
    "data_path = '/data/workspace/kimi/tencent_ads/2020/dataset'\n",
    "preprocess_path = 'preprocess'"
   ]
  },
  {
   "cell_type": "code",
   "execution_count": 2,
   "metadata": {},
   "outputs": [
    {
     "name": "stdout",
     "output_type": "stream",
     "text": [
      "          user_id  click_times_sum  click_times_count  ad_id_nunique  product_id_nunique  product_category_nunique  advertiser_id_nunique  industry_nunique  click_times_sum_log  click_times_count_log\n",
      "0       3000001.0             11.0               11.0           11.0                 7.0                       4.0                   10.0               5.0             2.397895               2.397895\n",
      "1       3000002.0             65.0               61.0           49.0                24.0                       5.0                   41.0              21.0             4.174387               4.110874\n",
      "...           ...              ...                ...            ...                 ...                       ...                    ...               ...                  ...                    ...\n",
      "999998  3999999.0             86.0               80.0           79.0                26.0                       4.0                   63.0              29.0             4.454347               4.382027\n",
      "999999  4000000.0             67.0               63.0           63.0                27.0                       6.0                   59.0              27.0             4.204693               4.143135\n",
      "\n",
      "[1000000 rows x 10 columns]\n"
     ]
    }
   ],
   "source": [
    "flag ='test'\n",
    "user_base_statics_df= pd.read_pickle(f'{preprocess_path}/{flag}_user_base_statics.pkl')\n",
    "user_base_statics_df = user_base_statics_df.reset_index()\n",
    "user_base_statics_df['click_times_sum_log'] = user_base_statics_df['click_times_sum'].apply(lambda x :math.log(x))\n",
    "user_base_statics_df['click_times_count_log'] = user_base_statics_df['click_times_count'].apply(lambda x :math.log(x))\n",
    "user_base_statics_df = user_base_statics_df.astype(float)\n",
    "print(user_base_statics_df)\n"
   ]
  },
  {
   "cell_type": "code",
   "execution_count": 3,
   "metadata": {},
   "outputs": [],
   "source": [
    "def merge_features(train_df,train_file,target_encode=False):\n",
    "    train_features_df  = pd.read_pickle(f'{preprocess_path}/{train_file}')\n",
    "    if target_encode:\n",
    "        train_features_df.columns = [ '_'.join(i) for i in train_features_df.columns.values  ]\n",
    "\n",
    "    train_df = train_df.merge(train_features_df,on='user_id')\n",
    "    print(train_df)\n",
    "    return train_df\n"
   ]
  },
  {
   "cell_type": "code",
   "execution_count": 4,
   "metadata": {},
   "outputs": [
    {
     "name": "stdout",
     "output_type": "stream",
     "text": [
      "merge creative_id...\n",
      "          user_id  click_times_sum  click_times_count  ad_id_nunique  product_id_nunique  ...  creative_id_age8_kfold_mean_std  creative_id_age9_kfold_mean_min  creative_id_age9_kfold_mean_max  creative_id_age9_kfold_mean_mean  creative_id_age9_kfold_mean_std\n",
      "0       3000001.0             11.0               11.0           11.0                 7.0  ...                         0.005073                              0.0                         0.005254                          0.000568                         0.001583\n",
      "1       3000002.0             65.0               61.0           49.0                24.0  ...                         0.037389                              0.0                         0.333333                          0.020031                         0.048684\n",
      "...           ...              ...                ...            ...                 ...  ...                              ...                              ...                              ...                               ...                              ...\n",
      "999998  3999999.0             86.0               80.0           79.0                26.0  ...                         0.060977                              0.0                         0.200000                          0.008472                         0.028508\n",
      "999999  4000000.0             67.0               63.0           63.0                27.0  ...                         0.029417                              0.0                         0.066667                          0.009811                         0.015525\n",
      "\n",
      "[1000000 rows x 50 columns]\n",
      "          user_id  click_times_sum  click_times_count  ad_id_nunique  product_id_nunique  ...  creative_id_age8_kfold_mean_std  creative_id_age9_kfold_mean_min  creative_id_age9_kfold_mean_max  creative_id_age9_kfold_mean_mean  creative_id_age9_kfold_mean_std\n",
      "0       3000001.0             11.0               11.0           11.0                 7.0  ...                         0.005073                              0.0                         0.005254                          0.000568                         0.001583\n",
      "1       3000002.0             65.0               61.0           49.0                24.0  ...                         0.037389                              0.0                         0.333333                          0.020031                         0.048684\n",
      "...           ...              ...                ...            ...                 ...  ...                              ...                              ...                              ...                               ...                              ...\n",
      "999998  3999999.0             86.0               80.0           79.0                26.0  ...                         0.060977                              0.0                         0.200000                          0.008472                         0.028508\n",
      "999999  4000000.0             67.0               63.0           63.0                27.0  ...                         0.029417                              0.0                         0.066667                          0.009811                         0.015525\n",
      "\n",
      "[1000000 rows x 50 columns]\n",
      "merge ad_id...\n",
      "          user_id  click_times_sum  click_times_count  ad_id_nunique  product_id_nunique  ...  ad_id_age8_kfold_mean_std  ad_id_age9_kfold_mean_min  ad_id_age9_kfold_mean_max  ad_id_age9_kfold_mean_mean  ad_id_age9_kfold_mean_std\n",
      "0       3000001.0             11.0               11.0           11.0                 7.0  ...                   0.005073                        0.0                   0.005254                    0.000568                   0.001583\n",
      "1       3000002.0             65.0               61.0           49.0                24.0  ...                   0.037357                        0.0                   0.333333                    0.020008                   0.048687\n",
      "...           ...              ...                ...            ...                 ...  ...                        ...                        ...                        ...                         ...                        ...\n",
      "999998  3999999.0             86.0               80.0           79.0                26.0  ...                   0.056671                        0.0                   0.500000                    0.014140                   0.060857\n",
      "999999  4000000.0             67.0               63.0           63.0                27.0  ...                   0.029698                        0.0                   0.066667                    0.009965                   0.015630\n",
      "\n",
      "[1000000 rows x 90 columns]\n",
      "          user_id  click_times_sum  click_times_count  ad_id_nunique  product_id_nunique  ...  ad_id_age8_kfold_mean_std  ad_id_age9_kfold_mean_min  ad_id_age9_kfold_mean_max  ad_id_age9_kfold_mean_mean  ad_id_age9_kfold_mean_std\n",
      "0       3000001.0             11.0               11.0           11.0                 7.0  ...                   0.005073                        0.0                   0.005254                    0.000568                   0.001583\n",
      "1       3000002.0             65.0               61.0           49.0                24.0  ...                   0.037357                        0.0                   0.333333                    0.020008                   0.048687\n",
      "...           ...              ...                ...            ...                 ...  ...                        ...                        ...                        ...                         ...                        ...\n",
      "999998  3999999.0             86.0               80.0           79.0                26.0  ...                   0.056671                        0.0                   0.500000                    0.014140                   0.060857\n",
      "999999  4000000.0             67.0               63.0           63.0                27.0  ...                   0.029698                        0.0                   0.066667                    0.009965                   0.015630\n",
      "\n",
      "[1000000 rows x 90 columns]\n",
      "merge product_id...\n",
      "          user_id  click_times_sum  click_times_count  ad_id_nunique  product_id_nunique  ...  product_id_age8_kfold_mean_std  product_id_age9_kfold_mean_min  product_id_age9_kfold_mean_max  product_id_age9_kfold_mean_mean  product_id_age9_kfold_mean_std\n",
      "0       3000001.0             11.0               11.0           11.0                 7.0  ...                        0.009050                         0.00000                        0.013481                         0.007121                        0.006265\n",
      "1       3000002.0             65.0               61.0           49.0                24.0  ...                        0.015782                         0.00000                        0.074485                         0.014880                        0.009689\n",
      "...           ...              ...                ...            ...                 ...  ...                             ...                             ...                             ...                              ...                             ...\n",
      "999998  3999999.0             86.0               80.0           79.0                26.0  ...                        0.009498                         0.00005                        0.035956                         0.015167                        0.009000\n",
      "999999  4000000.0             67.0               63.0           63.0                27.0  ...                        0.012364                         0.00000                        0.057312                         0.014733                        0.009917\n",
      "\n",
      "[1000000 rows x 130 columns]\n",
      "          user_id  click_times_sum  click_times_count  ad_id_nunique  product_id_nunique  ...  product_id_age8_kfold_mean_std  product_id_age9_kfold_mean_min  product_id_age9_kfold_mean_max  product_id_age9_kfold_mean_mean  product_id_age9_kfold_mean_std\n",
      "0       3000001.0             11.0               11.0           11.0                 7.0  ...                        0.009050                         0.00000                        0.013481                         0.007121                        0.006265\n",
      "1       3000002.0             65.0               61.0           49.0                24.0  ...                        0.015782                         0.00000                        0.074485                         0.014880                        0.009689\n",
      "...           ...              ...                ...            ...                 ...  ...                             ...                             ...                             ...                              ...                             ...\n",
      "999998  3999999.0             86.0               80.0           79.0                26.0  ...                        0.009498                         0.00005                        0.035956                         0.015167                        0.009000\n",
      "999999  4000000.0             67.0               63.0           63.0                27.0  ...                        0.012364                         0.00000                        0.057312                         0.014733                        0.009917\n",
      "\n",
      "[1000000 rows x 130 columns]\n",
      "merge advertiser_id...\n",
      "          user_id  click_times_sum  click_times_count  ad_id_nunique  product_id_nunique  ...  advertiser_id_age8_kfold_mean_std  advertiser_id_age9_kfold_mean_min  advertiser_id_age9_kfold_mean_max  advertiser_id_age9_kfold_mean_mean  advertiser_id_age9_kfold_mean_std\n",
      "0       3000001.0             11.0               11.0           11.0                 7.0  ...                           0.004769                                0.0                           0.004702                            0.002357                           0.001838\n",
      "1       3000002.0             65.0               61.0           49.0                24.0  ...                           0.027378                                0.0                           0.236162                            0.020043                           0.033908\n",
      "...           ...              ...                ...            ...                 ...  ...                                ...                                ...                                ...                                 ...                                ...\n",
      "999998  3999999.0             86.0               80.0           79.0                26.0  ...                           0.017270                                0.0                           0.042626                            0.011424                           0.012163\n",
      "999999  4000000.0             67.0               63.0           63.0                27.0  ...                           0.017242                                0.0                           0.068395                            0.011728                           0.013758\n",
      "\n",
      "[1000000 rows x 170 columns]\n",
      "          user_id  click_times_sum  click_times_count  ad_id_nunique  product_id_nunique  ...  advertiser_id_age8_kfold_mean_std  advertiser_id_age9_kfold_mean_min  advertiser_id_age9_kfold_mean_max  advertiser_id_age9_kfold_mean_mean  advertiser_id_age9_kfold_mean_std\n",
      "0       3000001.0             11.0               11.0           11.0                 7.0  ...                           0.004769                                0.0                           0.004702                            0.002357                           0.001838\n",
      "1       3000002.0             65.0               61.0           49.0                24.0  ...                           0.027378                                0.0                           0.236162                            0.020043                           0.033908\n",
      "...           ...              ...                ...            ...                 ...  ...                                ...                                ...                                ...                                 ...                                ...\n",
      "999998  3999999.0             86.0               80.0           79.0                26.0  ...                           0.017270                                0.0                           0.042626                            0.011424                           0.012163\n",
      "999999  4000000.0             67.0               63.0           63.0                27.0  ...                           0.017242                                0.0                           0.068395                            0.011728                           0.013758\n",
      "\n",
      "[1000000 rows x 170 columns]\n",
      "merge industry...\n",
      "          user_id  click_times_sum  click_times_count  ad_id_nunique  product_id_nunique  ...  industry_age8_kfold_mean_std  industry_age9_kfold_mean_min  industry_age9_kfold_mean_max  industry_age9_kfold_mean_mean  industry_age9_kfold_mean_std\n",
      "0       3000001.0             11.0               11.0           11.0                 7.0  ...                      0.007396                      0.000950                      0.022621                       0.006893                      0.005948\n",
      "1       3000002.0             65.0               61.0           49.0                24.0  ...                      0.009806                      0.006246                      0.072433                       0.015934                      0.009934\n",
      "...           ...              ...                ...            ...                 ...  ...                           ...                           ...                           ...                            ...                           ...\n",
      "999998  3999999.0             86.0               80.0           79.0                26.0  ...                      0.013391                      0.000513                      0.045244                       0.013808                      0.010783\n",
      "999999  4000000.0             67.0               63.0           63.0                27.0  ...                      0.012411                      0.000950                      0.061244                       0.014922                      0.012443\n",
      "\n",
      "[1000000 rows x 210 columns]\n",
      "          user_id  click_times_sum  click_times_count  ad_id_nunique  product_id_nunique  ...  industry_age8_kfold_mean_std  industry_age9_kfold_mean_min  industry_age9_kfold_mean_max  industry_age9_kfold_mean_mean  industry_age9_kfold_mean_std\n",
      "0       3000001.0             11.0               11.0           11.0                 7.0  ...                      0.007396                      0.000950                      0.022621                       0.006893                      0.005948\n",
      "1       3000002.0             65.0               61.0           49.0                24.0  ...                      0.009806                      0.006246                      0.072433                       0.015934                      0.009934\n",
      "...           ...              ...                ...            ...                 ...  ...                           ...                           ...                           ...                            ...                           ...\n",
      "999998  3999999.0             86.0               80.0           79.0                26.0  ...                      0.013391                      0.000513                      0.045244                       0.013808                      0.010783\n",
      "999999  4000000.0             67.0               63.0           63.0                27.0  ...                      0.012411                      0.000950                      0.061244                       0.014922                      0.012443\n",
      "\n",
      "[1000000 rows x 210 columns]\n",
      "merge product_category...\n",
      "          user_id  click_times_sum  click_times_count  ad_id_nunique  product_id_nunique  ...  product_category_age8_kfold_mean_std  product_category_age9_kfold_mean_min  product_category_age9_kfold_mean_max  product_category_age9_kfold_mean_mean  \\\n",
      "0       3000001.0             11.0               11.0           11.0                 7.0  ...                              0.005192                              0.007285                              0.015020                               0.011703   \n",
      "1       3000002.0             65.0               61.0           49.0                24.0  ...                              0.015533                              0.009921                              0.091323                               0.018388   \n",
      "...           ...              ...                ...            ...                 ...  ...                                   ...                                   ...                                   ...                                    ...   \n",
      "999998  3999999.0             86.0               80.0           79.0                26.0  ...                              0.002298                              0.009921                              0.015020                               0.013964   \n",
      "999999  4000000.0             67.0               63.0           63.0                27.0  ...                              0.009730                              0.007285                              0.091323                               0.014349   \n",
      "\n",
      "        product_category_age9_kfold_mean_std  \n",
      "0                                   0.003129  \n",
      "1                                   0.016811  \n",
      "...                                      ...  \n",
      "999998                              0.001517  \n",
      "999999                              0.010110  \n",
      "\n",
      "[1000000 rows x 250 columns]\n",
      "          user_id  click_times_sum  click_times_count  ad_id_nunique  product_id_nunique  ...  product_category_age8_kfold_mean_std  product_category_age9_kfold_mean_min  product_category_age9_kfold_mean_max  product_category_age9_kfold_mean_mean  \\\n",
      "0       3000001.0             11.0               11.0           11.0                 7.0  ...                              0.005192                              0.007285                              0.015020                               0.011703   \n",
      "1       3000002.0             65.0               61.0           49.0                24.0  ...                              0.015533                              0.009921                              0.091323                               0.018388   \n",
      "...           ...              ...                ...            ...                 ...  ...                                   ...                                   ...                                   ...                                    ...   \n",
      "999998  3999999.0             86.0               80.0           79.0                26.0  ...                              0.002298                              0.009921                              0.015020                               0.013964   \n",
      "999999  4000000.0             67.0               63.0           63.0                27.0  ...                              0.009730                              0.007285                              0.091323                               0.014349   \n",
      "\n",
      "        product_category_age9_kfold_mean_std  \n",
      "0                                   0.003129  \n",
      "1                                   0.016811  \n",
      "...                                      ...  \n",
      "999998                              0.001517  \n",
      "999999                              0.010110  \n",
      "\n",
      "[1000000 rows x 250 columns]\n"
     ]
    }
   ],
   "source": [
    "test_df = user_base_statics_df\n",
    "for i in ['creative_id','ad_id', 'product_id','advertiser_id','industry','product_category']:\n",
    "    print(f'merge {i}...')\n",
    "    test_df = merge_features(test_df,f'test_user_target_encoder_{i}_age.pkl',True)\n",
    "    print(test_df)"
   ]
  },
  {
   "cell_type": "code",
   "execution_count": 5,
   "metadata": {},
   "outputs": [],
   "source": [
    "# train_x = train_df.drop(['age','user_id','gender','advertiser_id_seq','industry_seq','product_id_seq'], axis=1)\n",
    "# train_y = train_df['age'].astype(int)\n",
    "\n",
    "# valid_x = valid_df.drop(['age','user_id','gender','advertiser_id_seq','industry_seq','product_id_seq'], axis=1)\n",
    "# valid_y = valid_df['age'].astype(int)\n",
    "\n",
    "drop_list = ['user_id','click_times_sum','click_times_count']\n",
    "test_df = test_df.drop(drop_list, axis=1)\n",
    "\n",
    "\n",
    "\n"
   ]
  },
  {
   "cell_type": "code",
   "execution_count": 6,
   "metadata": {},
   "outputs": [
    {
     "name": "stdout",
     "output_type": "stream",
     "text": [
      "Feature importances: [430, 517, 191, 527, 661, 532, 546, 42, 482, 777, 478, 113, 559, 1158, 538, 160, 548, 941, 539, 148, 413, 817, 513, 114, 416, 762, 447, 166, 502, 978, 538, 97, 471, 915, 492, 53, 426, 822, 466, 39, 360, 686, 422, 18, 392, 536, 402, 25, 475, 635, 491, 160, 515, 1340, 623, 233, 630, 1157, 549, 187, 487, 967, 563, 128, 412, 735, 434, 205, 463, 956, 508, 111, 453, 1012, 466, 64, 430, 904, 425, 30, 405, 632, 424, 26, 361, 579, 373, 351, 430, 499, 396, 484, 491, 480, 376, 385, 468, 424, 305, 365, 407, 401, 317, 377, 449, 439, 420, 344, 442, 433, 366, 409, 414, 515, 330, 400, 324, 352, 301, 271, 345, 350, 325, 250, 461, 463, 396, 764, 480, 747, 502, 1539, 984, 1175, 927, 1140, 876, 865, 651, 828, 1007, 585, 607, 832, 864, 812, 504, 930, 772, 701, 537, 961, 885, 680, 455, 857, 765, 614, 462, 651, 516, 553, 351, 449, 529, 768, 389, 739, 368, 814, 583, 325, 489, 514, 507, 287, 654, 504, 383, 536, 472, 743, 669, 617, 381, 609, 487, 469, 331, 561, 499, 523, 353, 517, 462, 585, 365, 475, 375, 473, 354, 443, 379, 499, 404, 615, 413, 225, 158, 591, 582, 151, 211, 521, 277, 88, 211, 477, 339, 124, 390, 610, 380, 133, 190, 628, 341, 179, 235, 664, 473, 187, 112, 526, 352, 232, 119, 401, 384, 165, 161, 330, 280, 166, 123, 329, 227]\n"
     ]
    }
   ],
   "source": [
    "\n",
    "gbm = lgb.Booster(model_file='model/age_target.model')\n",
    "print('Feature importances:', list(gbm.feature_importance()))"
   ]
  },
  {
   "cell_type": "code",
   "execution_count": 7,
   "metadata": {},
   "outputs": [
    {
     "name": "stdout",
     "output_type": "stream",
     "text": [
      "[[0. 0. 1. ... 0. 0. 0.]\n",
      " [0. 0. 0. ... 0. 0. 0.]\n",
      " [0. 0. 1. ... 0. 0. 0.]\n",
      " ...\n",
      " [0. 1. 0. ... 0. 0. 0.]\n",
      " [0. 1. 0. ... 0. 0. 0.]\n",
      " [0. 0. 0. ... 0. 0. 0.]]\n"
     ]
    }
   ],
   "source": [
    "y_pred = gbm.predict(test_df.astype(float))\n",
    "y_pred_precent = y_pred.copy()\n",
    "for i in range(len(y_pred)):\n",
    "        max_value=max(y_pred[i])\n",
    "        for j in range(len(y_pred[i])):\n",
    "            if max_value==y_pred[i][j]:\n",
    "                y_pred[i][j]=1\n",
    "            else:\n",
    "                y_pred[i][j]=0\n",
    "print(y_pred)             \n",
    "\n",
    "ret = []\n",
    "for user_id,age,age_precent in zip(range(1000000),y_pred,y_pred_precent):\n",
    "    ret.append([int(user_id+3000001),int(age.tolist().index(1) + 1),age_precent])\n",
    "\n",
    "ret_df = pd.DataFrame(ret,columns=['user_id','predicted_age','lgb_age_precent'])\n",
    "ret_df.to_pickle(\"output/lgb_test_output.pkl\")\n"
   ]
  },
  {
   "cell_type": "code",
   "execution_count": null,
   "metadata": {},
   "outputs": [],
   "source": []
  }
 ],
 "metadata": {
  "kernelspec": {
   "display_name": "Python 3",
   "language": "python",
   "name": "python3"
  },
  "language_info": {
   "codemirror_mode": {
    "name": "ipython",
    "version": 3
   },
   "file_extension": ".py",
   "mimetype": "text/x-python",
   "name": "python",
   "nbconvert_exporter": "python",
   "pygments_lexer": "ipython3",
   "version": "3.7.3"
  }
 },
 "nbformat": 4,
 "nbformat_minor": 4
}
