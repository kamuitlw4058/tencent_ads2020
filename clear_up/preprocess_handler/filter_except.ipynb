{
 "cells": [
  {
   "cell_type": "code",
   "execution_count": 1,
   "metadata": {},
   "outputs": [],
   "source": [
    "import os\n",
    "import pandas as pd\n",
    "import numpy as np\n",
    "import random\n",
    "import gc\n",
    "from datetime import datetime\n",
    "from tqdm import tqdm\n",
    "import matplotlib.pyplot as plt\n",
    "from gensim.corpora import WikiCorpus\n",
    "from gensim.models import Word2Vec\n",
    "from gensim.models.word2vec import LineSentence\n",
    "from sklearn.feature_extraction.text import TfidfVectorizer\n",
    "from  collections import Counter\n",
    "\n",
    "np.random.seed(2019)\n",
    "random.seed(2019)\n",
    "pd.set_option('display.max_rows', 10)\n",
    "pd.set_option('display.max_columns', 500)\n",
    "pd.set_option('display.width', 280)\n",
    "pd.set_option('display.max_colwidth', 150)\n",
    "base_path = '/newdata/worksapce/kimi/vs_code/tencent_ads/2020/kimi'\n",
    "data_path = f'{base_path}/../dataset'\n",
    "preprocess_path = f'{base_path}/preprocess'"
   ]
  },
  {
   "cell_type": "code",
   "execution_count": 2,
   "metadata": {},
   "outputs": [
    {
     "name": "stdout",
     "output_type": "stream",
     "text": [
      "          time    user_id  creative_id  click_times      ad_id  product_id  product_category  advertiser_id  industry\n",
      "2134125    1.0  3969503.0     146454.0          1.0   131508.0        -1.0              18.0        34137.0      40.0\n",
      "25196907   1.0     2267.0     249047.0          1.0   223979.0      1927.0               2.0        15784.0     322.0\n",
      "13936212   1.0   512898.0     168451.0          1.0   150988.0      1243.0               2.0        29966.0     322.0\n",
      "13936217   1.0   524600.0     168451.0          2.0   150988.0      1243.0               2.0        29966.0     322.0\n",
      "25196909   1.0   348435.0     249047.0          1.0   223979.0      1927.0               2.0        15784.0     322.0\n",
      "...        ...        ...          ...          ...        ...         ...               ...            ...       ...\n",
      "28730723  91.0  3205538.0    3680751.0          1.0  3167517.0     42718.0              17.0        10259.0      -1.0\n",
      "29943347  91.0  3392822.0    4425603.0          1.0  3794825.0      3411.0               2.0        27280.0     248.0\n",
      "28730719  91.0  3773900.0    3680751.0          1.0  3167517.0     42718.0              17.0        10259.0      -1.0\n",
      "23168403  91.0   498277.0    3877769.0          1.0  3331468.0     26858.0               3.0           23.0      60.0\n",
      "13125865  91.0   141441.0    4329985.0          1.0  3712996.0     39503.0              17.0        13328.0      -1.0\n",
      "\n",
      "[63668283 rows x 9 columns]\n"
     ]
    }
   ],
   "source": [
    "df = pd.read_pickle(f'{preprocess_path}/total_merged_log.pkl')\n",
    "print(df)"
   ]
  },
  {
   "cell_type": "code",
   "execution_count": 3,
   "metadata": {},
   "outputs": [
    {
     "name": "stdout",
     "output_type": "stream",
     "text": [
      "user_id\n",
      "1.0          13\n",
      "2.0          45\n",
      "3.0          30\n",
      "4.0          29\n",
      "5.0          33\n",
      "             ..\n",
      "3999996.0    66\n",
      "3999997.0    20\n",
      "3999998.0    19\n",
      "3999999.0    80\n",
      "4000000.0    63\n",
      "Name: time, Length: 1900000, dtype: int64\n",
      "user_id\n",
      "1.0          13\n",
      "2.0          45\n",
      "3.0          30\n",
      "4.0          29\n",
      "5.0          33\n",
      "             ..\n",
      "3999996.0    66\n",
      "3999997.0    20\n",
      "3999998.0    19\n",
      "3999999.0    80\n",
      "4000000.0    63\n",
      "Name: time, Length: 1878303, dtype: int64\n"
     ]
    }
   ],
   "source": [
    "grouped_user_id = df.groupby(['user_id'])['time'].count()\n",
    "print(grouped_user_id)\n",
    "filtered_grouped_user_id = grouped_user_id[grouped_user_id<= 150]\n",
    "print(filtered_grouped_user_id)"
   ]
  },
  {
   "cell_type": "code",
   "execution_count": 4,
   "metadata": {},
   "outputs": [
    {
     "name": "stdout",
     "output_type": "stream",
     "text": [
      "          time    user_id  creative_id  click_times      ad_id  product_id  product_category  advertiser_id  industry\n",
      "2134125    1.0  3969503.0     146454.0          1.0   131508.0        -1.0              18.0        34137.0      40.0\n",
      "25196907   1.0     2267.0     249047.0          1.0   223979.0      1927.0               2.0        15784.0     322.0\n",
      "13936212   1.0   512898.0     168451.0          1.0   150988.0      1243.0               2.0        29966.0     322.0\n",
      "13936217   1.0   524600.0     168451.0          2.0   150988.0      1243.0               2.0        29966.0     322.0\n",
      "25196909   1.0   348435.0     249047.0          1.0   223979.0      1927.0               2.0        15784.0     322.0\n",
      "...        ...        ...          ...          ...        ...         ...               ...            ...       ...\n",
      "27747152  91.0   667326.0    4433081.0          1.0  3801146.0     18944.0               8.0        52720.0     297.0\n",
      "28730723  91.0  3205538.0    3680751.0          1.0  3167517.0     42718.0              17.0        10259.0      -1.0\n",
      "29943347  91.0  3392822.0    4425603.0          1.0  3794825.0      3411.0               2.0        27280.0     248.0\n",
      "23168403  91.0   498277.0    3877769.0          1.0  3331468.0     26858.0               3.0           23.0      60.0\n",
      "13125865  91.0   141441.0    4329985.0          1.0  3712996.0     39503.0              17.0        13328.0      -1.0\n",
      "\n",
      "[58904657 rows x 9 columns]\n"
     ]
    }
   ],
   "source": [
    "filtered_df = df[df.user_id.isin(filtered_grouped_user_id.index)]\n",
    "print(filtered_df)"
   ]
  },
  {
   "cell_type": "code",
   "execution_count": 5,
   "metadata": {},
   "outputs": [],
   "source": [
    "filtered_df.to_pickle(f'{preprocess_path}/filtered_merged_log.pkl')"
   ]
  },
  {
   "cell_type": "code",
   "execution_count": null,
   "metadata": {},
   "outputs": [],
   "source": []
  }
 ],
 "metadata": {
  "kernelspec": {
   "display_name": "Python 3",
   "language": "python",
   "name": "python3"
  },
  "language_info": {
   "codemirror_mode": {
    "name": "ipython",
    "version": 3
   },
   "file_extension": ".py",
   "mimetype": "text/x-python",
   "name": "python",
   "nbconvert_exporter": "python",
   "pygments_lexer": "ipython3",
   "version": "3.7.4"
  }
 },
 "nbformat": 4,
 "nbformat_minor": 4
}
