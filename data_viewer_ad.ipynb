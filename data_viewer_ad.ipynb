{
 "cells": [
  {
   "cell_type": "code",
   "execution_count": 1,
   "metadata": {},
   "outputs": [],
   "source": [
    "import os\n",
    "import pandas as pd\n",
    "import numpy as np\n",
    "import random\n",
    "import gc\n",
    "from datetime import datetime\n",
    "from tqdm import tqdm\n",
    "import matplotlib.pyplot as plt\n",
    "\n",
    "np.random.seed(2019)\n",
    "random.seed(2019)\n",
    "pd.set_option('display.max_rows', 50)\n",
    "pd.set_option('display.max_columns', 500)\n",
    "pd.set_option('display.width', 280)\n",
    "pd.set_option('display.max_colwidth', 150)\n",
    "data_path = '/data/workspace/kimi/tencent_ads/2020/dataset'"
   ]
  },
  {
   "cell_type": "code",
   "execution_count": 2,
   "metadata": {},
   "outputs": [
    {
     "name": "stdout",
     "output_type": "stream",
     "text": [
      "         creative_id    ad_id product_id  product_category  advertiser_id industry\n",
      "0                  1        1         \\N                 5            381       78\n",
      "1                  4        4         \\N                 5            108      202\n",
      "2                  7        7         \\N                 5            148      297\n",
      "3                  8        8         \\N                 5            713      213\n",
      "4                  9        9         \\N                 5            695      213\n",
      "5                 10       10         \\N                 5            100       73\n",
      "6                 12       12         \\N                 5            765        6\n",
      "7                 13       13         \\N                 5            113      267\n",
      "8                 16       16         \\N                 5            623        1\n",
      "9                 20       20      34647                 5            312      267\n",
      "10                21       21         \\N                 5            108      202\n",
      "11                22       22         \\N                 5            108      202\n",
      "12                23       23         \\N                 5            108      202\n",
      "13                24       24         \\N                 5            108      202\n",
      "14                27       27         59                 1          62948      254\n",
      "15                28       28         \\N                 5            108      202\n",
      "16                29       29         \\N                 5            108      202\n",
      "17                36       36         \\N                18            955       25\n",
      "18                39       39         \\N                 5           1175      213\n",
      "19                41       41         \\N                 5           1875        6\n",
      "20                44       44         \\N                18            955      168\n",
      "21                46       46       1263                 1           1274      247\n",
      "22                48       48         \\N                 5            108      202\n",
      "23                49       49         \\N                 5            108      202\n",
      "24                50       50         \\N                 5            108      202\n",
      "...              ...      ...        ...               ...            ...      ...\n",
      "2481110      4445680  3812162       1849                 2          61136      317\n",
      "2481111      4445681  3812163      35885                17            427       \\N\n",
      "2481112      4445682  3812164      35885                17            427       \\N\n",
      "2481113      4445683  3812165      39063                17            427       \\N\n",
      "2481114      4445684  3812166       1849                 2          61136      317\n",
      "2481115      4445686  3812168      41285                17            427       \\N\n",
      "2481116      4445687  3812169      39063                17            427       \\N\n",
      "2481117      4445688  3812170      39287                17            427       \\N\n",
      "2481118      4445690  3812172         \\N                 5          16192      288\n",
      "2481119      4445691  3812173      41285                17            427       \\N\n",
      "2481120      4445695  3812177      41285                17            427       \\N\n",
      "2481121      4445698  3812180      39030                17            427       \\N\n",
      "2481122      4445699  3812181      35885                17            427       \\N\n",
      "2481123      4445700  3812182      35885                17            427       \\N\n",
      "2481124      4445704  3812186      39063                17            427       \\N\n",
      "2481125      4445705  3812187      39063                17            427       \\N\n",
      "2481126      4445706  3812188         \\N                 5          19188       \\N\n",
      "2481127      4445708  3812190      39030                17            427       \\N\n",
      "2481128      4445710  3812192      39063                17            427       \\N\n",
      "2481129      4445711  3812193      35885                17            427       \\N\n",
      "2481130      4445714  3812196       9152                 3          56976      248\n",
      "2481131      4445715  3812197      39063                17            427       \\N\n",
      "2481132      4445716  3812198      39063                17            427       \\N\n",
      "2481133      4445717  3812199      35885                17            427       \\N\n",
      "2481134      4445718  3812200      39287                17            427       \\N\n",
      "\n",
      "[2481135 rows x 6 columns]\n"
     ]
    }
   ],
   "source": [
    "ad_df = pd.read_csv(f'{data_path}/train_preliminary/ad.csv' )\n",
    "print(ad_df)\n"
   ]
  },
  {
   "cell_type": "code",
   "execution_count": 3,
   "metadata": {},
   "outputs": [
    {
     "name": "stdout",
     "output_type": "stream",
     "text": [
      "326\n",
      "247    262634\n",
      "319    178677\n",
      "6      161962\n",
      "322    159928\n",
      "\\N     101048\n",
      "242     77113\n",
      "238     76788\n",
      "326     65196\n",
      "54      64318\n",
      "73      64130\n",
      "Name: industry, dtype: int64\n",
      "null:101048\n"
     ]
    },
    {
     "data": {
      "image/png": "[encoded data removed]",
      "text/plain": [
       "<Figure size 432x288 with 1 Axes>"
      ]
     },
     "metadata": {
      "needs_background": "light"
     },
     "output_type": "display_data"
    }
   ],
   "source": [
    "adv_count_value= ad_df['industry'].value_counts()\n",
    "print(len(adv_count_value))\n",
    "print(adv_count_value[:10])\n",
    "null_counts = adv_count_value['\\\\N']\n",
    "print(f\"null:{null_counts}\")\n",
    "x = adv_count_value.index\n",
    "y = adv_count_value.values\n",
    "plt.scatter(x,y)\n",
    "plt.show()\n",
    "\n",
    "del adv_count_value"
   ]
  },
  {
   "cell_type": "code",
   "execution_count": 5,
   "metadata": {},
   "outputs": [
    {
     "name": "stdout",
     "output_type": "stream",
     "text": [
      "52090\n",
      "14681    26906\n",
      "14056    24500\n",
      "14682    18915\n",
      "9058     12127\n",
      "32876     8633\n",
      "22897     8336\n",
      "15855     8164\n",
      "24894     5864\n",
      "25260     5789\n",
      "10988     5761\n",
      "Name: advertiser_id, dtype: int64\n"
     ]
    },
    {
     "data": {
      "image/png": "[encoded data removed]",
      "text/plain": [
       "<Figure size 432x288 with 1 Axes>"
      ]
     },
     "metadata": {
      "needs_background": "light"
     },
     "output_type": "display_data"
    }
   ],
   "source": [
    "adv_count_value= ad_df['advertiser_id'].value_counts()\n",
    "print(len(adv_count_value))\n",
    "print(adv_count_value[:10])\n",
    "#null_counts = adv_count_value['\\\\N']\n",
    "#print(f\"null:{null_counts}\")\n",
    "x = adv_count_value.index\n",
    "y = adv_count_value.values\n",
    "plt.scatter(x,y)\n",
    "plt.show()\n",
    "\n",
    "del adv_count_value"
   ]
  },
  {
   "cell_type": "code",
   "execution_count": 6,
   "metadata": {},
   "outputs": [
    {
     "name": "stdout",
     "output_type": "stream",
     "text": [
      "         creative_id    ad_id product_id  product_category  advertiser_id industry\n",
      "1410            2398     3099         \\N                18             11      334\n",
      "252258        417231   372326         \\N                18             11      334\n",
      "252991        418539   373481         \\N                18             11      334\n",
      "255862        423860   377678         \\N                18             11      334\n",
      "256119        424341   378024         \\N                18             11      334\n",
      "256132        424368   378041         \\N                18             11      334\n",
      "256154        424402   378067         \\N                18             11      334\n",
      "256222        424514   378159         \\N                18             11      334\n",
      "345972        584351   519669         \\N                18             11      334\n",
      "375894        638952   567444         \\N                18             11      334\n",
      "597655       1035469   909537         \\N                18             11      334\n",
      "597848       1035825   909841         \\N                18             11      334\n",
      "598598       1037148   910985         \\N                18             11      334\n",
      "2137197      3797898  3264713       1398                 2             11      334\n",
      "2137249      3798005  3264807       1398                 2             11      334\n",
      "2137279      3798053  3264851       1398                 2             11      329\n",
      "2137288      3798070  3264867       1398                 2             11      329\n",
      "2137297      3798096  3264891       1398                 2             11      334\n",
      "2137337      3798180  3264958       1398                 2             11      329\n",
      "2137416      3798282  3265056       1398                 2             11      329\n",
      "2137423      3798295  3265067       1398                 2             11      329\n",
      "2137432      3798310  3265078       1398                 2             11      329\n",
      "2137440      3798334  3265098       1398                 2             11      329\n",
      "2137455      3798369  3265128       1398                 2             11      329\n",
      "2142702      3808588  3273652       1398                 2             11      329\n",
      "2142808      3808791  3273839       1398                 2             11      329\n",
      "2143726      3810497  3275296       1398                 2             11      334\n",
      "2143929      3810896  3275635       1398                 2             11      334\n",
      "2143930      3810897  3275635       1398                 2             11      334\n",
      "2144006      3811037  3275754       1398                 2             11      334\n",
      "2144059      3811146  3275848       1398                 2             11      334\n",
      "2144300      3811613  3276229       1398                 2             11      334\n",
      "2144301      3811614  3276229       1398                 2             11      334\n"
     ]
    }
   ],
   "source": [
    "adid_df = ad_df[ad_df['advertiser_id'] == 11]\n",
    "print(adid_df)"
   ]
  },
  {
   "cell_type": "code",
   "execution_count": 7,
   "metadata": {},
   "outputs": [
    {
     "name": "stdout",
     "output_type": "stream",
     "text": [
      "       advertiser_id product_id  advertiser_ad_id\n",
      "0                  2         \\N                11\n",
      "1                  3         \\N                30\n",
      "2                  4         \\N                 2\n",
      "3                  5       8523                 2\n",
      "4                  6         \\N                19\n",
      "5                  7         \\N                12\n",
      "6                  8         \\N                69\n",
      "7                  9         \\N                 2\n",
      "8                 10         \\N                 8\n",
      "9                 11       1398                18\n",
      "10                11         \\N                13\n",
      "12                13         \\N                 2\n",
      "13                14         \\N                74\n",
      "14                15         \\N                68\n",
      "18                17         \\N                 2\n",
      "19                18         \\N                11\n",
      "20                19         \\N                 2\n",
      "21                20       1374                43\n",
      "22                21         \\N                 6\n",
      "24                23      26858               424\n",
      "25                24         \\N                 9\n",
      "26                25       1523               275\n",
      "29                27         \\N               161\n",
      "30                28         \\N                 5\n",
      "31                29         \\N                43\n",
      "...              ...        ...               ...\n",
      "67557          62940         \\N                 7\n",
      "67558          62941         \\N                 9\n",
      "67559          62942         \\N                 6\n",
      "67560          62943         \\N                 5\n",
      "67561          62944         \\N                 7\n",
      "67562          62945         \\N                31\n",
      "67563          62946         \\N                 8\n",
      "67564          62947         \\N                29\n",
      "67565          62948         59                 5\n",
      "67566          62949       1335                 3\n",
      "67567          62950         \\N                13\n",
      "67568          62951         \\N                30\n",
      "67569          62952         \\N                13\n",
      "67570          62953         \\N                 9\n",
      "67571          62954         \\N                18\n",
      "67572          62955         \\N                 9\n",
      "67573          62956      26858               582\n",
      "67574          62957         \\N                 8\n",
      "67575          62958       1035                16\n",
      "67576          62959         \\N                 9\n",
      "67577          62960         \\N                29\n",
      "67578          62961         \\N                23\n",
      "67579          62962         \\N                 7\n",
      "67580          62964         \\N                11\n",
      "67581          62965         \\N                26\n",
      "\n",
      "[46824 rows x 3 columns]\n"
     ]
    }
   ],
   "source": [
    "\n",
    "droped_df = ad_df.drop_duplicates(['advertiser_id','product_id','ad_id'],keep='last')\n",
    "adv_count_value= droped_df.groupby(['advertiser_id','product_id']).industry.count().reset_index().rename(columns={'industry':\"advertiser_ad_id\"})\n",
    "adv_count_value= adv_count_value[adv_count_value['advertiser_ad_id'] > 1]\n",
    "\n",
    "print(adv_count_value)\n",
    "\n",
    "\n",
    "# print(len(adv_count_value))\n",
    "# print(adv_count_value[:10])\n",
    "# #null_counts = adv_count_value['\\\\N']\n",
    "# print(f\"null:{null_counts}\")\n",
    "# x = adv_count_value.index\n",
    "# y = adv_count_value.values\n",
    "# plt.scatter(x,y)\n",
    "# plt.show()\n",
    "\n",
    "# del adv_count_value"
   ]
  },
  {
   "cell_type": "code",
   "execution_count": 8,
   "metadata": {},
   "outputs": [
    {
     "name": "stdout",
     "output_type": "stream",
     "text": [
      "18\n",
      "2     923994\n",
      "18    663346\n",
      "3     283817\n",
      "8     233832\n",
      "5     227970\n",
      "13     38072\n",
      "17     35638\n",
      "4      22917\n",
      "12     19592\n",
      "6      12077\n",
      "7       7611\n",
      "16      7216\n",
      "9       2970\n",
      "11      1379\n",
      "15       332\n",
      "1        259\n",
      "14        95\n",
      "10        18\n",
      "Name: product_category, dtype: int64\n",
      "null:101048\n"
     ]
    },
    {
     "data": {
      "image/png": "[encoded data removed]",
      "text/plain": [
       "<Figure size 432x288 with 1 Axes>"
      ]
     },
     "metadata": {
      "needs_background": "light"
     },
     "output_type": "display_data"
    }
   ],
   "source": [
    "adv_count_value= ad_df['product_category'].value_counts()\n",
    "print(len(adv_count_value))\n",
    "print(adv_count_value[:20])\n",
    "#null_counts = adv_count_value['\\\\N']\n",
    "print(f\"null:{null_counts}\")\n",
    "x = adv_count_value.index\n",
    "y = adv_count_value.values\n",
    "plt.scatter(x,y)\n",
    "plt.show()\n",
    "\n",
    "del adv_count_value"
   ]
  },
  {
   "cell_type": "code",
   "execution_count": 9,
   "metadata": {},
   "outputs": [
    {
     "name": "stdout",
     "output_type": "stream",
     "text": [
      "33273\n",
      "\\N      929524\n",
      "23       37705\n",
      "1766     33103\n",
      "1674     32395\n",
      "1064     30665\n",
      "136      29479\n",
      "1810     25195\n",
      "111      23236\n",
      "1261     21242\n",
      "1334     21185\n",
      "Name: product_id, dtype: int64\n",
      "null:929524\n"
     ]
    }
   ],
   "source": [
    "adv_count_value= ad_df['product_id'].value_counts()\n",
    "print(len(adv_count_value))\n",
    "print(adv_count_value[:10])\n",
    "null_counts = adv_count_value['\\\\N']\n",
    "print(f\"null:{null_counts}\")\n",
    "#x = adv_count_value.index\n",
    "#y = adv_count_value.values\n",
    "#plt.scatter(x,y)\n",
    "#plt.show()\n",
    "\n",
    "del adv_count_value"
   ]
  },
  {
   "cell_type": "code",
   "execution_count": 10,
   "metadata": {},
   "outputs": [
    {
     "name": "stdout",
     "output_type": "stream",
     "text": [
      "2264190\n",
      "1729961    19\n",
      "2179954    18\n",
      "1771929    17\n",
      "2763747    17\n",
      "3718339    16\n",
      "681564     16\n",
      "847568     16\n",
      "926023     16\n",
      "3288857    16\n",
      "1779604    16\n",
      "Name: ad_id, dtype: int64\n"
     ]
    }
   ],
   "source": [
    "adv_count_value= ad_df['ad_id'].value_counts()\n",
    "print(len(adv_count_value))\n",
    "print(adv_count_value[:10])\n",
    "#null_counts = adv_count_value['\\\\N']\n",
    "#print(f\"null:{null_counts}\")\n",
    "# x = adv_count_value.index\n",
    "# y = adv_count_value.values\n",
    "# plt.scatter(x,y)\n",
    "# plt.show()\n",
    "\n",
    "del adv_count_value"
   ]
  },
  {
   "cell_type": "code",
   "execution_count": 13,
   "metadata": {},
   "outputs": [
    {
     "name": "stdout",
     "output_type": "stream",
     "text": [
      "           ad_id  ad_id_creatives\n",
      "0              1                1\n",
      "1              4                1\n",
      "2              7                1\n",
      "3              8                1\n",
      "4              9                1\n",
      "5             10                1\n",
      "6             12                1\n",
      "7             13                1\n",
      "8             16                1\n",
      "9             20                1\n",
      "10            21                1\n",
      "11            22                1\n",
      "12            23                1\n",
      "13            24                1\n",
      "14            27                1\n",
      "15            28                1\n",
      "16            29                1\n",
      "17            36                1\n",
      "18            39                1\n",
      "19            41                1\n",
      "20            44                1\n",
      "21            46                1\n",
      "22            48                1\n",
      "23            49                1\n",
      "24            50                1\n",
      "...          ...              ...\n",
      "2264165  3812162                1\n",
      "2264166  3812163                1\n",
      "2264167  3812164                1\n",
      "2264168  3812165                1\n",
      "2264169  3812166                1\n",
      "2264170  3812168                1\n",
      "2264171  3812169                1\n",
      "2264172  3812170                1\n",
      "2264173  3812172                1\n",
      "2264174  3812173                1\n",
      "2264175  3812177                1\n",
      "2264176  3812180                1\n",
      "2264177  3812181                1\n",
      "2264178  3812182                1\n",
      "2264179  3812186                1\n",
      "2264180  3812187                1\n",
      "2264181  3812188                1\n",
      "2264182  3812190                1\n",
      "2264183  3812192                1\n",
      "2264184  3812193                1\n",
      "2264185  3812196                1\n",
      "2264186  3812197                1\n",
      "2264187  3812198                1\n",
      "2264188  3812199                1\n",
      "2264189  3812200                1\n",
      "\n",
      "[2264190 rows x 2 columns]\n",
      "1     2094478\n",
      "2      140120\n",
      "3       19732\n",
      "4        5975\n",
      "5        2093\n",
      "6         888\n",
      "7         427\n",
      "8         201\n",
      "9         107\n",
      "10         69\n",
      "11         33\n",
      "12         26\n",
      "14         14\n",
      "13          8\n",
      "15          8\n",
      "16          7\n",
      "17          2\n",
      "18          1\n",
      "19          1\n",
      "Name: ad_id_creatives, dtype: int64\n"
     ]
    }
   ],
   "source": [
    "ad_id_count_df = ad_df.groupby(['ad_id']).industry.count().reset_index().rename(columns={'industry':\"ad_id_creatives\"})\n",
    "print(ad_id_count_df)\n",
    "print(ad_id_count_df['ad_id_creatives'].value_counts())\n"
   ]
  },
  {
   "cell_type": "code",
   "execution_count": null,
   "metadata": {},
   "outputs": [],
   "source": [
    "ad_test_df = pd.read_csv(f'{data_path}/test/ad.csv' )\n",
    "print(ad_test_df)"
   ]
  },
  {
   "cell_type": "code",
   "execution_count": null,
   "metadata": {},
   "outputs": [],
   "source": []
  }
 ],
 "metadata": {
  "kernelspec": {
   "display_name": "Python 3",
   "language": "python",
   "name": "python3"
  },
  "language_info": {
   "codemirror_mode": {
    "name": "ipython",
    "version": 3
   },
   "file_extension": ".py",
   "mimetype": "text/x-python",
   "name": "python",
   "nbconvert_exporter": "python",
   "pygments_lexer": "ipython3",
   "version": "3.7.3"
  }
 },
 "nbformat": 4,
 "nbformat_minor": 2
}
