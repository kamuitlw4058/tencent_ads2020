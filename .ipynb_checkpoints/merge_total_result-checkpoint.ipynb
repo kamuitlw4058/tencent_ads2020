{
 "cells": [
  {
   "cell_type": "code",
   "execution_count": 2,
   "metadata": {},
   "outputs": [],
   "source": [
    "import lightgbm as lgb\n",
    "import os\n",
    "import math\n",
    "import pandas as pd\n",
    "import numpy as np\n",
    "import random\n",
    "import gc\n",
    "from datetime import datetime\n",
    "from tqdm import tqdm\n",
    "import matplotlib.pyplot as plt\n",
    "\n",
    "np.random.seed(2019)\n",
    "random.seed(2019)\n",
    "pd.set_option('display.max_rows', 6)\n",
    "pd.set_option('display.max_columns', 500)\n",
    "pd.set_option('display.width', 280)\n",
    "pd.set_option('display.max_colwidth', 150)\n",
    "data_path = '/data/workspace/kimi/tencent_ads/2020/dataset'\n",
    "preprocess_path = 'preprocess'"
   ]
  },
  {
   "cell_type": "code",
   "execution_count": 4,
   "metadata": {},
   "outputs": [
    {
     "name": "stdout",
     "output_type": "stream",
     "text": [
      "        user_id  predicted_age\n",
      "0             0              3\n",
      "1             1              7\n",
      "2             2              3\n",
      "...         ...            ...\n",
      "999997   999997              2\n",
      "999998   999998              2\n",
      "999999   999999              5\n",
      "\n",
      "[1000000 rows x 2 columns]\n",
      "        user_id  predicted_gender\n",
      "0       3000001                 1\n",
      "1       3000002                 2\n",
      "2       3000003                 2\n",
      "...         ...               ...\n",
      "999997  3999998                 1\n",
      "999998  3999999                 1\n",
      "999999  4000000                 1\n",
      "\n",
      "[1000000 rows x 2 columns]\n",
      "Empty DataFrame\n",
      "Columns: [user_id, predicted_age, predicted_gender]\n",
      "Index: []\n"
     ]
    }
   ],
   "source": [
    "age_df = pd.read_pickle('output/total_age_output.pkl')[['user_id','predicted_age']]\n",
    "print(age_df)\n",
    "#age_df['user_id'] = age_df['user_id'].map(lambda row: int(row) + 2280000)\n",
    "gender_df = pd.read_pickle('gender_target_out2.pkl')[['user_id','predicted_gender']]\n",
    "print(gender_df)\n",
    "\n",
    "output_df = age_df.merge(gender_df,on='user_id')\n",
    "output_df.to_csv(\"output/submission_merge_bert_lgb.csv\",index=False)\n",
    "print(output_df)"
   ]
  },
  {
   "cell_type": "code",
   "execution_count": null,
   "metadata": {},
   "outputs": [],
   "source": []
  }
 ],
 "metadata": {
  "kernelspec": {
   "display_name": "Python 3",
   "language": "python",
   "name": "python3"
  },
  "language_info": {
   "codemirror_mode": {
    "name": "ipython",
    "version": 3
   },
   "file_extension": ".py",
   "mimetype": "text/x-python",
   "name": "python",
   "nbconvert_exporter": "python",
   "pygments_lexer": "ipython3",
   "version": "3.7.3"
  }
 },
 "nbformat": 4,
 "nbformat_minor": 4
}
