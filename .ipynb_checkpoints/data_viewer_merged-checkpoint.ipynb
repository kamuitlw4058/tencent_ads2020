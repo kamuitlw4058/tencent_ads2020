{
 "cells": [
  {
   "cell_type": "code",
   "execution_count": 1,
   "metadata": {},
   "outputs": [],
   "source": [
    "import os\n",
    "import pandas as pd\n",
    "import numpy as np\n",
    "import random\n",
    "import gc\n",
    "from datetime import datetime\n",
    "from tqdm import tqdm\n",
    "import matplotlib.pyplot as plt\n",
    "from gensim.corpora import WikiCorpus\n",
    "from gensim.models import Word2Vec\n",
    "from gensim.models.word2vec import LineSentence\n",
    "from sklearn.feature_extraction.text import TfidfVectorizer\n",
    "from  collections import Counter\n",
    "\n",
    "np.random.seed(2019)\n",
    "random.seed(2019)\n",
    "pd.set_option('display.max_rows', 4)\n",
    "pd.set_option('display.max_columns', 500)\n",
    "pd.set_option('display.width', 280)\n",
    "pd.set_option('display.max_colwidth', 150)\n",
    "data_path = '/data/workspace/kimi/tencent_ads/2020/dataset'\n",
    "preprocess_path = 'preprocess'"
   ]
  },
  {
   "cell_type": "code",
   "execution_count": 2,
   "metadata": {},
   "outputs": [],
   "source": [
    "def get_merged_log(flag):\n",
    "    merged= f'{flag}_merged_log.pkl'\n",
    "    merged_path = f'{preprocess_path}/{merged}'\n",
    "    merged_df = pd.read_pickle(merged_path)\n",
    "    print(merged_df)\n",
    "    return merged_df"
   ]
  },
  {
   "cell_type": "code",
   "execution_count": 3,
   "metadata": {},
   "outputs": [
    {
     "name": "stdout",
     "output_type": "stream",
     "text": [
      "          time   user_id  creative_id  click_times      ad_id  product_id  product_category  advertiser_id  industry\n",
      "0          9.0   30920.0     567330.0          1.0   504423.0     30673.0               3.0        32638.0     319.0\n",
      "1         15.0  320815.0     567330.0          1.0   504423.0     30673.0               3.0        32638.0     319.0\n",
      "...        ...       ...          ...          ...        ...         ...               ...            ...       ...\n",
      "30082769  50.0  309198.0    2386973.0          1.0  2057811.0      1946.0               2.0        17757.0     259.0\n",
      "30082770  12.0   30920.0     717026.0          1.0   634512.0        -1.0              18.0        26466.0     126.0\n",
      "\n",
      "[30082771 rows x 9 columns]\n",
      "          time  user_id  creative_id  click_times   ad_id  product_id  product_category  advertiser_id  industry\n",
      "0           20  3131989       645764            1  573314          58                 2          14689         6\n",
      "1           10  3142948       645764            1  573314          58                 2          14689         6\n",
      "...        ...      ...          ...          ...     ...         ...               ...            ...       ...\n",
      "33585510    16  3131984       900585            1  793805        1766                 2          33097       319\n",
      "33585511    16  3131988       899450            1  792851          -1                18          22897        47\n",
      "\n",
      "[33585512 rows x 9 columns]\n",
      "          time    user_id  creative_id  click_times      ad_id  product_id  product_category  advertiser_id  industry\n",
      "2134125    1.0  3969503.0     146454.0          1.0   131508.0        -1.0              18.0        34137.0      40.0\n",
      "25196907   1.0     2267.0     249047.0          1.0   223979.0      1927.0               2.0        15784.0     322.0\n",
      "...        ...        ...          ...          ...        ...         ...               ...            ...       ...\n",
      "23168403  91.0   498277.0    3877769.0          1.0  3331468.0     26858.0               3.0           23.0      60.0\n",
      "13125865  91.0   141441.0    4329985.0          1.0  3712996.0     39503.0              17.0        13328.0      -1.0\n",
      "\n",
      "[63668283 rows x 9 columns]\n"
     ]
    },
    {
     "data": {
      "text/plain": [
       "14"
      ]
     },
     "execution_count": 3,
     "metadata": {},
     "output_type": "execute_result"
    }
   ],
   "source": [
    "train_merged_log_df = get_merged_log('train')\n",
    "test_merged_log_df = get_merged_log('test')\n",
    "total_merged_df = pd.concat([train_merged_log_df,test_merged_log_df]).sort_values(by='time')\n",
    "print(total_merged_df)\n",
    "\n",
    "del train_merged_log_df\n",
    "del test_merged_log_df\n",
    "gc.collect()"
   ]
  },
  {
   "cell_type": "code",
   "execution_count": 10,
   "metadata": {},
   "outputs": [
    {
     "name": "stdout",
     "output_type": "stream",
     "text": [
      "3027360\n",
      "138854\n"
     ]
    }
   ],
   "source": [
    "ad_id_grouped_df = total_merged_df.groupby(['ad_id']).time.count().sort_values()\n",
    "print(len(ad_id_grouped_df))\n",
    "print(len(ad_id_grouped_df[ad_id_grouped_df > 50]))\n",
    "print(len(ad_id_grouped_df[ad_id_grouped_df > 100]))\n"
   ]
  },
  {
   "cell_type": "code",
   "execution_count": 4,
   "metadata": {},
   "outputs": [
    {
     "name": "stdout",
     "output_type": "stream",
     "text": [
      "                     time  click_times\n",
      "user_id   ad_id                       \n",
      "1.0       66210.0    43.0          1.0\n",
      "          82421.0    52.0          1.0\n",
      "...                   ...          ...\n",
      "4000000.0 3135640.0  75.0          1.0\n",
      "          3181227.0  77.0          1.0\n",
      "\n",
      "[58270928 rows x 2 columns]\n"
     ]
    }
   ],
   "source": [
    "grouped_df = total_merged_df.groupby(['user_id', 'ad_id']).agg({'time':max,'click_times':sum})\n",
    "print(grouped_df)\n"
   ]
  },
  {
   "cell_type": "code",
   "execution_count": 9,
   "metadata": {},
   "outputs": [
    {
     "name": "stdout",
     "output_type": "stream",
     "text": [
      "           time       click_times   ad_id\n",
      "            max count         sum nunique\n",
      "user_id                                  \n",
      "1.0        76.0    13        14.0    12.0\n",
      "2.0        90.0    45        46.0    42.0\n",
      "3.0        88.0    30        30.0    30.0\n",
      "4.0        84.0    29        29.0    29.0\n",
      "5.0        87.0    33        34.0    33.0\n",
      "6.0        88.0    17        17.0    16.0\n",
      "7.0        88.0    10        10.0    10.0\n",
      "8.0        90.0    49        52.0    48.0\n",
      "9.0        86.0    20        21.0    17.0\n",
      "10.0       91.0    10        10.0     9.0\n",
      "...         ...   ...         ...     ...\n",
      "3999991.0  86.0    19        19.0    16.0\n",
      "3999992.0  89.0    16        16.0    16.0\n",
      "3999993.0  79.0    25        25.0    21.0\n",
      "3999994.0  89.0    39        39.0    35.0\n",
      "3999995.0  91.0    49        52.0    47.0\n",
      "3999996.0  90.0    66        75.0    65.0\n",
      "3999997.0  89.0    20        20.0    18.0\n",
      "3999998.0  90.0    19        20.0    18.0\n",
      "3999999.0  91.0    80        86.0    79.0\n",
      "4000000.0  77.0    63        67.0    63.0\n",
      "\n",
      "[1900000 rows x 4 columns]\n"
     ]
    }
   ],
   "source": [
    "grouped_user_df = total_merged_df.groupby(['user_id']).agg({'time':['max','count'], 'click_times':sum,'ad_id':pd.Series.nunique})\n",
    "print(grouped_user_df)"
   ]
  },
  {
   "cell_type": "code",
   "execution_count": 10,
   "metadata": {},
   "outputs": [
    {
     "name": "stdout",
     "output_type": "stream",
     "text": [
      "           time_max  time_count  click_times_sum  ad_id_nunique\n",
      "user_id                                                        \n",
      "1.0            76.0          13             14.0           12.0\n",
      "2.0            90.0          45             46.0           42.0\n",
      "3.0            88.0          30             30.0           30.0\n",
      "4.0            84.0          29             29.0           29.0\n",
      "5.0            87.0          33             34.0           33.0\n",
      "6.0            88.0          17             17.0           16.0\n",
      "7.0            88.0          10             10.0           10.0\n",
      "8.0            90.0          49             52.0           48.0\n",
      "9.0            86.0          20             21.0           17.0\n",
      "10.0           91.0          10             10.0            9.0\n",
      "...             ...         ...              ...            ...\n",
      "3999991.0      86.0          19             19.0           16.0\n",
      "3999992.0      89.0          16             16.0           16.0\n",
      "3999993.0      79.0          25             25.0           21.0\n",
      "3999994.0      89.0          39             39.0           35.0\n",
      "3999995.0      91.0          49             52.0           47.0\n",
      "3999996.0      90.0          66             75.0           65.0\n",
      "3999997.0      89.0          20             20.0           18.0\n",
      "3999998.0      90.0          19             20.0           18.0\n",
      "3999999.0      91.0          80             86.0           79.0\n",
      "4000000.0      77.0          63             67.0           63.0\n",
      "\n",
      "[1900000 rows x 4 columns]\n"
     ]
    }
   ],
   "source": [
    "grouped_user_df.columns = [ '_'.join(i) for i in grouped_user_df.columns.values]\n",
    "print(grouped_user_df)"
   ]
  },
  {
   "cell_type": "code",
   "execution_count": 16,
   "metadata": {},
   "outputs": [
    {
     "name": "stdout",
     "output_type": "stream",
     "text": [
      "     click_event_count  click_event_count_uv  click_event_count_uv_cumsum\n",
      "0                    2                     3                            3\n",
      "1                    3                    11                           14\n",
      "2                    4                    27                           41\n",
      "3                    5                    82                          123\n",
      "4                    6                   248                          371\n",
      "5                    7                  1232                         1603\n",
      "6                    8                  4776                         6379\n",
      "7                    9                 22055                        28434\n",
      "8                   10                 77471                       105905\n",
      "9                   11                 93286                       199191\n",
      "..                 ...                   ...                          ...\n",
      "674               2064                     1                      1899991\n",
      "675               2108                     1                      1899992\n",
      "676               2295                     1                      1899993\n",
      "677              10318                     1                      1899994\n",
      "678              11116                     1                      1899995\n",
      "679              16868                     1                      1899996\n",
      "680              18178                     1                      1899997\n",
      "681              25506                     1                      1899998\n",
      "682              26609                     1                      1899999\n",
      "683             113974                     1                      1900000\n",
      "\n",
      "[684 rows x 3 columns]\n",
      "quantile 0.1 :70\n",
      "quantile 0.2 :139\n",
      "quantile 0.3 :207\n",
      "quantile 0.4 :275\n",
      "quantile 0.5 :344\n",
      "quantile 0.6 :412\n",
      "quantile 0.7 :482\n",
      "quantile 0.8 :566\n",
      "quantile 0.9 :751\n",
      "quantile 0.91 :778\n",
      "quantile 0.92 :815\n",
      "quantile 0.93 :882\n",
      "quantile 0.94 :911\n",
      "quantile 0.95 :946\n",
      "quantile 0.96 :1066\n",
      "quantile 0.97 :1211\n",
      "quantile 0.98 :1532\n",
      "quantile 0.99 :2295\n"
     ]
    }
   ],
   "source": [
    "user_value_counts = grouped_user_df['time_count'].value_counts().sort_index().reset_index().rename(columns={'index':'click_event_count','time_count':'click_event_count_uv'})\n",
    "user_value_counts['click_event_count_uv_cumsum'] = user_value_counts['click_event_count_uv'].cumsum()\n",
    "\n",
    "#.sort_index().reset_index().rename(columns={'index':'ad_id_count','ad_id':'ad_id_count_size'})\n",
    "#value_counts['ad_id_count_size_cumsize'] = value_counts['ad_id_count_size'].cumsum()\n",
    "print(user_value_counts)\n",
    "for p in [(i +1) * 0.1 for i in  range(9)] + [(i +1) * 0.01 + 0.9 for i in  range(9)]:\n",
    "    pr=round(p,3)\n",
    "    pv = user_value_counts['click_event_count_uv_cumsum'].quantile(pr,interpolation='nearest')\n",
    "    c = user_value_counts[user_value_counts['click_event_count_uv_cumsum'] == pv]['click_event_count'].values[0]\n",
    "    #pvr = round(pv,3)\n",
    "    print(f'quantile {pr} :{c}') "
   ]
  },
  {
   "cell_type": "code",
   "execution_count": 27,
   "metadata": {},
   "outputs": [
    {
     "name": "stdout",
     "output_type": "stream",
     "text": [
      "     click_event_count  click_event_count_uv  click_event_count_uv_cumsum  click_event_count_uv_cumsum_percent\n",
      "9                   11                 93286                       199191                             0.104837\n",
      "10                  12                 87214                       286405                             0.150739\n",
      "11                  13                 81029                       367434                             0.193386\n",
      "12                  14                 76229                       443663                             0.233507\n",
      "13                  15                 70573                       514236                             0.270651\n",
      "14                  16                 66238                       580474                             0.305513\n",
      "15                  17                 62740                       643214                             0.338534\n",
      "16                  18                 57944                       701158                             0.369031\n",
      "17                  19                 55232                       756390                             0.398100\n",
      "18                  20                 52154                       808544                             0.425549\n",
      "..                 ...                   ...                          ...                                  ...\n",
      "674               2064                     1                      1899991                             0.999995\n",
      "675               2108                     1                      1899992                             0.999996\n",
      "676               2295                     1                      1899993                             0.999996\n",
      "677              10318                     1                      1899994                             0.999997\n",
      "678              11116                     1                      1899995                             0.999997\n",
      "679              16868                     1                      1899996                             0.999998\n",
      "680              18178                     1                      1899997                             0.999998\n",
      "681              25506                     1                      1899998                             0.999999\n",
      "682              26609                     1                      1899999                             0.999999\n",
      "683             113974                     1                      1900000                             1.000000\n",
      "\n",
      "[675 rows x 4 columns]\n"
     ]
    }
   ],
   "source": [
    "print(user_value_counts[user_value_counts.click_event_count > 10])"
   ]
  },
  {
   "cell_type": "code",
   "execution_count": 6,
   "metadata": {},
   "outputs": [
    {
     "name": "stdout",
     "output_type": "stream",
     "text": [
      "                     time  click_times\n",
      "user_id   ad_id                       \n",
      "1.0       2116146.0  73.0          2.0\n",
      "          3093461.0  76.0          2.0\n",
      "...                   ...          ...\n",
      "4000000.0 2868147.0  76.0          1.0\n",
      "          3181227.0  77.0          1.0\n",
      "\n",
      "[58270928 rows x 2 columns]\n"
     ]
    }
   ],
   "source": [
    "grouped_df = grouped_df.sort_values(by=['user_id','click_times','time'],ascending=[True, False,True])\n",
    "print(grouped_df)"
   ]
  },
  {
   "cell_type": "code",
   "execution_count": 7,
   "metadata": {},
   "outputs": [
    {
     "name": "stdout",
     "output_type": "stream",
     "text": [
      "     ad_id_count  ad_id_count_size  ad_id_count_size_cumsize\n",
      "0              1                 5                         5\n",
      "1              2                40                        45\n",
      "..           ...               ...                       ...\n",
      "591        16556                 1                   1899999\n",
      "592        63796                 1                   1900000\n",
      "\n",
      "[593 rows x 3 columns]\n"
     ]
    }
   ],
   "source": [
    "value_counts = grouped_df.reset_index().groupby(['user_id']).ad_id.count().value_counts().sort_index().reset_index().rename(columns={'index':'ad_id_count','ad_id':'ad_id_count_size'})\n",
    "value_counts['ad_id_count_size_cumsize'] = value_counts['ad_id_count_size'].cumsum()\n",
    "print(value_counts)"
   ]
  },
  {
   "cell_type": "code",
   "execution_count": 23,
   "metadata": {},
   "outputs": [
    {
     "name": "stdout",
     "output_type": "stream",
     "text": [
      "     ad_id_count  ad_id_count_size  ad_id_count_size_cumsum  ad_id_count_size_cumsum_percent\n",
      "0              1                 5                        5                         0.000003\n",
      "1              2                40                       45                         0.000024\n",
      "2              3               102                      147                         0.000077\n",
      "3              4               339                      486                         0.000256\n",
      "4              5               793                     1279                         0.000673\n",
      "5              6              2131                     3410                         0.001795\n",
      "6              7              5901                     9311                         0.004901\n",
      "7              8             16179                    25490                         0.013416\n",
      "8              9             42758                    68248                         0.035920\n",
      "9             10             87083                   155331                         0.081753\n",
      "..           ...               ...                      ...                              ...\n",
      "583         1423                 1                  1899991                         0.999995\n",
      "584         1559                 1                  1899992                         0.999996\n",
      "585         1827                 1                  1899993                         0.999996\n",
      "586         7013                 1                  1899994                         0.999997\n",
      "587         7528                 1                  1899995                         0.999997\n",
      "588        10870                 1                  1899996                         0.999998\n",
      "589        11639                 1                  1899997                         0.999998\n",
      "590        15942                 1                  1899998                         0.999999\n",
      "591        16556                 1                  1899999                         0.999999\n",
      "592        63796                 1                  1900000                         1.000000\n",
      "\n",
      "[593 rows x 4 columns]\n"
     ]
    }
   ],
   "source": [
    "pd.set_option('display.max_rows', 20)\n",
    "value_counts = grouped_df.reset_index().groupby(['user_id']).ad_id.count().value_counts().sort_index().reset_index().rename(columns={'index':'ad_id_count','ad_id':'ad_id_count_size'})\n",
    "value_counts['ad_id_count_size_cumsum'] = value_counts['ad_id_count_size'].cumsum()\n",
    "value_counts['ad_id_count_size_cumsum_percent'] = value_counts['ad_id_count_size_cumsum'] /1900000\n",
    "\n",
    "#print(len(value_counts))\n",
    "print(value_counts)\n",
    "# for p in [(i +1) * 0.1 for i in  range(9)] + [(i +1) * 0.01 + 0.9 for i in  range(9)]:\n",
    "#     pr=round(p,3)\n",
    "#     pv = value_counts['ad_id_count_size_cumsum'].quantile(pr,interpolation='nearest')\n",
    "#     c = value_counts[value_counts['ad_id_count_size_cumsum'] == pv]['ad_id_count'].values[0]\n",
    "#     #pvr = round(pv,3)\n",
    "#     print(f'quantile {pr} :{c}') \n"
   ]
  },
  {
   "cell_type": "code",
   "execution_count": 34,
   "metadata": {},
   "outputs": [
    {
     "name": "stdout",
     "output_type": "stream",
     "text": [
      "     click_event_count  click_event_count_uv  click_event_count_uv_cumsum  click_event_count_uv_cumsum_percent\n",
      "29                  31                 29284                      1228615                             0.646639\n",
      "30                  32                 27737                      1256352                             0.661238\n",
      "31                  33                 26608                      1282960                             0.675242\n",
      "32                  34                 25306                      1308266                             0.688561\n",
      "33                  35                 23813                      1332079                             0.701094\n",
      "34                  36                 22840                      1354919                             0.713115\n",
      "35                  37                 21589                      1376508                             0.724478\n",
      "36                  38                 20817                      1397325                             0.735434\n",
      "37                  39                 19824                      1417149                             0.745868\n",
      "38                  40                 18832                      1435981                             0.755779\n",
      "..                 ...                   ...                          ...                                  ...\n",
      "674               2064                     1                      1899991                             0.999995\n",
      "675               2108                     1                      1899992                             0.999996\n",
      "676               2295                     1                      1899993                             0.999996\n",
      "677              10318                     1                      1899994                             0.999997\n",
      "678              11116                     1                      1899995                             0.999997\n",
      "679              16868                     1                      1899996                             0.999998\n",
      "680              18178                     1                      1899997                             0.999998\n",
      "681              25506                     1                      1899998                             0.999999\n",
      "682              26609                     1                      1899999                             0.999999\n",
      "683             113974                     1                      1900000                             1.000000\n",
      "\n",
      "[655 rows x 4 columns]\n",
      "     ad_id_count  ad_id_count_size  ad_id_count_size_cumsum  ad_id_count_size_cumsum_percent\n",
      "30            31             28293                  1298933                         0.683649\n",
      "31            32             26797                  1325730                         0.697753\n",
      "32            33             25568                  1351298                         0.711209\n",
      "33            34             24130                  1375428                         0.723909\n",
      "34            35             22707                  1398135                         0.735861\n",
      "35            36             21618                  1419753                         0.747238\n",
      "36            37             20609                  1440362                         0.758085\n",
      "37            38             19654                  1460016                         0.768429\n",
      "38            39             18327                  1478343                         0.778075\n",
      "39            40             17658                  1496001                         0.787369\n",
      "..           ...               ...                      ...                              ...\n",
      "583         1423                 1                  1899991                         0.999995\n",
      "584         1559                 1                  1899992                         0.999996\n",
      "585         1827                 1                  1899993                         0.999996\n",
      "586         7013                 1                  1899994                         0.999997\n",
      "587         7528                 1                  1899995                         0.999997\n",
      "588        10870                 1                  1899996                         0.999998\n",
      "589        11639                 1                  1899997                         0.999998\n",
      "590        15942                 1                  1899998                         0.999999\n",
      "591        16556                 1                  1899999                         0.999999\n",
      "592        63796                 1                  1900000                         1.000000\n",
      "\n",
      "[563 rows x 4 columns]\n",
      "     click_times_sum  click_times_sum_uv  click_times_sum_uv_cumsum  click_times_sum_uv_cumsum_percent\n",
      "21              31.0               29586                    1183908                           0.623109\n",
      "22              32.0               28183                    1212091                           0.637943\n",
      "23              33.0               26986                    1239077                           0.652146\n",
      "24              34.0               25465                    1264542                           0.665548\n",
      "25              35.0               24427                    1288969                           0.678405\n",
      "26              36.0               23370                    1312339                           0.690705\n",
      "27              37.0               22003                    1334342                           0.702285\n",
      "28              38.0               21467                    1355809                           0.713584\n",
      "29              39.0               20246                    1376055                           0.724239\n",
      "30              40.0               19575                    1395630                           0.734542\n",
      "..               ...                 ...                        ...                                ...\n",
      "773           2244.0                   1                    1899991                           0.999995\n",
      "774           2312.0                   1                    1899992                           0.999996\n",
      "775           3385.0                   1                    1899993                           0.999996\n",
      "776          12297.0                   1                    1899994                           0.999997\n",
      "777          13280.0                   1                    1899995                           0.999997\n",
      "778          21330.0                   1                    1899996                           0.999998\n",
      "779          23328.0                   1                    1899997                           0.999998\n",
      "780          33372.0                   1                    1899998                           0.999999\n",
      "781          35283.0                   1                    1899999                           0.999999\n",
      "782         194614.0                   1                    1900000                           1.000000\n",
      "\n",
      "[762 rows x 4 columns]\n"
     ]
    }
   ],
   "source": [
    "uv = 30\n",
    "print(user_value_counts[user_value_counts.click_event_count > uv])\n",
    "print(value_counts[value_counts.ad_id_count > uv])\n",
    "print(sum_value_counts[sum_value_counts.click_times_sum > uv])"
   ]
  },
  {
   "cell_type": "code",
   "execution_count": 33,
   "metadata": {},
   "outputs": [
    {
     "name": "stdout",
     "output_type": "stream",
     "text": [
      "     click_times_sum  click_times_sum_uv  click_times_sum_uv_cumsum  click_times_sum_uv_cumsum_percent\n",
      "0               10.0               66967                      66967                           0.035246\n",
      "1               11.0               91520                     158487                           0.083414\n",
      "2               12.0               85711                     244198                           0.128525\n",
      "3               13.0               80204                     324402                           0.170738\n",
      "4               14.0               75113                     399515                           0.210271\n",
      "5               15.0               70031                     469546                           0.247129\n",
      "6               16.0               65808                     535354                           0.281765\n",
      "7               17.0               61975                     597329                           0.314384\n",
      "8               18.0               57903                     655232                           0.344859\n",
      "9               19.0               55006                     710238                           0.373809\n",
      "..               ...                 ...                        ...                                ...\n",
      "773           2244.0                   1                    1899991                           0.999995\n",
      "774           2312.0                   1                    1899992                           0.999996\n",
      "775           3385.0                   1                    1899993                           0.999996\n",
      "776          12297.0                   1                    1899994                           0.999997\n",
      "777          13280.0                   1                    1899995                           0.999997\n",
      "778          21330.0                   1                    1899996                           0.999998\n",
      "779          23328.0                   1                    1899997                           0.999998\n",
      "780          33372.0                   1                    1899998                           0.999999\n",
      "781          35283.0                   1                    1899999                           0.999999\n",
      "782         194614.0                   1                    1900000                           1.000000\n",
      "\n",
      "[783 rows x 4 columns]\n"
     ]
    }
   ],
   "source": [
    "sum_value_counts = grouped_df.reset_index().groupby(['user_id']).click_times.sum().value_counts().sort_index().reset_index().rename(columns={'index':'click_times_sum','click_times':'click_times_sum_uv'})\n",
    "sum_value_counts['click_times_sum_uv_cumsum'] = sum_value_counts['click_times_sum_uv'].cumsum()\n",
    "sum_value_counts['click_times_sum_uv_cumsum_percent'] = sum_value_counts['click_times_sum_uv_cumsum'] / 1900000\n",
    "\n",
    "print(sum_value_counts)"
   ]
  },
  {
   "cell_type": "code",
   "execution_count": null,
   "metadata": {},
   "outputs": [],
   "source": []
  }
 ],
 "metadata": {
  "kernelspec": {
   "display_name": "Python 3",
   "language": "python",
   "name": "python3"
  },
  "language_info": {
   "codemirror_mode": {
    "name": "ipython",
    "version": 3
   },
   "file_extension": ".py",
   "mimetype": "text/x-python",
   "name": "python",
   "nbconvert_exporter": "python",
   "pygments_lexer": "ipython3",
   "version": "3.7.3"
  }
 },
 "nbformat": 4,
 "nbformat_minor": 4
}
