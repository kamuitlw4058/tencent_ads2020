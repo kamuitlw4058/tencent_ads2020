{
 "cells": [
  {
   "cell_type": "code",
   "execution_count": 1,
   "metadata": {},
   "outputs": [],
   "source": [
    "import os\n",
    "import pandas as pd\n",
    "import numpy as np\n",
    "import random\n",
    "import gc\n",
    "from datetime import datetime\n",
    "from tqdm import tqdm_notebook as tqdm\n",
    "import matplotlib.pyplot as plt\n",
    "from gensim.corpora import WikiCorpus\n",
    "from gensim.models import Word2Vec\n",
    "from gensim.models.word2vec import LineSentence\n",
    "from sklearn.feature_extraction.text import TfidfVectorizer\n",
    "from sklearn.model_selection import train_test_split\n",
    "from  collections import Counter\n",
    "\n",
    "np.random.seed(2019)\n",
    "random.seed(2019)\n",
    "pd.set_option('display.max_rows', 6)\n",
    "pd.set_option('display.max_columns', 500)\n",
    "pd.set_option('display.width', 280)\n",
    "pd.set_option('display.max_colwidth', 150)\n",
    "data_path = '/data/workspace/kimi/tencent_ads/2020/dataset'\n",
    "preprocess_path = 'preprocess'"
   ]
  },
  {
   "cell_type": "code",
   "execution_count": 2,
   "metadata": {},
   "outputs": [],
   "source": [
    "def get_merged_log(flag):\n",
    "    merged= f'{flag}_merged_log.pkl'\n",
    "    merged_path = f'{preprocess_path}/{merged}'\n",
    "    merged_df = pd.read_pickle(merged_path)\n",
    "    print(merged_df)\n",
    "    return merged_df"
   ]
  },
  {
   "cell_type": "code",
   "execution_count": 3,
   "metadata": {},
   "outputs": [
    {
     "name": "stdout",
     "output_type": "stream",
     "text": [
      "          time   user_id  creative_id  click_times      ad_id  product_id  product_category  advertiser_id  industry\n",
      "0          9.0   30920.0     567330.0          1.0   504423.0     30673.0               3.0        32638.0     319.0\n",
      "1         15.0  320815.0     567330.0          1.0   504423.0     30673.0               3.0        32638.0     319.0\n",
      "2         11.0  355089.0     567330.0          1.0   504423.0     30673.0               3.0        32638.0     319.0\n",
      "...        ...       ...          ...          ...        ...         ...               ...            ...       ...\n",
      "30082768  76.0  309198.0    3686554.0          2.0  3172440.0      3979.0               2.0        52506.0     247.0\n",
      "30082769  50.0  309198.0    2386973.0          1.0  2057811.0      1946.0               2.0        17757.0     259.0\n",
      "30082770  12.0   30920.0     717026.0          1.0   634512.0        -1.0              18.0        26466.0     126.0\n",
      "\n",
      "[30082771 rows x 9 columns]\n",
      "          time  user_id  creative_id  click_times   ad_id  product_id  product_category  advertiser_id  industry\n",
      "0           20  3131989       645764            1  573314          58                 2          14689         6\n",
      "1           10  3142948       645764            1  573314          58                 2          14689         6\n",
      "2           14  3170643       645764            1  573314          58                 2          14689         6\n",
      "...        ...      ...          ...          ...     ...         ...               ...            ...       ...\n",
      "33585509     5  3131984       322785            1  290114        2031                 2          19976       238\n",
      "33585510    16  3131984       900585            1  793805        1766                 2          33097       319\n",
      "33585511    16  3131988       899450            1  792851          -1                18          22897        47\n",
      "\n",
      "[33585512 rows x 9 columns]\n",
      "          time    user_id  creative_id  click_times      ad_id  product_id  product_category  advertiser_id  industry\n",
      "2134125    1.0  3969503.0     146454.0          1.0   131508.0        -1.0              18.0        34137.0      40.0\n",
      "25196907   1.0     2267.0     249047.0          1.0   223979.0      1927.0               2.0        15784.0     322.0\n",
      "13936212   1.0   512898.0     168451.0          1.0   150988.0      1243.0               2.0        29966.0     322.0\n",
      "...        ...        ...          ...          ...        ...         ...               ...            ...       ...\n",
      "28730719  91.0  3773900.0    3680751.0          1.0  3167517.0     42718.0              17.0        10259.0      -1.0\n",
      "23168403  91.0   498277.0    3877769.0          1.0  3331468.0     26858.0               3.0           23.0      60.0\n",
      "13125865  91.0   141441.0    4329985.0          1.0  3712996.0     39503.0              17.0        13328.0      -1.0\n",
      "\n",
      "[63668283 rows x 9 columns]\n"
     ]
    },
    {
     "data": {
      "text/plain": [
       "14"
      ]
     },
     "execution_count": 3,
     "metadata": {},
     "output_type": "execute_result"
    }
   ],
   "source": [
    "train_merged_log_df = get_merged_log('train')\n",
    "test_merged_log_df = get_merged_log('test')\n",
    "total_merged_df = pd.concat([train_merged_log_df,test_merged_log_df]).sort_values(by='time')\n",
    "print(total_merged_df)\n",
    "\n",
    "del train_merged_log_df\n",
    "del test_merged_log_df\n",
    "gc.collect()"
   ]
  },
  {
   "cell_type": "code",
   "execution_count": 4,
   "metadata": {},
   "outputs": [],
   "source": [
    "def w2v(log,pivot,f,flag,L,model_path,seq_len=200,sentence_len=100,window=5,sg=1,negative=5):\n",
    "    #word2vec算法\n",
    "    #log为曝光日志，以pivot为主键，f为embedding的对象，flag为dev或test，L是embedding的维度\n",
    "    print(\"w2v:\",pivot,f,model_path)\n",
    "    #构造文档\n",
    "    sentence=[]\n",
    "    dic={}\n",
    "    day=0\n",
    "    log['day'] = log['time']\n",
    "    print('build...')\n",
    "    if f != 'time':\n",
    "        grouped_df =  log.groupby(['user_id', f]).agg({'click_times':'sum','time':'max'}).reset_index().sort_values(by=['user_id','click_times','time'],ascending=[True, False,True])\n",
    "    else:\n",
    "        grouped_df =  log.groupby(['user_id', f]).agg({'click_times':'sum'}).reset_index().sort_values(by=['user_id','click_times'],ascending=[True, False])\n",
    "    print(grouped_df)\n",
    "    \n",
    "    for item in tqdm(grouped_df[[pivot,f]].values,total=len(grouped_df)):\n",
    "        try:\n",
    "            dic[item[0]].append(str(int(item[1])))\n",
    "        except:\n",
    "            dic[item[0]]=[str(int(item[1]))]\n",
    "    \n",
    "    for key in dic:\n",
    "        sentence.append(dic[key])\n",
    "    print(sentence[:5])\n",
    "    print(len(sentence))\n",
    "    #训练Word2Vec模型\n",
    "    print('shuffle...')\n",
    "    random.shuffle(sentence)\n",
    "    print('training...')\n",
    "    model = Word2Vec(sentence, size=L, window=window, min_count=1, workers=10,sg=sg,negative=negative,iter=10)\n",
    "    model_file_path = f'{model_path}/{f}_{flag}_s{L}_w{window}_emb.model'\n",
    "    print(model_file_path)\n",
    "    model.save(model_file_path)\n",
    "    print(model)\n",
    "    \n",
    "#     ret = []\n",
    "#     for key in dic:\n",
    "#          ret.append([key,dic[key]])\n",
    "#     print(ret[:20])\n",
    "#     cols = ['user_id'] + [f'{f}_clk_times_seq']\n",
    "#     ret_df = pd.DataFrame(ret,columns=cols)\n",
    "#     output_path = f'{preprocess_path}/{f}_{flag}_s{L}_clk_times_ns_seq.pkl'\n",
    "#     ret_df.to_pickle(output_path)\n",
    "    \n",
    "    \n"
   ]
  },
  {
   "cell_type": "code",
   "execution_count": 5,
   "metadata": {},
   "outputs": [],
   "source": [
    "size=128\n",
    "flag = 'clk_ns_total'\n",
    "model_dir = f'/data/workspace/kimi/tencent_ads/2020/kimi/model'"
   ]
  },
  {
   "cell_type": "code",
   "execution_count": null,
   "metadata": {},
   "outputs": [
    {
     "name": "stdout",
     "output_type": "stream",
     "text": [
      "w2v: user_id creative_id /data/workspace/kimi/tencent_ads/2020/kimi/model\n",
      "build...\n",
      "            user_id  creative_id  click_times  time\n",
      "9               1.0    2456345.0          2.0  73.0\n",
      "11              1.0    3592928.0          2.0  76.0\n",
      "3               1.0     209778.0          1.0  20.0\n",
      "...             ...          ...          ...   ...\n",
      "58373027  4000000.0     366858.0          1.0  76.0\n",
      "58373063  4000000.0    3333680.0          1.0  76.0\n",
      "58373067  4000000.0    3697105.0          1.0  77.0\n",
      "\n",
      "[58373068 rows x 4 columns]\n"
     ]
    },
    {
     "data": {
      "application/vnd.jupyter.widget-view+json": {
       "model_id": "b144b5e3b6b54715b374f01986d51574",
       "version_major": 2,
       "version_minor": 0
      },
      "text/plain": [
       "HBox(children=(IntProgress(value=0, max=58373068), HTML(value='')))"
      ]
     },
     "metadata": {},
     "output_type": "display_data"
    },
    {
     "name": "stdout",
     "output_type": "stream",
     "text": [
      "\n",
      "[['2456345', '3592928', '209778', '821396', '877468', '1683713', '122032', '71691', '1940159', '90171', '2087846', '3068256'], ['1145367', '1696925', '2085566', '15558', '63441', '155822', '39714', '609050', '13069', '441462', '1266180', '1657530', '769749', '1074235', '1252062', '1662244', '96192', '157180', '396652', '2369339', '647980', '2143574', '2489057', '2552139', '2496722', '2624965', '2108551', '2785305', '2862407', '738378', '3246898', '3443654', '2995416', '1416518', '3765766', '3766271', '3574990', '2270719', '22013', '513298', '4194247', '625944'], ['661347', '808612', '593522', '710859', '825434', '726940', '392052', '1173863', '862241', '1725184', '72533', '1014211', '2073029', '2198902', '66009', '1899318', '2081930', '2502798', '3386299', '3403177', '3255755', '599128', '3560473', '3684862', '3696597', '3491821', '2816845', '2032927', '3581615', '2556703'], ['39588', '589886', '574787', '1892854', '31070', '1230094', '1962706', '2264105', '2348342', '2189510', '2697265', '2728508', '765502', '72989', '1150678', '1457862', '2482695', '2800740', '2907196', '3029703', '2741116', '1003974', '2928770', '1706276', '2800679', '215041', '2965543', '3321332', '4039445'], ['1054434', '296145', '350759', '24333', '43235', '852327', '1296456', '1248711', '75011', '1203465', '883622', '1416283', '1470226', '1471015', '795508', '1635471', '2255072', '2234921', '2404279', '2326983', '2523207', '2570929', '1384893', '2386115', '2725485', '2748493', '3042506', '2324908', '3552766', '3364990', '3804062', '3849277', '4189888']]\n",
      "1900000\n",
      "shuffle...\n",
      "training...\n",
      "/data/workspace/kimi/tencent_ads/2020/kimi/model/creative_id_clk_ns_total_s128_w10_emb.model\n",
      "Word2Vec(vocab=3412772, size=128, alpha=0.025)\n",
      "w2v: user_id ad_id /data/workspace/kimi/tencent_ads/2020/kimi/model\n",
      "build...\n",
      "            user_id      ad_id  click_times  time\n",
      "9               1.0  2116146.0          2.0  73.0\n",
      "11              1.0  3093461.0          2.0  76.0\n",
      "3               1.0   188507.0          1.0  20.0\n",
      "...             ...        ...          ...   ...\n",
      "58270887  4000000.0   331268.0          1.0  76.0\n",
      "58270923  4000000.0  2868147.0          1.0  76.0\n",
      "58270927  4000000.0  3181227.0          1.0  77.0\n",
      "\n",
      "[58270928 rows x 4 columns]\n"
     ]
    },
    {
     "data": {
      "application/vnd.jupyter.widget-view+json": {
       "model_id": "76211161f4fa4a5fa2ac854842efd822",
       "version_major": 2,
       "version_minor": 0
      },
      "text/plain": [
       "HBox(children=(IntProgress(value=0, max=58270928), HTML(value='')))"
      ]
     },
     "metadata": {},
     "output_type": "display_data"
    },
    {
     "name": "stdout",
     "output_type": "stream",
     "text": [
      "\n",
      "[['2116146', '3093461', '188507', '724607', '773445', '1458878', '109959', '66210', '1678901', '82421', '1803758', '2638858'], ['1003786', '1469873', '1801889', '16946', '58788', '139702', '38066', '541125', '14495', '392680', '1107111', '1436687', '680028', '942883', '1095314', '1440744', '87644', '140916', '354247', '2042824', '575249', '1851077', '2143842', '2197677', '2150246', '2259448', '1821340', '2394728', '2461002', '653169', '2793270', '2964754', '2576212', '1235723', '3238255', '3238685', '3078081', '1959296', '22877', '456635', '3598073', '555841'], ['586668', '713448', '527601', '629278', '728308', '643108', '350235', '1027874', '760110', '1493871', '66929', '891470', '1791274', '1898111', '60437', '1640307', '1798799', '2155455', '2914064', '2118485', '2800842', '532510', '3065742', '3171030', '3180793', '3007026', '2421620', '1757244', '3083678', '2201596'], ['37966', '524312', '511235', '1638619', '30773', '1076286', '1698206', '1953681', '2024723', '1890064', '2320452', '2346644', '676501', '67343', '1008002', '1270164', '2138424', '2407611', '2498920', '2605600', '2357172', '882542', '2517968', '1477751', '2407560', '193314', '2549734', '2857491', '3467430'], ['925792', '265971', '314795', '24966', '41148', '751113', '1133781', '1086750', '69138', '1053290', '778824', '1235536', '1280505', '1281171', '702324', '1417765', '1946060', '1929205', '2072059', '2006837', '2173089', '2213812', '1209022', '2057065', '2343843', '2363763', '2616003', '2005036', '3059178', '2895441', '3269815', '3307855', '3594306']]\n",
      "1900000\n",
      "shuffle...\n",
      "training...\n",
      "/data/workspace/kimi/tencent_ads/2020/kimi/model/ad_id_clk_ns_total_s128_w10_emb.model\n",
      "Word2Vec(vocab=3027360, size=128, alpha=0.025)\n",
      "w2v: user_id product_id /data/workspace/kimi/tencent_ads/2020/kimi/model\n",
      "build...\n",
      "            user_id  product_id  click_times  time\n",
      "0               1.0        -1.0          7.0  60.0\n",
      "1               1.0        64.0          2.0  73.0\n",
      "3               1.0      1261.0          2.0  76.0\n",
      "...             ...         ...          ...   ...\n",
      "23254090  4000000.0       136.0          1.0  70.0\n",
      "23254096  4000000.0      1469.0          1.0  76.0\n",
      "23254089  4000000.0       107.0          1.0  77.0\n",
      "\n",
      "[23254114 rows x 4 columns]\n"
     ]
    },
    {
     "data": {
      "application/vnd.jupyter.widget-view+json": {
       "model_id": "3d5288a72b774cf9bcb6e532bd9de4f9",
       "version_major": 2,
       "version_minor": 0
      },
      "text/plain": [
       "HBox(children=(IntProgress(value=0, max=23254114), HTML(value='')))"
      ]
     },
     "metadata": {},
     "output_type": "display_data"
    },
    {
     "name": "stdout",
     "output_type": "stream",
     "text": [
      "\n",
      "[['-1', '64', '1261', '136', '1334', '1454'], ['-1', '129', '1064', '87', '80', '111', '1849', '107', '1400', '1261', '1268', '2031', '154', '2103', '15872', '2637', '2065', '128', '1323', '11119'], ['-1', '1674', '1786', '2258', '23', '36256', '40905', '35985', '1031', '38847', '2887', '1261', '1243', '1873', '37933', '37243', '38250'], ['-1', '154', '1261', '2065', '1862', '2625', '38743', '37758', '39422', '39904', '41265', '129', '29', '58', '1334', '39856', '40071', '43761'], ['-1', '136', '87', '1064', '2620', '2510', '1036']]\n",
      "1900000\n",
      "shuffle...\n",
      "training...\n",
      "/data/workspace/kimi/tencent_ads/2020/kimi/model/product_id_clk_ns_total_s128_w10_emb.model\n",
      "Word2Vec(vocab=39057, size=128, alpha=0.025)\n",
      "w2v: user_id advertiser_id /data/workspace/kimi/tencent_ads/2020/kimi/model\n",
      "build...\n",
      "            user_id  advertiser_id  click_times  time\n",
      "0               1.0          188.0          2.0  73.0\n",
      "4               1.0        10988.0          2.0  76.0\n",
      "2               1.0         7293.0          1.0  20.0\n",
      "...             ...            ...          ...   ...\n",
      "44625277  4000000.0        36668.0          1.0  75.0\n",
      "44625274  4000000.0        32830.0          1.0  76.0\n",
      "44625290  4000000.0        52421.0          1.0  77.0\n",
      "\n",
      "[44625291 rows x 4 columns]\n"
     ]
    },
    {
     "data": {
      "application/vnd.jupyter.widget-view+json": {
       "model_id": "be17cee48f7946a09706cb008ec4c0a1",
       "version_major": 2,
       "version_minor": 0
      },
      "text/plain": [
       "HBox(children=(IntProgress(value=0, max=44625291), HTML(value='')))"
      ]
     },
     "metadata": {},
     "output_type": "display_data"
    },
    {
     "name": "stdout",
     "output_type": "stream",
     "text": [
      "\n",
      "[['188', '10988', '7293', '9702', '29455', '14668', '11411', '14681', '17189', '367', '44865', '23575'], ['42272', '22885', '27843', '26006', '10686', '57597', '17951', '33664', '18562', '25932', '768', '34505', '918', '34503', '17284', '13732', '20033', '25260', '2302', '38785', '14938', '14002', '52049', '29097', '52193', '36700', '45025', '11989', '14681', '40936', '25896', '16473', '38517', '818', '25704', '20193'], ['8371', '32974', '9877', '14186', '17018', '18492', '9058', '2336', '39500', '45169', '14289', '13119', '36384', '48608', '9970', '16764', '15351', '14498', '55248', '16895', '52263', '918', '31365', '34656', '7516', '15120', '17151', '28648'], ['8877', '14002', '19056', '19451', '7976', '13084', '12130', '811', '10172', '13299', '23664', '14682', '20033', '32762', '25896', '817', '19524', '52640', '6783', '29402', '34504', '14681', '11948', '21701', '50584', '55259'], ['2862', '13808', '13558', '11882', '992', '22885', '9706', '38760', '17745', '31552', '22918', '35549', '30920', '46940', '13855', '41693', '25144', '2615', '10315', '12118', '50331', '15900', '19658', '20611', '21185', '22178', '25354', '8520', '5551', '7540']]\n",
      "1900000\n",
      "shuffle...\n",
      "training...\n",
      "/data/workspace/kimi/tencent_ads/2020/kimi/model/advertiser_id_clk_ns_total_s128_w10_emb.model\n",
      "Word2Vec(vocab=57870, size=128, alpha=0.025)\n",
      "w2v: user_id product_category /data/workspace/kimi/tencent_ads/2020/kimi/model\n",
      "build...\n",
      "           user_id  product_category  click_times  time\n",
      "0              1.0               2.0          7.0  76.0\n",
      "1              1.0               5.0          5.0  52.0\n",
      "2              1.0              18.0          2.0  60.0\n",
      "...            ...               ...          ...   ...\n",
      "7266175  4000000.0              17.0          6.0  15.0\n",
      "7266173  4000000.0               5.0          4.0  72.0\n",
      "7266174  4000000.0               8.0          1.0  67.0\n",
      "\n",
      "[7266177 rows x 4 columns]\n"
     ]
    },
    {
     "data": {
      "application/vnd.jupyter.widget-view+json": {
       "model_id": "800e3997cb0a474fac84d05373e997c6",
       "version_major": 2,
       "version_minor": 0
      },
      "text/plain": [
       "HBox(children=(IntProgress(value=0, max=7266177), HTML(value='')))"
      ]
     },
     "metadata": {},
     "output_type": "display_data"
    },
    {
     "name": "stdout",
     "output_type": "stream",
     "text": [
      "\n",
      "[['2', '5', '18'], ['2', '18', '8'], ['2', '18', '17', '12', '8', '4'], ['2', '17', '18', '4', '5', '7'], ['18', '2', '5', '8']]\n",
      "1900000\n",
      "shuffle...\n",
      "training...\n",
      "/data/workspace/kimi/tencent_ads/2020/kimi/model/product_category_clk_ns_total_s128_w10_emb.model\n",
      "Word2Vec(vocab=18, size=128, alpha=0.025)\n",
      "w2v: user_id industry /data/workspace/kimi/tencent_ads/2020/kimi/model\n",
      "build...\n",
      "            user_id  industry  click_times  time\n",
      "8               1.0     326.0          3.0  43.0\n",
      "1               1.0       6.0          3.0  76.0\n",
      "7               1.0     245.0          2.0  73.0\n",
      "...             ...       ...          ...   ...\n",
      "24750304  4000000.0     297.0          1.0  71.0\n",
      "24750287  4000000.0      36.0          1.0  75.0\n",
      "24750285  4000000.0      21.0          1.0  76.0\n",
      "\n",
      "[24750309 rows x 4 columns]\n"
     ]
    },
    {
     "data": {
      "application/vnd.jupyter.widget-view+json": {
       "model_id": "20bd811f17f248038a2c9df840c9a3a2",
       "version_major": 2,
       "version_minor": 0
      },
      "text/plain": [
       "HBox(children=(IntProgress(value=0, max=24750309), HTML(value='')))"
      ]
     },
     "metadata": {},
     "output_type": "display_data"
    },
    {
     "name": "stdout",
     "output_type": "stream",
     "text": [
      "\n",
      "[['326', '6', '245', '106', '-1', '73', '217', '64', '238'], ['6', '47', '317', '242', '238', '36', '318', '319', '207', '5', '322', '289', '21', '250', '328'], ['322', '-1', '205', '6', '54', '319', '302', '247'], ['-1', '6', '319', '238', '317', '88', '25', '248', '295', '47'], ['6', '322', '319', '203', '54', '296', '297', '-1', '318', '288', '238', '242', '220', '28', '109', '289', '25', '8']]\n",
      "1900000\n",
      "shuffle...\n",
      "training...\n"
     ]
    }
   ],
   "source": [
    "#for i in ['time', 'creative_id', 'ad_id','product_id','advertiser_id','product_category','industry']:\n",
    "for i in ['creative_id', 'ad_id','product_id','advertiser_id','product_category','industry']:\n",
    "\n",
    "    w2v(total_merged_df,'user_id',i,flag,size,model_dir,window=10)\n",
    "    gc.collect()"
   ]
  },
  {
   "cell_type": "code",
   "execution_count": null,
   "metadata": {},
   "outputs": [],
   "source": []
  }
 ],
 "metadata": {
  "kernelspec": {
   "display_name": "Python 3",
   "language": "python",
   "name": "python3"
  },
  "language_info": {
   "codemirror_mode": {
    "name": "ipython",
    "version": 3
   },
   "file_extension": ".py",
   "mimetype": "text/x-python",
   "name": "python",
   "nbconvert_exporter": "python",
   "pygments_lexer": "ipython3",
   "version": "3.7.3"
  }
 },
 "nbformat": 4,
 "nbformat_minor": 4
}
