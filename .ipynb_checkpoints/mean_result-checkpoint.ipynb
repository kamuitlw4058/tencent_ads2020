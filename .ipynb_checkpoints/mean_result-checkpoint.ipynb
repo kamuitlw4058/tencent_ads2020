{
 "cells": [
  {
   "cell_type": "code",
   "execution_count": 1,
   "metadata": {},
   "outputs": [],
   "source": [
    "import lightgbm as lgb\n",
    "import os\n",
    "import math\n",
    "import pandas as pd\n",
    "import numpy as np\n",
    "import random\n",
    "import gc\n",
    "from datetime import datetime\n",
    "from tqdm import tqdm\n",
    "import matplotlib.pyplot as plt\n",
    "from sklearn.metrics import classification_report\n",
    "from sklearn.metrics import precision_score\n",
    "from sklearn.model_selection import train_test_split\n",
    "from sklearn.preprocessing import  OneHotEncoder\n",
    "\n",
    "np.random.seed(2019)\n",
    "random.seed(2019)\n",
    "pd.set_option('display.max_rows', 4)\n",
    "pd.set_option('display.max_columns', 10)\n",
    "pd.set_option('display.width', 280)\n",
    "pd.set_option('display.max_colwidth', 150)\n",
    "data_path = '/data/workspace/kimi/tencent_ads/2020/dataset'\n",
    "preprocess_path = 'preprocess'"
   ]
  },
  {
   "cell_type": "code",
   "execution_count": 2,
   "metadata": {},
   "outputs": [],
   "source": [
    "\n",
    "def get_precent_age(path,f,o):\n",
    "    df = pd.read_pickle(path)\n",
    "    df = df[['user_id',f]].rename(columns={f:o})\n",
    "    return df\n",
    "    \n"
   ]
  },
  {
   "cell_type": "code",
   "execution_count": 15,
   "metadata": {},
   "outputs": [
    {
     "name": "stdout",
     "output_type": "stream",
     "text": [
      "        user_id                                                                                                                            bert_age_percent\n",
      "0       3000001        [0.0038677964, 0.10122928, 0.72807115, 0.14541557, 0.018257076, 0.002646775, 0.00041883535, 7.36673e-05, 1.85203e-05, 1.2872738e-06]\n",
      "1       3000002       [0.0017600106, 0.00016363547, 0.0002463058, 0.00028151763, 0.00900832, 0.10255116, 0.5898225, 0.28653073, 0.009434198, 0.00020163893]\n",
      "...         ...                                                                                                                                         ...\n",
      "999998  3999999  [0.01771404, 0.70296717, 0.27645692, 0.0028105238, 4.8052938e-05, 2.42413e-06, 7.7825234e-07, 7.2467905e-08, 1.9215419e-08, 3.3433242e-10]\n",
      "999999  4000000          [0.00045651942, 0.0023482905, 0.04213559, 0.20981358, 0.43084055, 0.24747723, 0.06421742, 0.002637042, 7.31197e-05, 6.5277084e-07]\n",
      "\n",
      "[1000000 rows x 2 columns]\n",
      "        user_id                                                                                                                                        lgb_age_percent\n",
      "0       3000001  [0.0028889586486444854, 0.045188251216377734, 0.60632804379472, 0.3054728934737454, 0.03678698479029757, 0.0018154506690055414, 0.0012171000687226...\n",
      "1       3000002  [0.0017253463481559117, 0.0026205938752497967, 0.006022812537324088, 0.006128980281137767, 0.009692144732614736, 0.07299333260728408, 0.5842831473...\n",
      "...         ...                                                                                                                                                    ...\n",
      "999998  3999999  [0.09551533442342093, 0.5832584538815928, 0.2947450410770101, 0.016546191858453668, 0.0038013669310788473, 0.002146904157632699, 0.000987487043077...\n",
      "999999  4000000  [0.01218308852772241, 0.05399057145956054, 0.05036616997277871, 0.4063970559469065, 0.3117204381909871, 0.14279503751492278, 0.018153935609211483,...\n",
      "\n",
      "[1000000 rows x 2 columns]\n",
      "        user_id                                                                                                                            bert_age_percent  \\\n",
      "0       3000001        [0.0038677964, 0.10122928, 0.72807115, 0.14541557, 0.018257076, 0.002646775, 0.00041883535, 7.36673e-05, 1.85203e-05, 1.2872738e-06]   \n",
      "1       3000002       [0.0017600106, 0.00016363547, 0.0002463058, 0.00028151763, 0.00900832, 0.10255116, 0.5898225, 0.28653073, 0.009434198, 0.00020163893]   \n",
      "...         ...                                                                                                                                         ...   \n",
      "999998  3999999  [0.01771404, 0.70296717, 0.27645692, 0.0028105238, 4.8052938e-05, 2.42413e-06, 7.7825234e-07, 7.2467905e-08, 1.9215419e-08, 3.3433242e-10]   \n",
      "999999  4000000          [0.00045651942, 0.0023482905, 0.04213559, 0.20981358, 0.43084055, 0.24747723, 0.06421742, 0.002637042, 7.31197e-05, 6.5277084e-07]   \n",
      "\n",
      "                                                                                                                                              lgb_age_percent  \n",
      "0       [0.0028889586486444854, 0.045188251216377734, 0.60632804379472, 0.3054728934737454, 0.03678698479029757, 0.0018154506690055414, 0.0012171000687226...  \n",
      "1       [0.0017253463481559117, 0.0026205938752497967, 0.006022812537324088, 0.006128980281137767, 0.009692144732614736, 0.07299333260728408, 0.5842831473...  \n",
      "...                                                                                                                                                       ...  \n",
      "999998  [0.09551533442342093, 0.5832584538815928, 0.2947450410770101, 0.016546191858453668, 0.0038013669310788473, 0.002146904157632699, 0.000987487043077...  \n",
      "999999  [0.01218308852772241, 0.05399057145956054, 0.05036616997277871, 0.4063970559469065, 0.3117204381909871, 0.14279503751492278, 0.018153935609211483,...  \n",
      "\n",
      "[1000000 rows x 3 columns]\n"
     ]
    }
   ],
   "source": [
    "output_dic={\n",
    "    'bert':( 'bert_test_output.pkl','age_percent'),\n",
    "    'lgb':( 'lgb_test_output.pkl','lgb_age_precent'),\n",
    "}\n",
    "    \n",
    "total_df =None\n",
    "    \n",
    "for k,v in output_dic.items():\n",
    "    df = get_precent_age(f'output/{v[0]}',v[1],f'{k}_age_percent')\n",
    "    if total_df is None:\n",
    "        total_df = df\n",
    "    else:\n",
    "        total_df = total_df.merge(df,on='user_id',how='left')\n",
    "\n",
    "print(total_df)\n",
    "\n"
   ]
  },
  {
   "cell_type": "code",
   "execution_count": 18,
   "metadata": {},
   "outputs": [
    {
     "name": "stdout",
     "output_type": "stream",
     "text": [
      "        user_id                                                                                                                            bert_age_percent  \\\n",
      "0       3000001        [0.0038677964, 0.10122928, 0.72807115, 0.14541557, 0.018257076, 0.002646775, 0.00041883535, 7.36673e-05, 1.85203e-05, 1.2872738e-06]   \n",
      "1       3000002       [0.0017600106, 0.00016363547, 0.0002463058, 0.00028151763, 0.00900832, 0.10255116, 0.5898225, 0.28653073, 0.009434198, 0.00020163893]   \n",
      "...         ...                                                                                                                                         ...   \n",
      "999998  3999999  [0.01771404, 0.70296717, 0.27645692, 0.0028105238, 4.8052938e-05, 2.42413e-06, 7.7825234e-07, 7.2467905e-08, 1.9215419e-08, 3.3433242e-10]   \n",
      "999999  4000000          [0.00045651942, 0.0023482905, 0.04213559, 0.20981358, 0.43084055, 0.24747723, 0.06421742, 0.002637042, 7.31197e-05, 6.5277084e-07]   \n",
      "\n",
      "                                                                                                                                              lgb_age_percent  \\\n",
      "0       [0.0028889586486444854, 0.045188251216377734, 0.60632804379472, 0.3054728934737454, 0.03678698479029757, 0.0018154506690055414, 0.0012171000687226...   \n",
      "1       [0.0017253463481559117, 0.0026205938752497967, 0.006022812537324088, 0.006128980281137767, 0.009692144732614736, 0.07299333260728408, 0.5842831473...   \n",
      "...                                                                                                                                                       ...   \n",
      "999998  [0.09551533442342093, 0.5832584538815928, 0.2947450410770101, 0.016546191858453668, 0.0038013669310788473, 0.002146904157632699, 0.000987487043077...   \n",
      "999999  [0.01218308852772241, 0.05399057145956054, 0.05036616997277871, 0.4063970559469065, 0.3117204381909871, 0.14279503751492278, 0.018153935609211483,...   \n",
      "\n",
      "                                                                                                                                            total_age_precent  \n",
      "0       [0.003378377519015272, 0.07320876572488046, 0.667199598479315, 0.22544423389297774, 0.0275220303554993, 0.0022311128269508623, 0.00081796770870258...  \n",
      "1       [0.0017426784778482596, 0.0013921146735427646, 0.0031345591708954582, 0.0032052489539277267, 0.00935023239053308, 0.08777224742508674, 0.587052809...  \n",
      "...                                                                                                                                                       ...  \n",
      "999998  [0.05661468738865758, 0.6431128103911138, 0.2856009816848597, 0.009678357851854521, 0.0019247099345031352, 0.0010746641437607608, 0.00049413264771...  \n",
      "999999  [0.006319803976318862, 0.028169430991537344, 0.04625087939876385, 0.3081053179319303, 0.3712804950220835, 0.1951361354624022, 0.0411856770207236, ...  \n",
      "\n",
      "[1000000 rows x 4 columns]\n"
     ]
    }
   ],
   "source": [
    "def mean_columns(df):\n",
    "    ret = [np.array(df[f'{k}_age_percent']) for k in output_dic]\n",
    "    return np.mean(ret,axis=0)\n",
    "\n",
    "total_df['total_age_precent'] = total_df.apply(mean_columns ,axis=1)\n",
    "print(total_df)\n"
   ]
  },
  {
   "cell_type": "code",
   "execution_count": 22,
   "metadata": {},
   "outputs": [
    {
     "name": "stdout",
     "output_type": "stream",
     "text": [
      "3     287292\n",
      "2     175609\n",
      "       ...  \n",
      "9      16232\n",
      "10     13218\n",
      "Name: predicted_age, Length: 10, dtype: int64\n"
     ]
    }
   ],
   "source": [
    "y_pred_classes = total_df['total_age_precent'].values\n",
    "\n",
    "for i in range(len(y_pred_classes)):\n",
    "        max_value=max(y_pred_classes[i])\n",
    "        for j in range(len(y_pred_classes[i])):\n",
    "            if max_value==y_pred_classes[i][j]:\n",
    "                y_pred_classes[i][j]=1\n",
    "            else:\n",
    "                y_pred_classes[i][j]=0\n",
    "                \n",
    "ret = []\n",
    "for user_id,age in zip(range(1000000),y_pred_classes):\n",
    "    ret.append([int(user_id)+3000001,int(age.tolist().index(1) + 1)])\n",
    "ret_df = pd.DataFrame(ret,columns=['user_id','predicted_age'])\n",
    "print(ret_df['predicted_age'].value_counts())\n",
    "ret_df.to_pickle('output/total_age_output.pkl')"
   ]
  },
  {
   "cell_type": "code",
   "execution_count": 24,
   "metadata": {},
   "outputs": [
    {
     "name": "stdout",
     "output_type": "stream",
     "text": [
      "        user_id  predicted_age\n",
      "0       3000001              3\n",
      "1       3000002              7\n",
      "...         ...            ...\n",
      "999998  3999999              2\n",
      "999999  4000000              5\n",
      "\n",
      "[1000000 rows x 2 columns]\n"
     ]
    }
   ],
   "source": [
    "ret_df.to_pickle('output/total_age_output.pkl')\n",
    "print(ret_df)\n",
    "\n"
   ]
  },
  {
   "cell_type": "code",
   "execution_count": null,
   "metadata": {},
   "outputs": [],
   "source": []
  }
 ],
 "metadata": {
  "kernelspec": {
   "display_name": "Python 3",
   "language": "python",
   "name": "python3"
  },
  "language_info": {
   "codemirror_mode": {
    "name": "ipython",
    "version": 3
   },
   "file_extension": ".py",
   "mimetype": "text/x-python",
   "name": "python",
   "nbconvert_exporter": "python",
   "pygments_lexer": "ipython3",
   "version": "3.7.3"
  }
 },
 "nbformat": 4,
 "nbformat_minor": 4
}
