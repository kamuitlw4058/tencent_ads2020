{
 "cells": [
  {
   "cell_type": "code",
   "execution_count": 1,
   "metadata": {},
   "outputs": [],
   "source": [
    "import lightgbm as lgb\n",
    "import os\n",
    "import math\n",
    "import pandas as pd\n",
    "import numpy as np\n",
    "import random\n",
    "import gc\n",
    "from datetime import datetime\n",
    "from tqdm import tqdm\n",
    "import matplotlib.pyplot as plt\n",
    "from sklearn.metrics import classification_report\n",
    "from sklearn.metrics import precision_score\n",
    "from sklearn.model_selection import train_test_split\n",
    "from sklearn.preprocessing import  OneHotEncoder\n",
    "\n",
    "np.random.seed(2019)\n",
    "random.seed(2019)\n",
    "pd.set_option('display.max_rows', 6)\n",
    "pd.set_option('display.max_columns', 10)\n",
    "pd.set_option('display.width', 280)\n",
    "pd.set_option('display.max_colwidth', 150)\n",
    "data_path = '/data/workspace/kimi/tencent_ads/2020/dataset'\n",
    "preprocess_path = 'preprocess'"
   ]
  },
  {
   "cell_type": "code",
   "execution_count": 4,
   "metadata": {},
   "outputs": [
    {
     "name": "stdout",
     "output_type": "stream",
     "text": [
      "          click_times_sum  click_times_count  ad_id_nunique  product_id_nunique  product_category_nunique  advertiser_id_nunique  industry_nunique\n",
      "user_id                                                                                                                                           \n",
      "1.0                  14.0                 13             12                   6                         3                     12                 9\n",
      "2.0                  46.0                 45             42                  20                         3                     36                15\n",
      "3.0                  30.0                 30             30                  17                         6                     28                 8\n",
      "...                   ...                ...            ...                 ...                       ...                    ...               ...\n",
      "899998.0             15.0                 14             14                   5                         4                      9                 5\n",
      "899999.0             22.0                 22             18                   5                         7                     16                14\n",
      "900000.0             12.0                 12             12                   2                         2                     10                10\n",
      "\n",
      "[900000 rows x 7 columns]\n",
      "         user_id  click_times_sum  click_times_count  ad_id_nunique  product_id_nunique  product_category_nunique  advertiser_id_nunique  industry_nunique  age  gender  click_times_sum_log  click_times_count_log\n",
      "0            1.0             14.0               13.0           12.0                 6.0                       3.0                   12.0               9.0  3.0     1.0             2.639057               2.564949\n",
      "1            2.0             46.0               45.0           42.0                20.0                       3.0                   36.0              15.0  9.0     1.0             3.828641               3.806662\n",
      "2            3.0             30.0               30.0           30.0                17.0                       6.0                   28.0               8.0  6.0     2.0             3.401197               3.401197\n",
      "...          ...              ...                ...            ...                 ...                       ...                    ...               ...  ...     ...                  ...                    ...\n",
      "899997  899998.0             15.0               14.0           14.0                 5.0                       4.0                    9.0               5.0  3.0     2.0             2.708050               2.639057\n",
      "899998  899999.0             22.0               22.0           18.0                 5.0                       7.0                   16.0              14.0  2.0     1.0             3.091042               3.091042\n",
      "899999  900000.0             12.0               12.0           12.0                 2.0                       2.0                   10.0              10.0  2.0     2.0             2.484907               2.484907\n",
      "\n",
      "[900000 rows x 12 columns]\n"
     ]
    }
   ],
   "source": [
    "user_base_statics_df= pd.read_pickle(f'{preprocess_path}/train_user_base_statics.pkl')\n",
    "user_base_statics_df.columns = [\"_\".join(i) for i in user_base_statics_df.columns.values]\n",
    "print(user_base_statics_df)\n",
    "label_df = pd.read_csv(f'{data_path}/train_preliminary/user.csv')\n",
    "user_base_statics_df = user_base_statics_df.merge(label_df,on='user_id')\n",
    "user_base_statics_df['click_times_sum_log'] = user_base_statics_df['click_times_sum'].apply(lambda x :math.log(x))\n",
    "user_base_statics_df['click_times_count_log'] = user_base_statics_df['click_times_count'].apply(lambda x :math.log(x))\n",
    "user_base_statics_df['age'] = user_base_statics_df['age'] -1\n",
    "user_base_statics_df = user_base_statics_df.astype(float)\n",
    "print(user_base_statics_df)\n"
   ]
  },
  {
   "cell_type": "code",
   "execution_count": null,
   "metadata": {},
   "outputs": [],
   "source": [
    "def merge_data(dim,df=None,top=1,size=64,pivot='user_id'):\n",
    "    print('start merge ' + dim)\n",
    "    ret_df= pd.read_pickle(f'{preprocess_path}/{dim}_top{top}_l{size}')\n",
    "    if df is None:\n",
    "        return ret_df\n",
    "    df =  df.merge(ret_df,on=pivot,how='left')\n",
    "    return df\n",
    "    "
   ]
  },
  {
   "cell_type": "code",
   "execution_count": null,
   "metadata": {},
   "outputs": [],
   "source": [
    "dim_list = ['creative_id','ad_id','product_id','advertiser_id','industry']\n",
    "for i in dim_list:\n",
    "    user_base_statics_df = merge_data(i,df=user_base_statics_df)\n",
    "print(user_base_statics_df)\n"
   ]
  },
  {
   "cell_type": "code",
   "execution_count": null,
   "metadata": {},
   "outputs": [],
   "source": [
    "train_df = user_base_statics_df[user_base_statics_df.user_id <= 720000]\n",
    "valid_df = user_base_statics_df[user_base_statics_df.user_id > 720000]\n",
    "valid_df = valid_df[valid_df.user_id < 2000000]\n",
    "print(valid_df)\n"
   ]
  },
  {
   "cell_type": "code",
   "execution_count": null,
   "metadata": {},
   "outputs": [],
   "source": [
    "# train_x = train_df.drop(['age','user_id','gender','advertiser_id_seq','industry_seq','product_id_seq'], axis=1)\n",
    "# train_y = train_df['age'].astype(int)\n",
    "\n",
    "# valid_x = valid_df.drop(['age','user_id','gender','advertiser_id_seq','industry_seq','product_id_seq'], axis=1)\n",
    "# valid_y = valid_df['age'].astype(int)\n",
    "\n",
    "drop_list = ['age','user_id','gender','click_times_sum','click_times_count']\n",
    "train_x = train_df.drop(drop_list, axis=1)\n",
    "train_y = train_df['age'].astype(int)\n",
    "\n",
    "valid_x = valid_df.drop(drop_list, axis=1)\n",
    "valid_y = valid_df['age'].astype(int)\n",
    "#print(x)\n",
    "#print(y)\n",
    "print(train_x)\n",
    "print(train_y)\n",
    "\n",
    "print(valid_x)\n",
    "print(valid_y)\n",
    "\n",
    "#train_x,valid_x,train_y,valid_y =  train_test_split(x,y,test_size=0.20, random_state=42)\n",
    "#print(train_x.shape)\n",
    "train_data = lgb.Dataset(train_x.values, label=train_y, feature_name=list(train_x.columns),free_raw_data=False)\n",
    "valid_data = lgb.Dataset(valid_x.values, label=valid_y, feature_name=list(train_x.columns),free_raw_data=False,reference=train_data)\n",
    "\n"
   ]
  },
  {
   "cell_type": "code",
   "execution_count": null,
   "metadata": {},
   "outputs": [],
   "source": [
    "params = {\n",
    "    'boosting_type': 'gbdt',\n",
    "    'objective': 'softmax',\n",
    "    'num_class':10,\n",
    "    'metric': 'multi_error',\n",
    "    'num_leaves': 128,\n",
    "    'learning_rate': 0.1,\n",
    "    'feature_fraction': 0.7,\n",
    "    'bagging_fraction': 0.7,\n",
    "    'bagging_freq': 5,\n",
    "    'verbose': 1\n",
    "}\n",
    "print('Starting training...')\n",
    "# train\n",
    "\n",
    "gbm = lgb.train(params,\n",
    "                train_data,\n",
    "                 valid_sets=[train_data,valid_data],\n",
    "                num_boost_round = 2000,\n",
    "                early_stopping_rounds=100\n",
    "               )\n",
    "gbm.save_model('age_emb1.txt')\n",
    "print('Feature importances:', list(gbm.feature_importance()))"
   ]
  },
  {
   "cell_type": "code",
   "execution_count": null,
   "metadata": {},
   "outputs": [],
   "source": [
    "before_one_hot =  train_y.values.reshape([-1,1])\n",
    "print(before_one_hot)\n",
    "enc = OneHotEncoder()\n",
    "enc.fit(before_one_hot)\n",
    "\n",
    "one_hoted_y  = enc.transform(before_one_hot).toarray()\n",
    "print(one_hoted_y.shape)\n"
   ]
  },
  {
   "cell_type": "code",
   "execution_count": null,
   "metadata": {},
   "outputs": [],
   "source": [
    "gc.collect()\n",
    "y_pred = gbm.predict(train_x.astype(float))\n",
    "for i in range(len(y_pred)):\n",
    "        max_value=max(y_pred[i])\n",
    "        for j in range(len(y_pred[i])):\n",
    "            if max_value==y_pred[i][j]:\n",
    "                y_pred[i][j]=1\n",
    "            else:\n",
    "                y_pred[i][j]=0\n",
    "                \n",
    "print(precision_score(one_hoted_y, y_pred,average='micro'))\n",
    "\n",
    "ret = []\n",
    "for user_id,age in zip(range(1000000),y_pred):\n",
    "    ret.append([int(user_id),int(age.tolist().index(1) + 1)])\n",
    "ret_df = pd.DataFrame(ret,columns=['user_id','predicted_age'])\n",
    "print(ret_df['predicted_age'].value_counts())"
   ]
  },
  {
   "cell_type": "code",
   "execution_count": null,
   "metadata": {},
   "outputs": [],
   "source": [
    "\n",
    "before_one_hot =  valid_y.values.reshape([-1,1])\n",
    "print(before_one_hot)\n",
    "enc = OneHotEncoder()\n",
    "enc.fit(before_one_hot)\n",
    "\n",
    "one_hoted_y  = enc.transform(before_one_hot).toarray()\n",
    "print(one_hoted_y.shape)\n"
   ]
  },
  {
   "cell_type": "code",
   "execution_count": null,
   "metadata": {},
   "outputs": [],
   "source": [
    "y_pred = gbm.predict(valid_x.astype(float))\n",
    "for i in range(len(y_pred)):\n",
    "        max_value=max(y_pred[i])\n",
    "        for j in range(len(y_pred[i])):\n",
    "            if max_value==y_pred[i][j]:\n",
    "                y_pred[i][j]=1\n",
    "            else:\n",
    "                y_pred[i][j]=0\n",
    "                \n",
    "precision_score(one_hoted_y, y_pred,average='micro')\n"
   ]
  },
  {
   "cell_type": "code",
   "execution_count": null,
   "metadata": {},
   "outputs": [],
   "source": [
    "ret = []\n",
    "for user_id,age,label_age in zip(range(1000000),y_pred,valid_y):\n",
    "    ret.append([int(user_id + 720001),int(age.tolist().index(1)),label_age])\n",
    "ret_df = pd.DataFrame(ret,columns=['user_id','predicted_age','label_age'])\n",
    "print(ret_df)\n",
    "print(ret_df['predicted_age'].value_counts())"
   ]
  },
  {
   "cell_type": "code",
   "execution_count": null,
   "metadata": {},
   "outputs": [],
   "source": [
    "true_user_df = ret_df[ret_df.predicted_age == ret_df.label_age ]\n",
    "print(true_user_df)\n"
   ]
  },
  {
   "cell_type": "code",
   "execution_count": null,
   "metadata": {},
   "outputs": [],
   "source": [
    "true_user_df = true_user_df.merge(user_base_statics_df,on='user_id')\n",
    "print(true_user_df)"
   ]
  },
  {
   "cell_type": "code",
   "execution_count": null,
   "metadata": {},
   "outputs": [],
   "source": [
    "plt_values =  true_user_df['click_times_count'].value_counts().sort_index()\n",
    "pd.set_option('display.max_rows', 100)\n",
    "print(plt_values)\n",
    "pd.set_option('display.max_rows', 6)\n",
    "x = [str(i) for i in plt_values.index]\n",
    "y = plt_values.values\n",
    "plt.scatter(x,y)\n",
    "plt.show()"
   ]
  },
  {
   "cell_type": "code",
   "execution_count": null,
   "metadata": {},
   "outputs": [],
   "source": [
    "plt_values =  true_user_df['click_times_sum'].value_counts().sort_index()\n",
    "pd.set_option('display.max_rows', 100)\n",
    "print(plt_values)\n",
    "pd.set_option('display.max_rows', 6)\n",
    "x = [str(i) for i in plt_values.index]\n",
    "y = plt_values.values\n",
    "plt.scatter(x,y)\n",
    "plt.show()"
   ]
  },
  {
   "cell_type": "code",
   "execution_count": null,
   "metadata": {},
   "outputs": [],
   "source": [
    "plt_values =  true_user_df['age'].value_counts()\n",
    "print(plt_values)\n",
    "x = [str(i) for i in plt_values.index]\n",
    "y = plt_values.values\n",
    "plt.scatter(x,y)\n",
    "plt.show()"
   ]
  },
  {
   "cell_type": "code",
   "execution_count": null,
   "metadata": {},
   "outputs": [],
   "source": [
    "valid_user_base_statics_df =  user_base_statics_df[user_base_statics_df.user_id > 720000]\n",
    "print(valid_user_base_statics_df)"
   ]
  },
  {
   "cell_type": "code",
   "execution_count": null,
   "metadata": {},
   "outputs": [],
   "source": [
    "len_10_30_df = valid_user_base_statics_df[valid_user_base_statics_df.click_times_count > 10]\n",
    "len_10_30_df = len_10_30_df[len_10_30_df.click_times_count <=20]\n",
    "print(valid_user_base_statics_df)\n",
    "plt_values =  len_10_30_df['age'].value_counts()\n",
    "print(plt_values)\n",
    "x = [str(i) for i in plt_values.index]\n",
    "y = plt_values.values\n",
    "plt.scatter(x,y)\n",
    "plt.show()"
   ]
  },
  {
   "cell_type": "code",
   "execution_count": null,
   "metadata": {},
   "outputs": [],
   "source": [
    "\n",
    "plt_values =  valid_user_base_statics_df['age'].value_counts()\n",
    "print(plt_values)\n",
    "x = [str(i) for i in plt_values.index]\n",
    "y = plt_values.values\n",
    "plt.scatter(x,y)\n",
    "plt.show()"
   ]
  },
  {
   "cell_type": "code",
   "execution_count": null,
   "metadata": {},
   "outputs": [],
   "source": [
    "plt_values =  valid_user_base_statics_df['click_times_count'].value_counts().sort_index()\n",
    "pd.set_option('display.max_rows', 100)\n",
    "print(plt_values)\n",
    "pd.set_option('display.max_rows', 6)\n",
    "x = [str(i) for i in plt_values.index]\n",
    "y = plt_values.values\n",
    "plt.scatter(x,y)\n",
    "plt.show()"
   ]
  },
  {
   "cell_type": "code",
   "execution_count": null,
   "metadata": {},
   "outputs": [],
   "source": [
    "plt_values =  valid_user_base_statics_df['click_times_sum'].value_counts().sort_index()\n",
    "pd.set_option('display.max_rows', 100)\n",
    "print(plt_values)\n",
    "pd.set_option('display.max_rows', 6)\n",
    "x = [str(i) for i in plt_values.index]\n",
    "y = plt_values.values\n",
    "plt.scatter(x,y)\n",
    "plt.show()"
   ]
  },
  {
   "cell_type": "code",
   "execution_count": null,
   "metadata": {},
   "outputs": [],
   "source": [
    "valid_user_base_statics_df['click_times_sum_log'] =  valid_user_base_statics_df['click_times_sum'].apply(lambda x: math.log(x))\n",
    "print(valid_user_base_statics_df)\n",
    "plt_values =  valid_user_base_statics_df['click_times_sum_log'].value_counts().sort_index()\n",
    "pd.set_option('display.max_rows', 100)\n",
    "print(plt_values)\n",
    "pd.set_option('display.max_rows', 6)\n",
    "x = [str(i) for i in plt_values.index]\n",
    "y = plt_values.values\n",
    "plt.scatter(x,y)\n",
    "plt.show()"
   ]
  },
  {
   "cell_type": "code",
   "execution_count": null,
   "metadata": {},
   "outputs": [],
   "source": [
    "print(valid_user_base_statics_df)"
   ]
  },
  {
   "cell_type": "code",
   "execution_count": null,
   "metadata": {},
   "outputs": [],
   "source": [
    "false_user_df = ret_df[ret_df.predicted_age != ret_df.label_age ]\n",
    "false_user_df = false_user_df.merge(user_base_statics_df,on='user_id')\n",
    "print(false_user_df)"
   ]
  },
  {
   "cell_type": "code",
   "execution_count": null,
   "metadata": {},
   "outputs": [],
   "source": [
    "plt_values =  false_user_df['click_times_count'].value_counts().sort_index()\n",
    "pd.set_option('display.max_rows', 100)\n",
    "print(plt_values)\n",
    "pd.set_option('display.max_rows', 6)\n",
    "x = [str(i) for i in plt_values.index]\n",
    "y = plt_values.values\n",
    "plt.scatter(x,y)\n",
    "plt.show()"
   ]
  },
  {
   "cell_type": "code",
   "execution_count": null,
   "metadata": {},
   "outputs": [],
   "source": []
  }
 ],
 "metadata": {
  "kernelspec": {
   "display_name": "Python 3",
   "language": "python",
   "name": "python3"
  },
  "language_info": {
   "codemirror_mode": {
    "name": "ipython",
    "version": 3
   },
   "file_extension": ".py",
   "mimetype": "text/x-python",
   "name": "python",
   "nbconvert_exporter": "python",
   "pygments_lexer": "ipython3",
   "version": "3.7.3"
  }
 },
 "nbformat": 4,
 "nbformat_minor": 2
}
