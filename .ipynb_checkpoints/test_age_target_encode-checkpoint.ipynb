{
 "cells": [
  {
   "cell_type": "code",
   "execution_count": 1,
   "metadata": {},
   "outputs": [],
   "source": [
    "import lightgbm as lgb\n",
    "import os\n",
    "import math\n",
    "import pandas as pd\n",
    "import numpy as np\n",
    "import random\n",
    "import gc\n",
    "from datetime import datetime\n",
    "from tqdm import tqdm\n",
    "import matplotlib.pyplot as plt\n",
    "from sklearn.metrics import classification_report\n",
    "from sklearn.metrics import precision_score\n",
    "from sklearn.model_selection import train_test_split\n",
    "from sklearn.preprocessing import  OneHotEncoder\n",
    "\n",
    "np.random.seed(2019)\n",
    "random.seed(2019)\n",
    "pd.set_option('display.max_rows', 6)\n",
    "pd.set_option('display.max_columns', 500)\n",
    "pd.set_option('display.width', 280)\n",
    "pd.set_option('display.max_colwidth', 150)\n",
    "data_path = '/data/workspace/kimi/tencent_ads/2020/dataset'\n",
    "preprocess_path = 'preprocess'"
   ]
  },
  {
   "cell_type": "code",
   "execution_count": 2,
   "metadata": {},
   "outputs": [
    {
     "name": "stdout",
     "output_type": "stream",
     "text": [
      "          user_id  click_times_sum  click_times_count  ad_id_nunique  product_id_nunique  product_category_nunique  advertiser_id_nunique  industry_nunique  click_times_sum_log  click_times_count_log\n",
      "0       3000001.0             11.0               11.0           11.0                 7.0                       4.0                   10.0               5.0             2.397895               2.397895\n",
      "1       3000002.0             65.0               61.0           49.0                24.0                       5.0                   41.0              21.0             4.174387               4.110874\n",
      "2       3000003.0             36.0               36.0           35.0                15.0                       5.0                   29.0              17.0             3.583519               3.583519\n",
      "...           ...              ...                ...            ...                 ...                       ...                    ...               ...                  ...                    ...\n",
      "999997  3999998.0             20.0               19.0           18.0                10.0                       5.0                   16.0              13.0             2.995732               2.944439\n",
      "999998  3999999.0             86.0               80.0           79.0                26.0                       4.0                   63.0              29.0             4.454347               4.382027\n",
      "999999  4000000.0             67.0               63.0           63.0                27.0                       6.0                   59.0              27.0             4.204693               4.143135\n",
      "\n",
      "[1000000 rows x 10 columns]\n"
     ]
    }
   ],
   "source": [
    "flag ='test'\n",
    "user_base_statics_df= pd.read_pickle(f'{preprocess_path}/{flag}_user_base_statics.pkl')\n",
    "user_base_statics_df = user_base_statics_df.reset_index()\n",
    "user_base_statics_df['click_times_sum_log'] = user_base_statics_df['click_times_sum'].apply(lambda x :math.log(x))\n",
    "user_base_statics_df['click_times_count_log'] = user_base_statics_df['click_times_count'].apply(lambda x :math.log(x))\n",
    "user_base_statics_df = user_base_statics_df.astype(float)\n",
    "print(user_base_statics_df)\n"
   ]
  },
  {
   "cell_type": "code",
   "execution_count": 7,
   "metadata": {},
   "outputs": [],
   "source": [
    "def merge_features(train_df,train_file,target_encode=False):\n",
    "    train_features_df  = pd.read_pickle(f'{preprocess_path}/{train_file}')\n",
    "    if target_encode:\n",
    "        train_features_df.columns = [ '_'.join(i) for i in train_features_df.columns.values  ]\n",
    "\n",
    "    train_df = train_df.merge(train_features_df,on='user_id')\n",
    "    print(train_df)\n",
    "    return train_df\n"
   ]
  },
  {
   "cell_type": "code",
   "execution_count": 6,
   "metadata": {},
   "outputs": [
    {
     "name": "stdout",
     "output_type": "stream",
     "text": [
      "          user_id  click_times_sum  click_times_count  ad_id_nunique  product_id_nunique  product_category_nunique  advertiser_id_nunique  industry_nunique  click_times_sum_log  click_times_count_log  product_id_age0_kfold_mean_min  product_id_age0_kfold_mean_max  \\\n",
      "0       3000001.0             11.0               11.0           11.0                 7.0                       4.0                   10.0               5.0             2.397895               2.397895                        0.006556                        0.102945   \n",
      "1       3000002.0             65.0               61.0           49.0                24.0                       5.0                   41.0              21.0             4.174387               4.110874                        0.000000                        0.115073   \n",
      "2       3000003.0             36.0               36.0           35.0                15.0                       5.0                   29.0              17.0             3.583519               3.583519                        0.017647                        0.080200   \n",
      "...           ...              ...                ...            ...                 ...                       ...                    ...               ...                  ...                    ...                             ...                             ...   \n",
      "999997  3999998.0             20.0               19.0           18.0                10.0                       5.0                   16.0              13.0             2.995732               2.944439                        0.008402                        0.295719   \n",
      "999998  3999999.0             86.0               80.0           79.0                26.0                       4.0                   63.0              29.0             4.454347               4.382027                        0.005982                        0.184878   \n",
      "999999  4000000.0             67.0               63.0           63.0                27.0                       6.0                   59.0              27.0             4.204693               4.143135                        0.006806                        0.198233   \n",
      "\n",
      "        product_id_age0_kfold_mean_mean  product_id_age0_kfold_mean_std  product_id_age1_kfold_mean_min  product_id_age1_kfold_mean_max  product_id_age1_kfold_mean_mean  product_id_age1_kfold_mean_std  product_id_age2_kfold_mean_min  product_id_age2_kfold_mean_max  \\\n",
      "0                              0.039443                        0.026792                        0.015655                        0.334895                         0.183186                        0.090346                        0.116254                        0.418033   \n",
      "1                              0.045020                        0.018612                        0.000000                        0.265955                         0.166740                        0.039426                        0.076923                        0.254007   \n",
      "2                              0.043165                        0.010399                        0.104270                        0.192763                         0.156854                        0.017217                        0.157270                        0.350000   \n",
      "...                                 ...                             ...                             ...                             ...                              ...                             ...                             ...                             ...   \n",
      "999997                         0.074233                        0.068036                        0.079774                        0.311731                         0.192999                        0.054985                        0.167595                        0.248292   \n",
      "999998                         0.057988                        0.034658                        0.139033                        0.358995                         0.193990                        0.048924                        0.190911                        0.325635   \n",
      "999999                         0.043584                        0.026586                        0.013557                        0.334895                         0.165387                        0.056979                        0.103723                        0.317290   \n",
      "\n",
      "        product_id_age2_kfold_mean_mean  product_id_age2_kfold_mean_std  product_id_age3_kfold_mean_min  product_id_age3_kfold_mean_max  product_id_age3_kfold_mean_mean  product_id_age3_kfold_mean_std  product_id_age4_kfold_mean_min  product_id_age4_kfold_mean_max  \\\n",
      "0                              0.248090                        0.074431                        0.111342                        0.280833                         0.182174                        0.048304                        0.061475                        0.277566   \n",
      "1                              0.209916                        0.030155                        0.064184                        0.171319                         0.152453                        0.017427                        0.000000                        0.167157   \n",
      "2                              0.211195                        0.030160                        0.000000                        0.180995                         0.155320                        0.027888                        0.108597                        0.200000   \n",
      "...                                 ...                             ...                             ...                             ...                              ...                             ...                             ...                             ...   \n",
      "999997                         0.214334                        0.019202                        0.074086                        0.199788                         0.147018                        0.028449                        0.060474                        0.198992   \n",
      "999998                         0.224668                        0.019745                        0.084337                        0.188185                         0.155567                        0.017507                        0.063632                        0.203842   \n",
      "999999                         0.213375                        0.037171                        0.103448                        0.280833                         0.166172                        0.027760                        0.062106                        0.277566   \n",
      "\n",
      "        product_id_age4_kfold_mean_mean  product_id_age4_kfold_mean_std  product_id_age5_kfold_mean_min  product_id_age5_kfold_mean_max  product_id_age5_kfold_mean_mean  product_id_age5_kfold_mean_std  product_id_age6_kfold_mean_min  product_id_age6_kfold_mean_max  \\\n",
      "0                              0.139714                        0.058352                        0.036885                        0.185135                         0.102669                        0.039717                        0.008197                        0.082358   \n",
      "1                              0.136172                        0.022428                        0.063933                        0.157895                         0.113990                        0.017090                        0.036529                        0.384615   \n",
      "2                              0.144688                        0.014752                        0.085973                        0.160305                         0.116198                        0.012169                        0.000000                        0.117164   \n",
      "...                                 ...                             ...                             ...                             ...                              ...                             ...                             ...                             ...   \n",
      "999997                         0.127636                        0.030527                        0.048421                        0.164323                         0.099451                        0.026592                        0.030653                        0.103564   \n",
      "999998                         0.131518                        0.022359                        0.016962                        0.128871                         0.099416                        0.022368                        0.006037                        0.091522   \n",
      "999999                         0.145944                        0.032101                        0.041666                        0.226411                         0.113889                        0.028165                        0.005262                        0.160150   \n",
      "\n",
      "        product_id_age6_kfold_mean_mean  product_id_age6_kfold_mean_std  product_id_age7_kfold_mean_min  product_id_age7_kfold_mean_max  product_id_age7_kfold_mean_mean  product_id_age7_kfold_mean_std  product_id_age8_kfold_mean_min  product_id_age8_kfold_mean_max  \\\n",
      "0                              0.059061                        0.024862                        0.000000                        0.037098                         0.025125                        0.013074                        0.000000                        0.022361   \n",
      "1                              0.089557                        0.044861                        0.017806                        0.384615                         0.046947                        0.048068                        0.000000                        0.132330   \n",
      "2                              0.080413                        0.017210                        0.022624                        0.100000                         0.043320                        0.012154                        0.000000                        0.046007   \n",
      "...                                 ...                             ...                             ...                             ...                              ...                             ...                             ...                             ...   \n",
      "999997                         0.068788                        0.018827                        0.010599                        0.047003                         0.035509                        0.009928                        0.004156                        0.035451   \n",
      "999998                         0.066921                        0.018643                        0.001150                        0.054465                         0.033042                        0.012050                        0.001054                        0.042424   \n",
      "999999                         0.077091                        0.023427                        0.002105                        0.089592                         0.037058                        0.014078                        0.000740                        0.081028   \n",
      "\n",
      "        product_id_age8_kfold_mean_mean  product_id_age8_kfold_mean_std  product_id_age9_kfold_mean_min  product_id_age9_kfold_mean_max  product_id_age9_kfold_mean_mean  product_id_age9_kfold_mean_std  \n",
      "0                              0.013417                        0.009050                        0.000000                        0.013481                         0.007121                        0.006265  \n",
      "1                              0.024326                        0.015782                        0.000000                        0.074485                         0.014880                        0.009689  \n",
      "2                              0.027132                        0.009311                        0.000000                        0.043863                         0.021715                        0.012392  \n",
      "...                                 ...                             ...                             ...                             ...                              ...                             ...  \n",
      "999997                         0.023253                        0.008572                        0.001663                        0.031275                         0.016779                        0.009252  \n",
      "999998                         0.021724                        0.009498                        0.000050                        0.035956                         0.015167                        0.009000  \n",
      "999999                         0.022766                        0.012364                        0.000000                        0.057312                         0.014733                        0.009917  \n",
      "\n",
      "[1000000 rows x 50 columns]\n",
      "          user_id  click_times_sum  click_times_count  ad_id_nunique  product_id_nunique  product_category_nunique  advertiser_id_nunique  industry_nunique  click_times_sum_log  click_times_count_log  product_id_age0_kfold_mean_min  product_id_age0_kfold_mean_max  \\\n",
      "0       3000001.0             11.0               11.0           11.0                 7.0                       4.0                   10.0               5.0             2.397895               2.397895                        0.006556                        0.102945   \n",
      "1       3000002.0             65.0               61.0           49.0                24.0                       5.0                   41.0              21.0             4.174387               4.110874                        0.000000                        0.115073   \n",
      "2       3000003.0             36.0               36.0           35.0                15.0                       5.0                   29.0              17.0             3.583519               3.583519                        0.017647                        0.080200   \n",
      "...           ...              ...                ...            ...                 ...                       ...                    ...               ...                  ...                    ...                             ...                             ...   \n",
      "999997  3999998.0             20.0               19.0           18.0                10.0                       5.0                   16.0              13.0             2.995732               2.944439                        0.008402                        0.295719   \n",
      "999998  3999999.0             86.0               80.0           79.0                26.0                       4.0                   63.0              29.0             4.454347               4.382027                        0.005982                        0.184878   \n",
      "999999  4000000.0             67.0               63.0           63.0                27.0                       6.0                   59.0              27.0             4.204693               4.143135                        0.006806                        0.198233   \n",
      "\n",
      "        product_id_age0_kfold_mean_mean  product_id_age0_kfold_mean_std  product_id_age1_kfold_mean_min  product_id_age1_kfold_mean_max  product_id_age1_kfold_mean_mean  product_id_age1_kfold_mean_std  product_id_age2_kfold_mean_min  product_id_age2_kfold_mean_max  \\\n",
      "0                              0.039443                        0.026792                        0.015655                        0.334895                         0.183186                        0.090346                        0.116254                        0.418033   \n",
      "1                              0.045020                        0.018612                        0.000000                        0.265955                         0.166740                        0.039426                        0.076923                        0.254007   \n",
      "2                              0.043165                        0.010399                        0.104270                        0.192763                         0.156854                        0.017217                        0.157270                        0.350000   \n",
      "...                                 ...                             ...                             ...                             ...                              ...                             ...                             ...                             ...   \n",
      "999997                         0.074233                        0.068036                        0.079774                        0.311731                         0.192999                        0.054985                        0.167595                        0.248292   \n",
      "999998                         0.057988                        0.034658                        0.139033                        0.358995                         0.193990                        0.048924                        0.190911                        0.325635   \n",
      "999999                         0.043584                        0.026586                        0.013557                        0.334895                         0.165387                        0.056979                        0.103723                        0.317290   \n",
      "\n",
      "        product_id_age2_kfold_mean_mean  product_id_age2_kfold_mean_std  product_id_age3_kfold_mean_min  product_id_age3_kfold_mean_max  product_id_age3_kfold_mean_mean  product_id_age3_kfold_mean_std  product_id_age4_kfold_mean_min  product_id_age4_kfold_mean_max  \\\n",
      "0                              0.248090                        0.074431                        0.111342                        0.280833                         0.182174                        0.048304                        0.061475                        0.277566   \n",
      "1                              0.209916                        0.030155                        0.064184                        0.171319                         0.152453                        0.017427                        0.000000                        0.167157   \n",
      "2                              0.211195                        0.030160                        0.000000                        0.180995                         0.155320                        0.027888                        0.108597                        0.200000   \n",
      "...                                 ...                             ...                             ...                             ...                              ...                             ...                             ...                             ...   \n",
      "999997                         0.214334                        0.019202                        0.074086                        0.199788                         0.147018                        0.028449                        0.060474                        0.198992   \n",
      "999998                         0.224668                        0.019745                        0.084337                        0.188185                         0.155567                        0.017507                        0.063632                        0.203842   \n",
      "999999                         0.213375                        0.037171                        0.103448                        0.280833                         0.166172                        0.027760                        0.062106                        0.277566   \n",
      "\n",
      "        product_id_age4_kfold_mean_mean  product_id_age4_kfold_mean_std  product_id_age5_kfold_mean_min  product_id_age5_kfold_mean_max  product_id_age5_kfold_mean_mean  product_id_age5_kfold_mean_std  product_id_age6_kfold_mean_min  product_id_age6_kfold_mean_max  \\\n",
      "0                              0.139714                        0.058352                        0.036885                        0.185135                         0.102669                        0.039717                        0.008197                        0.082358   \n",
      "1                              0.136172                        0.022428                        0.063933                        0.157895                         0.113990                        0.017090                        0.036529                        0.384615   \n",
      "2                              0.144688                        0.014752                        0.085973                        0.160305                         0.116198                        0.012169                        0.000000                        0.117164   \n",
      "...                                 ...                             ...                             ...                             ...                              ...                             ...                             ...                             ...   \n",
      "999997                         0.127636                        0.030527                        0.048421                        0.164323                         0.099451                        0.026592                        0.030653                        0.103564   \n",
      "999998                         0.131518                        0.022359                        0.016962                        0.128871                         0.099416                        0.022368                        0.006037                        0.091522   \n",
      "999999                         0.145944                        0.032101                        0.041666                        0.226411                         0.113889                        0.028165                        0.005262                        0.160150   \n",
      "\n",
      "        product_id_age6_kfold_mean_mean  product_id_age6_kfold_mean_std  product_id_age7_kfold_mean_min  product_id_age7_kfold_mean_max  product_id_age7_kfold_mean_mean  product_id_age7_kfold_mean_std  product_id_age8_kfold_mean_min  product_id_age8_kfold_mean_max  \\\n",
      "0                              0.059061                        0.024862                        0.000000                        0.037098                         0.025125                        0.013074                        0.000000                        0.022361   \n",
      "1                              0.089557                        0.044861                        0.017806                        0.384615                         0.046947                        0.048068                        0.000000                        0.132330   \n",
      "2                              0.080413                        0.017210                        0.022624                        0.100000                         0.043320                        0.012154                        0.000000                        0.046007   \n",
      "...                                 ...                             ...                             ...                             ...                              ...                             ...                             ...                             ...   \n",
      "999997                         0.068788                        0.018827                        0.010599                        0.047003                         0.035509                        0.009928                        0.004156                        0.035451   \n",
      "999998                         0.066921                        0.018643                        0.001150                        0.054465                         0.033042                        0.012050                        0.001054                        0.042424   \n",
      "999999                         0.077091                        0.023427                        0.002105                        0.089592                         0.037058                        0.014078                        0.000740                        0.081028   \n",
      "\n",
      "        product_id_age8_kfold_mean_mean  product_id_age8_kfold_mean_std  product_id_age9_kfold_mean_min  product_id_age9_kfold_mean_max  product_id_age9_kfold_mean_mean  product_id_age9_kfold_mean_std  \n",
      "0                              0.013417                        0.009050                        0.000000                        0.013481                         0.007121                        0.006265  \n",
      "1                              0.024326                        0.015782                        0.000000                        0.074485                         0.014880                        0.009689  \n",
      "2                              0.027132                        0.009311                        0.000000                        0.043863                         0.021715                        0.012392  \n",
      "...                                 ...                             ...                             ...                             ...                              ...                             ...  \n",
      "999997                         0.023253                        0.008572                        0.001663                        0.031275                         0.016779                        0.009252  \n",
      "999998                         0.021724                        0.009498                        0.000050                        0.035956                         0.015167                        0.009000  \n",
      "999999                         0.022766                        0.012364                        0.000000                        0.057312                         0.014733                        0.009917  \n",
      "\n",
      "[1000000 rows x 50 columns]\n"
     ]
    }
   ],
   "source": [
    "test_df = merge_features(user_base_statics_df,'test_user_target_encoder_product_id.pkl',True)\n"
   ]
  },
  {
   "cell_type": "code",
   "execution_count": 8,
   "metadata": {},
   "outputs": [
    {
     "name": "stdout",
     "output_type": "stream",
     "text": [
      "          user_id  industry_age0_kfold_mean  industry_age1_kfold_mean  industry_age2_kfold_mean  industry_age3_kfold_mean  industry_age4_kfold_mean  industry_age5_kfold_mean  industry_age6_kfold_mean  industry_age7_kfold_mean  industry_age8_kfold_mean  industry_age9_kfold_mean\n",
      "0         3131989                  0.057066                  0.181370                  0.218317                  0.161164                  0.138017                  0.104831                  0.068696                  0.034231                  0.021882                  0.014428\n",
      "1         3142948                  0.057066                  0.181370                  0.218317                  0.161164                  0.138017                  0.104831                  0.068696                  0.034231                  0.021882                  0.014428\n",
      "2         3170643                  0.057066                  0.181370                  0.218317                  0.161164                  0.138017                  0.104831                  0.068696                  0.034231                  0.021882                  0.014428\n",
      "...           ...                       ...                       ...                       ...                       ...                       ...                       ...                       ...                       ...                       ...                       ...\n",
      "33585509  3131984                  0.050712                  0.169253                  0.213709                  0.159450                  0.140890                  0.107866                  0.072607                  0.036322                  0.025887                  0.023304\n",
      "33585510  3131984                  0.056986                  0.170552                  0.212385                  0.156099                  0.138214                  0.107796                  0.073256                  0.038055                  0.026254                  0.020404\n",
      "33585511  3131988                  0.053106                  0.178941                  0.227320                  0.165364                  0.135460                  0.104500                  0.064911                  0.030819                  0.021623                  0.017957\n",
      "\n",
      "[33585512 rows x 11 columns]\n"
     ]
    },
    {
     "ename": "KeyError",
     "evalue": "'user_id'",
     "output_type": "error",
     "traceback": [
      "\u001b[0;31m---------------------------------------------------------------------------\u001b[0m",
      "\u001b[0;31mKeyError\u001b[0m                                  Traceback (most recent call last)",
      "\u001b[0;32m<ipython-input-8-6313ae171573>\u001b[0m in \u001b[0;36m<module>\u001b[0;34m\u001b[0m\n\u001b[0;32m----> 1\u001b[0;31m \u001b[0mtest_df\u001b[0m \u001b[0;34m=\u001b[0m \u001b[0mmerge_features\u001b[0m\u001b[0;34m(\u001b[0m\u001b[0mtest_df\u001b[0m\u001b[0;34m,\u001b[0m\u001b[0;34m'test_target_encoder_industry.pkl'\u001b[0m\u001b[0;34m,\u001b[0m\u001b[0;32mTrue\u001b[0m\u001b[0;34m)\u001b[0m\u001b[0;34m\u001b[0m\u001b[0;34m\u001b[0m\u001b[0m\n\u001b[0m",
      "\u001b[0;32m<ipython-input-7-611254ac3abf>\u001b[0m in \u001b[0;36mmerge_features\u001b[0;34m(train_df, train_file, target_encode)\u001b[0m\n\u001b[1;32m      5\u001b[0m         \u001b[0mtrain_features_df\u001b[0m\u001b[0;34m.\u001b[0m\u001b[0mcolumns\u001b[0m \u001b[0;34m=\u001b[0m \u001b[0;34m[\u001b[0m \u001b[0;34m'_'\u001b[0m\u001b[0;34m.\u001b[0m\u001b[0mjoin\u001b[0m\u001b[0;34m(\u001b[0m\u001b[0mi\u001b[0m\u001b[0;34m)\u001b[0m \u001b[0;32mfor\u001b[0m \u001b[0mi\u001b[0m \u001b[0;32min\u001b[0m \u001b[0mtrain_features_df\u001b[0m\u001b[0;34m.\u001b[0m\u001b[0mcolumns\u001b[0m\u001b[0;34m.\u001b[0m\u001b[0mvalues\u001b[0m  \u001b[0;34m]\u001b[0m\u001b[0;34m\u001b[0m\u001b[0;34m\u001b[0m\u001b[0m\n\u001b[1;32m      6\u001b[0m \u001b[0;34m\u001b[0m\u001b[0m\n\u001b[0;32m----> 7\u001b[0;31m     \u001b[0mtrain_df\u001b[0m \u001b[0;34m=\u001b[0m \u001b[0mtrain_df\u001b[0m\u001b[0;34m.\u001b[0m\u001b[0mmerge\u001b[0m\u001b[0;34m(\u001b[0m\u001b[0mtrain_features_df\u001b[0m\u001b[0;34m,\u001b[0m\u001b[0mon\u001b[0m\u001b[0;34m=\u001b[0m\u001b[0;34m'user_id'\u001b[0m\u001b[0;34m)\u001b[0m\u001b[0;34m\u001b[0m\u001b[0;34m\u001b[0m\u001b[0m\n\u001b[0m\u001b[1;32m      8\u001b[0m     \u001b[0;32mreturn\u001b[0m \u001b[0mtrain_df\u001b[0m\u001b[0;34m\u001b[0m\u001b[0;34m\u001b[0m\u001b[0m\n",
      "\u001b[0;32m~/anaconda3/lib/python3.7/site-packages/pandas/core/frame.py\u001b[0m in \u001b[0;36mmerge\u001b[0;34m(self, right, how, on, left_on, right_on, left_index, right_index, sort, suffixes, copy, indicator, validate)\u001b[0m\n\u001b[1;32m   6866\u001b[0m                      \u001b[0mright_on\u001b[0m\u001b[0;34m=\u001b[0m\u001b[0mright_on\u001b[0m\u001b[0;34m,\u001b[0m \u001b[0mleft_index\u001b[0m\u001b[0;34m=\u001b[0m\u001b[0mleft_index\u001b[0m\u001b[0;34m,\u001b[0m\u001b[0;34m\u001b[0m\u001b[0;34m\u001b[0m\u001b[0m\n\u001b[1;32m   6867\u001b[0m                      \u001b[0mright_index\u001b[0m\u001b[0;34m=\u001b[0m\u001b[0mright_index\u001b[0m\u001b[0;34m,\u001b[0m \u001b[0msort\u001b[0m\u001b[0;34m=\u001b[0m\u001b[0msort\u001b[0m\u001b[0;34m,\u001b[0m \u001b[0msuffixes\u001b[0m\u001b[0;34m=\u001b[0m\u001b[0msuffixes\u001b[0m\u001b[0;34m,\u001b[0m\u001b[0;34m\u001b[0m\u001b[0;34m\u001b[0m\u001b[0m\n\u001b[0;32m-> 6868\u001b[0;31m                      copy=copy, indicator=indicator, validate=validate)\n\u001b[0m\u001b[1;32m   6869\u001b[0m \u001b[0;34m\u001b[0m\u001b[0m\n\u001b[1;32m   6870\u001b[0m     \u001b[0;32mdef\u001b[0m \u001b[0mround\u001b[0m\u001b[0;34m(\u001b[0m\u001b[0mself\u001b[0m\u001b[0;34m,\u001b[0m \u001b[0mdecimals\u001b[0m\u001b[0;34m=\u001b[0m\u001b[0;36m0\u001b[0m\u001b[0;34m,\u001b[0m \u001b[0;34m*\u001b[0m\u001b[0margs\u001b[0m\u001b[0;34m,\u001b[0m \u001b[0;34m**\u001b[0m\u001b[0mkwargs\u001b[0m\u001b[0;34m)\u001b[0m\u001b[0;34m:\u001b[0m\u001b[0;34m\u001b[0m\u001b[0;34m\u001b[0m\u001b[0m\n",
      "\u001b[0;32m~/anaconda3/lib/python3.7/site-packages/pandas/core/reshape/merge.py\u001b[0m in \u001b[0;36mmerge\u001b[0;34m(left, right, how, on, left_on, right_on, left_index, right_index, sort, suffixes, copy, indicator, validate)\u001b[0m\n\u001b[1;32m     45\u001b[0m                          \u001b[0mright_index\u001b[0m\u001b[0;34m=\u001b[0m\u001b[0mright_index\u001b[0m\u001b[0;34m,\u001b[0m \u001b[0msort\u001b[0m\u001b[0;34m=\u001b[0m\u001b[0msort\u001b[0m\u001b[0;34m,\u001b[0m \u001b[0msuffixes\u001b[0m\u001b[0;34m=\u001b[0m\u001b[0msuffixes\u001b[0m\u001b[0;34m,\u001b[0m\u001b[0;34m\u001b[0m\u001b[0;34m\u001b[0m\u001b[0m\n\u001b[1;32m     46\u001b[0m                          \u001b[0mcopy\u001b[0m\u001b[0;34m=\u001b[0m\u001b[0mcopy\u001b[0m\u001b[0;34m,\u001b[0m \u001b[0mindicator\u001b[0m\u001b[0;34m=\u001b[0m\u001b[0mindicator\u001b[0m\u001b[0;34m,\u001b[0m\u001b[0;34m\u001b[0m\u001b[0;34m\u001b[0m\u001b[0m\n\u001b[0;32m---> 47\u001b[0;31m                          validate=validate)\n\u001b[0m\u001b[1;32m     48\u001b[0m     \u001b[0;32mreturn\u001b[0m \u001b[0mop\u001b[0m\u001b[0;34m.\u001b[0m\u001b[0mget_result\u001b[0m\u001b[0;34m(\u001b[0m\u001b[0;34m)\u001b[0m\u001b[0;34m\u001b[0m\u001b[0;34m\u001b[0m\u001b[0m\n\u001b[1;32m     49\u001b[0m \u001b[0;34m\u001b[0m\u001b[0m\n",
      "\u001b[0;32m~/anaconda3/lib/python3.7/site-packages/pandas/core/reshape/merge.py\u001b[0m in \u001b[0;36m__init__\u001b[0;34m(self, left, right, how, on, left_on, right_on, axis, left_index, right_index, sort, suffixes, copy, indicator, validate)\u001b[0m\n\u001b[1;32m    527\u001b[0m         (self.left_join_keys,\n\u001b[1;32m    528\u001b[0m          \u001b[0mself\u001b[0m\u001b[0;34m.\u001b[0m\u001b[0mright_join_keys\u001b[0m\u001b[0;34m,\u001b[0m\u001b[0;34m\u001b[0m\u001b[0;34m\u001b[0m\u001b[0m\n\u001b[0;32m--> 529\u001b[0;31m          self.join_names) = self._get_merge_keys()\n\u001b[0m\u001b[1;32m    530\u001b[0m \u001b[0;34m\u001b[0m\u001b[0m\n\u001b[1;32m    531\u001b[0m         \u001b[0;31m# validate the merge keys dtypes. We may need to coerce\u001b[0m\u001b[0;34m\u001b[0m\u001b[0;34m\u001b[0m\u001b[0;34m\u001b[0m\u001b[0m\n",
      "\u001b[0;32m~/anaconda3/lib/python3.7/site-packages/pandas/core/reshape/merge.py\u001b[0m in \u001b[0;36m_get_merge_keys\u001b[0;34m(self)\u001b[0m\n\u001b[1;32m    831\u001b[0m                         \u001b[0;32mif\u001b[0m \u001b[0mrk\u001b[0m \u001b[0;32mis\u001b[0m \u001b[0;32mnot\u001b[0m \u001b[0;32mNone\u001b[0m\u001b[0;34m:\u001b[0m\u001b[0;34m\u001b[0m\u001b[0;34m\u001b[0m\u001b[0m\n\u001b[1;32m    832\u001b[0m                             right_keys.append(\n\u001b[0;32m--> 833\u001b[0;31m                                 right._get_label_or_level_values(rk))\n\u001b[0m\u001b[1;32m    834\u001b[0m                         \u001b[0;32melse\u001b[0m\u001b[0;34m:\u001b[0m\u001b[0;34m\u001b[0m\u001b[0;34m\u001b[0m\u001b[0m\n\u001b[1;32m    835\u001b[0m                             \u001b[0;31m# work-around for merge_asof(right_index=True)\u001b[0m\u001b[0;34m\u001b[0m\u001b[0;34m\u001b[0m\u001b[0;34m\u001b[0m\u001b[0m\n",
      "\u001b[0;32m~/anaconda3/lib/python3.7/site-packages/pandas/core/generic.py\u001b[0m in \u001b[0;36m_get_label_or_level_values\u001b[0;34m(self, key, axis)\u001b[0m\n\u001b[1;32m   1704\u001b[0m             \u001b[0mvalues\u001b[0m \u001b[0;34m=\u001b[0m \u001b[0mself\u001b[0m\u001b[0;34m.\u001b[0m\u001b[0maxes\u001b[0m\u001b[0;34m[\u001b[0m\u001b[0maxis\u001b[0m\u001b[0;34m]\u001b[0m\u001b[0;34m.\u001b[0m\u001b[0mget_level_values\u001b[0m\u001b[0;34m(\u001b[0m\u001b[0mkey\u001b[0m\u001b[0;34m)\u001b[0m\u001b[0;34m.\u001b[0m\u001b[0m_values\u001b[0m\u001b[0;34m\u001b[0m\u001b[0;34m\u001b[0m\u001b[0m\n\u001b[1;32m   1705\u001b[0m         \u001b[0;32melse\u001b[0m\u001b[0;34m:\u001b[0m\u001b[0;34m\u001b[0m\u001b[0;34m\u001b[0m\u001b[0m\n\u001b[0;32m-> 1706\u001b[0;31m             \u001b[0;32mraise\u001b[0m \u001b[0mKeyError\u001b[0m\u001b[0;34m(\u001b[0m\u001b[0mkey\u001b[0m\u001b[0;34m)\u001b[0m\u001b[0;34m\u001b[0m\u001b[0;34m\u001b[0m\u001b[0m\n\u001b[0m\u001b[1;32m   1707\u001b[0m \u001b[0;34m\u001b[0m\u001b[0m\n\u001b[1;32m   1708\u001b[0m         \u001b[0;31m# Check for duplicates\u001b[0m\u001b[0;34m\u001b[0m\u001b[0;34m\u001b[0m\u001b[0;34m\u001b[0m\u001b[0m\n",
      "\u001b[0;31mKeyError\u001b[0m: 'user_id'"
     ]
    }
   ],
   "source": [
    "test_df = merge_features(test_df,'test_user_target_encoder_industry.pkl',True)"
   ]
  },
  {
   "cell_type": "code",
   "execution_count": null,
   "metadata": {},
   "outputs": [],
   "source": [
    "test_df = merge_features(test_df,'test_user_target_encoder_advertiser_id.pkl'True)"
   ]
  },
  {
   "cell_type": "code",
   "execution_count": null,
   "metadata": {},
   "outputs": [],
   "source": [
    "test_df = merge_features(test_df,'test_user_target_encoder_product_category.pkl',True)"
   ]
  },
  {
   "cell_type": "code",
   "execution_count": null,
   "metadata": {},
   "outputs": [],
   "source": [
    "# train_x = train_df.drop(['age','user_id','gender','advertiser_id_seq','industry_seq','product_id_seq'], axis=1)\n",
    "# train_y = train_df['age'].astype(int)\n",
    "\n",
    "# valid_x = valid_df.drop(['age','user_id','gender','advertiser_id_seq','industry_seq','product_id_seq'], axis=1)\n",
    "# valid_y = valid_df['age'].astype(int)\n",
    "\n",
    "drop_list = ['user_id','click_times_sum','click_times_count']\n",
    "test_df = test_df.drop(drop_list, axis=1)\n",
    "\n",
    "\n",
    "\n"
   ]
  },
  {
   "cell_type": "code",
   "execution_count": null,
   "metadata": {},
   "outputs": [],
   "source": [
    "\n",
    "gbm = lgb.Booster(model_file='age_emb1.txt')\n",
    "print('Feature importances:', list(gbm.feature_importance()))"
   ]
  },
  {
   "cell_type": "code",
   "execution_count": null,
   "metadata": {},
   "outputs": [],
   "source": [
    "y_pred = gbm.predict(test_df.astype(float))\n",
    "for i in range(len(y_pred)):\n",
    "        max_value=max(y_pred[i])\n",
    "        for j in range(len(y_pred[i])):\n",
    "            if max_value==y_pred[i][j]:\n",
    "                y_pred[i][j]=1\n",
    "            else:\n",
    "                y_pred[i][j]=0\n",
    "print(y_pred)             \n",
    "\n",
    "ret = []\n",
    "for user_id,age in zip(range(1000000),y_pred):\n",
    "    ret.append([int(user_id+3000001),int(age.tolist().index(1) + 1)])\n",
    "\n",
    "ret_df = pd.DataFrame(ret,columns=['user_id','predicted_age'])\n",
    "ret_df.to_pickle(\"age_target_out1.pkl\")\n",
    "print(ret_df)\n",
    "print(ret_df['predicted_age'].value_counts())"
   ]
  },
  {
   "cell_type": "code",
   "execution_count": null,
   "metadata": {},
   "outputs": [],
   "source": []
  }
 ],
 "metadata": {
  "kernelspec": {
   "display_name": "Python 3",
   "language": "python",
   "name": "python3"
  },
  "language_info": {
   "codemirror_mode": {
    "name": "ipython",
    "version": 3
   },
   "file_extension": ".py",
   "mimetype": "text/x-python",
   "name": "python",
   "nbconvert_exporter": "python",
   "pygments_lexer": "ipython3",
   "version": "3.7.3"
  }
 },
 "nbformat": 4,
 "nbformat_minor": 2
}
