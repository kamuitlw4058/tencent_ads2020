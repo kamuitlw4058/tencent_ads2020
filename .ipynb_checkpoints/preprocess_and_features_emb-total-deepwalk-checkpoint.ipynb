{
 "cells": [
  {
   "cell_type": "code",
   "execution_count": 1,
   "metadata": {},
   "outputs": [],
   "source": [
    "import os\n",
    "import pandas as pd\n",
    "import numpy as np\n",
    "import random\n",
    "import gc\n",
    "from datetime import datetime\n",
    "from tqdm import tqdm\n",
    "import matplotlib.pyplot as plt\n",
    "from gensim.corpora import WikiCorpus\n",
    "from gensim.models import Word2Vec\n",
    "from gensim.models.word2vec import LineSentence\n",
    "from sklearn.feature_extraction.text import TfidfVectorizer\n",
    "from sklearn.model_selection import train_test_split\n",
    "from  collections import Counter\n",
    "\n",
    "np.random.seed(2019)\n",
    "random.seed(2019)\n",
    "pd.set_option('display.max_rows', 6)\n",
    "pd.set_option('display.max_columns', 500)\n",
    "pd.set_option('display.width', 280)\n",
    "pd.set_option('display.max_colwidth', 150)\n",
    "data_path = '/data/workspace/kimi/tencent_ads/2020/dataset'\n",
    "preprocess_path = 'preprocess'"
   ]
  },
  {
   "cell_type": "code",
   "execution_count": 2,
   "metadata": {},
   "outputs": [
    {
     "name": "stdout",
     "output_type": "stream",
     "text": [
      "          time  user_id  creative_id  click_times    ad_id  product_id  product_category  advertiser_id  industry\n",
      "32216896     1  3969503       146454            1   131508      -34137                18          34137        40\n",
      "25196907     1     2267       249047            1   223979        1927                 2          15784       322\n",
      "13936212     1   512898       168451            1   150988        1243                 2          29966       322\n",
      "...        ...      ...          ...          ...      ...         ...               ...            ...       ...\n",
      "58813490    91  3773900      3680751            1  3167517       42718                17          10259        -1\n",
      "23168403    91   498277      3877769            1  3331468       26858                 3             23        60\n",
      "13125865    91   141441      4329985            1  3712996       39503                17          13328        -1\n",
      "\n",
      "[63668283 rows x 9 columns]\n"
     ]
    }
   ],
   "source": [
    "total_merged= 'total_merged.pkl'\n",
    "total_merged_path = f'{preprocess_path}/{total_merged}'\n",
    "total_merged_df = pd.read_pickle(total_merged_path)\n",
    "print(total_merged_df)\n"
   ]
  },
  {
   "cell_type": "code",
   "execution_count": 6,
   "metadata": {},
   "outputs": [],
   "source": [
    "\n",
    "def deepwalk(log,f1,f2,flag,L,window,size,name):\n",
    "    #Deepwalk算法，\n",
    "    print(\"deepwalk:\",f1,f2)\n",
    "    #构建图\n",
    "    dic={}\n",
    "    for item in tqdm(log[[f1,f2]].values,total=len(log)):\n",
    "        try:\n",
    "            str(int(item[1]))\n",
    "            str(int(item[0]))\n",
    "        except:\n",
    "            continue\n",
    "        try:\n",
    "            dic['item_'+str(int(item[1]))].add('user_'+str(int(item[0])))\n",
    "        except:\n",
    "            dic['item_'+str(int(item[1]))]=set(['user_'+str(int(item[0]))])\n",
    "        try:\n",
    "            dic['user_'+str(int(item[0]))].add('item_'+str(int(item[1])))\n",
    "        except:\n",
    "            dic['user_'+str(int(item[0]))]=set(['item_'+str(int(item[1]))])\n",
    "    dic_cont={}\n",
    "    for key in dic:\n",
    "        dic[key]=list(dic[key])\n",
    "        dic_cont[key]=len(dic[key])\n",
    "    print(\"creating\")     \n",
    "    #构建路径\n",
    "    path_length=size        \n",
    "    sentences=[]\n",
    "    length=[]\n",
    "    for key in tqdm(dic,total=len(dic)):\n",
    "        sentence=[key]\n",
    "        while len(sentence)!=path_length:\n",
    "            key=dic[sentence[-1]][random.randint(0,dic_cont[sentence[-1]]-1)]\n",
    "            if len(sentence)>=2 and key == sentence[-2]:\n",
    "                break\n",
    "            else:\n",
    "                sentence.append(key)\n",
    "        sentences.append(sentence)\n",
    "        length.append(len(sentence))\n",
    "        if len(sentences)%100000==0:\n",
    "            print(len(sentences))\n",
    "    print(np.mean(length))\n",
    "    print(len(sentences))\n",
    "    #训练Deepwalk模型\n",
    "    print('training...')\n",
    "    random.shuffle(sentences)\n",
    "    model = Word2Vec(sentences, size=L, window=window,min_count=1,sg=1, workers=10,iter=20)\n",
    "    print('outputing...')\n",
    "    model.save(f'model/deepwalk_{f2}_{L}_{window}_{size}_{name}.model')\n",
    "    #输出\n",
    "    values=set(log[f1].values)\n",
    "    w2v=[]\n",
    "    for v in values:\n",
    "        try:\n",
    "            a=[int(v)]\n",
    "            a.extend(model['user_'+str(int(v))])\n",
    "            w2v.append(a)\n",
    "        except:\n",
    "            pass\n",
    "    out_df=pd.DataFrame(w2v)\n",
    "    names=[f1]\n",
    "    for i in range(L):\n",
    "        names.append(f1+'_'+ f2+'_'+names[0]+'_deepwalk_embedding_'+str(L)+'_'+str(i))\n",
    "    out_df.columns = names\n",
    "    print(out_df.head())\n",
    "    out_df.to_pickle('preprocess_path/' +f1+'_'+ f2+'_'+f1 +'_'+flag +'_deepwalk_'+ f'w{window}_s{size}_l{str(L)}_{name}.pkl') \n",
    "    ########################\n",
    "    values=set(log[f2].values)\n",
    "    w2v=[]\n",
    "    for v in values:\n",
    "        try:\n",
    "            a=[int(v)]\n",
    "            a.extend(model['item_'+str(int(v))])\n",
    "            w2v.append(a)\n",
    "        except:\n",
    "            pass\n",
    "    out_df=pd.DataFrame(w2v)\n",
    "    names=[f2]\n",
    "    for i in range(L):\n",
    "        names.append(f1+'_'+ f2+'_'+names[0]+'_deepwalk_embedding_'+str(L)+'_'+str(i))\n",
    "    out_df.columns = names\n",
    "    print(out_df.head())\n",
    "    out_df.to_pickle('preprocess_path/' +f1+'_'+ f2+'_'+f2 +'_'+flag +'_deepwalk_' + f'w{window}_s{size}_l{str(L)}_{name}.pkl') "
   ]
  },
  {
   "cell_type": "code",
   "execution_count": 5,
   "metadata": {},
   "outputs": [
    {
     "name": "stderr",
     "output_type": "stream",
     "text": [
      "  0%|          | 21421/63668283 [00:00<04:57, 214208.67it/s]"
     ]
    },
    {
     "name": "stdout",
     "output_type": "stream",
     "text": [
      "deepwalk: user_id advertiser_id\n"
     ]
    },
    {
     "name": "stderr",
     "output_type": "stream",
     "text": [
      " 11%|█         | 6715186/63668283 [00:32<04:06, 231155.69it/s]"
     ]
    },
    {
     "ename": "KeyboardInterrupt",
     "evalue": "",
     "output_type": "error",
     "traceback": [
      "\u001b[0;31m---------------------------------------------------------------------------\u001b[0m",
      "\u001b[0;31mKeyboardInterrupt\u001b[0m                         Traceback (most recent call last)",
      "\u001b[0;32m<ipython-input-5-ef36fdc864b2>\u001b[0m in \u001b[0;36m<module>\u001b[0;34m\u001b[0m\n\u001b[0;32m----> 1\u001b[0;31m \u001b[0mdeepwalk\u001b[0m\u001b[0;34m(\u001b[0m\u001b[0mtotal_merged_df\u001b[0m\u001b[0;34m,\u001b[0m\u001b[0;34m'user_id'\u001b[0m\u001b[0;34m,\u001b[0m\u001b[0;34m'advertiser_id'\u001b[0m\u001b[0;34m,\u001b[0m\u001b[0;34m'train'\u001b[0m\u001b[0;34m,\u001b[0m\u001b[0;36m64\u001b[0m\u001b[0;34m,\u001b[0m\u001b[0;36m10\u001b[0m\u001b[0;34m,\u001b[0m\u001b[0;36m50\u001b[0m\u001b[0;34m)\u001b[0m\u001b[0;34m\u001b[0m\u001b[0;34m\u001b[0m\u001b[0m\n\u001b[0m",
      "\u001b[0;32m<ipython-input-4-ee8046831263>\u001b[0m in \u001b[0;36mdeepwalk\u001b[0;34m(log, f1, f2, flag, L, window, size)\u001b[0m\n\u001b[1;32m      4\u001b[0m     \u001b[0;31m#构建图\u001b[0m\u001b[0;34m\u001b[0m\u001b[0;34m\u001b[0m\u001b[0;34m\u001b[0m\u001b[0m\n\u001b[1;32m      5\u001b[0m     \u001b[0mdic\u001b[0m\u001b[0;34m=\u001b[0m\u001b[0;34m{\u001b[0m\u001b[0;34m}\u001b[0m\u001b[0;34m\u001b[0m\u001b[0;34m\u001b[0m\u001b[0m\n\u001b[0;32m----> 6\u001b[0;31m     \u001b[0;32mfor\u001b[0m \u001b[0mitem\u001b[0m \u001b[0;32min\u001b[0m \u001b[0mtqdm\u001b[0m\u001b[0;34m(\u001b[0m\u001b[0mlog\u001b[0m\u001b[0;34m[\u001b[0m\u001b[0;34m[\u001b[0m\u001b[0mf1\u001b[0m\u001b[0;34m,\u001b[0m\u001b[0mf2\u001b[0m\u001b[0;34m]\u001b[0m\u001b[0;34m]\u001b[0m\u001b[0;34m.\u001b[0m\u001b[0mvalues\u001b[0m\u001b[0;34m,\u001b[0m\u001b[0mtotal\u001b[0m\u001b[0;34m=\u001b[0m\u001b[0mlen\u001b[0m\u001b[0;34m(\u001b[0m\u001b[0mlog\u001b[0m\u001b[0;34m)\u001b[0m\u001b[0;34m)\u001b[0m\u001b[0;34m:\u001b[0m\u001b[0;34m\u001b[0m\u001b[0;34m\u001b[0m\u001b[0m\n\u001b[0m\u001b[1;32m      7\u001b[0m         \u001b[0;32mtry\u001b[0m\u001b[0;34m:\u001b[0m\u001b[0;34m\u001b[0m\u001b[0;34m\u001b[0m\u001b[0m\n\u001b[1;32m      8\u001b[0m             \u001b[0mstr\u001b[0m\u001b[0;34m(\u001b[0m\u001b[0mint\u001b[0m\u001b[0;34m(\u001b[0m\u001b[0mitem\u001b[0m\u001b[0;34m[\u001b[0m\u001b[0;36m1\u001b[0m\u001b[0;34m]\u001b[0m\u001b[0;34m)\u001b[0m\u001b[0;34m)\u001b[0m\u001b[0;34m\u001b[0m\u001b[0;34m\u001b[0m\u001b[0m\n",
      "\u001b[0;32m~/anaconda3/lib/python3.7/site-packages/tqdm/_tqdm.py\u001b[0m in \u001b[0;36m__iter__\u001b[0;34m(self)\u001b[0m\n\u001b[1;32m   1007\u001b[0m                 \u001b[0;31m# Update and possibly print the progressbar.\u001b[0m\u001b[0;34m\u001b[0m\u001b[0;34m\u001b[0m\u001b[0;34m\u001b[0m\u001b[0m\n\u001b[1;32m   1008\u001b[0m                 \u001b[0;31m# Note: does not call self.update(1) for speed optimisation.\u001b[0m\u001b[0;34m\u001b[0m\u001b[0;34m\u001b[0m\u001b[0;34m\u001b[0m\u001b[0m\n\u001b[0;32m-> 1009\u001b[0;31m                 \u001b[0mn\u001b[0m \u001b[0;34m+=\u001b[0m \u001b[0;36m1\u001b[0m\u001b[0;34m\u001b[0m\u001b[0;34m\u001b[0m\u001b[0m\n\u001b[0m\u001b[1;32m   1010\u001b[0m                 \u001b[0;31m# check counter first to avoid calls to time()\u001b[0m\u001b[0;34m\u001b[0m\u001b[0;34m\u001b[0m\u001b[0;34m\u001b[0m\u001b[0m\n\u001b[1;32m   1011\u001b[0m                 \u001b[0;32mif\u001b[0m \u001b[0mn\u001b[0m \u001b[0;34m-\u001b[0m \u001b[0mlast_print_n\u001b[0m \u001b[0;34m>=\u001b[0m \u001b[0mself\u001b[0m\u001b[0;34m.\u001b[0m\u001b[0mminiters\u001b[0m\u001b[0;34m:\u001b[0m\u001b[0;34m\u001b[0m\u001b[0;34m\u001b[0m\u001b[0m\n",
      "\u001b[0;31mKeyboardInterrupt\u001b[0m: "
     ]
    }
   ],
   "source": [
    "deepwalk(total_merged_df,'user_id','advertiser_id','train',64,10,50,'first')"
   ]
  },
  {
   "cell_type": "code",
   "execution_count": null,
   "metadata": {},
   "outputs": [],
   "source": [
    "deepwalk(total_merged_df,'user_id','industry','train',64,10,50,'first')"
   ]
  }
 ],
 "metadata": {
  "kernelspec": {
   "display_name": "Python 3",
   "language": "python",
   "name": "python3"
  },
  "language_info": {
   "codemirror_mode": {
    "name": "ipython",
    "version": 3
   },
   "file_extension": ".py",
   "mimetype": "text/x-python",
   "name": "python",
   "nbconvert_exporter": "python",
   "pygments_lexer": "ipython3",
   "version": "3.7.3"
  }
 },
 "nbformat": 4,
 "nbformat_minor": 2
}
