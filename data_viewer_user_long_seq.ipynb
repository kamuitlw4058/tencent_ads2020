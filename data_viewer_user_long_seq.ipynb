{
 "cells": [
  {
   "cell_type": "code",
   "execution_count": 1,
   "metadata": {},
   "outputs": [],
   "source": [
    "import os\n",
    "import pandas as pd\n",
    "import numpy as np\n",
    "import random\n",
    "import gc\n",
    "from datetime import datetime\n",
    "from tqdm import tqdm\n",
    "import matplotlib.pyplot as plt\n",
    "from gensim.corpora import WikiCorpus\n",
    "from gensim.models import Word2Vec\n",
    "from gensim.models.word2vec import LineSentence\n",
    "from sklearn.feature_extraction.text import TfidfVectorizer\n",
    "from  collections import Counter\n",
    "\n",
    "np.random.seed(2019)\n",
    "random.seed(2019)\n",
    "pd.set_option('display.max_rows', 10)\n",
    "pd.set_option('display.max_columns', 500)\n",
    "pd.set_option('display.width', 280)\n",
    "pd.set_option('display.max_colwidth', 150)\n",
    "data_path = '/data/workspace/kimi/tencent_ads/2020/dataset'\n",
    "preprocess_path = 'preprocess'"
   ]
  },
  {
   "cell_type": "code",
   "execution_count": 2,
   "metadata": {},
   "outputs": [],
   "source": [
    "clk_df = pd.read_csv(f'{data_path}/train_preliminary/click_log.csv' )\n",
    "\n"
   ]
  },
  {
   "cell_type": "code",
   "execution_count": 3,
   "metadata": {},
   "outputs": [
    {
     "name": "stdout",
     "output_type": "stream",
     "text": [
      "91\n",
      "85    417797\n",
      "78    406004\n",
      "84    393253\n",
      "64    388689\n",
      "57    384115\n",
      "74    381696\n",
      "91    376422\n",
      "63    376263\n",
      "34    373768\n",
      "36    371639\n",
      "Name: time, dtype: int64\n",
      "Int64Index([85, 78, 84, 64, 57, 74, 91, 63, 34, 36, 31, 77, 73, 43, 35, 75, 65, 37, 32, 33, 71, 56, 79, 67, 50, 70, 66, 88, 90, 81, 49, 82, 72, 83, 68, 80, 76, 86, 14, 55, 60, 54, 69, 87, 58, 42, 53, 61, 45, 52, 46, 22, 59, 40, 48, 89, 30, 51, 62, 41, 47, 15, 29, 44, 13, 39, 21,\n",
      "            18, 28, 38,  1, 26, 17,  8, 19, 16, 25, 11,  7, 27, 23,  2, 24, 12, 10,  3, 20,  4,  5,  9,  6],\n",
      "           dtype='int64')\n"
     ]
    },
    {
     "data": {
      "image/png": "[encoded data removed]",
      "text/plain": [
       "<Figure size 432x288 with 1 Axes>"
      ]
     },
     "metadata": {
      "needs_background": "light"
     },
     "output_type": "display_data"
    }
   ],
   "source": [
    "adv_count_value= clk_df['time'].value_counts()\n",
    "print(len(adv_count_value))\n",
    "print(adv_count_value[:10])\n",
    "#null_counts = adv_count_value['\\\\N']\n",
    "#print(f\"null:{null_counts}\")\n",
    "x = adv_count_value.index\n",
    "print(x)\n",
    "y = adv_count_value.values\n",
    "plt.scatter(x,y)\n",
    "plt.show()"
   ]
  },
  {
   "cell_type": "code",
   "execution_count": 4,
   "metadata": {},
   "outputs": [
    {
     "name": "stdout",
     "output_type": "stream",
     "text": [
      "        user_id  click_times_total\n",
      "697474   697475                 10\n",
      "815798   815799                 10\n",
      "815807   815808                 10\n",
      "142089   142090                 10\n",
      "339275   339276                 10\n",
      "...         ...                ...\n",
      "677300   677301               1669\n",
      "178332   178333               1714\n",
      "157584   157585               1742\n",
      "674069   674070               1776\n",
      "839367   839368              21330\n",
      "\n",
      "[900000 rows x 2 columns]\n"
     ]
    },
    {
     "data": {
      "image/png": "[encoded data removed]",
      "text/plain": [
       "<Figure size 432x288 with 1 Axes>"
      ]
     },
     "metadata": {
      "needs_background": "light"
     },
     "output_type": "display_data"
    }
   ],
   "source": [
    "user_click_sum_df = clk_df.groupby(['user_id']).click_times.sum().reset_index().rename(columns={'click_times':'click_times_total'}).sort_values(by='click_times_total')\n",
    "print(user_click_sum_df)\n",
    "x = user_click_sum_df['user_id'].values.tolist()\n",
    "y = user_click_sum_df['click_times_total'].values.tolist()\n",
    "plt.scatter(x,y)\n",
    "plt.show()"
   ]
  },
  {
   "cell_type": "code",
   "execution_count": 5,
   "metadata": {},
   "outputs": [],
   "source": [
    "ad_df = pd.read_csv(f'{data_path}/train_preliminary/ad.csv' )"
   ]
  },
  {
   "cell_type": "code",
   "execution_count": 6,
   "metadata": {},
   "outputs": [
    {
     "name": "stdout",
     "output_type": "stream",
     "text": [
      "          time  user_id  creative_id  click_times    ad_id product_id  product_category  advertiser_id industry  wday  month\n",
      "0            9    30920       567330            1   504423      30673                 3          32638      319     1      0\n",
      "1           15   320815       567330            1   504423      30673                 3          32638      319     2      0\n",
      "2           11   355089       567330            1   504423      30673                 3          32638      319     1      0\n",
      "3            9   363442       567330            1   504423      30673                 3          32638      319     1      0\n",
      "4           14   370513       567330            1   504423      30673                 3          32638      319     2      0\n",
      "...        ...      ...          ...          ...      ...        ...               ...            ...      ...   ...    ...\n",
      "30082766    52   309198      2459911            1  2119242        161                 2            676      231     7      1\n",
      "30082767     5   309198       452252            1   402185       2870                 2           7158      247     0      0\n",
      "30082768    76   309198      3686554            2  3172440       3979                 2          52506      247    10      2\n",
      "30082769    50   309198      2386973            1  2057811       1946                 2          17757      259     7      1\n",
      "30082770    12    30920       717026            1   634512         -1                18          26466      126     1      0\n",
      "\n",
      "[30082771 rows x 11 columns]\n"
     ]
    }
   ],
   "source": [
    "merged_df = clk_df.merge(ad_df,on='creative_id')\n",
    "merged_df.replace(\"\\\\N\",-1,inplace=True)\n",
    "merged_df.fillna(-1).astype(float)\n",
    "merged_df['wday'] = merged_df['time'].apply(lambda x :int(x /7))\n",
    "merged_df['month'] = merged_df['time'].apply(lambda x :int(x /30))\n",
    "print(merged_df)"
   ]
  },
  {
   "cell_type": "code",
   "execution_count": 8,
   "metadata": {},
   "outputs": [],
   "source": [
    "label_df = pd.read_csv(f'{data_path}/train_preliminary/user.csv')"
   ]
  },
  {
   "cell_type": "code",
   "execution_count": 7,
   "metadata": {},
   "outputs": [
    {
     "name": "stdout",
     "output_type": "stream",
     "text": [
      "user_id\n",
      "1         14\n",
      "2         46\n",
      "3         30\n",
      "4         29\n",
      "5         34\n",
      "          ..\n",
      "899996    14\n",
      "899997    20\n",
      "899998    15\n",
      "899999    22\n",
      "900000    12\n",
      "Name: click_times, Length: 900000, dtype: int64\n"
     ]
    }
   ],
   "source": [
    "grouped_df = merged_df.groupby(['user_id']).click_times.sum()\n",
    "\n",
    "print(grouped_df)"
   ]
  },
  {
   "cell_type": "code",
   "execution_count": 27,
   "metadata": {},
   "outputs": [
    {
     "name": "stdout",
     "output_type": "stream",
     "text": [
      "       user_id  click_times\n",
      "0           97          160\n",
      "1          127          184\n",
      "2          211          315\n",
      "3          260          153\n",
      "4          344          181\n",
      "...        ...          ...\n",
      "13456   899825          303\n",
      "13457   899897          156\n",
      "13458   899903          174\n",
      "13459   899986          151\n",
      "13460   899991          153\n",
      "\n",
      "[13461 rows x 2 columns]\n",
      "       user_id  click_times\n",
      "0           97          160\n",
      "1          127          184\n",
      "2          211          315\n",
      "3          260          153\n",
      "4          344          181\n",
      "...        ...          ...\n",
      "10829   719729          192\n",
      "10830   719766          185\n",
      "10831   719843          204\n",
      "10832   719884          162\n",
      "10833   719924          218\n",
      "\n",
      "[10834 rows x 2 columns]\n",
      "       user_id  click_times\n",
      "10834   720021          260\n",
      "10835   720064          153\n",
      "10836   720309          178\n",
      "10837   720326          216\n",
      "10838   720396          293\n",
      "...        ...          ...\n",
      "13456   899825          303\n",
      "13457   899897          156\n",
      "13458   899903          174\n",
      "13459   899986          151\n",
      "13460   899991          153\n",
      "\n",
      "[2627 rows x 2 columns]\n"
     ]
    }
   ],
   "source": [
    "long_seq_df = grouped_df[grouped_df>150].reset_index()\n",
    "#long_seq_df = long_seq_df[long_seq_df.user_id > 720000]\n",
    "print(long_seq_df)\n",
    "print(long_seq_df[long_seq_df.user_id <= 720000])\n",
    "print(long_seq_df[long_seq_df.user_id > 720000])"
   ]
  },
  {
   "cell_type": "code",
   "execution_count": 23,
   "metadata": {},
   "outputs": [
    {
     "name": "stdout",
     "output_type": "stream",
     "text": [
      "       user_id  click_times  age  gender\n",
      "0           37          140    4       1\n",
      "1           92          139    5       1\n",
      "2           97          160    7       2\n",
      "3          125          111    4       2\n",
      "4          127          184    6       1\n",
      "...        ...          ...  ...     ...\n",
      "40086   899897          156    4       2\n",
      "40087   899903          174    3       1\n",
      "40088   899981          105    2       2\n",
      "40089   899986          151    1       2\n",
      "40090   899991          153    3       1\n",
      "\n",
      "[40091 rows x 4 columns]\n"
     ]
    }
   ],
   "source": [
    "long_seq_target_df = long_seq_df.merge(label_df,on='user_id',how='left')\n",
    "print(long_seq_target_df)"
   ]
  },
  {
   "cell_type": "code",
   "execution_count": 24,
   "metadata": {},
   "outputs": [
    {
     "name": "stdout",
     "output_type": "stream",
     "text": [
      "3     8343\n",
      "2     6950\n",
      "4     6405\n",
      "5     5735\n",
      "6     4205\n",
      "7     2837\n",
      "1     2296\n",
      "8     1396\n",
      "9     1018\n",
      "10     906\n",
      "Name: age, dtype: int64\n"
     ]
    }
   ],
   "source": [
    "long_seq_target_age_value_counts =   long_seq_target_df['age'].value_counts()\n",
    "print(long_seq_target_age_value_counts)"
   ]
  },
  {
   "cell_type": "code",
   "execution_count": null,
   "metadata": {},
   "outputs": [],
   "source": []
  }
 ],
 "metadata": {
  "kernelspec": {
   "display_name": "Python 3",
   "language": "python",
   "name": "python3"
  },
  "language_info": {
   "codemirror_mode": {
    "name": "ipython",
    "version": 3
   },
   "file_extension": ".py",
   "mimetype": "text/x-python",
   "name": "python",
   "nbconvert_exporter": "python",
   "pygments_lexer": "ipython3",
   "version": "3.7.3"
  }
 },
 "nbformat": 4,
 "nbformat_minor": 4
}
