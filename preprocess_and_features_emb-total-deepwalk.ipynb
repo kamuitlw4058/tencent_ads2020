{
 "cells": [
  {
   "cell_type": "code",
   "execution_count": 1,
   "metadata": {},
   "outputs": [],
   "source": [
    "import os\n",
    "import pandas as pd\n",
    "import numpy as np\n",
    "import random\n",
    "import gc\n",
    "from datetime import datetime\n",
    "from tqdm import tqdm\n",
    "import matplotlib.pyplot as plt\n",
    "from gensim.corpora import WikiCorpus\n",
    "from gensim.models import Word2Vec\n",
    "from gensim.models.word2vec import LineSentence\n",
    "from sklearn.feature_extraction.text import TfidfVectorizer\n",
    "from sklearn.model_selection import train_test_split\n",
    "from  collections import Counter\n",
    "\n",
    "np.random.seed(2019)\n",
    "random.seed(2019)\n",
    "pd.set_option('display.max_rows', 6)\n",
    "pd.set_option('display.max_columns', 500)\n",
    "pd.set_option('display.width', 280)\n",
    "pd.set_option('display.max_colwidth', 150)\n",
    "data_path = '/data/workspace/kimi/tencent_ads/2020/dataset'\n",
    "preprocess_path = 'preprocess'"
   ]
  },
  {
   "cell_type": "code",
   "execution_count": 2,
   "metadata": {},
   "outputs": [
    {
     "name": "stdout",
     "output_type": "stream",
     "text": [
      "          time  user_id  creative_id  click_times    ad_id  product_id  product_category  advertiser_id  industry\n",
      "32216896     1  3969503       146454            1   131508      -34137                18          34137        40\n",
      "25196907     1     2267       249047            1   223979        1927                 2          15784       322\n",
      "13936212     1   512898       168451            1   150988        1243                 2          29966       322\n",
      "...        ...      ...          ...          ...      ...         ...               ...            ...       ...\n",
      "58813490    91  3773900      3680751            1  3167517       42718                17          10259        -1\n",
      "23168403    91   498277      3877769            1  3331468       26858                 3             23        60\n",
      "13125865    91   141441      4329985            1  3712996       39503                17          13328        -1\n",
      "\n",
      "[63668283 rows x 9 columns]\n"
     ]
    }
   ],
   "source": [
    "total_merged= 'total_merged.pkl'\n",
    "total_merged_path = f'{preprocess_path}/{total_merged}'\n",
    "total_merged_df = pd.read_pickle(total_merged_path)\n",
    "print(total_merged_df)\n"
   ]
  },
  {
   "cell_type": "code",
   "execution_count": 3,
   "metadata": {},
   "outputs": [],
   "source": [
    "\n",
    "def deepwalk(log,f1,f2,flag,L,window,size,name):\n",
    "    #Deepwalk算法，\n",
    "    print(\"deepwalk:\",f1,f2)\n",
    "    #构建图\n",
    "    dic={}\n",
    "    for item in tqdm(log[[f1,f2]].values,total=len(log)):\n",
    "        try:\n",
    "            str(int(item[1]))\n",
    "            str(int(item[0]))\n",
    "        except:\n",
    "            continue\n",
    "        try:\n",
    "            dic['item_'+str(int(item[1]))].add('user_'+str(int(item[0])))\n",
    "        except:\n",
    "            dic['item_'+str(int(item[1]))]=set(['user_'+str(int(item[0]))])\n",
    "        try:\n",
    "            dic['user_'+str(int(item[0]))].add('item_'+str(int(item[1])))\n",
    "        except:\n",
    "            dic['user_'+str(int(item[0]))]=set(['item_'+str(int(item[1]))])\n",
    "    dic_cont={}\n",
    "    for key in dic:\n",
    "        dic[key]=list(dic[key])\n",
    "        dic_cont[key]=len(dic[key])\n",
    "    print(\"creating\")     \n",
    "    #构建路径\n",
    "    path_length=size        \n",
    "    sentences=[]\n",
    "    length=[]\n",
    "    for key in tqdm(dic,total=len(dic)):\n",
    "        sentence=[key]\n",
    "        while len(sentence)!=path_length:\n",
    "            key=dic[sentence[-1]][random.randint(0,dic_cont[sentence[-1]]-1)]\n",
    "            if len(sentence)>=2 and key == sentence[-2]:\n",
    "                break\n",
    "            else:\n",
    "                sentence.append(key)\n",
    "        sentences.append(sentence)\n",
    "        length.append(len(sentence))\n",
    "        if len(sentences)%100000==0:\n",
    "            print(len(sentences))\n",
    "    print(np.mean(length))\n",
    "    print(len(sentences))\n",
    "    #训练Deepwalk模型\n",
    "    print('training...')\n",
    "    random.shuffle(sentences)\n",
    "    model = Word2Vec(sentences, size=L, window=window,min_count=1,sg=1, workers=10,iter=20)\n",
    "    print('outputing...')\n",
    "    model.save(f'model/deepwalk_{f2}_{L}_{window}_{size}_{name}.model')\n",
    "    #输出\n",
    "    values=set(log[f1].values)\n",
    "    w2v=[]\n",
    "    for v in values:\n",
    "        try:\n",
    "            a=[int(v)]\n",
    "            a.extend(model['user_'+str(int(v))])\n",
    "            w2v.append(a)\n",
    "        except:\n",
    "            pass\n",
    "    out_df=pd.DataFrame(w2v)\n",
    "    names=[f1]\n",
    "    for i in range(L):\n",
    "        names.append(f1+'_'+ f2+'_'+names[0]+'_deepwalk_embedding_'+str(L)+'_'+str(i))\n",
    "    out_df.columns = names\n",
    "    print(out_df.head())\n",
    "    out_df.to_pickle('preprocess_path/' +f1+'_'+ f2+'_'+f1 +'_'+flag +'_deepwalk_'+ f'w{window}_s{size}_l{str(L)}_{name}.pkl') \n",
    "    ########################\n",
    "    values=set(log[f2].values)\n",
    "    w2v=[]\n",
    "    for v in values:\n",
    "        try:\n",
    "            a=[int(v)]\n",
    "            a.extend(model['item_'+str(int(v))])\n",
    "            w2v.append(a)\n",
    "        except:\n",
    "            pass\n",
    "    out_df=pd.DataFrame(w2v)\n",
    "    names=[f2]\n",
    "    for i in range(L):\n",
    "        names.append(f1+'_'+ f2+'_'+names[0]+'_deepwalk_embedding_'+str(L)+'_'+str(i))\n",
    "    out_df.columns = names\n",
    "    print(out_df.head())\n",
    "    out_df.to_pickle('preprocess_path/' +f1+'_'+ f2+'_'+f2 +'_'+flag +'_deepwalk_' + f'w{window}_s{size}_l{str(L)}_{name}.pkl') "
   ]
  },
  {
   "cell_type": "code",
   "execution_count": 4,
   "metadata": {},
   "outputs": [
    {
     "name": "stdout",
     "output_type": "stream",
     "text": [
      "deepwalk: user_id advertiser_id\n"
     ]
    },
    {
     "name": "stderr",
     "output_type": "stream",
     "text": [
      "100%|██████████| 63668283/63668283 [04:45<00:00, 223297.58it/s]\n",
      "  0%|          | 0/1957870 [00:00<?, ?it/s]"
     ]
    },
    {
     "name": "stdout",
     "output_type": "stream",
     "text": [
      "creating\n"
     ]
    },
    {
     "name": "stderr",
     "output_type": "stream",
     "text": [
      "  5%|▌         | 101948/1957870 [00:20<02:15, 13677.42it/s]"
     ]
    },
    {
     "name": "stdout",
     "output_type": "stream",
     "text": [
      "100000\n"
     ]
    },
    {
     "name": "stderr",
     "output_type": "stream",
     "text": [
      " 10%|█         | 202671/1957870 [00:27<02:08, 13621.50it/s]"
     ]
    },
    {
     "name": "stdout",
     "output_type": "stream",
     "text": [
      "200000\n"
     ]
    },
    {
     "name": "stderr",
     "output_type": "stream",
     "text": [
      " 15%|█▌        | 301806/1957870 [00:35<02:01, 13585.25it/s]"
     ]
    },
    {
     "name": "stdout",
     "output_type": "stream",
     "text": [
      "300000\n"
     ]
    },
    {
     "name": "stderr",
     "output_type": "stream",
     "text": [
      " 21%|██        | 402683/1957870 [00:42<01:55, 13489.17it/s]"
     ]
    },
    {
     "name": "stdout",
     "output_type": "stream",
     "text": [
      "400000\n"
     ]
    },
    {
     "name": "stderr",
     "output_type": "stream",
     "text": [
      " 26%|██▌       | 502176/1957870 [00:50<01:48, 13373.03it/s]"
     ]
    },
    {
     "name": "stdout",
     "output_type": "stream",
     "text": [
      "500000\n"
     ]
    },
    {
     "name": "stderr",
     "output_type": "stream",
     "text": [
      " 31%|███       | 600397/1957870 [00:57<01:43, 13071.45it/s]"
     ]
    },
    {
     "name": "stdout",
     "output_type": "stream",
     "text": [
      "600000\n"
     ]
    },
    {
     "name": "stderr",
     "output_type": "stream",
     "text": [
      " 36%|███▌      | 701562/1957870 [01:10<01:38, 12767.52it/s]"
     ]
    },
    {
     "name": "stdout",
     "output_type": "stream",
     "text": [
      "700000\n"
     ]
    },
    {
     "name": "stderr",
     "output_type": "stream",
     "text": [
      " 41%|████      | 802321/1957870 [01:17<01:27, 13132.13it/s]"
     ]
    },
    {
     "name": "stdout",
     "output_type": "stream",
     "text": [
      "800000\n"
     ]
    },
    {
     "name": "stderr",
     "output_type": "stream",
     "text": [
      " 46%|████▌     | 901774/1957870 [01:25<01:17, 13697.16it/s]"
     ]
    },
    {
     "name": "stdout",
     "output_type": "stream",
     "text": [
      "900000\n"
     ]
    },
    {
     "name": "stderr",
     "output_type": "stream",
     "text": [
      " 51%|█████     | 1002669/1957870 [01:32<01:10, 13563.70it/s]"
     ]
    },
    {
     "name": "stdout",
     "output_type": "stream",
     "text": [
      "1000000\n"
     ]
    },
    {
     "name": "stderr",
     "output_type": "stream",
     "text": [
      " 56%|█████▋    | 1102173/1957870 [01:39<01:03, 13556.37it/s]"
     ]
    },
    {
     "name": "stdout",
     "output_type": "stream",
     "text": [
      "1100000\n"
     ]
    },
    {
     "name": "stderr",
     "output_type": "stream",
     "text": [
      " 61%|██████▏   | 1201457/1957870 [01:47<00:56, 13317.00it/s]"
     ]
    },
    {
     "name": "stdout",
     "output_type": "stream",
     "text": [
      "1200000\n"
     ]
    },
    {
     "name": "stderr",
     "output_type": "stream",
     "text": [
      " 66%|██████▋   | 1301756/1957870 [02:01<00:55, 11895.97it/s]"
     ]
    },
    {
     "name": "stdout",
     "output_type": "stream",
     "text": [
      "1300000\n"
     ]
    },
    {
     "name": "stderr",
     "output_type": "stream",
     "text": [
      " 72%|███████▏  | 1402653/1957870 [02:08<00:41, 13539.30it/s]"
     ]
    },
    {
     "name": "stdout",
     "output_type": "stream",
     "text": [
      "1400000\n"
     ]
    },
    {
     "name": "stderr",
     "output_type": "stream",
     "text": [
      " 77%|███████▋  | 1502627/1957870 [02:16<00:33, 13395.39it/s]"
     ]
    },
    {
     "name": "stdout",
     "output_type": "stream",
     "text": [
      "1500000\n"
     ]
    },
    {
     "name": "stderr",
     "output_type": "stream",
     "text": [
      " 82%|████████▏ | 1601914/1957870 [02:23<00:27, 13155.68it/s]"
     ]
    },
    {
     "name": "stdout",
     "output_type": "stream",
     "text": [
      "1600000\n"
     ]
    },
    {
     "name": "stderr",
     "output_type": "stream",
     "text": [
      " 87%|████████▋ | 1702590/1957870 [02:30<00:19, 13175.73it/s]"
     ]
    },
    {
     "name": "stdout",
     "output_type": "stream",
     "text": [
      "1700000\n"
     ]
    },
    {
     "name": "stderr",
     "output_type": "stream",
     "text": [
      " 92%|█████████▏| 1801687/1957870 [02:38<00:11, 13652.43it/s]"
     ]
    },
    {
     "name": "stdout",
     "output_type": "stream",
     "text": [
      "1800000\n"
     ]
    },
    {
     "name": "stderr",
     "output_type": "stream",
     "text": [
      " 97%|█████████▋| 1902565/1957870 [02:45<00:04, 13678.22it/s]"
     ]
    },
    {
     "name": "stdout",
     "output_type": "stream",
     "text": [
      "1900000\n"
     ]
    },
    {
     "name": "stderr",
     "output_type": "stream",
     "text": [
      "100%|██████████| 1957870/1957870 [02:49<00:00, 11522.87it/s]\n"
     ]
    },
    {
     "name": "stdout",
     "output_type": "stream",
     "text": [
      "31.33056178397953\n",
      "1957870\n",
      "training...\n",
      "outputing...\n"
     ]
    },
    {
     "name": "stderr",
     "output_type": "stream",
     "text": [
      "/home/ubuntu/anaconda3/lib/python3.7/site-packages/ipykernel_launcher.py:55: DeprecationWarning: Call to deprecated `__getitem__` (Method will be removed in 4.0.0, use self.wv.__getitem__() instead).\n"
     ]
    },
    {
     "name": "stdout",
     "output_type": "stream",
     "text": [
      "   user_id  user_id_advertiser_id_user_id_deepwalk_embedding_64_0  user_id_advertiser_id_user_id_deepwalk_embedding_64_1  user_id_advertiser_id_user_id_deepwalk_embedding_64_2  user_id_advertiser_id_user_id_deepwalk_embedding_64_3  \\\n",
      "0        1                                               0.317821                                              -0.595060                                              -0.322108                                              -0.106295   \n",
      "1        2                                               0.559834                                              -0.181549                                              -0.642175                                               0.464080   \n",
      "2        3                                              -0.286303                                               0.280946                                              -0.491918                                              -0.426345   \n",
      "3        4                                               0.323528                                              -0.167102                                               0.069354                                               0.145682   \n",
      "4        5                                               0.018599                                               0.054891                                               0.263576                                              -0.349455   \n",
      "\n",
      "   user_id_advertiser_id_user_id_deepwalk_embedding_64_4  user_id_advertiser_id_user_id_deepwalk_embedding_64_5  user_id_advertiser_id_user_id_deepwalk_embedding_64_6  user_id_advertiser_id_user_id_deepwalk_embedding_64_7  user_id_advertiser_id_user_id_deepwalk_embedding_64_8  \\\n",
      "0                                               0.232473                                              -0.102004                                              -0.055373                                               0.151801                                              -0.232656   \n",
      "1                                               0.146224                                              -0.176582                                               0.222724                                               0.183193                                               0.880332   \n",
      "2                                               0.000842                                              -0.237905                                              -0.368052                                               0.129343                                               0.149860   \n",
      "3                                               0.628208                                              -0.209816                                              -0.428566                                               0.141335                                              -0.046122   \n",
      "4                                              -0.082568                                               0.669842                                               0.109455                                              -0.086818                                              -0.187741   \n",
      "\n",
      "   user_id_advertiser_id_user_id_deepwalk_embedding_64_9  user_id_advertiser_id_user_id_deepwalk_embedding_64_10  user_id_advertiser_id_user_id_deepwalk_embedding_64_11  user_id_advertiser_id_user_id_deepwalk_embedding_64_12  \\\n",
      "0                                               0.007504                                                0.064184                                                0.332635                                               -0.099297   \n",
      "1                                              -0.125793                                                0.519392                                                0.056704                                                0.030706   \n",
      "2                                               0.077022                                               -0.042138                                                0.113850                                               -0.075427   \n",
      "3                                               0.308642                                               -0.015842                                               -0.341714                                               -0.629923   \n",
      "4                                               0.943179                                                0.224166                                               -0.302531                                                0.007601   \n",
      "\n",
      "   user_id_advertiser_id_user_id_deepwalk_embedding_64_13  user_id_advertiser_id_user_id_deepwalk_embedding_64_14  user_id_advertiser_id_user_id_deepwalk_embedding_64_15  user_id_advertiser_id_user_id_deepwalk_embedding_64_16  \\\n",
      "0                                               -0.259425                                               -0.216321                                                0.029051                                               -0.301973   \n",
      "1                                                0.543331                                                0.059781                                                0.554514                                               -0.068551   \n",
      "2                                               -0.209540                                                0.181976                                                0.673905                                                0.057892   \n",
      "3                                               -0.044486                                               -0.086525                                                0.446698                                                0.060169   \n",
      "4                                                0.899670                                               -0.402733                                               -0.012231                                               -0.347389   \n",
      "\n",
      "   user_id_advertiser_id_user_id_deepwalk_embedding_64_17  user_id_advertiser_id_user_id_deepwalk_embedding_64_18  user_id_advertiser_id_user_id_deepwalk_embedding_64_19  user_id_advertiser_id_user_id_deepwalk_embedding_64_20  \\\n",
      "0                                                0.514906                                               -0.263316                                               -0.219456                                               -0.135689   \n",
      "1                                                0.624437                                               -0.124084                                                0.840175                                               -0.103129   \n",
      "2                                                0.709554                                                0.474276                                               -0.083782                                                0.339335   \n",
      "3                                                0.644741                                                0.053320                                               -0.251766                                                0.059797   \n",
      "4                                                0.580915                                               -0.860208                                                0.013817                                               -0.415770   \n",
      "\n",
      "   user_id_advertiser_id_user_id_deepwalk_embedding_64_21  user_id_advertiser_id_user_id_deepwalk_embedding_64_22  user_id_advertiser_id_user_id_deepwalk_embedding_64_23  user_id_advertiser_id_user_id_deepwalk_embedding_64_24  \\\n",
      "0                                                0.017626                                                0.519542                                                0.510579                                                0.216396   \n",
      "1                                                0.429862                                                0.178457                                                0.165714                                               -0.594912   \n",
      "2                                                0.547712                                                0.287343                                               -0.451424                                                0.035093   \n",
      "3                                                0.118083                                               -0.096881                                                0.302671                                                0.078518   \n",
      "4                                                1.032965                                               -0.168714                                               -0.228728                                                0.176617   \n",
      "\n",
      "   user_id_advertiser_id_user_id_deepwalk_embedding_64_25  user_id_advertiser_id_user_id_deepwalk_embedding_64_26  user_id_advertiser_id_user_id_deepwalk_embedding_64_27  user_id_advertiser_id_user_id_deepwalk_embedding_64_28  \\\n",
      "0                                                0.242120                                               -0.223321                                                0.173116                                                0.347179   \n",
      "1                                                0.225248                                                0.206916                                               -0.068158                                               -0.330024   \n",
      "2                                                0.274909                                                0.075671                                               -0.215649                                                0.235732   \n",
      "3                                                0.443992                                               -0.280839                                               -0.214748                                               -0.157665   \n",
      "4                                                0.262261                                                0.321854                                                0.031743                                                0.383812   \n",
      "\n",
      "   user_id_advertiser_id_user_id_deepwalk_embedding_64_29  user_id_advertiser_id_user_id_deepwalk_embedding_64_30  user_id_advertiser_id_user_id_deepwalk_embedding_64_31  user_id_advertiser_id_user_id_deepwalk_embedding_64_32  \\\n",
      "0                                                0.555546                                               -0.041392                                               -0.195941                                                0.309289   \n",
      "1                                                0.305410                                               -0.209573                                               -0.228570                                                0.317246   \n",
      "2                                                0.808203                                               -0.230147                                               -0.374516                                               -0.479304   \n",
      "3                                                0.690689                                               -0.022620                                               -0.466074                                                0.452767   \n",
      "4                                                0.477378                                                0.220256                                               -0.946389                                                0.681044   \n",
      "\n",
      "   user_id_advertiser_id_user_id_deepwalk_embedding_64_33  user_id_advertiser_id_user_id_deepwalk_embedding_64_34  user_id_advertiser_id_user_id_deepwalk_embedding_64_35  user_id_advertiser_id_user_id_deepwalk_embedding_64_36  \\\n",
      "0                                               -0.237279                                               -0.198742                                                0.007489                                               -0.215360   \n",
      "1                                               -0.720691                                               -0.553273                                               -0.335822                                                0.551396   \n",
      "2                                               -0.223528                                                0.406582                                                0.539284                                               -0.167414   \n",
      "3                                               -0.613796                                                0.527993                                                0.744336                                                0.020649   \n",
      "4                                               -0.525253                                                0.195508                                               -0.071906                                                0.191504   \n",
      "\n",
      "   user_id_advertiser_id_user_id_deepwalk_embedding_64_37  user_id_advertiser_id_user_id_deepwalk_embedding_64_38  user_id_advertiser_id_user_id_deepwalk_embedding_64_39  user_id_advertiser_id_user_id_deepwalk_embedding_64_40  \\\n",
      "0                                                0.620793                                                0.001699                                                0.471797                                                0.667332   \n",
      "1                                               -0.282888                                                0.201713                                               -0.197564                                                0.486843   \n",
      "2                                               -0.465153                                               -0.831551                                               -0.187562                                                0.003887   \n",
      "3                                                0.217576                                               -0.136019                                               -0.292946                                                0.294476   \n",
      "4                                               -0.087742                                               -0.449690                                                0.678457                                                0.444050   \n",
      "\n",
      "   user_id_advertiser_id_user_id_deepwalk_embedding_64_41  user_id_advertiser_id_user_id_deepwalk_embedding_64_42  user_id_advertiser_id_user_id_deepwalk_embedding_64_43  user_id_advertiser_id_user_id_deepwalk_embedding_64_44  \\\n",
      "0                                                0.286324                                               -0.586379                                               -0.267556                                               -0.588244   \n",
      "1                                                0.071681                                                0.054802                                               -0.024646                                               -0.292869   \n",
      "2                                                0.380193                                               -0.407410                                                0.427331                                               -0.210211   \n",
      "3                                                0.059420                                               -0.141302                                                0.318300                                                0.328912   \n",
      "4                                               -0.278140                                               -0.092456                                               -0.529433                                               -0.297757   \n",
      "\n",
      "   user_id_advertiser_id_user_id_deepwalk_embedding_64_45  user_id_advertiser_id_user_id_deepwalk_embedding_64_46  user_id_advertiser_id_user_id_deepwalk_embedding_64_47  user_id_advertiser_id_user_id_deepwalk_embedding_64_48  \\\n",
      "0                                                0.253856                                                0.114875                                               -0.621990                                               -0.025757   \n",
      "1                                               -0.014319                                                0.278962                                                0.218704                                               -0.251635   \n",
      "2                                               -0.028149                                                0.470148                                               -0.112067                                                0.385040   \n",
      "3                                               -0.560897                                                0.667160                                               -0.348215                                               -0.197312   \n",
      "4                                                0.527862                                               -0.141943                                               -0.203845                                               -0.157529   \n",
      "\n",
      "   user_id_advertiser_id_user_id_deepwalk_embedding_64_49  user_id_advertiser_id_user_id_deepwalk_embedding_64_50  user_id_advertiser_id_user_id_deepwalk_embedding_64_51  user_id_advertiser_id_user_id_deepwalk_embedding_64_52  \\\n",
      "0                                                0.234202                                               -0.452580                                               -0.547416                                               -0.737306   \n",
      "1                                                0.218938                                               -0.216603                                               -0.035039                                               -0.766553   \n",
      "2                                               -0.156020                                                0.302571                                               -0.335501                                               -0.612862   \n",
      "3                                               -0.424237                                                0.151157                                               -0.117419                                               -0.852637   \n",
      "4                                                0.278299                                               -0.210561                                               -0.373490                                               -0.320551   \n",
      "\n",
      "   user_id_advertiser_id_user_id_deepwalk_embedding_64_53  user_id_advertiser_id_user_id_deepwalk_embedding_64_54  user_id_advertiser_id_user_id_deepwalk_embedding_64_55  user_id_advertiser_id_user_id_deepwalk_embedding_64_56  \\\n",
      "0                                                0.281665                                                0.066184                                               -0.166094                                               -0.149471   \n",
      "1                                               -0.639567                                               -0.141495                                               -0.076226                                               -0.178204   \n",
      "2                                               -0.173859                                               -0.380678                                               -0.281000                                               -0.124973   \n",
      "3                                               -0.328907                                                0.535777                                               -0.409133                                               -0.205531   \n",
      "4                                               -0.209372                                               -0.140530                                               -0.021146                                               -0.194520   \n",
      "\n",
      "   user_id_advertiser_id_user_id_deepwalk_embedding_64_57  user_id_advertiser_id_user_id_deepwalk_embedding_64_58  user_id_advertiser_id_user_id_deepwalk_embedding_64_59  user_id_advertiser_id_user_id_deepwalk_embedding_64_60  \\\n",
      "0                                               -0.166577                                                0.120675                                                0.407494                                               -0.091153   \n",
      "1                                                0.495383                                                0.081583                                               -0.166355                                               -0.378735   \n",
      "2                                               -0.218206                                                0.391324                                                0.178193                                                0.292315   \n",
      "3                                                0.000491                                                0.456213                                                0.097135                                               -0.585974   \n",
      "4                                               -0.082204                                                0.048996                                                0.267773                                                0.134866   \n",
      "\n",
      "   user_id_advertiser_id_user_id_deepwalk_embedding_64_61  user_id_advertiser_id_user_id_deepwalk_embedding_64_62  user_id_advertiser_id_user_id_deepwalk_embedding_64_63  \n",
      "0                                                0.242247                                               -0.320016                                               -0.510507  \n",
      "1                                                0.301810                                                0.054644                                               -0.165765  \n",
      "2                                                0.092947                                                0.689046                                                0.581431  \n",
      "3                                               -0.008498                                                0.230233                                               -0.499888  \n",
      "4                                               -0.470593                                               -0.461075                                               -0.252521  \n"
     ]
    },
    {
     "ename": "FileNotFoundError",
     "evalue": "[Errno 2] No such file or directory: 'preprocess_path/user_id_advertiser_id_user_id_train_deepwalk_w10_s50_l64_first.pkl'",
     "output_type": "error",
     "traceback": [
      "\u001b[0;31m---------------------------------------------------------------------------\u001b[0m",
      "\u001b[0;31mFileNotFoundError\u001b[0m                         Traceback (most recent call last)",
      "\u001b[0;32m<ipython-input-4-3c6fd7923fb1>\u001b[0m in \u001b[0;36m<module>\u001b[0;34m\u001b[0m\n\u001b[0;32m----> 1\u001b[0;31m \u001b[0mdeepwalk\u001b[0m\u001b[0;34m(\u001b[0m\u001b[0mtotal_merged_df\u001b[0m\u001b[0;34m,\u001b[0m\u001b[0;34m'user_id'\u001b[0m\u001b[0;34m,\u001b[0m\u001b[0;34m'advertiser_id'\u001b[0m\u001b[0;34m,\u001b[0m\u001b[0;34m'train'\u001b[0m\u001b[0;34m,\u001b[0m\u001b[0;36m64\u001b[0m\u001b[0;34m,\u001b[0m\u001b[0;36m10\u001b[0m\u001b[0;34m,\u001b[0m\u001b[0;36m50\u001b[0m\u001b[0;34m,\u001b[0m\u001b[0;34m'first'\u001b[0m\u001b[0;34m)\u001b[0m\u001b[0;34m\u001b[0m\u001b[0;34m\u001b[0m\u001b[0m\n\u001b[0m",
      "\u001b[0;32m<ipython-input-3-182ebde921b2>\u001b[0m in \u001b[0;36mdeepwalk\u001b[0;34m(log, f1, f2, flag, L, window, size, name)\u001b[0m\n\u001b[1;32m     63\u001b[0m     \u001b[0mout_df\u001b[0m\u001b[0;34m.\u001b[0m\u001b[0mcolumns\u001b[0m \u001b[0;34m=\u001b[0m \u001b[0mnames\u001b[0m\u001b[0;34m\u001b[0m\u001b[0;34m\u001b[0m\u001b[0m\n\u001b[1;32m     64\u001b[0m     \u001b[0mprint\u001b[0m\u001b[0;34m(\u001b[0m\u001b[0mout_df\u001b[0m\u001b[0;34m.\u001b[0m\u001b[0mhead\u001b[0m\u001b[0;34m(\u001b[0m\u001b[0;34m)\u001b[0m\u001b[0;34m)\u001b[0m\u001b[0;34m\u001b[0m\u001b[0;34m\u001b[0m\u001b[0m\n\u001b[0;32m---> 65\u001b[0;31m     \u001b[0mout_df\u001b[0m\u001b[0;34m.\u001b[0m\u001b[0mto_pickle\u001b[0m\u001b[0;34m(\u001b[0m\u001b[0;34m'preprocess_path/'\u001b[0m \u001b[0;34m+\u001b[0m\u001b[0mf1\u001b[0m\u001b[0;34m+\u001b[0m\u001b[0;34m'_'\u001b[0m\u001b[0;34m+\u001b[0m \u001b[0mf2\u001b[0m\u001b[0;34m+\u001b[0m\u001b[0;34m'_'\u001b[0m\u001b[0;34m+\u001b[0m\u001b[0mf1\u001b[0m \u001b[0;34m+\u001b[0m\u001b[0;34m'_'\u001b[0m\u001b[0;34m+\u001b[0m\u001b[0mflag\u001b[0m \u001b[0;34m+\u001b[0m\u001b[0;34m'_deepwalk_'\u001b[0m\u001b[0;34m+\u001b[0m \u001b[0;34mf'w{window}_s{size}_l{str(L)}_{name}.pkl'\u001b[0m\u001b[0;34m)\u001b[0m\u001b[0;34m\u001b[0m\u001b[0;34m\u001b[0m\u001b[0m\n\u001b[0m\u001b[1;32m     66\u001b[0m     \u001b[0;31m########################\u001b[0m\u001b[0;34m\u001b[0m\u001b[0;34m\u001b[0m\u001b[0;34m\u001b[0m\u001b[0m\n\u001b[1;32m     67\u001b[0m     \u001b[0mvalues\u001b[0m\u001b[0;34m=\u001b[0m\u001b[0mset\u001b[0m\u001b[0;34m(\u001b[0m\u001b[0mlog\u001b[0m\u001b[0;34m[\u001b[0m\u001b[0mf2\u001b[0m\u001b[0;34m]\u001b[0m\u001b[0;34m.\u001b[0m\u001b[0mvalues\u001b[0m\u001b[0;34m)\u001b[0m\u001b[0;34m\u001b[0m\u001b[0;34m\u001b[0m\u001b[0m\n",
      "\u001b[0;32m~/anaconda3/lib/python3.7/site-packages/pandas/core/generic.py\u001b[0m in \u001b[0;36mto_pickle\u001b[0;34m(self, path, compression, protocol)\u001b[0m\n\u001b[1;32m   2591\u001b[0m         \u001b[0;32mfrom\u001b[0m \u001b[0mpandas\u001b[0m\u001b[0;34m.\u001b[0m\u001b[0mio\u001b[0m\u001b[0;34m.\u001b[0m\u001b[0mpickle\u001b[0m \u001b[0;32mimport\u001b[0m \u001b[0mto_pickle\u001b[0m\u001b[0;34m\u001b[0m\u001b[0;34m\u001b[0m\u001b[0m\n\u001b[1;32m   2592\u001b[0m         return to_pickle(self, path, compression=compression,\n\u001b[0;32m-> 2593\u001b[0;31m                          protocol=protocol)\n\u001b[0m\u001b[1;32m   2594\u001b[0m \u001b[0;34m\u001b[0m\u001b[0m\n\u001b[1;32m   2595\u001b[0m     \u001b[0;32mdef\u001b[0m \u001b[0mto_clipboard\u001b[0m\u001b[0;34m(\u001b[0m\u001b[0mself\u001b[0m\u001b[0;34m,\u001b[0m \u001b[0mexcel\u001b[0m\u001b[0;34m=\u001b[0m\u001b[0;32mTrue\u001b[0m\u001b[0;34m,\u001b[0m \u001b[0msep\u001b[0m\u001b[0;34m=\u001b[0m\u001b[0;32mNone\u001b[0m\u001b[0;34m,\u001b[0m \u001b[0;34m**\u001b[0m\u001b[0mkwargs\u001b[0m\u001b[0;34m)\u001b[0m\u001b[0;34m:\u001b[0m\u001b[0;34m\u001b[0m\u001b[0;34m\u001b[0m\u001b[0m\n",
      "\u001b[0;32m~/anaconda3/lib/python3.7/site-packages/pandas/io/pickle.py\u001b[0m in \u001b[0;36mto_pickle\u001b[0;34m(obj, path, compression, protocol)\u001b[0m\n\u001b[1;32m     71\u001b[0m     f, fh = _get_handle(path, 'wb',\n\u001b[1;32m     72\u001b[0m                         \u001b[0mcompression\u001b[0m\u001b[0;34m=\u001b[0m\u001b[0mcompression\u001b[0m\u001b[0;34m,\u001b[0m\u001b[0;34m\u001b[0m\u001b[0;34m\u001b[0m\u001b[0m\n\u001b[0;32m---> 73\u001b[0;31m                         is_text=False)\n\u001b[0m\u001b[1;32m     74\u001b[0m     \u001b[0;32mif\u001b[0m \u001b[0mprotocol\u001b[0m \u001b[0;34m<\u001b[0m \u001b[0;36m0\u001b[0m\u001b[0;34m:\u001b[0m\u001b[0;34m\u001b[0m\u001b[0;34m\u001b[0m\u001b[0m\n\u001b[1;32m     75\u001b[0m         \u001b[0mprotocol\u001b[0m \u001b[0;34m=\u001b[0m \u001b[0mpkl\u001b[0m\u001b[0;34m.\u001b[0m\u001b[0mHIGHEST_PROTOCOL\u001b[0m\u001b[0;34m\u001b[0m\u001b[0;34m\u001b[0m\u001b[0m\n",
      "\u001b[0;32m~/anaconda3/lib/python3.7/site-packages/pandas/io/common.py\u001b[0m in \u001b[0;36m_get_handle\u001b[0;34m(path_or_buf, mode, encoding, compression, memory_map, is_text)\u001b[0m\n\u001b[1;32m    428\u001b[0m         \u001b[0;32melse\u001b[0m\u001b[0;34m:\u001b[0m\u001b[0;34m\u001b[0m\u001b[0;34m\u001b[0m\u001b[0m\n\u001b[1;32m    429\u001b[0m             \u001b[0;31m# Python 3 and binary mode\u001b[0m\u001b[0;34m\u001b[0m\u001b[0;34m\u001b[0m\u001b[0;34m\u001b[0m\u001b[0m\n\u001b[0;32m--> 430\u001b[0;31m             \u001b[0mf\u001b[0m \u001b[0;34m=\u001b[0m \u001b[0mopen\u001b[0m\u001b[0;34m(\u001b[0m\u001b[0mpath_or_buf\u001b[0m\u001b[0;34m,\u001b[0m \u001b[0mmode\u001b[0m\u001b[0;34m)\u001b[0m\u001b[0;34m\u001b[0m\u001b[0;34m\u001b[0m\u001b[0m\n\u001b[0m\u001b[1;32m    431\u001b[0m         \u001b[0mhandles\u001b[0m\u001b[0;34m.\u001b[0m\u001b[0mappend\u001b[0m\u001b[0;34m(\u001b[0m\u001b[0mf\u001b[0m\u001b[0;34m)\u001b[0m\u001b[0;34m\u001b[0m\u001b[0;34m\u001b[0m\u001b[0m\n\u001b[1;32m    432\u001b[0m \u001b[0;34m\u001b[0m\u001b[0m\n",
      "\u001b[0;31mFileNotFoundError\u001b[0m: [Errno 2] No such file or directory: 'preprocess_path/user_id_advertiser_id_user_id_train_deepwalk_w10_s50_l64_first.pkl'"
     ]
    }
   ],
   "source": [
    "deepwalk(total_merged_df,'user_id','advertiser_id','train',64,10,50,'first')"
   ]
  },
  {
   "cell_type": "code",
   "execution_count": null,
   "metadata": {},
   "outputs": [],
   "source": [
    "deepwalk(total_merged_df,'user_id','industry','train',64,10,50,'first')"
   ]
  }
 ],
 "metadata": {
  "kernelspec": {
   "display_name": "Python 3",
   "language": "python",
   "name": "python3"
  },
  "language_info": {
   "codemirror_mode": {
    "name": "ipython",
    "version": 3
   },
   "file_extension": ".py",
   "mimetype": "text/x-python",
   "name": "python",
   "nbconvert_exporter": "python",
   "pygments_lexer": "ipython3",
   "version": "3.7.3"
  }
 },
 "nbformat": 4,
 "nbformat_minor": 2
}
