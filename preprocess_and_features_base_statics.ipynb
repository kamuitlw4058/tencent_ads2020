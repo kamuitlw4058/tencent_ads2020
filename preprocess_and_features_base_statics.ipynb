{
 "cells": [
  {
   "cell_type": "code",
   "execution_count": 1,
   "metadata": {},
   "outputs": [
    {
     "name": "stdout",
     "output_type": "stream",
     "text": [
      "INFO: Pandarallel will run on 8 workers.\n",
      "INFO: Pandarallel will use Memory file system to transfer data between the main process and workers.\n"
     ]
    }
   ],
   "source": [
    "import os\n",
    "import pandas as pd\n",
    "import numpy as np\n",
    "import random\n",
    "import gc\n",
    "from datetime import datetime\n",
    "from tqdm import tqdm\n",
    "import matplotlib.pyplot as plt\n",
    "from gensim.corpora import WikiCorpus\n",
    "from gensim.models import Word2Vec\n",
    "from gensim.models.word2vec import LineSentence\n",
    "from sklearn.feature_extraction.text import TfidfVectorizer\n",
    "from sklearn.model_selection import train_test_split\n",
    "from  collections import Counter\n",
    "from pandarallel import pandarallel\n",
    "\n",
    "pandarallel.initialize(progress_bar=True)\n",
    "\n",
    "np.random.seed(2019)\n",
    "random.seed(2019)\n",
    "pd.set_option('display.max_rows', 6)\n",
    "pd.set_option('display.max_columns', 500)\n",
    "pd.set_option('display.width', 280)\n",
    "pd.set_option('display.max_colwidth', 150)\n",
    "data_path = '/data/workspace/kimi/tencent_ads/2020/dataset'\n",
    "preprocess_path = 'preprocess'\n"
   ]
  },
  {
   "cell_type": "code",
   "execution_count": 2,
   "metadata": {},
   "outputs": [
    {
     "name": "stdout",
     "output_type": "stream",
     "text": [
      "          time  user_id  creative_id  click_times   ad_id  product_id  product_category  advertiser_id  industry\n",
      "0           20  3131989       645764            1  573314          58                 2          14689         6\n",
      "1           10  3142948       645764            1  573314          58                 2          14689         6\n",
      "2           14  3170643       645764            1  573314          58                 2          14689         6\n",
      "...        ...      ...          ...          ...     ...         ...               ...            ...       ...\n",
      "33585509     5  3131984       322785            1  290114        2031                 2          19976       238\n",
      "33585510    16  3131984       900585            1  793805        1766                 2          33097       319\n",
      "33585511    16  3131988       899450            1  792851          -1                18          22897        47\n",
      "\n",
      "[33585512 rows x 9 columns]\n"
     ]
    }
   ],
   "source": [
    "flag ='test'\n",
    "merged_df = pd.read_pickle(f'{preprocess_path}/{flag}_merged_log.pkl' )\n",
    "print(merged_df)"
   ]
  },
  {
   "cell_type": "code",
   "execution_count": 3,
   "metadata": {},
   "outputs": [
    {
     "name": "stdout",
     "output_type": "stream",
     "text": [
      "        click_times         ad_id product_id product_category advertiser_id industry\n",
      "                sum count nunique    nunique          nunique       nunique  nunique\n",
      "user_id                                                                             \n",
      "3000001          11    11      11          7                4            10        5\n",
      "3000002          65    61      49         24                5            41       21\n",
      "3000003          36    36      35         15                5            29       17\n",
      "...             ...   ...     ...        ...              ...           ...      ...\n",
      "3999998          20    19      18         10                5            16       13\n",
      "3999999          86    80      79         26                4            63       29\n",
      "4000000          67    63      63         27                6            59       27\n",
      "\n",
      "[1000000 rows x 7 columns]\n"
     ]
    }
   ],
   "source": [
    "agg_dic = {\n",
    "    'click_times':['sum','count'], \n",
    "    'ad_id':['nunique'],\n",
    "    'product_id':['nunique'],\n",
    "    'product_category':['nunique'],\n",
    "    'advertiser_id':['nunique'],\n",
    "    'industry':['nunique'],\n",
    "    }\n",
    "user_df =  merged_df.groupby('user_id').agg(agg_dic,axis=0)\n",
    "\n",
    "\n",
    "print(user_df)"
   ]
  },
  {
   "cell_type": "code",
   "execution_count": 4,
   "metadata": {},
   "outputs": [
    {
     "name": "stdout",
     "output_type": "stream",
     "text": [
      "         click_times_sum  click_times_count  ad_id_nunique  product_id_nunique  product_category_nunique  advertiser_id_nunique  industry_nunique\n",
      "user_id                                                                                                                                          \n",
      "3000001               11                 11             11                   7                         4                     10                 5\n",
      "3000002               65                 61             49                  24                         5                     41                21\n",
      "3000003               36                 36             35                  15                         5                     29                17\n",
      "...                  ...                ...            ...                 ...                       ...                    ...               ...\n",
      "3999998               20                 19             18                  10                         5                     16                13\n",
      "3999999               86                 80             79                  26                         4                     63                29\n",
      "4000000               67                 63             63                  27                         6                     59                27\n",
      "\n",
      "[1000000 rows x 7 columns]\n"
     ]
    }
   ],
   "source": [
    "\n",
    "user_df = user_df.fillna(0)\n",
    "user_df.columns = ['_'.join(i) for i in user_df.columns.values]\n",
    "user_df.reset_index()\n",
    "user_df.to_pickle(f'{preprocess_path}/{flag}_user_base_statics.pkl' )\n",
    "print(user_df)\n"
   ]
  },
  {
   "cell_type": "code",
   "execution_count": null,
   "metadata": {},
   "outputs": [],
   "source": []
  }
 ],
 "metadata": {
  "kernelspec": {
   "display_name": "Python 3",
   "language": "python",
   "name": "python3"
  },
  "language_info": {
   "codemirror_mode": {
    "name": "ipython",
    "version": 3
   },
   "file_extension": ".py",
   "mimetype": "text/x-python",
   "name": "python",
   "nbconvert_exporter": "python",
   "pygments_lexer": "ipython3",
   "version": "3.7.3"
  }
 },
 "nbformat": 4,
 "nbformat_minor": 2
}
