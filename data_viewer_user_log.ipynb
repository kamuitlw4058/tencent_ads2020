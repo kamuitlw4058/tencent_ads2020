{
 "cells": [
  {
   "cell_type": "code",
   "execution_count": 1,
   "metadata": {},
   "outputs": [],
   "source": [
    "import os\n",
    "import pandas as pd\n",
    "import numpy as np\n",
    "import random\n",
    "import gc\n",
    "from datetime import datetime\n",
    "from tqdm import tqdm\n",
    "import matplotlib.pyplot as plt\n",
    "from gensim.corpora import WikiCorpus\n",
    "from gensim.models import Word2Vec\n",
    "from gensim.models.word2vec import LineSentence\n",
    "from sklearn.feature_extraction.text import TfidfVectorizer\n",
    "from  collections import Counter\n",
    "\n",
    "np.random.seed(2019)\n",
    "random.seed(2019)\n",
    "pd.set_option('display.max_rows', 10)\n",
    "pd.set_option('display.max_columns', 500)\n",
    "pd.set_option('display.width', 280)\n",
    "pd.set_option('display.max_colwidth', 150)\n",
    "data_path = '/data/workspace/kimi/tencent_ads/2020/dataset'\n",
    "preprocess_path = 'preprocess'"
   ]
  },
  {
   "cell_type": "code",
   "execution_count": 2,
   "metadata": {},
   "outputs": [
    {
     "name": "stdout",
     "output_type": "stream",
     "text": [
      "          time  user_id  creative_id  click_times\n",
      "0            9    30920       567330            1\n",
      "1           65    30920      3072255            1\n",
      "2           56    30920      2361327            1\n",
      "3            6   309204       325532            1\n",
      "4           59   309204      2746730            1\n",
      "...        ...      ...          ...          ...\n",
      "33585507    16  3131989       585914            1\n",
      "33585508    13  3131989       749134            1\n",
      "33585509    12  3131989       589027            1\n",
      "33585510    61  3131989      2404831            1\n",
      "33585511    14  3131989       665822            1\n",
      "\n",
      "[63668283 rows x 4 columns]\n"
     ]
    }
   ],
   "source": [
    "clk_df = pd.read_csv(f'{data_path}/train_preliminary/click_log.csv' )\n",
    "clk_test_df = pd.read_csv(f'{data_path}/test/click_log.csv' )\n",
    "clk_df = pd.concat([clk_df,clk_test_df],axis=0)\n",
    "print(clk_df)\n"
   ]
  },
  {
   "cell_type": "code",
   "execution_count": 25,
   "metadata": {},
   "outputs": [
    {
     "name": "stdout",
     "output_type": "stream",
     "text": [
      "1900000\n",
      "3648518    113974\n",
      "3834944     26609\n",
      "3093561     25506\n",
      "3206914     18178\n",
      "839368      16868\n",
      "3522917     11116\n",
      "3548147     10318\n",
      "3038145      2295\n",
      "3094381      2108\n",
      "3066940      2064\n",
      "Name: user_id, dtype: int64\n",
      "773026     9\n",
      "3349831    9\n",
      "278200     9\n",
      "677060     9\n",
      "3946806    9\n",
      "          ..\n",
      "3807588    9\n",
      "3853772    9\n",
      "3013416    9\n",
      "59951      9\n",
      "3122069    9\n",
      "Name: user_id, Length: 1000, dtype: int64\n",
      "589192     10\n",
      "3429569    10\n",
      "3534670    10\n",
      "441608     10\n",
      "382026     10\n",
      "           ..\n",
      "639004     10\n",
      "3099251    10\n",
      "3797556    10\n",
      "698481     10\n",
      "862337     10\n",
      "Name: user_id, Length: 10000, dtype: int64\n",
      "483853     15\n",
      "3334857    15\n",
      "332009     15\n",
      "3596320    15\n",
      "85395      15\n",
      "           ..\n",
      "3111794    14\n",
      "3473810    14\n",
      "3714847    14\n",
      "3620391    14\n",
      "3025307    14\n",
      "Name: user_id, Length: 100000, dtype: int64\n",
      "3417072    44\n",
      "3363780    44\n",
      "182752     44\n",
      "711447     44\n",
      "392665     44\n",
      "           ..\n",
      "867303     39\n",
      "518881     39\n",
      "80412      39\n",
      "631005     39\n",
      "3799058    39\n",
      "Name: user_id, Length: 100000, dtype: int64\n",
      "p[0.1]:11.0\n",
      "p[0.2]:14.0\n",
      "p[0.3]:16.0\n",
      "p[0.4]:20.0\n",
      "p[0.5]:24.0\n",
      "p[0.6]:29.0\n",
      "p[0.7]:35.0\n",
      "p[0.8]:46.0\n",
      "p[0.9]:66.0\n",
      "p[1.0]:113974.0\n",
      "p[0.91]:69.0\n",
      "p[0.92]:73.0\n",
      "p[0.93]:77.0\n",
      "p[0.94]:83.0\n",
      "p[0.95]:89.0\n",
      "p[0.96]:97.0\n",
      "p[0.97]:108.0\n",
      "p[0.98]:125.0\n",
      "p[0.99]:157.0\n",
      "p[0.991]:162.0\n",
      "p[0.992]:168.0\n",
      "p[0.993]:174.0\n",
      "p[0.994]:183.0\n",
      "p[0.995]:193.0\n",
      "p[0.996]:204.0\n",
      "p[0.997]:221.0\n",
      "p[0.998]:246.0\n",
      "p[0.999]:294.0\n",
      "1900000\n",
      "33.50962263157895\n",
      "24.0\n",
      "94.79380766492872\n"
     ]
    },
    {
     "data": {
      "image/png": "[encoded data removed]",
      "text/plain": [
       "<Figure size 432x288 with 1 Axes>"
      ]
     },
     "metadata": {
      "needs_background": "light"
     },
     "output_type": "display_data"
    }
   ],
   "source": [
    "adv_count_value= clk_df['user_id'].value_counts()\n",
    "print(len(adv_count_value))\n",
    "print(adv_count_value[:10])\n",
    "print(adv_count_value[-10000:-9000])\n",
    "print(adv_count_value[-50000:-40000])\n",
    "print(adv_count_value[-500000:-400000])\n",
    "print(adv_count_value[-1500000:-1400000])\n",
    "for v in [(i+1)*0.1 for i in range(10)] + [ (i+1)*0.01 + 0.9 for i in range(9)] + [ (i+1)*0.001 + 0.99 for i in range(9)]:\n",
    "    q = adv_count_value.quantile(v)\n",
    "    print(f'p[{round(v,3)}]:{q}')\n",
    "#adv_count_value = adv_count_value[adv_count_value.values < 200]\n",
    "\n",
    "#null_counts = adv_count_value['\\\\N']\n",
    "#print(f\"null:{null_counts}\")\n",
    "x = adv_count_value.index\n",
    "y = adv_count_value.values\n",
    "arr = np.array(adv_count_value.values)\n",
    "print(len(arr))\n",
    "print(np.mean(arr))\n",
    "print(np.median(arr))\n",
    "print(np.std(arr))\n",
    "\n",
    "plt.scatter(x,y)\n",
    "plt.show()\n"
   ]
  },
  {
   "cell_type": "code",
   "execution_count": 4,
   "metadata": {},
   "outputs": [
    {
     "name": "stdout",
     "output_type": "stream",
     "text": [
      "91\n",
      "85    885349\n",
      "78    860217\n",
      "84    834380\n",
      "64    822412\n",
      "57    809818\n",
      "74    805973\n",
      "63    795623\n",
      "91    795028\n",
      "34    789308\n",
      "36    787226\n",
      "Name: time, dtype: int64\n",
      "Int64Index([85, 78, 84, 64, 57, 74, 63, 91, 34, 36, 31, 77, 73, 43, 35, 75, 65, 37, 32, 71, 33, 56, 79, 67, 50, 70, 88, 49, 90, 66, 81, 82, 83, 72, 14, 68, 86, 76, 80, 55, 60, 54, 69, 87, 42, 58, 53, 61, 45, 52, 46, 22, 59, 48, 40, 30, 89, 47, 41, 51, 62, 15, 29, 44, 13, 21, 39,\n",
      "            18, 28, 38,  1, 17, 26,  8, 19, 16, 25, 11, 27, 23,  7, 24,  2, 12, 10, 20,  3,  4,  5,  9,  6],\n",
      "           dtype='int64')\n"
     ]
    },
    {
     "data": {
      "image/png": "[encoded data removed]",
      "text/plain": [
       "<Figure size 432x288 with 1 Axes>"
      ]
     },
     "metadata": {
      "needs_background": "light"
     },
     "output_type": "display_data"
    }
   ],
   "source": [
    "adv_count_value= clk_df['time'].value_counts()\n",
    "print(len(adv_count_value))\n",
    "print(adv_count_value[:10])\n",
    "#null_counts = adv_count_value['\\\\N']\n",
    "#print(f\"null:{null_counts}\")\n",
    "x = adv_count_value.index\n",
    "print(x)\n",
    "y = adv_count_value.values\n",
    "plt.scatter(x,y)\n",
    "plt.show()"
   ]
  },
  {
   "cell_type": "code",
   "execution_count": 5,
   "metadata": {},
   "outputs": [
    {
     "name": "stdout",
     "output_type": "stream",
     "text": [
      "         user_id  click_times_total\n",
      "384504    384505                 10\n",
      "953168   3053169                 10\n",
      "953110   3053111                 10\n",
      "1616483  3716484                 10\n",
      "1616485  3716486                 10\n",
      "...          ...                ...\n",
      "839367    839368              21330\n",
      "1106913  3206914              23328\n",
      "993560   3093561              33372\n",
      "1734943  3834944              35283\n",
      "1548517  3648518             194614\n",
      "\n",
      "[1900000 rows x 2 columns]\n"
     ]
    },
    {
     "data": {
      "image/png": "[encoded data removed]",
      "text/plain": [
       "<Figure size 432x288 with 1 Axes>"
      ]
     },
     "metadata": {
      "needs_background": "light"
     },
     "output_type": "display_data"
    }
   ],
   "source": [
    "user_click_sum_df = clk_df.groupby(['user_id']).click_times.sum().reset_index().rename(columns={'click_times':'click_times_total'}).sort_values(by='click_times_total')\n",
    "print(user_click_sum_df)\n",
    "x = user_click_sum_df['user_id'].values.tolist()\n",
    "y = user_click_sum_df['click_times_total'].values.tolist()\n",
    "plt.scatter(x,y)\n",
    "plt.show()"
   ]
  },
  {
   "cell_type": "code",
   "execution_count": 6,
   "metadata": {},
   "outputs": [
    {
     "name": "stdout",
     "output_type": "stream",
     "text": [
      "    time  day_uv\n",
      "8      9  378171\n",
      "5      6  378438\n",
      "19    20  395584\n",
      "9     10  398591\n",
      "4      5  399385\n",
      "..   ...     ...\n",
      "63    64  512956\n",
      "56    57  513564\n",
      "73    74  519004\n",
      "77    78  527583\n",
      "84    85  539616\n",
      "\n",
      "[91 rows x 2 columns]\n"
     ]
    },
    {
     "data": {
      "image/png": "[encoded data removed]",
      "text/plain": [
       "<Figure size 432x288 with 1 Axes>"
      ]
     },
     "metadata": {
      "needs_background": "light"
     },
     "output_type": "display_data"
    }
   ],
   "source": [
    "day_uv_df = clk_df.groupby(['time']).user_id.nunique().reset_index().rename(columns={'user_id':'day_uv'}).sort_values(by='day_uv')\n",
    "print(day_uv_df)\n",
    "x = day_uv_df['time'].values.tolist()\n",
    "y = day_uv_df['day_uv'].values.tolist()\n",
    "plt.scatter(x,y)\n",
    "plt.show()"
   ]
  },
  {
   "cell_type": "code",
   "execution_count": 7,
   "metadata": {},
   "outputs": [
    {
     "name": "stdout",
     "output_type": "stream",
     "text": [
      "    time  creative_id\n",
      "0      1            4\n",
      "1      2            7\n",
      "2      3            5\n",
      "3      4            5\n",
      "4      5            3\n",
      "..   ...          ...\n",
      "84    86            3\n",
      "85    87            1\n",
      "86    88            4\n",
      "87    89            1\n",
      "88    91            1\n",
      "\n",
      "[89 rows x 2 columns]\n"
     ]
    },
    {
     "data": {
      "image/png": "[encoded data removed]",
      "text/plain": [
       "<Figure size 432x288 with 1 Axes>"
      ]
     },
     "metadata": {
      "needs_background": "light"
     },
     "output_type": "display_data"
    }
   ],
   "source": [
    "user_p_df  = clk_df[clk_df.user_id == 157585].groupby(['time']).click_times.count().reset_index().rename(columns={'click_times':'creative_id'})\n",
    "print(user_p_df)\n",
    "x = user_p_df['time'].values.tolist()\n",
    "y = user_p_df['creative_id'].values.tolist()\n",
    "plt.scatter(x,y)\n",
    "plt.show()"
   ]
  },
  {
   "cell_type": "code",
   "execution_count": 8,
   "metadata": {},
   "outputs": [
    {
     "name": "stdout",
     "output_type": "stream",
     "text": [
      "   time  creative_id\n",
      "0     2            1\n",
      "1     8            1\n",
      "2    30            2\n",
      "3    31            2\n",
      "4    73            4\n"
     ]
    },
    {
     "data": {
      "image/png": "[encoded data removed]",
      "text/plain": [
       "<Figure size 432x288 with 1 Axes>"
      ]
     },
     "metadata": {
      "needs_background": "light"
     },
     "output_type": "display_data"
    }
   ],
   "source": [
    "user_ps_df  = clk_df[clk_df.user_id == 727101].groupby(['time']).click_times.sum().reset_index().rename(columns={'click_times':'creative_id'})\n",
    "print(user_ps_df)\n",
    "x = user_ps_df['time'].values.tolist()\n",
    "y = user_ps_df['creative_id'].values.tolist()\n",
    "plt.scatter(x,y)\n",
    "plt.show()"
   ]
  },
  {
   "cell_type": "code",
   "execution_count": 9,
   "metadata": {},
   "outputs": [],
   "source": [
    "ad_df = pd.read_csv(f'{data_path}/train_preliminary/ad.csv' )"
   ]
  },
  {
   "cell_type": "code",
   "execution_count": 10,
   "metadata": {},
   "outputs": [
    {
     "name": "stdout",
     "output_type": "stream",
     "text": [
      "      time  user_id  creative_id  click_times    ad_id product_id  product_category  advertiser_id industry\n",
      "209      1   157585       238194            1   214100       1766                 2          39495       \\N\n",
      "562      1   157585       130042            1   116893      26858                 3           9458       60\n",
      "354      1   157585        90587            2    82798      26858                 3           9458       60\n",
      "661      1   157585        33446            1    32746      42008                17          18910       \\N\n",
      "213      2   157585       275192            1   247733         \\N                18          14681      326\n",
      "...    ...      ...          ...          ...      ...        ...               ...            ...      ...\n",
      "1130    88   157585      2147997            1  1854843       9108                 3           2535      319\n",
      "70      88   157585      4041528            1  3469295      37257                 4          21049       \\N\n",
      "177     88   157585      4051802            1  3477786      27063                 3           8366      319\n",
      "654     89   157585      4244087            1  3640978       3489                 2          60761       \\N\n",
      "1338    91   157585      4091191            1  3511187         \\N                 9           8386        6\n",
      "\n",
      "[1706 rows x 9 columns]\n"
     ]
    }
   ],
   "source": [
    "user_ins_df = clk_df[clk_df.user_id == 157585]\n",
    "user_ins_df= user_ins_df.merge(ad_df,on='creative_id').sort_values(by='time')\n",
    "print(user_ins_df)"
   ]
  },
  {
   "cell_type": "code",
   "execution_count": 11,
   "metadata": {},
   "outputs": [
    {
     "name": "stdout",
     "output_type": "stream",
     "text": [
      "   time  user_id  creative_id  click_times    ad_id product_id  product_category  advertiser_id industry\n",
      "3     2   727101       119552            1   107970         \\N                18          14681      297\n",
      "7     8   727101       490785            1   437024         \\N                18          17601       40\n",
      "4    30   727101       383719            1   342799       1766                 2          34383      319\n",
      "6    30   727101      1574717            1  1367152       1766                 2          42161      319\n",
      "1    31   727101      1242486            1  1086873         94                 2          45848      245\n",
      "8    31   727101      1121707            1   983648         \\N                18          14681      216\n",
      "0    73   727101      3358504            2  2889902       2400                 2          43538      246\n",
      "2    73   727101      2635675            1  2268491       2400                 2          50845      246\n",
      "5    73   727101      3535429            1  3044914       2400                 2          51501      246\n"
     ]
    }
   ],
   "source": [
    "user_ins_df = clk_df[clk_df.user_id == 727101]\n",
    "user_ins_df= user_ins_df.merge(ad_df,on='creative_id').sort_values(by='time')\n",
    "print(user_ins_df)"
   ]
  },
  {
   "cell_type": "code",
   "execution_count": 12,
   "metadata": {},
   "outputs": [
    {
     "name": "stdout",
     "output_type": "stream",
     "text": [
      "   time  user_id  creative_id  click_times    ad_id product_id  product_category  advertiser_id industry\n",
      "9     3   420997        22126            1    22978         \\N                12          10986      205\n",
      "3     6   420997        31216            1    30911         \\N                12          22400       54\n",
      "5    41   420997      1768435            1  1531319      26976                 3            883      183\n",
      "7    46   420997      1866093            1  1615591      39324                 4          28151       \\N\n",
      "8    69   420997      3378741            1  2907650        643                 3           2623        6\n",
      "0    72   420997      2915786            1  2506618         \\N                18          14681        6\n",
      "4    73   420997      3510165            1  3023093         \\N                18          14682        6\n",
      "2    74   420997      3102293            1  2668742         \\N                18          14681        6\n",
      "6    77   420997      3541006            1  3049265         \\N                18          14681       88\n",
      "1    80   420997         1169            1     1763      26976                 3            891      183\n"
     ]
    }
   ],
   "source": [
    "user_ins_df = clk_df[clk_df.user_id == 420997]\n",
    "user_ins_df= user_ins_df.merge(ad_df,on='creative_id').sort_values(by='time')\n",
    "print(user_ins_df)"
   ]
  },
  {
   "cell_type": "code",
   "execution_count": 13,
   "metadata": {},
   "outputs": [
    {
     "name": "stdout",
     "output_type": "stream",
     "text": [
      "    time  user_id  creative_id  click_times    ad_id product_id  product_category  advertiser_id industry\n",
      "4      5   737997       230303            1   206776      41655                17          30122       \\N\n",
      "3      6   737997       230303            1   206776      41655                17          30122       \\N\n",
      "21     8   737997       331825            1   298107      41655                17          30124       \\N\n",
      "11     8   737997       230844            1   207295      41655                17          30124       \\N\n",
      "24    23   737997       621801            1   552149         \\N                18            847       27\n",
      "20    25   737997       136085            1   122288         \\N                18          37156       13\n",
      "0     26   737997       422565            1   376603         \\N                18          24675       47\n",
      "22    35   737997       160316            1   143752         \\N                18            899       27\n",
      "8     50   737997      2386964            2  2057803       1064                 2          39250      238\n",
      "23    51   737997      1562852            1  1357233       2510                 2          47827      242\n",
      "2     54   737997      2220962            1  1917126       1261                 2           6783        6\n",
      "18    54   737997      2223402            1  1919205         \\N                18           9058      289\n",
      "14    56   737997      2222117            1  1918128         \\N                18          14681      289\n",
      "19    71   737997      3053818            1  2626187       1261                 2           6783        6\n",
      "16    74   737997      1290139            1  1128283         \\N                18          14681       88\n",
      "12    74   737997      3071487            1  2641644         \\N                18          14681      297\n",
      "15    74   737997      2361374            1  2035962       1261                 2           6783        6\n",
      "13    75   737997      3071487            1  2641644         \\N                18          14681      297\n",
      "10    75   737997      2741063            1  2357121       1261                 2           6783        6\n",
      "17    84   737997      1609078            1  1395635      41655                17          15975       \\N\n",
      "9     84   737997      3904071            1  3353731      39519                17          36428       \\N\n",
      "6     85   737997      2032927            1  1757244      38250                17          15120       \\N\n",
      "5     85   737997      2386970            1  2057808      39519                17          36428       \\N\n",
      "7     90   737997      2032927            1  1757244      38250                17          15120       \\N\n",
      "1     90   737997      3556853            1  3062658       3398                 2          38272       \\N\n",
      "25    90   737997      2758724            1  2372464      37963                17          26448       \\N\n"
     ]
    }
   ],
   "source": [
    "user_ins_df = clk_df[clk_df.user_id == 737997]\n",
    "user_ins_df= user_ins_df.merge(ad_df,on='creative_id').sort_values(by='time')\n",
    "pd.set_option('display.max_rows', 100)\n",
    "print(user_ins_df)\n",
    "pd.set_option('display.max_rows', 10)"
   ]
  },
  {
   "cell_type": "code",
   "execution_count": 14,
   "metadata": {},
   "outputs": [
    {
     "name": "stdout",
     "output_type": "stream",
     "text": [
      "    time  user_id  creative_id  click_times    ad_id product_id  product_category  advertiser_id industry\n",
      "24     2   323781       127222            1   114519      26858                 3          29869       60\n",
      "19     3   323781       318574            1   286229         \\N                 5          19862        6\n",
      "1      4   323781       320256            1   287821         \\N                 5          13872       89\n",
      "10     4   323781       201221            1   180675         \\N                 5          18784      205\n",
      "20     5   323781       303160            1   272203         \\N                 5          36186       88\n",
      "15    27   323781      1354554            1  1183922       9170                 3          43415      253\n",
      "22    35   323781      1414984            1  1234451      26858                 3          19622       60\n",
      "13    35   323781       619158            1   549778      26858                 3          19622       60\n",
      "25    36   323781      1354136            1  1183587      26858                 3          19622       60\n",
      "0     37   323781      1135903            1   995859      26858                 3          19622       60\n",
      "4     37   323781      1354505            1  1183890      26858                 3          19622       60\n",
      "18    38   323781        69204            1    63976      26858                 3          24952       60\n",
      "3     46   323781      1807219            1  1564817         \\N                18          14681      289\n",
      "23    46   323781      2230423            1  1925297       2065                 2          50459      238\n",
      "8     51   323781        61554            1    57057      27009                 3          28954        6\n",
      "2     54   323781      1807219            1  1564817         \\N                18          14681      289\n",
      "21    55   323781      1395437            1  1217867         \\N                18           5637      296\n",
      "17    56   323781      1518163            1  1319971      27009                 3          28955        6\n",
      "9     58   323781      2638878            1  2271269         \\N                18          14681      293\n",
      "5     59   323781      2438763            1  2101315      26940                 3          23198       57\n",
      "12    59   323781      2033347            1  1757585       9170                 3          43415      255\n",
      "16    60   323781      2571549            1  2214347      27009                 3          52614        6\n",
      "14    62   323781      2459547            1  2118927      27009                 3          23046        6\n",
      "11    81   323781      3540150            1  3048648         \\N                18          14682      297\n",
      "7     81   323781      3845974            1  3305108         \\N                18          14681      203\n",
      "6     81   323781      3831821            1  3293036         \\N                 5          15855        6\n"
     ]
    }
   ],
   "source": [
    "user_ins_df = clk_df[clk_df.user_id == 323781]\n",
    "user_ins_df= user_ins_df.merge(ad_df,on='creative_id').sort_values(by='time')\n",
    "pd.set_option('display.max_rows', 100)\n",
    "print(user_ins_df)\n",
    "pd.set_option('display.max_rows', 10)"
   ]
  },
  {
   "cell_type": "code",
   "execution_count": 15,
   "metadata": {},
   "outputs": [
    {
     "ename": "KeyboardInterrupt",
     "evalue": "",
     "output_type": "error",
     "traceback": [
      "\u001b[0;31m---------------------------------------------------------------------------\u001b[0m",
      "\u001b[0;31mKeyboardInterrupt\u001b[0m                         Traceback (most recent call last)",
      "\u001b[0;32m<ipython-input-15-0d6e94c06635>\u001b[0m in \u001b[0;36m<module>\u001b[0;34m\u001b[0m\n\u001b[0;32m----> 1\u001b[0;31m \u001b[0mmerged_df\u001b[0m \u001b[0;34m=\u001b[0m \u001b[0mclk_df\u001b[0m\u001b[0;34m.\u001b[0m\u001b[0mmerge\u001b[0m\u001b[0;34m(\u001b[0m\u001b[0mad_df\u001b[0m\u001b[0;34m,\u001b[0m\u001b[0mon\u001b[0m\u001b[0;34m=\u001b[0m\u001b[0;34m'creative_id'\u001b[0m\u001b[0;34m)\u001b[0m\u001b[0;34m\u001b[0m\u001b[0;34m\u001b[0m\u001b[0m\n\u001b[0m\u001b[1;32m      2\u001b[0m \u001b[0mmerged_df\u001b[0m\u001b[0;34m.\u001b[0m\u001b[0mreplace\u001b[0m\u001b[0;34m(\u001b[0m\u001b[0;34m\"\\\\N\"\u001b[0m\u001b[0;34m,\u001b[0m\u001b[0;34m-\u001b[0m\u001b[0;36m1\u001b[0m\u001b[0;34m,\u001b[0m\u001b[0minplace\u001b[0m\u001b[0;34m=\u001b[0m\u001b[0;32mTrue\u001b[0m\u001b[0;34m)\u001b[0m\u001b[0;34m\u001b[0m\u001b[0;34m\u001b[0m\u001b[0m\n\u001b[1;32m      3\u001b[0m \u001b[0mmerged_df\u001b[0m\u001b[0;34m.\u001b[0m\u001b[0mfillna\u001b[0m\u001b[0;34m(\u001b[0m\u001b[0;34m-\u001b[0m\u001b[0;36m1\u001b[0m\u001b[0;34m)\u001b[0m\u001b[0;34m.\u001b[0m\u001b[0mastype\u001b[0m\u001b[0;34m(\u001b[0m\u001b[0mfloat\u001b[0m\u001b[0;34m)\u001b[0m\u001b[0;34m\u001b[0m\u001b[0;34m\u001b[0m\u001b[0m\n\u001b[1;32m      4\u001b[0m \u001b[0mmerged_df\u001b[0m\u001b[0;34m[\u001b[0m\u001b[0;34m'wday'\u001b[0m\u001b[0;34m]\u001b[0m \u001b[0;34m=\u001b[0m \u001b[0mmerged_df\u001b[0m\u001b[0;34m[\u001b[0m\u001b[0;34m'time'\u001b[0m\u001b[0;34m]\u001b[0m\u001b[0;34m.\u001b[0m\u001b[0mapply\u001b[0m\u001b[0;34m(\u001b[0m\u001b[0;32mlambda\u001b[0m \u001b[0mx\u001b[0m \u001b[0;34m:\u001b[0m\u001b[0mint\u001b[0m\u001b[0;34m(\u001b[0m\u001b[0mx\u001b[0m \u001b[0;34m/\u001b[0m\u001b[0;36m7\u001b[0m\u001b[0;34m)\u001b[0m\u001b[0;34m)\u001b[0m\u001b[0;34m\u001b[0m\u001b[0;34m\u001b[0m\u001b[0m\n\u001b[1;32m      5\u001b[0m \u001b[0mmerged_df\u001b[0m\u001b[0;34m[\u001b[0m\u001b[0;34m'month'\u001b[0m\u001b[0;34m]\u001b[0m \u001b[0;34m=\u001b[0m \u001b[0mmerged_df\u001b[0m\u001b[0;34m[\u001b[0m\u001b[0;34m'time'\u001b[0m\u001b[0;34m]\u001b[0m\u001b[0;34m.\u001b[0m\u001b[0mapply\u001b[0m\u001b[0;34m(\u001b[0m\u001b[0;32mlambda\u001b[0m \u001b[0mx\u001b[0m \u001b[0;34m:\u001b[0m\u001b[0mint\u001b[0m\u001b[0;34m(\u001b[0m\u001b[0mx\u001b[0m \u001b[0;34m/\u001b[0m\u001b[0;36m30\u001b[0m\u001b[0;34m)\u001b[0m\u001b[0;34m)\u001b[0m\u001b[0;34m\u001b[0m\u001b[0;34m\u001b[0m\u001b[0m\n",
      "\u001b[0;32m~/anaconda3/lib/python3.7/site-packages/pandas/core/frame.py\u001b[0m in \u001b[0;36mmerge\u001b[0;34m(self, right, how, on, left_on, right_on, left_index, right_index, sort, suffixes, copy, indicator, validate)\u001b[0m\n\u001b[1;32m   6866\u001b[0m                      \u001b[0mright_on\u001b[0m\u001b[0;34m=\u001b[0m\u001b[0mright_on\u001b[0m\u001b[0;34m,\u001b[0m \u001b[0mleft_index\u001b[0m\u001b[0;34m=\u001b[0m\u001b[0mleft_index\u001b[0m\u001b[0;34m,\u001b[0m\u001b[0;34m\u001b[0m\u001b[0;34m\u001b[0m\u001b[0m\n\u001b[1;32m   6867\u001b[0m                      \u001b[0mright_index\u001b[0m\u001b[0;34m=\u001b[0m\u001b[0mright_index\u001b[0m\u001b[0;34m,\u001b[0m \u001b[0msort\u001b[0m\u001b[0;34m=\u001b[0m\u001b[0msort\u001b[0m\u001b[0;34m,\u001b[0m \u001b[0msuffixes\u001b[0m\u001b[0;34m=\u001b[0m\u001b[0msuffixes\u001b[0m\u001b[0;34m,\u001b[0m\u001b[0;34m\u001b[0m\u001b[0;34m\u001b[0m\u001b[0m\n\u001b[0;32m-> 6868\u001b[0;31m                      copy=copy, indicator=indicator, validate=validate)\n\u001b[0m\u001b[1;32m   6869\u001b[0m \u001b[0;34m\u001b[0m\u001b[0m\n\u001b[1;32m   6870\u001b[0m     \u001b[0;32mdef\u001b[0m \u001b[0mround\u001b[0m\u001b[0;34m(\u001b[0m\u001b[0mself\u001b[0m\u001b[0;34m,\u001b[0m \u001b[0mdecimals\u001b[0m\u001b[0;34m=\u001b[0m\u001b[0;36m0\u001b[0m\u001b[0;34m,\u001b[0m \u001b[0;34m*\u001b[0m\u001b[0margs\u001b[0m\u001b[0;34m,\u001b[0m \u001b[0;34m**\u001b[0m\u001b[0mkwargs\u001b[0m\u001b[0;34m)\u001b[0m\u001b[0;34m:\u001b[0m\u001b[0;34m\u001b[0m\u001b[0;34m\u001b[0m\u001b[0m\n",
      "\u001b[0;32m~/anaconda3/lib/python3.7/site-packages/pandas/core/reshape/merge.py\u001b[0m in \u001b[0;36mmerge\u001b[0;34m(left, right, how, on, left_on, right_on, left_index, right_index, sort, suffixes, copy, indicator, validate)\u001b[0m\n\u001b[1;32m     46\u001b[0m                          \u001b[0mcopy\u001b[0m\u001b[0;34m=\u001b[0m\u001b[0mcopy\u001b[0m\u001b[0;34m,\u001b[0m \u001b[0mindicator\u001b[0m\u001b[0;34m=\u001b[0m\u001b[0mindicator\u001b[0m\u001b[0;34m,\u001b[0m\u001b[0;34m\u001b[0m\u001b[0;34m\u001b[0m\u001b[0m\n\u001b[1;32m     47\u001b[0m                          validate=validate)\n\u001b[0;32m---> 48\u001b[0;31m     \u001b[0;32mreturn\u001b[0m \u001b[0mop\u001b[0m\u001b[0;34m.\u001b[0m\u001b[0mget_result\u001b[0m\u001b[0;34m(\u001b[0m\u001b[0;34m)\u001b[0m\u001b[0;34m\u001b[0m\u001b[0;34m\u001b[0m\u001b[0m\n\u001b[0m\u001b[1;32m     49\u001b[0m \u001b[0;34m\u001b[0m\u001b[0m\n\u001b[1;32m     50\u001b[0m \u001b[0;34m\u001b[0m\u001b[0m\n",
      "\u001b[0;32m~/anaconda3/lib/python3.7/site-packages/pandas/core/reshape/merge.py\u001b[0m in \u001b[0;36mget_result\u001b[0;34m(self)\u001b[0m\n\u001b[1;32m    544\u001b[0m                 self.left, self.right)\n\u001b[1;32m    545\u001b[0m \u001b[0;34m\u001b[0m\u001b[0m\n\u001b[0;32m--> 546\u001b[0;31m         \u001b[0mjoin_index\u001b[0m\u001b[0;34m,\u001b[0m \u001b[0mleft_indexer\u001b[0m\u001b[0;34m,\u001b[0m \u001b[0mright_indexer\u001b[0m \u001b[0;34m=\u001b[0m \u001b[0mself\u001b[0m\u001b[0;34m.\u001b[0m\u001b[0m_get_join_info\u001b[0m\u001b[0;34m(\u001b[0m\u001b[0;34m)\u001b[0m\u001b[0;34m\u001b[0m\u001b[0;34m\u001b[0m\u001b[0m\n\u001b[0m\u001b[1;32m    547\u001b[0m \u001b[0;34m\u001b[0m\u001b[0m\n\u001b[1;32m    548\u001b[0m         \u001b[0mldata\u001b[0m\u001b[0;34m,\u001b[0m \u001b[0mrdata\u001b[0m \u001b[0;34m=\u001b[0m \u001b[0mself\u001b[0m\u001b[0;34m.\u001b[0m\u001b[0mleft\u001b[0m\u001b[0;34m.\u001b[0m\u001b[0m_data\u001b[0m\u001b[0;34m,\u001b[0m \u001b[0mself\u001b[0m\u001b[0;34m.\u001b[0m\u001b[0mright\u001b[0m\u001b[0;34m.\u001b[0m\u001b[0m_data\u001b[0m\u001b[0;34m\u001b[0m\u001b[0;34m\u001b[0m\u001b[0m\n",
      "\u001b[0;32m~/anaconda3/lib/python3.7/site-packages/pandas/core/reshape/merge.py\u001b[0m in \u001b[0;36m_get_join_info\u001b[0;34m(self)\u001b[0m\n\u001b[1;32m    754\u001b[0m         \u001b[0;32melse\u001b[0m\u001b[0;34m:\u001b[0m\u001b[0;34m\u001b[0m\u001b[0;34m\u001b[0m\u001b[0m\n\u001b[1;32m    755\u001b[0m             (left_indexer,\n\u001b[0;32m--> 756\u001b[0;31m              right_indexer) = self._get_join_indexers()\n\u001b[0m\u001b[1;32m    757\u001b[0m \u001b[0;34m\u001b[0m\u001b[0m\n\u001b[1;32m    758\u001b[0m             \u001b[0;32mif\u001b[0m \u001b[0mself\u001b[0m\u001b[0;34m.\u001b[0m\u001b[0mright_index\u001b[0m\u001b[0;34m:\u001b[0m\u001b[0;34m\u001b[0m\u001b[0;34m\u001b[0m\u001b[0m\n",
      "\u001b[0;32m~/anaconda3/lib/python3.7/site-packages/pandas/core/reshape/merge.py\u001b[0m in \u001b[0;36m_get_join_indexers\u001b[0;34m(self)\u001b[0m\n\u001b[1;32m    733\u001b[0m                                   \u001b[0mself\u001b[0m\u001b[0;34m.\u001b[0m\u001b[0mright_join_keys\u001b[0m\u001b[0;34m,\u001b[0m\u001b[0;34m\u001b[0m\u001b[0;34m\u001b[0m\u001b[0m\n\u001b[1;32m    734\u001b[0m                                   \u001b[0msort\u001b[0m\u001b[0;34m=\u001b[0m\u001b[0mself\u001b[0m\u001b[0;34m.\u001b[0m\u001b[0msort\u001b[0m\u001b[0;34m,\u001b[0m\u001b[0;34m\u001b[0m\u001b[0;34m\u001b[0m\u001b[0m\n\u001b[0;32m--> 735\u001b[0;31m                                   how=self.how)\n\u001b[0m\u001b[1;32m    736\u001b[0m \u001b[0;34m\u001b[0m\u001b[0m\n\u001b[1;32m    737\u001b[0m     \u001b[0;32mdef\u001b[0m \u001b[0m_get_join_info\u001b[0m\u001b[0;34m(\u001b[0m\u001b[0mself\u001b[0m\u001b[0;34m)\u001b[0m\u001b[0;34m:\u001b[0m\u001b[0;34m\u001b[0m\u001b[0;34m\u001b[0m\u001b[0m\n",
      "\u001b[0;32m~/anaconda3/lib/python3.7/site-packages/pandas/core/reshape/merge.py\u001b[0m in \u001b[0;36m_get_join_indexers\u001b[0;34m(left_keys, right_keys, sort, how, **kwargs)\u001b[0m\n\u001b[1;32m   1144\u001b[0m     \u001b[0mjoin_func\u001b[0m \u001b[0;34m=\u001b[0m \u001b[0m_join_functions\u001b[0m\u001b[0;34m[\u001b[0m\u001b[0mhow\u001b[0m\u001b[0;34m]\u001b[0m\u001b[0;34m\u001b[0m\u001b[0;34m\u001b[0m\u001b[0m\n\u001b[1;32m   1145\u001b[0m \u001b[0;34m\u001b[0m\u001b[0m\n\u001b[0;32m-> 1146\u001b[0;31m     \u001b[0;32mreturn\u001b[0m \u001b[0mjoin_func\u001b[0m\u001b[0;34m(\u001b[0m\u001b[0mlkey\u001b[0m\u001b[0;34m,\u001b[0m \u001b[0mrkey\u001b[0m\u001b[0;34m,\u001b[0m \u001b[0mcount\u001b[0m\u001b[0;34m,\u001b[0m \u001b[0;34m**\u001b[0m\u001b[0mkwargs\u001b[0m\u001b[0;34m)\u001b[0m\u001b[0;34m\u001b[0m\u001b[0;34m\u001b[0m\u001b[0m\n\u001b[0m\u001b[1;32m   1147\u001b[0m \u001b[0;34m\u001b[0m\u001b[0m\n\u001b[1;32m   1148\u001b[0m \u001b[0;34m\u001b[0m\u001b[0m\n",
      "\u001b[0;32mpandas/_libs/join.pyx\u001b[0m in \u001b[0;36mpandas._libs.join.inner_join\u001b[0;34m()\u001b[0m\n",
      "\u001b[0;32mpandas/_libs/join.pyx\u001b[0m in \u001b[0;36mpandas._libs.join._get_result_indexer\u001b[0;34m()\u001b[0m\n",
      "\u001b[0;32m~/anaconda3/lib/python3.7/site-packages/pandas/core/algorithms.py\u001b[0m in \u001b[0;36mtake_nd\u001b[0;34m(arr, indexer, axis, out, fill_value, mask_info, allow_fill)\u001b[0m\n\u001b[1;32m   1542\u001b[0m \u001b[0;34m\u001b[0m\u001b[0m\n\u001b[1;32m   1543\u001b[0m \u001b[0;34m\u001b[0m\u001b[0m\n\u001b[0;32m-> 1544\u001b[0;31m def take_nd(arr, indexer, axis=0, out=None, fill_value=np.nan, mask_info=None,\n\u001b[0m\u001b[1;32m   1545\u001b[0m             allow_fill=True):\n\u001b[1;32m   1546\u001b[0m     \"\"\"\n",
      "\u001b[0;31mKeyboardInterrupt\u001b[0m: "
     ]
    }
   ],
   "source": [
    "merged_df = clk_df.merge(ad_df,on='creative_id')\n",
    "merged_df.replace(\"\\\\N\",-1,inplace=True)\n",
    "merged_df.fillna(-1).astype(float)\n",
    "merged_df['wday'] = merged_df['time'].apply(lambda x :int(x /7))\n",
    "merged_df['month'] = merged_df['time'].apply(lambda x :int(x /30))\n",
    "print(merged_df)"
   ]
  },
  {
   "cell_type": "code",
   "execution_count": null,
   "metadata": {},
   "outputs": [],
   "source": [
    "adv_count_value= merged_df['product_category'].value_counts()\n",
    "print(len(adv_count_value))\n",
    "print(adv_count_value[:10])\n",
    "null_counts = adv_count_value.get(-1, 0)\n",
    "print(f\"null:{null_counts}\")\n",
    "x = adv_count_value.index\n",
    "y = adv_count_value.values\n",
    "plt.scatter(x,y)\n",
    "plt.show()"
   ]
  },
  {
   "cell_type": "code",
   "execution_count": null,
   "metadata": {},
   "outputs": [],
   "source": [
    "adv_count_value= merged_df['industry'].value_counts()\n",
    "print(len(adv_count_value))\n",
    "print(adv_count_value[:10])\n",
    "null_counts = adv_count_value.get(-1, 0)\n",
    "print(f\"null:{null_counts}\")\n",
    "x = [str(i) for i in adv_count_value.index]\n",
    "y = adv_count_value.values\n",
    "plt.scatter(x,y)\n",
    "plt.show()"
   ]
  },
  {
   "cell_type": "code",
   "execution_count": null,
   "metadata": {},
   "outputs": [],
   "source": [
    "adv_count_value= merged_df['advertiser_id'].value_counts()\n",
    "print(len(adv_count_value))\n",
    "print(adv_count_value[:10])\n",
    "null_counts = adv_count_value.get(-1, 0)\n",
    "print(f\"null:{null_counts}\")\n",
    "# x = [str(i) for i in adv_count_value.index]\n",
    "# y = adv_count_value.values\n",
    "# plt.scatter(x,y)\n",
    "# plt.show()"
   ]
  },
  {
   "cell_type": "code",
   "execution_count": null,
   "metadata": {},
   "outputs": [],
   "source": [
    "adv_count_value= merged_df['product_id'].value_counts()\n",
    "print(len(adv_count_value))\n",
    "print(adv_count_value[:10])\n",
    "null_counts = adv_count_value.get(-1, 0)\n",
    "print(f\"null:{null_counts}\")\n",
    "# x = [str(i) for i in adv_count_value.index]\n",
    "# y = adv_count_value.values\n",
    "# plt.scatter(x,y)\n",
    "# plt.show()"
   ]
  },
  {
   "cell_type": "code",
   "execution_count": null,
   "metadata": {},
   "outputs": [],
   "source": []
  }
 ],
 "metadata": {
  "kernelspec": {
   "display_name": "Python 3",
   "language": "python",
   "name": "python3"
  },
  "language_info": {
   "codemirror_mode": {
    "name": "ipython",
    "version": 3
   },
   "file_extension": ".py",
   "mimetype": "text/x-python",
   "name": "python",
   "nbconvert_exporter": "python",
   "pygments_lexer": "ipython3",
   "version": "3.7.3"
  }
 },
 "nbformat": 4,
 "nbformat_minor": 2
}
