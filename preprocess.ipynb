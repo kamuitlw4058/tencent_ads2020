{
 "cells": [
  {
   "cell_type": "code",
   "execution_count": 1,
   "metadata": {},
   "outputs": [],
   "source": [
    "import os\n",
    "import pandas as pd\n",
    "import numpy as np\n",
    "import random\n",
    "import gc\n",
    "from datetime import datetime\n",
    "from tqdm import tqdm\n",
    "import matplotlib.pyplot as plt\n",
    "from gensim.corpora import WikiCorpus\n",
    "from gensim.models import Word2Vec\n",
    "from gensim.models.word2vec import LineSentence\n",
    "from sklearn.feature_extraction.text import TfidfVectorizer\n",
    "from  collections import Counter\n",
    "\n",
    "np.random.seed(2019)\n",
    "random.seed(2019)\n",
    "pd.set_option('display.max_rows', 10)\n",
    "pd.set_option('display.max_columns', 500)\n",
    "pd.set_option('display.width', 280)\n",
    "pd.set_option('display.max_colwidth', 150)\n",
    "data_path = '/data/workspace/kimi/tencent_ads/2020/dataset'\n",
    "preprocess_path = 'preprocess'"
   ]
  },
  {
   "cell_type": "code",
   "execution_count": 2,
   "metadata": {},
   "outputs": [
    {
     "data": {
      "text/plain": [
       "28"
      ]
     },
     "execution_count": 2,
     "metadata": {},
     "output_type": "execute_result"
    }
   ],
   "source": [
    "clk_df = pd.read_csv(f'{data_path}/train_preliminary/click_log.csv' )\n",
    "ad_df = pd.read_csv(f'{data_path}/train_preliminary/ad.csv' )\n",
    "merged_train_df = clk_df.merge(ad_df,on='creative_id')\n",
    "del clk_df\n",
    "del ad_df\n",
    "gc.collect()"
   ]
  },
  {
   "cell_type": "code",
   "execution_count": 3,
   "metadata": {},
   "outputs": [
    {
     "data": {
      "text/plain": [
       "48"
      ]
     },
     "execution_count": 3,
     "metadata": {},
     "output_type": "execute_result"
    }
   ],
   "source": [
    "clk_test_df = pd.read_csv(f'{data_path}/test/click_log.csv' )\n",
    "ad_test_df = pd.read_csv(f'{data_path}/test/ad.csv' )\n",
    "merged_test_df = clk_test_df.merge(ad_test_df,on='creative_id')\n",
    "\n",
    "del clk_test_df\n",
    "del ad_test_df\n",
    "gc.collect()\n"
   ]
  },
  {
   "cell_type": "code",
   "execution_count": null,
   "metadata": {},
   "outputs": [],
   "source": [
    "merged_df = pd.concat([merged_train_df,merged_test_df],axis=0)\n",
    "merged_df.replace(\"\\\\N\",-1,inplace=True)\n",
    "#merged_df['week'] = merged_df['time'].apply(lambda x :int((x+5) /7))\n",
    "#merged_df['wday'] = merged_df['time'].apply(lambda x :int((x + 5) %7))\n",
    "#merged_df['month'] = merged_df['time'].apply(lambda x :int(x /30))\n",
    "merged_df = merged_df.fillna(-1).astype(float)\n",
    "print(merged_df)\n",
    "del merged_train_df\n",
    "del merged_test_df\n",
    "gc.collect()\n",
    "merged_df.to_pickle(f'{preprocess_path}/total_merged_log.pkl' )\n"
   ]
  },
  {
   "cell_type": "code",
   "execution_count": null,
   "metadata": {},
   "outputs": [],
   "source": []
  }
 ],
 "metadata": {
  "kernelspec": {
   "display_name": "Python 3",
   "language": "python",
   "name": "python3"
  },
  "language_info": {
   "codemirror_mode": {
    "name": "ipython",
    "version": 3
   },
   "file_extension": ".py",
   "mimetype": "text/x-python",
   "name": "python",
   "nbconvert_exporter": "python",
   "pygments_lexer": "ipython3",
   "version": "3.7.3"
  }
 },
 "nbformat": 4,
 "nbformat_minor": 2
}
