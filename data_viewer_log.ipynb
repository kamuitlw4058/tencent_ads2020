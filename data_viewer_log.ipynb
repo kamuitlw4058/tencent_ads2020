{
 "cells": [
  {
   "cell_type": "code",
   "execution_count": 1,
   "metadata": {},
   "outputs": [],
   "source": [
    "import os\n",
    "import pandas as pd\n",
    "import numpy as np\n",
    "import random\n",
    "import gc\n",
    "from datetime import datetime\n",
    "from tqdm import tqdm\n",
    "import matplotlib.pyplot as plt\n",
    "from gensim.corpora import WikiCorpus\n",
    "from gensim.models import Word2Vec\n",
    "from gensim.models.word2vec import LineSentence\n",
    "from sklearn.feature_extraction.text import TfidfVectorizer\n",
    "from  collections import Counter\n",
    "\n",
    "np.random.seed(2019)\n",
    "random.seed(2019)\n",
    "pd.set_option('display.max_rows', 10)\n",
    "pd.set_option('display.max_columns', 500)\n",
    "pd.set_option('display.width', 280)\n",
    "pd.set_option('display.max_colwidth', 150)\n",
    "data_path = '/data/workspace/kimi/tencent_ads/2020/dataset'\n",
    "preprocess_path = 'preprocess'"
   ]
  },
  {
   "cell_type": "code",
   "execution_count": 3,
   "metadata": {},
   "outputs": [
    {
     "name": "stdout",
     "output_type": "stream",
     "text": [
      "          time  user_id  creative_id  click_times\n",
      "0            9    30920       567330            1\n",
      "1           65    30920      3072255            1\n",
      "2           56    30920      2361327            1\n",
      "3            6   309204       325532            1\n",
      "4           59   309204      2746730            1\n",
      "...        ...      ...          ...          ...\n",
      "33585507    16  3131989       585914            1\n",
      "33585508    13  3131989       749134            1\n",
      "33585509    12  3131989       589027            1\n",
      "33585510    61  3131989      2404831            1\n",
      "33585511    14  3131989       665822            1\n",
      "\n",
      "[63668283 rows x 4 columns]\n"
     ]
    }
   ],
   "source": [
    "clk_df = pd.read_csv(f'{data_path}/train_preliminary/click_log.csv' )\n",
    "clk_test_df = pd.read_csv(f'{data_path}/test/click_log.csv' )\n",
    "clk_df = pd.concat([clk_df,clk_test_df],axis=0)\n",
    "print(clk_df)\n"
   ]
  },
  {
   "cell_type": "code",
   "execution_count": null,
   "metadata": {},
   "outputs": [],
   "source": [
    "adv_count_value= clk_df['user_id'].value_counts()\n",
    "print(len(adv_count_value))\n",
    "print(adv_count_value[:10])\n",
    "print(adv_count_value[-10000:-9000])\n",
    "print(adv_count_value[-50000:-40000])\n",
    "print(adv_count_value[-500000:-400000])\n",
    "print(adv_count_value[-1500000:-1400000])\n",
    "#adv_count_value = adv_count_value[adv_count_value.values < 200]\n",
    "\n",
    "#null_counts = adv_count_value['\\\\N']\n",
    "#print(f\"null:{null_counts}\")\n",
    "x = adv_count_value.index\n",
    "y = adv_count_value.values\n",
    "arr = np.array(adv_count_value.values)\n",
    "print(len(arr))\n",
    "print(np.mean(arr))\n",
    "print(np.median(arr))\n",
    "print(np.std(arr))\n",
    "\n",
    "plt.scatter(x,y)\n",
    "plt.show()\n"
   ]
  },
  {
   "cell_type": "code",
   "execution_count": null,
   "metadata": {},
   "outputs": [],
   "source": [
    "adv_count_value= clk_df['time'].value_counts()\n",
    "print(len(adv_count_value))\n",
    "print(adv_count_value[:10])\n",
    "print(adv_count_value)\n",
    "#null_counts = adv_count_value['\\\\N']\n",
    "#print(f\"null:{null_counts}\")\n",
    "x = adv_count_value.index\n",
    "y = adv_count_value.values\n",
    "plt.scatter(x,y)\n",
    "plt.show()"
   ]
  },
  {
   "cell_type": "code",
   "execution_count": null,
   "metadata": {},
   "outputs": [],
   "source": [
    "user_click_sum_df = clk_df.groupby(['user_id']).click_times.sum().reset_index().rename(columns={'click_times':'click_times_total'}).sort_values(by='click_times_total')\n",
    "print(user_click_sum_df)\n",
    "drop_user_id_df = user_click_sum_df[user_click_sum_df.click_times_total > 900]\n",
    "print(drop_user_id_df)\n",
    "user_click_sum_df =  user_click_sum_df[user_click_sum_df.click_times_total <= 900]\n",
    "print(user_click_sum_df)\n",
    "x = user_click_sum_df['user_id'].values.tolist()\n",
    "y = user_click_sum_df['click_times_total'].values.tolist()\n",
    "plt.scatter(x,y)\n",
    "plt.show()"
   ]
  },
  {
   "cell_type": "code",
   "execution_count": null,
   "metadata": {},
   "outputs": [],
   "source": [
    "day_uv_df = clk_df.groupby(['time']).user_id.nunique().reset_index().rename(columns={'user_id':'day_uv'}).sort_values(by='day_uv')\n",
    "print(day_uv_df)\n",
    "x = day_uv_df['time'].values.tolist()\n",
    "y = day_uv_df['day_uv'].values.tolist()\n",
    "plt.scatter(x,y)\n",
    "plt.show()"
   ]
  },
  {
   "cell_type": "code",
   "execution_count": null,
   "metadata": {},
   "outputs": [],
   "source": [
    "user_p_df  = clk_df[clk_df.user_id == 157585].groupby(['time']).click_times.count().reset_index().rename(columns={'click_times':'creative_id'})\n",
    "print(user_p_df)\n",
    "x = user_p_df['time'].values.tolist()\n",
    "y = user_p_df['creative_id'].values.tolist()\n",
    "plt.scatter(x,y)\n",
    "plt.show()"
   ]
  },
  {
   "cell_type": "code",
   "execution_count": null,
   "metadata": {},
   "outputs": [],
   "source": [
    "user_p_df  = clk_df[clk_df.user_id == 711447].groupby(['time']).click_times.count().reset_index().rename(columns={'click_times':'creative_id'})\n",
    "pd.set_option('display.max_rows', 100)\n",
    "print(user_p_df)\n",
    "pd.set_option('display.max_rows', 10)\n",
    "x = user_p_df['time'].values.tolist()\n",
    "y = user_p_df['creative_id'].values.tolist()\n",
    "plt.scatter(x,y)\n",
    "plt.show()"
   ]
  },
  {
   "cell_type": "code",
   "execution_count": null,
   "metadata": {},
   "outputs": [],
   "source": [
    "user_ps_df  = clk_df[clk_df.user_id == 727101].groupby(['time']).click_times.sum().reset_index().rename(columns={'click_times':'creative_id'})\n",
    "print(user_ps_df)\n",
    "x = user_ps_df['time'].values.tolist()\n",
    "y = user_ps_df['creative_id'].values.tolist()\n",
    "plt.scatter(x,y)\n",
    "plt.show()"
   ]
  },
  {
   "cell_type": "code",
   "execution_count": null,
   "metadata": {},
   "outputs": [],
   "source": [
    "ad_df = pd.read_csv(f'{data_path}/train_preliminary/ad.csv' )"
   ]
  },
  {
   "cell_type": "code",
   "execution_count": null,
   "metadata": {},
   "outputs": [],
   "source": [
    "user_ins_df = clk_df[clk_df.user_id == 157585]\n",
    "user_ins_df= user_ins_df.merge(ad_df,on='creative_id').sort_values(by='time')\n",
    "print(user_ins_df)"
   ]
  },
  {
   "cell_type": "code",
   "execution_count": null,
   "metadata": {},
   "outputs": [],
   "source": [
    "user_ins_df = clk_df[clk_df.user_id == 727101]\n",
    "user_ins_df= user_ins_df.merge(ad_df,on='creative_id').sort_values(by='time')\n",
    "print(user_ins_df)"
   ]
  },
  {
   "cell_type": "code",
   "execution_count": null,
   "metadata": {},
   "outputs": [],
   "source": [
    "user_ins_df = clk_df[clk_df.user_id == 420997]\n",
    "user_ins_df= user_ins_df.merge(ad_df,on='creative_id').sort_values(by='time')\n",
    "print(user_ins_df)"
   ]
  },
  {
   "cell_type": "code",
   "execution_count": null,
   "metadata": {},
   "outputs": [],
   "source": [
    "user_ins_df = clk_df[clk_df.user_id == 737997]\n",
    "user_ins_df= user_ins_df.merge(ad_df,on='creative_id').sort_values(by='time')\n",
    "pd.set_option('display.max_rows', 100)\n",
    "print(user_ins_df)\n",
    "pd.set_option('display.max_rows', 10)"
   ]
  },
  {
   "cell_type": "code",
   "execution_count": null,
   "metadata": {},
   "outputs": [],
   "source": [
    "user_ins_df = clk_df[clk_df.user_id == 867303]\n",
    "user_ins_df= user_ins_df.merge(ad_df,on='creative_id').sort_values(by='time')\n",
    "pd.set_option('display.max_rows', 100)\n",
    "print(user_ins_df)\n",
    "pd.set_option('display.max_rows', 10)"
   ]
  },
  {
   "cell_type": "code",
   "execution_count": null,
   "metadata": {},
   "outputs": [],
   "source": [
    "user_ins_df = clk_df[clk_df.user_id == 323781]\n",
    "user_ins_df= user_ins_df.merge(ad_df,on='creative_id').sort_values(by='time')\n",
    "pd.set_option('display.max_rows', 100)\n",
    "print(user_ins_df)\n",
    "pd.set_option('display.max_rows', 10)"
   ]
  },
  {
   "cell_type": "code",
   "execution_count": null,
   "metadata": {},
   "outputs": [],
   "source": [
    "merged_df = clk_df.merge(ad_df,on='creative_id')\n",
    "merged_df.replace(\"\\\\N\",-1,inplace=True)\n",
    "merged_df = merged_df.fillna(-1).astype(float)\n",
    "merged_df['wday'] = merged_df['time'].apply(lambda x :int(x /7))\n",
    "merged_df['wday1'] = merged_df['time'].apply(lambda x :int(x %7))\n",
    "merged_df['month'] = merged_df['time'].apply(lambda x :int(x /30))\n",
    "print(merged_df)\n",
    "del clk_df\n",
    "gc.collect()"
   ]
  },
  {
   "cell_type": "code",
   "execution_count": null,
   "metadata": {},
   "outputs": [],
   "source": [
    "adv_count_value= merged_df['ad_id'].value_counts()\n",
    "print(len(adv_count_value))\n",
    "print(adv_count_value[:10])\n",
    "null_counts = adv_count_value.get(-1, 0)\n",
    "print(f\"null:{null_counts}\")\n",
    "# x = [str(i) for i in adv_count_value.index]\n",
    "# y = adv_count_value.values\n",
    "# plt.scatter(x,y)\n",
    "# plt.show()"
   ]
  },
  {
   "cell_type": "code",
   "execution_count": null,
   "metadata": {},
   "outputs": [],
   "source": [
    "adv_count_value= merged_df['creative_id'].value_counts()\n",
    "print(len(adv_count_value))\n",
    "print(adv_count_value[:10])\n",
    "null_counts = adv_count_value.get(-1, 0)\n",
    "print(f\"null:{null_counts}\")\n",
    "# x = [str(i) for i in adv_count_value.index]\n",
    "# y = adv_count_value.values\n",
    "# plt.scatter(x,y)\n",
    "# plt.show()"
   ]
  },
  {
   "cell_type": "code",
   "execution_count": null,
   "metadata": {},
   "outputs": [],
   "source": [
    "print(merged_df.groupby('wday1').creative_id.count())\n",
    "pd.set_option('display.max_rows', 100)\n",
    "print(merged_df[merged_df.wday1 == 0].groupby('time').creative_id.count())\n",
    "print(merged_df[merged_df.wday1 == 1].groupby('time').creative_id.count())\n",
    "print(merged_df[merged_df.wday1 == 2].groupby('time').creative_id.count())\n",
    "pd.set_option('display.max_rows', 10)"
   ]
  },
  {
   "cell_type": "code",
   "execution_count": null,
   "metadata": {},
   "outputs": [],
   "source": [
    "filter_user_df  = merged_df.merge(user_click_sum_df,on='user_id')\n",
    "filter_user_df = filter_user_df.fillna(-1)\n",
    "filter_user_df = filter_user_df[filter_user_df.click_times_total > 0]\n",
    "\n",
    "print(filter_user_df)\n",
    "\n"
   ]
  },
  {
   "cell_type": "code",
   "execution_count": null,
   "metadata": {},
   "outputs": [],
   "source": [
    "print(filter_user_df.groupby('wday1').creative_id.count())\n",
    "pd.set_option('display.max_rows', 100)\n",
    "print(filter_user_df[filter_user_df.wday1 == 0].groupby('time').creative_id.count())\n",
    "print(filter_user_df[filter_user_df.wday1 == 1].groupby('time').creative_id.count())\n",
    "print(filter_user_df[filter_user_df.wday1 == 2].groupby('time').creative_id.count())\n",
    "pd.set_option('display.max_rows', 10)\n",
    "\n",
    "del filter_user_df\n",
    "gc.collect() "
   ]
  },
  {
   "cell_type": "code",
   "execution_count": null,
   "metadata": {},
   "outputs": [],
   "source": [
    "adv_count_value= merged_df['product_category'].value_counts()\n",
    "print(len(adv_count_value))\n",
    "print(adv_count_value[:10])\n",
    "null_counts = adv_count_value.get(-1, 0)\n",
    "print(f\"null:{null_counts}\")\n",
    "x = adv_count_value.index\n",
    "y = adv_count_value.values\n",
    "plt.scatter(x,y)\n",
    "plt.show()"
   ]
  },
  {
   "cell_type": "code",
   "execution_count": null,
   "metadata": {},
   "outputs": [],
   "source": [
    "adv_count_value= merged_df['industry'].value_counts()\n",
    "print(len(adv_count_value))\n",
    "print(adv_count_value[:10])\n",
    "null_counts = adv_count_value.get(-1, 0)\n",
    "print(f\"null:{null_counts}\")\n",
    "x = [str(i) for i in adv_count_value.index]\n",
    "y = adv_count_value.values\n",
    "plt.scatter(x,y)\n",
    "plt.show()"
   ]
  },
  {
   "cell_type": "code",
   "execution_count": null,
   "metadata": {},
   "outputs": [],
   "source": [
    "adv_count_value= merged_df['advertiser_id'].value_counts()\n",
    "print(len(adv_count_value))\n",
    "print(adv_count_value[:10])\n",
    "null_counts = adv_count_value.get(-1, 0)\n",
    "print(f\"null:{null_counts}\")\n",
    "# x = [str(i) for i in adv_count_value.index]\n",
    "# y = adv_count_value.values\n",
    "# plt.scatter(x,y)\n",
    "# plt.show()"
   ]
  },
  {
   "cell_type": "code",
   "execution_count": null,
   "metadata": {},
   "outputs": [],
   "source": [
    "advertiser_id_spec_df = merged_df[merged_df.advertiser_id==14681 ].groupby(['time']).creative_id.count()\n",
    "print(advertiser_id_spec_df)\n",
    "x = [str(i) for i in advertiser_id_spec_df.index]\n",
    "y = advertiser_id_spec_df.values\n",
    "plt.scatter(x,y)\n",
    "plt.show()"
   ]
  },
  {
   "cell_type": "code",
   "execution_count": null,
   "metadata": {},
   "outputs": [],
   "source": [
    "advertiser_id_spec_df = merged_df[merged_df.advertiser_id==10989 ].groupby(['time']).creative_id.count()\n",
    "print(advertiser_id_spec_df)\n",
    "x = [str(i) for i in advertiser_id_spec_df.index]\n",
    "y = advertiser_id_spec_df.values\n",
    "plt.scatter(x,y)\n",
    "plt.show()"
   ]
  },
  {
   "cell_type": "code",
   "execution_count": null,
   "metadata": {},
   "outputs": [],
   "source": [
    "advertiser_id_spec_df = merged_df[merged_df.advertiser_id==14682 ].groupby(['time']).creative_id.count()\n",
    "print(advertiser_id_spec_df)\n",
    "x = [str(i) for i in advertiser_id_spec_df.index]\n",
    "y = advertiser_id_spec_df.values\n",
    "plt.scatter(x,y)\n",
    "plt.show()"
   ]
  },
  {
   "cell_type": "code",
   "execution_count": null,
   "metadata": {},
   "outputs": [],
   "source": [
    "advertiser_id_spec_df = merged_df[merged_df.advertiser_id==22885 ].groupby(['time']).creative_id.count()\n",
    "print(advertiser_id_spec_df)\n",
    "x = [str(i) for i in advertiser_id_spec_df.index]\n",
    "y = advertiser_id_spec_df.values\n",
    "plt.scatter(x,y)\n",
    "plt.show()"
   ]
  },
  {
   "cell_type": "code",
   "execution_count": null,
   "metadata": {},
   "outputs": [],
   "source": [
    "advertiser_id_spec_df = merged_df[merged_df.advertiser_id==14681 ].groupby(['ad_id']).creative_id.count()\n",
    "print(advertiser_id_spec_df)\n",
    "advertiser_id_spec_df = merged_df[merged_df.advertiser_id==14681 ].groupby(['product_id']).creative_id.count()\n",
    "print(advertiser_id_spec_df)\n",
    "advertiser_id_spec_df = merged_df[merged_df.advertiser_id==14681 ].groupby(['industry']).creative_id.count()\n",
    "print(advertiser_id_spec_df)\n"
   ]
  },
  {
   "cell_type": "code",
   "execution_count": null,
   "metadata": {},
   "outputs": [],
   "source": [
    "advertiser_id_spec_df = merged_df[merged_df.advertiser_id==22885 ].groupby(['ad_id']).creative_id.count()\n",
    "print(advertiser_id_spec_df)\n",
    "advertiser_id_spec_df = merged_df[merged_df.advertiser_id==22885 ].groupby(['product_id']).creative_id.count()\n",
    "print(advertiser_id_spec_df)\n",
    "advertiser_id_spec_df = merged_df[merged_df.advertiser_id==22885 ].groupby(['industry']).creative_id.count()\n",
    "print(advertiser_id_spec_df)"
   ]
  },
  {
   "cell_type": "code",
   "execution_count": null,
   "metadata": {},
   "outputs": [],
   "source": [
    "advertiser_id_spec_df = merged_df[merged_df.advertiser_id==14682 ].groupby(['ad_id']).creative_id.count()\n",
    "print(advertiser_id_spec_df)\n",
    "advertiser_id_spec_df = merged_df[merged_df.advertiser_id==14682 ].groupby(['product_id']).creative_id.count()\n",
    "print(advertiser_id_spec_df)\n",
    "advertiser_id_spec_df = merged_df[merged_df.advertiser_id==14682 ].groupby(['industry']).creative_id.count().sort_values()\n",
    "print(advertiser_id_spec_df)"
   ]
  },
  {
   "cell_type": "code",
   "execution_count": null,
   "metadata": {},
   "outputs": [],
   "source": [
    "advertiser_id_spec_df = merged_df[merged_df.advertiser_id==918 ].groupby(['ad_id']).creative_id.count()\n",
    "print(advertiser_id_spec_df)\n",
    "advertiser_id_spec_df = merged_df[merged_df.advertiser_id==918 ].groupby(['product_id']).creative_id.count()\n",
    "print(advertiser_id_spec_df)\n",
    "advertiser_id_spec_df = merged_df[merged_df.advertiser_id==918 ].groupby(['industry']).creative_id.count().sort_values()\n",
    "print(advertiser_id_spec_df)"
   ]
  },
  {
   "cell_type": "code",
   "execution_count": null,
   "metadata": {},
   "outputs": [],
   "source": [
    "\n",
    "advertiser_id_spec_df = merged_df[merged_df.advertiser_id==9058 ].groupby(['ad_id']).creative_id.count()\n",
    "print(advertiser_id_spec_df)\n",
    "advertiser_id_spec_df = merged_df[merged_df.advertiser_id==9058 ].groupby(['product_id']).creative_id.count().sort_values()\n",
    "print(advertiser_id_spec_df)\n",
    "advertiser_id_spec_df = merged_df[merged_df.advertiser_id==9058 ].groupby(['industry']).creative_id.count().sort_values()\n",
    "print(advertiser_id_spec_df)"
   ]
  },
  {
   "cell_type": "code",
   "execution_count": null,
   "metadata": {},
   "outputs": [],
   "source": [
    "advertiser_id_spec_df = merged_df[merged_df.advertiser_id==10986 ].groupby(['ad_id']).creative_id.count()\n",
    "print(advertiser_id_spec_df)\n",
    "advertiser_id_spec_df = merged_df[merged_df.advertiser_id==10986 ].groupby(['product_id']).creative_id.count().sort_values()\n",
    "print(advertiser_id_spec_df)\n",
    "advertiser_id_spec_df = merged_df[merged_df.advertiser_id==10986 ].groupby(['industry']).creative_id.count().sort_values()\n",
    "print(advertiser_id_spec_df)"
   ]
  },
  {
   "cell_type": "code",
   "execution_count": null,
   "metadata": {},
   "outputs": [],
   "source": [
    "industry_spec_df = merged_df[merged_df.industry==6].groupby(['advertiser_id']).creative_id.count().sort_values()\n",
    "print(industry_spec_df)\n",
    "industry_spec_df = merged_df[merged_df.industry==6 ].groupby(['product_id']).creative_id.count().sort_values()\n",
    "print(industry_spec_df)\n",
    "#print(advertiser_id_spec_df)\n",
    "# advertiser_id_spec_df = merged_df[merged_df.advertiser_id==10986 ].groupby(['product_id']).creative_id.count().sort_values()\n",
    "# print(advertiser_id_spec_df)\n",
    "# advertiser_id_spec_df = merged_df[merged_df.advertiser_id==10986 ].groupby(['industry']).creative_id.count().sort_values()\n",
    "# print(advertiser_id_spec_df)"
   ]
  },
  {
   "cell_type": "code",
   "execution_count": null,
   "metadata": {},
   "outputs": [],
   "source": [
    "industry_spec_df = merged_df[merged_df.industry==319].groupby(['advertiser_id']).creative_id.count().sort_values()\n",
    "print(industry_spec_df)\n",
    "industry_spec_df = merged_df[merged_df.industry==319 ].groupby(['product_id']).creative_id.count().sort_values()\n",
    "print(industry_spec_df)"
   ]
  },
  {
   "cell_type": "code",
   "execution_count": null,
   "metadata": {},
   "outputs": [],
   "source": [
    "adv_count_value= merged_df['product_id'].value_counts()\n",
    "print(len(adv_count_value))\n",
    "print(adv_count_value[:10])\n",
    "null_counts = adv_count_value.get(-1, 0)\n",
    "print(f\"null:{null_counts}\")\n",
    "# x = [str(i) for i in adv_count_value.index]\n",
    "# y = adv_count_value.values\n",
    "# plt.scatter(x,y)\n",
    "# plt.show()"
   ]
  },
  {
   "cell_type": "code",
   "execution_count": null,
   "metadata": {},
   "outputs": [],
   "source": [
    "advertiser_id_spec_df = merged_df[merged_df.product_id==129 ].groupby(['ad_id']).creative_id.count()\n",
    "print(advertiser_id_spec_df)\n",
    "advertiser_id_spec_df = merged_df[merged_df.product_id==129 ].groupby(['advertiser_id']).creative_id.count().sort_values()\n",
    "print(advertiser_id_spec_df)\n",
    "advertiser_id_spec_df = merged_df[merged_df.product_id==129 ].groupby(['industry']).creative_id.count().sort_values()\n",
    "print(advertiser_id_spec_df)"
   ]
  },
  {
   "cell_type": "code",
   "execution_count": null,
   "metadata": {},
   "outputs": [],
   "source": [
    "advertiser_id_spec_df = merged_df[merged_df.product_id==1261 ].groupby(['ad_id']).creative_id.count()\n",
    "print(advertiser_id_spec_df)\n",
    "advertiser_id_spec_df = merged_df[merged_df.product_id==1261].groupby(['advertiser_id']).creative_id.count().sort_values()\n",
    "print(advertiser_id_spec_df)\n",
    "advertiser_id_spec_df = merged_df[merged_df.product_id==1261 ].groupby(['industry']).creative_id.count().sort_values()\n",
    "print(advertiser_id_spec_df)"
   ]
  },
  {
   "cell_type": "code",
   "execution_count": null,
   "metadata": {},
   "outputs": [],
   "source": []
  }
 ],
 "metadata": {
  "kernelspec": {
   "display_name": "Python 3",
   "language": "python",
   "name": "python3"
  },
  "language_info": {
   "codemirror_mode": {
    "name": "ipython",
    "version": 3
   },
   "file_extension": ".py",
   "mimetype": "text/x-python",
   "name": "python",
   "nbconvert_exporter": "python",
   "pygments_lexer": "ipython3",
   "version": "3.7.3"
  }
 },
 "nbformat": 4,
 "nbformat_minor": 2
}
