{
 "cells": [
  {
   "cell_type": "code",
   "execution_count": 27,
   "metadata": {},
   "outputs": [],
   "source": [
    "import os\n",
    "import pandas as pd\n",
    "import numpy as np\n",
    "import random\n",
    "import gc\n",
    "from datetime import datetime\n",
    "from tqdm import tqdm\n",
    "import matplotlib.pyplot as plt\n",
    "from gensim.corpora import WikiCorpus\n",
    "from gensim.models import Word2Vec\n",
    "from gensim.models.word2vec import LineSentence\n",
    "from sklearn.feature_extraction.text import TfidfVectorizer\n",
    "from  collections import Counter\n",
    "\n",
    "np.random.seed(2019)\n",
    "random.seed(2019)\n",
    "pd.set_option('display.max_rows', 10)\n",
    "pd.set_option('display.max_columns', 500)\n",
    "pd.set_option('display.width', 280)\n",
    "pd.set_option('display.max_colwidth', 150)\n",
    "data_path = '/data/workspace/kimi/tencent_ads/2020/dataset'\n",
    "preprocess_path = 'preprocess'"
   ]
  },
  {
   "cell_type": "code",
   "execution_count": 2,
   "metadata": {},
   "outputs": [
    {
     "name": "stdout",
     "output_type": "stream",
     "text": [
      "          time  user_id  creative_id  click_times\n",
      "0            9    30920       567330            1\n",
      "1           65    30920      3072255            1\n",
      "2           56    30920      2361327            1\n",
      "3            6   309204       325532            1\n",
      "4           59   309204      2746730            1\n",
      "...        ...      ...          ...          ...\n",
      "30082766     6    30920       228129            1\n",
      "30082767    57    30920      2361397            1\n",
      "30082768    26    30920       629802            1\n",
      "30082769    86    30920      2713031            1\n",
      "30082770    25    30920       629802            1\n",
      "\n",
      "[30082771 rows x 4 columns]\n"
     ]
    }
   ],
   "source": [
    "clk_df = pd.read_csv(f'{data_path}/train_preliminary/click_log.csv' )\n",
    "print(clk_df)"
   ]
  },
  {
   "cell_type": "code",
   "execution_count": 3,
   "metadata": {},
   "outputs": [
    {
     "name": "stdout",
     "output_type": "stream",
     "text": [
      "900000\n",
      "839368    16868\n",
      "157585     1706\n",
      "677301     1661\n",
      "178333     1321\n",
      "549175     1273\n",
      "524400     1237\n",
      "98218      1225\n",
      "280513     1162\n",
      "674070     1160\n",
      "407744     1011\n",
      "Name: user_id, dtype: int64\n",
      "727101    9\n",
      "237550    9\n",
      "245469    9\n",
      "883050    9\n",
      "753605    9\n",
      "         ..\n",
      "465891    9\n",
      "555658    9\n",
      "893881    9\n",
      "654010    9\n",
      "370918    9\n",
      "Name: user_id, Length: 1000, dtype: int64\n",
      "599971    10\n",
      "848428    10\n",
      "420997    10\n",
      "209880    10\n",
      "288267    10\n",
      "          ..\n",
      "331185    10\n",
      "689887    10\n",
      "397193    10\n",
      "633880    10\n",
      "413145    10\n",
      "Name: user_id, Length: 10000, dtype: int64\n",
      "383624    26\n",
      "845035    26\n",
      "737997    26\n",
      "562561    26\n",
      "323781    26\n",
      "          ..\n",
      "716683    21\n",
      "170685    21\n",
      "199981    21\n",
      "706702    21\n",
      "217510    21\n",
      "Name: user_id, Length: 100000, dtype: int64\n",
      "896130\n",
      "32.379326660194394\n",
      "23.0\n",
      "26.480884660712203\n"
     ]
    },
    {
     "data": {
      "image/png": "[encoded data removed]",
      "text/plain": [
       "<Figure size 432x288 with 1 Axes>"
      ]
     },
     "metadata": {
      "needs_background": "light"
     },
     "output_type": "display_data"
    }
   ],
   "source": [
    "adv_count_value= clk_df['user_id'].value_counts()\n",
    "print(len(adv_count_value))\n",
    "print(adv_count_value[:10])\n",
    "print(adv_count_value[-10000:-9000])\n",
    "print(adv_count_value[-50000:-40000])\n",
    "print(adv_count_value[-500000:-400000])\n",
    "adv_count_value = adv_count_value[adv_count_value.values < 200]\n",
    "\n",
    "#null_counts = adv_count_value['\\\\N']\n",
    "#print(f\"null:{null_counts}\")\n",
    "x = adv_count_value.index\n",
    "y = adv_count_value.values\n",
    "arr = np.array(adv_count_value.values)\n",
    "print(len(arr))\n",
    "print(np.mean(arr))\n",
    "print(np.median(arr))\n",
    "print(np.std(arr))\n",
    "\n",
    "plt.scatter(x,y)\n",
    "plt.show()\n"
   ]
  },
  {
   "cell_type": "code",
   "execution_count": 4,
   "metadata": {},
   "outputs": [
    {
     "name": "stdout",
     "output_type": "stream",
     "text": [
      "91\n",
      "85    417797\n",
      "78    406004\n",
      "84    393253\n",
      "64    388689\n",
      "57    384115\n",
      "74    381696\n",
      "91    376422\n",
      "63    376263\n",
      "34    373768\n",
      "36    371639\n",
      "Name: time, dtype: int64\n",
      "Int64Index([85, 78, 84, 64, 57, 74, 91, 63, 34, 36, 31, 77, 73, 43, 35, 75, 65, 37, 32, 33, 71, 56, 79, 67, 50, 70, 66, 88, 90, 81, 49, 82, 72, 83, 68, 80, 76, 86, 14, 55, 60, 54, 69, 87, 58, 42, 53, 61, 45, 52, 46, 22, 59, 40, 48, 89, 30, 51, 62, 41, 47, 15, 29, 44, 13, 39, 21,\n",
      "            18, 28, 38,  1, 26, 17,  8, 19, 16, 25, 11,  7, 27, 23,  2, 24, 12, 10,  3, 20,  4,  5,  9,  6],\n",
      "           dtype='int64')\n"
     ]
    },
    {
     "data": {
      "image/png": "[encoded data removed]",
      "text/plain": [
       "<Figure size 432x288 with 1 Axes>"
      ]
     },
     "metadata": {
      "needs_background": "light"
     },
     "output_type": "display_data"
    }
   ],
   "source": [
    "adv_count_value= clk_df['time'].value_counts()\n",
    "print(len(adv_count_value))\n",
    "print(adv_count_value[:10])\n",
    "#null_counts = adv_count_value['\\\\N']\n",
    "#print(f\"null:{null_counts}\")\n",
    "x = adv_count_value.index\n",
    "print(x)\n",
    "y = adv_count_value.values\n",
    "plt.scatter(x,y)\n",
    "plt.show()"
   ]
  },
  {
   "cell_type": "code",
   "execution_count": 5,
   "metadata": {},
   "outputs": [
    {
     "name": "stdout",
     "output_type": "stream",
     "text": [
      "91\n",
      "85    417797\n",
      "78    406004\n",
      "84    393253\n",
      "64    388689\n",
      "57    384115\n",
      "74    381696\n",
      "91    376422\n",
      "63    376263\n",
      "34    373768\n",
      "36    371639\n",
      "Name: time, dtype: int64\n",
      "Int64Index([85, 78, 84, 64, 57, 74, 91, 63, 34, 36, 31, 77, 73, 43, 35, 75, 65, 37, 32, 33, 71, 56, 79, 67, 50, 70, 66, 88, 90, 81, 49, 82, 72, 83, 68, 80, 76, 86, 14, 55, 60, 54, 69, 87, 58, 42, 53, 61, 45, 52, 46, 22, 59, 40, 48, 89, 30, 51, 62, 41, 47, 15, 29, 44, 13, 39, 21,\n",
      "            18, 28, 38,  1, 26, 17,  8, 19, 16, 25, 11,  7, 27, 23,  2, 24, 12, 10,  3, 20,  4,  5,  9,  6],\n",
      "           dtype='int64')\n"
     ]
    },
    {
     "data": {
      "image/png": "[encoded data removed]",
      "text/plain": [
       "<Figure size 432x288 with 1 Axes>"
      ]
     },
     "metadata": {
      "needs_background": "light"
     },
     "output_type": "display_data"
    }
   ],
   "source": [
    "adv_count_value= clk_df['time'].value_counts()\n",
    "print(len(adv_count_value))\n",
    "print(adv_count_value[:10])\n",
    "#null_counts = adv_count_value['\\\\N']\n",
    "#print(f\"null:{null_counts}\")\n",
    "x = adv_count_value.index\n",
    "print(x)\n",
    "y = adv_count_value.values\n",
    "plt.scatter(x,y)\n",
    "plt.show()"
   ]
  },
  {
   "cell_type": "code",
   "execution_count": 6,
   "metadata": {},
   "outputs": [
    {
     "name": "stdout",
     "output_type": "stream",
     "text": [
      "        user_id  click_times_total\n",
      "697474   697475                 10\n",
      "815798   815799                 10\n",
      "815807   815808                 10\n",
      "142089   142090                 10\n",
      "339275   339276                 10\n",
      "...         ...                ...\n",
      "677300   677301               1669\n",
      "178332   178333               1714\n",
      "157584   157585               1742\n",
      "674069   674070               1776\n",
      "839367   839368              21330\n",
      "\n",
      "[900000 rows x 2 columns]\n"
     ]
    },
    {
     "data": {
      "image/png": "[encoded data removed]",
      "text/plain": [
       "<Figure size 432x288 with 1 Axes>"
      ]
     },
     "metadata": {
      "needs_background": "light"
     },
     "output_type": "display_data"
    }
   ],
   "source": [
    "user_click_sum_df = clk_df.groupby(['user_id']).click_times.sum().reset_index().rename(columns={'click_times':'click_times_total'}).sort_values(by='click_times_total')\n",
    "print(user_click_sum_df)\n",
    "x = user_click_sum_df['user_id'].values.tolist()\n",
    "y = user_click_sum_df['click_times_total'].values.tolist()\n",
    "plt.scatter(x,y)\n",
    "plt.show()"
   ]
  },
  {
   "cell_type": "code",
   "execution_count": 7,
   "metadata": {},
   "outputs": [
    {
     "name": "stdout",
     "output_type": "stream",
     "text": [
      "    time  day_uv\n",
      "5      6  178935\n",
      "8      9  179054\n",
      "19    20  187083\n",
      "9     10  188802\n",
      "4      5  189077\n",
      "..   ...     ...\n",
      "63    64  243023\n",
      "56    57  243886\n",
      "73    74  246377\n",
      "77    78  249852\n",
      "84    85  255551\n",
      "\n",
      "[91 rows x 2 columns]\n"
     ]
    },
    {
     "data": {
      "image/png": "[encoded data removed]",
      "text/plain": [
       "<Figure size 432x288 with 1 Axes>"
      ]
     },
     "metadata": {
      "needs_background": "light"
     },
     "output_type": "display_data"
    }
   ],
   "source": [
    "day_uv_df = clk_df.groupby(['time']).user_id.nunique().reset_index().rename(columns={'user_id':'day_uv'}).sort_values(by='day_uv')\n",
    "print(day_uv_df)\n",
    "x = day_uv_df['time'].values.tolist()\n",
    "y = day_uv_df['day_uv'].values.tolist()\n",
    "plt.scatter(x,y)\n",
    "plt.show()"
   ]
  },
  {
   "cell_type": "code",
   "execution_count": 8,
   "metadata": {},
   "outputs": [
    {
     "name": "stdout",
     "output_type": "stream",
     "text": [
      "    time  creative_id\n",
      "0      1            4\n",
      "1      2            7\n",
      "2      3            5\n",
      "3      4            5\n",
      "4      5            3\n",
      "..   ...          ...\n",
      "84    86            3\n",
      "85    87            1\n",
      "86    88            4\n",
      "87    89            1\n",
      "88    91            1\n",
      "\n",
      "[89 rows x 2 columns]\n"
     ]
    },
    {
     "data": {
      "image/png": "[encoded data removed]",
      "text/plain": [
       "<Figure size 432x288 with 1 Axes>"
      ]
     },
     "metadata": {
      "needs_background": "light"
     },
     "output_type": "display_data"
    }
   ],
   "source": [
    "user_p_df  = clk_df[clk_df.user_id == 157585].groupby(['time']).click_times.count().reset_index().rename(columns={'click_times':'creative_id'})\n",
    "print(user_p_df)\n",
    "x = user_p_df['time'].values.tolist()\n",
    "y = user_p_df['creative_id'].values.tolist()\n",
    "plt.scatter(x,y)\n",
    "plt.show()"
   ]
  },
  {
   "cell_type": "code",
   "execution_count": 9,
   "metadata": {},
   "outputs": [
    {
     "name": "stdout",
     "output_type": "stream",
     "text": [
      "   time  creative_id\n",
      "0     2            1\n",
      "1     8            1\n",
      "2    30            2\n",
      "3    31            2\n",
      "4    73            4\n"
     ]
    },
    {
     "data": {
      "image/png": "[encoded data removed]",
      "text/plain": [
       "<Figure size 432x288 with 1 Axes>"
      ]
     },
     "metadata": {
      "needs_background": "light"
     },
     "output_type": "display_data"
    }
   ],
   "source": [
    "user_ps_df  = clk_df[clk_df.user_id == 727101].groupby(['time']).click_times.sum().reset_index().rename(columns={'click_times':'creative_id'})\n",
    "print(user_ps_df)\n",
    "x = user_ps_df['time'].values.tolist()\n",
    "y = user_ps_df['creative_id'].values.tolist()\n",
    "plt.scatter(x,y)\n",
    "plt.show()"
   ]
  },
  {
   "cell_type": "code",
   "execution_count": 10,
   "metadata": {},
   "outputs": [],
   "source": [
    "ad_df = pd.read_csv(f'{data_path}/train_preliminary/ad.csv' )"
   ]
  },
  {
   "cell_type": "code",
   "execution_count": 11,
   "metadata": {},
   "outputs": [
    {
     "name": "stdout",
     "output_type": "stream",
     "text": [
      "      time  user_id  creative_id  click_times    ad_id product_id  product_category  advertiser_id industry\n",
      "209      1   157585       238194            1   214100       1766                 2          39495       \\N\n",
      "562      1   157585       130042            1   116893      26858                 3           9458       60\n",
      "354      1   157585        90587            2    82798      26858                 3           9458       60\n",
      "661      1   157585        33446            1    32746      42008                17          18910       \\N\n",
      "213      2   157585       275192            1   247733         \\N                18          14681      326\n",
      "...    ...      ...          ...          ...      ...        ...               ...            ...      ...\n",
      "1130    88   157585      2147997            1  1854843       9108                 3           2535      319\n",
      "70      88   157585      4041528            1  3469295      37257                 4          21049       \\N\n",
      "177     88   157585      4051802            1  3477786      27063                 3           8366      319\n",
      "654     89   157585      4244087            1  3640978       3489                 2          60761       \\N\n",
      "1338    91   157585      4091191            1  3511187         \\N                 9           8386        6\n",
      "\n",
      "[1706 rows x 9 columns]\n"
     ]
    }
   ],
   "source": [
    "user_ins_df = clk_df[clk_df.user_id == 157585]\n",
    "user_ins_df= user_ins_df.merge(ad_df,on='creative_id').sort_values(by='time')\n",
    "print(user_ins_df)"
   ]
  },
  {
   "cell_type": "code",
   "execution_count": 12,
   "metadata": {},
   "outputs": [
    {
     "name": "stdout",
     "output_type": "stream",
     "text": [
      "   time  user_id  creative_id  click_times    ad_id product_id  product_category  advertiser_id industry\n",
      "3     2   727101       119552            1   107970         \\N                18          14681      297\n",
      "7     8   727101       490785            1   437024         \\N                18          17601       40\n",
      "4    30   727101       383719            1   342799       1766                 2          34383      319\n",
      "6    30   727101      1574717            1  1367152       1766                 2          42161      319\n",
      "1    31   727101      1242486            1  1086873         94                 2          45848      245\n",
      "8    31   727101      1121707            1   983648         \\N                18          14681      216\n",
      "0    73   727101      3358504            2  2889902       2400                 2          43538      246\n",
      "2    73   727101      2635675            1  2268491       2400                 2          50845      246\n",
      "5    73   727101      3535429            1  3044914       2400                 2          51501      246\n"
     ]
    }
   ],
   "source": [
    "user_ins_df = clk_df[clk_df.user_id == 727101]\n",
    "user_ins_df= user_ins_df.merge(ad_df,on='creative_id').sort_values(by='time')\n",
    "print(user_ins_df)"
   ]
  },
  {
   "cell_type": "code",
   "execution_count": 13,
   "metadata": {},
   "outputs": [
    {
     "name": "stdout",
     "output_type": "stream",
     "text": [
      "   time  user_id  creative_id  click_times    ad_id product_id  product_category  advertiser_id industry\n",
      "9     3   420997        22126            1    22978         \\N                12          10986      205\n",
      "3     6   420997        31216            1    30911         \\N                12          22400       54\n",
      "5    41   420997      1768435            1  1531319      26976                 3            883      183\n",
      "7    46   420997      1866093            1  1615591      39324                 4          28151       \\N\n",
      "8    69   420997      3378741            1  2907650        643                 3           2623        6\n",
      "0    72   420997      2915786            1  2506618         \\N                18          14681        6\n",
      "4    73   420997      3510165            1  3023093         \\N                18          14682        6\n",
      "2    74   420997      3102293            1  2668742         \\N                18          14681        6\n",
      "6    77   420997      3541006            1  3049265         \\N                18          14681       88\n",
      "1    80   420997         1169            1     1763      26976                 3            891      183\n"
     ]
    }
   ],
   "source": [
    "user_ins_df = clk_df[clk_df.user_id == 420997]\n",
    "user_ins_df= user_ins_df.merge(ad_df,on='creative_id').sort_values(by='time')\n",
    "print(user_ins_df)"
   ]
  },
  {
   "cell_type": "code",
   "execution_count": 14,
   "metadata": {},
   "outputs": [
    {
     "name": "stdout",
     "output_type": "stream",
     "text": [
      "    time  user_id  creative_id  click_times    ad_id product_id  product_category  advertiser_id industry\n",
      "4      5   737997       230303            1   206776      41655                17          30122       \\N\n",
      "3      6   737997       230303            1   206776      41655                17          30122       \\N\n",
      "21     8   737997       331825            1   298107      41655                17          30124       \\N\n",
      "11     8   737997       230844            1   207295      41655                17          30124       \\N\n",
      "24    23   737997       621801            1   552149         \\N                18            847       27\n",
      "20    25   737997       136085            1   122288         \\N                18          37156       13\n",
      "0     26   737997       422565            1   376603         \\N                18          24675       47\n",
      "22    35   737997       160316            1   143752         \\N                18            899       27\n",
      "8     50   737997      2386964            2  2057803       1064                 2          39250      238\n",
      "23    51   737997      1562852            1  1357233       2510                 2          47827      242\n",
      "2     54   737997      2220962            1  1917126       1261                 2           6783        6\n",
      "18    54   737997      2223402            1  1919205         \\N                18           9058      289\n",
      "14    56   737997      2222117            1  1918128         \\N                18          14681      289\n",
      "19    71   737997      3053818            1  2626187       1261                 2           6783        6\n",
      "16    74   737997      1290139            1  1128283         \\N                18          14681       88\n",
      "12    74   737997      3071487            1  2641644         \\N                18          14681      297\n",
      "15    74   737997      2361374            1  2035962       1261                 2           6783        6\n",
      "13    75   737997      3071487            1  2641644         \\N                18          14681      297\n",
      "10    75   737997      2741063            1  2357121       1261                 2           6783        6\n",
      "17    84   737997      1609078            1  1395635      41655                17          15975       \\N\n",
      "9     84   737997      3904071            1  3353731      39519                17          36428       \\N\n",
      "6     85   737997      2032927            1  1757244      38250                17          15120       \\N\n",
      "5     85   737997      2386970            1  2057808      39519                17          36428       \\N\n",
      "7     90   737997      2032927            1  1757244      38250                17          15120       \\N\n",
      "1     90   737997      3556853            1  3062658       3398                 2          38272       \\N\n",
      "25    90   737997      2758724            1  2372464      37963                17          26448       \\N\n"
     ]
    }
   ],
   "source": [
    "user_ins_df = clk_df[clk_df.user_id == 737997]\n",
    "user_ins_df= user_ins_df.merge(ad_df,on='creative_id').sort_values(by='time')\n",
    "pd.set_option('display.max_rows', 100)\n",
    "print(user_ins_df)\n",
    "pd.set_option('display.max_rows', 10)"
   ]
  },
  {
   "cell_type": "code",
   "execution_count": 15,
   "metadata": {},
   "outputs": [
    {
     "name": "stdout",
     "output_type": "stream",
     "text": [
      "    time  user_id  creative_id  click_times    ad_id product_id  product_category  advertiser_id industry\n",
      "24     2   323781       127222            1   114519      26858                 3          29869       60\n",
      "19     3   323781       318574            1   286229         \\N                 5          19862        6\n",
      "1      4   323781       320256            1   287821         \\N                 5          13872       89\n",
      "10     4   323781       201221            1   180675         \\N                 5          18784      205\n",
      "20     5   323781       303160            1   272203         \\N                 5          36186       88\n",
      "15    27   323781      1354554            1  1183922       9170                 3          43415      253\n",
      "22    35   323781      1414984            1  1234451      26858                 3          19622       60\n",
      "13    35   323781       619158            1   549778      26858                 3          19622       60\n",
      "25    36   323781      1354136            1  1183587      26858                 3          19622       60\n",
      "0     37   323781      1135903            1   995859      26858                 3          19622       60\n",
      "4     37   323781      1354505            1  1183890      26858                 3          19622       60\n",
      "18    38   323781        69204            1    63976      26858                 3          24952       60\n",
      "3     46   323781      1807219            1  1564817         \\N                18          14681      289\n",
      "23    46   323781      2230423            1  1925297       2065                 2          50459      238\n",
      "8     51   323781        61554            1    57057      27009                 3          28954        6\n",
      "2     54   323781      1807219            1  1564817         \\N                18          14681      289\n",
      "21    55   323781      1395437            1  1217867         \\N                18           5637      296\n",
      "17    56   323781      1518163            1  1319971      27009                 3          28955        6\n",
      "9     58   323781      2638878            1  2271269         \\N                18          14681      293\n",
      "5     59   323781      2438763            1  2101315      26940                 3          23198       57\n",
      "12    59   323781      2033347            1  1757585       9170                 3          43415      255\n",
      "16    60   323781      2571549            1  2214347      27009                 3          52614        6\n",
      "14    62   323781      2459547            1  2118927      27009                 3          23046        6\n",
      "11    81   323781      3540150            1  3048648         \\N                18          14682      297\n",
      "7     81   323781      3845974            1  3305108         \\N                18          14681      203\n",
      "6     81   323781      3831821            1  3293036         \\N                 5          15855        6\n"
     ]
    }
   ],
   "source": [
    "user_ins_df = clk_df[clk_df.user_id == 323781]\n",
    "user_ins_df= user_ins_df.merge(ad_df,on='creative_id').sort_values(by='time')\n",
    "pd.set_option('display.max_rows', 100)\n",
    "print(user_ins_df)\n",
    "pd.set_option('display.max_rows', 10)"
   ]
  },
  {
   "cell_type": "code",
   "execution_count": 16,
   "metadata": {},
   "outputs": [
    {
     "name": "stdout",
     "output_type": "stream",
     "text": [
      "        user_id  active_days\n",
      "0             1           10\n",
      "1             2           28\n",
      "2             3           23\n",
      "3             4           15\n",
      "4             5           26\n",
      "...         ...          ...\n",
      "899995   899996           12\n",
      "899996   899997           14\n",
      "899997   899998           10\n",
      "899998   899999           17\n",
      "899999   900000           12\n",
      "\n",
      "[900000 rows x 2 columns]\n"
     ]
    }
   ],
   "source": [
    "user_day_count_df = clk_df.groupby(['user_id']).time.nunique().reset_index().rename(columns={'time':'active_days'})\n",
    "print(user_day_count_df)"
   ]
  },
  {
   "cell_type": "code",
   "execution_count": 17,
   "metadata": {},
   "outputs": [
    {
     "name": "stdout",
     "output_type": "stream",
     "text": [
      "        user_id  active_days\n",
      "0             1           10\n",
      "1             2           28\n",
      "2             3           23\n",
      "3             4           15\n",
      "4             5           26\n",
      "...         ...          ...\n",
      "899995   899996           12\n",
      "899996   899997           14\n",
      "899997   899998           10\n",
      "899998   899999           17\n",
      "899999   900000           12\n",
      "\n",
      "[900000 rows x 2 columns]\n"
     ]
    }
   ],
   "source": [
    "user_day_count_df = clk_df.groupby(['user_id']).time.nunique().reset_index().rename(columns={'time':'active_days'})\n",
    "print(user_day_count_df)"
   ]
  },
  {
   "cell_type": "code",
   "execution_count": 18,
   "metadata": {},
   "outputs": [
    {
     "name": "stdout",
     "output_type": "stream",
     "text": [
      "        user_id  active_days  click_times_total\n",
      "0             1           10                 14\n",
      "1             2           28                 46\n",
      "2             3           23                 30\n",
      "3             4           15                 29\n",
      "4             5           26                 34\n",
      "...         ...          ...                ...\n",
      "899995   899996           12                 14\n",
      "899996   899997           14                 20\n",
      "899997   899998           10                 15\n",
      "899998   899999           17                 22\n",
      "899999   900000           12                 12\n",
      "\n",
      "[900000 rows x 3 columns]\n"
     ]
    }
   ],
   "source": [
    "user_df = user_day_count_df.merge(user_click_sum_df,on='user_id')\n",
    "print(user_df)"
   ]
  },
  {
   "cell_type": "code",
   "execution_count": 19,
   "metadata": {},
   "outputs": [
    {
     "name": "stdout",
     "output_type": "stream",
     "text": [
      "          time  user_id  creative_id  click_times    ad_id product_id  product_category  advertiser_id industry  wday  month\n",
      "0            9    30920       567330            1   504423      30673                 3          32638      319     1      0\n",
      "1           15   320815       567330            1   504423      30673                 3          32638      319     2      0\n",
      "2           11   355089       567330            1   504423      30673                 3          32638      319     1      0\n",
      "3            9   363442       567330            1   504423      30673                 3          32638      319     1      0\n",
      "4           14   370513       567330            1   504423      30673                 3          32638      319     2      0\n",
      "...        ...      ...          ...          ...      ...        ...               ...            ...      ...   ...    ...\n",
      "30082766    52   309198      2459911            1  2119242        161                 2            676      231     7      1\n",
      "30082767     5   309198       452252            1   402185       2870                 2           7158      247     0      0\n",
      "30082768    76   309198      3686554            2  3172440       3979                 2          52506      247    10      2\n",
      "30082769    50   309198      2386973            1  2057811       1946                 2          17757      259     7      1\n",
      "30082770    12    30920       717026            1   634512         \\N                18          26466      126     1      0\n",
      "\n",
      "[30082771 rows x 11 columns]\n"
     ]
    }
   ],
   "source": [
    "merged_df = clk_df.merge(ad_df,on='creative_id')\n",
    "merged_df['wday'] = merged_df['time'].apply(lambda x :int(x /7))\n",
    "merged_df['month'] = merged_df['time'].apply(lambda x :int(x /30))\n",
    "print(merged_df)"
   ]
  },
  {
   "cell_type": "code",
   "execution_count": 20,
   "metadata": {},
   "outputs": [
    {
     "name": "stdout",
     "output_type": "stream",
     "text": [
      "18\n",
      "2     12452751\n",
      "18     8518204\n",
      "3      2864262\n",
      "5      2411464\n",
      "12     1524927\n",
      "17      784455\n",
      "8       773074\n",
      "13      388749\n",
      "4       153879\n",
      "7        70145\n",
      "Name: product_category, dtype: int64\n"
     ]
    },
    {
     "data": {
      "image/png": "[encoded data removed]",
      "text/plain": [
       "<Figure size 432x288 with 1 Axes>"
      ]
     },
     "metadata": {
      "needs_background": "light"
     },
     "output_type": "display_data"
    }
   ],
   "source": [
    "adv_count_value= merged_df['product_category'].value_counts()\n",
    "print(len(adv_count_value))\n",
    "print(adv_count_value[:10])\n",
    "#null_counts = adv_count_value['\\\\N']\n",
    "#print(f\"null:{null_counts}\")\n",
    "x = adv_count_value.index\n",
    "y = adv_count_value.values\n",
    "plt.scatter(x,y)\n",
    "plt.show()"
   ]
  },
  {
   "cell_type": "code",
   "execution_count": 24,
   "metadata": {},
   "outputs": [],
   "source": [
    "def get_product_category(log):\n",
    "    dic ={}\n",
    "    result = []\n",
    "    for row in tqdm(log[['time', 'user_id','product_category']].values,total=len(log)):\n",
    "        try:\n",
    "            c = dic[row[1]]\n",
    "            c.update(row[2])\n",
    "        except Exception as e:\n",
    "            c = Counter([row[2]])\n",
    "            dic[row[1]] = c\n",
    "    for k,v in tqdm(dic.items(),total=len(dic)):\n",
    "        d = {}\n",
    "        for i in range(18):\n",
    "            d[i] =0;\n",
    "        \n",
    "        total_clk = 0\n",
    "        for category,count in v.items():\n",
    "            d[category -1] = count\n",
    "            total_clk+=  count\n",
    "            result.append([k] + list(d.values()) + (np.array(list(d.values()))/total_clk).tolist())\n",
    "    cols = ['user_id'] + [f'product_category_{i}' for i in range(18)] + [f'product_category_{i}_percent' for i in range(18)]\n",
    "    ret_df = pd.DataFrame(result,columns=cols)\n",
    "    return ret_df"
   ]
  },
  {
   "cell_type": "code",
   "execution_count": 25,
   "metadata": {},
   "outputs": [
    {
     "name": "stderr",
     "output_type": "stream",
     "text": [
      "100%|██████████| 30082771/30082771 [02:58<00:00, 168243.87it/s]\n",
      "100%|██████████| 900000/900000 [00:14<00:00, 60571.79it/s]\n"
     ]
    },
    {
     "ename": "NameError",
     "evalue": "name 'preprocess_path' is not defined",
     "output_type": "error",
     "traceback": [
      "\u001b[0;31m---------------------------------------------------------------------------\u001b[0m",
      "\u001b[0;31mNameError\u001b[0m                                 Traceback (most recent call last)",
      "\u001b[0;32m<ipython-input-25-8f218166a75c>\u001b[0m in \u001b[0;36m<module>\u001b[0;34m\u001b[0m\n\u001b[1;32m      1\u001b[0m \u001b[0mproduct_category_df\u001b[0m \u001b[0;34m=\u001b[0m  \u001b[0mget_product_category\u001b[0m\u001b[0;34m(\u001b[0m\u001b[0mmerged_df\u001b[0m\u001b[0;34m)\u001b[0m\u001b[0;34m\u001b[0m\u001b[0;34m\u001b[0m\u001b[0m\n\u001b[0;32m----> 2\u001b[0;31m \u001b[0mproduct_category_df\u001b[0m\u001b[0;34m.\u001b[0m\u001b[0mto_pickle\u001b[0m\u001b[0;34m(\u001b[0m\u001b[0;34mf'{preprocess_path}/product_category.pkl'\u001b[0m\u001b[0;34m)\u001b[0m\u001b[0;34m\u001b[0m\u001b[0;34m\u001b[0m\u001b[0m\n\u001b[0m",
      "\u001b[0;31mNameError\u001b[0m: name 'preprocess_path' is not defined"
     ]
    }
   ],
   "source": [
    "product_category_df =  get_product_category(merged_df)\n",
    "product_category_df.to_pickle(f'{preprocess_path}/product_category.pkl')"
   ]
  },
  {
   "cell_type": "code",
   "execution_count": 28,
   "metadata": {},
   "outputs": [
    {
     "name": "stdout",
     "output_type": "stream",
     "text": [
      "        user_id  product_category_0  product_category_1  product_category_2  product_category_3  product_category_4  product_category_5  product_category_6  product_category_7  product_category_8  product_category_9  product_category_10  product_category_11  \\\n",
      "0         30920                   0                   0                   0                   0                   0                   0                   0                   0                   0                   0                    0                    0   \n",
      "1        320815                   0                   0                   1                   0                   0                   0                   0                   0                   0                   0                    0                    0   \n",
      "2        355089                   0                   1                   0                   0                   0                   0                   0                   0                   0                   0                    0                    0   \n",
      "3        363442                   0                   1                   0                   0                   0                   0                   0                   0                   0                   0                    0                    0   \n",
      "4        370513                   0                   0                   1                   0                   0                   0                   0                   0                   0                   0                    0                    0   \n",
      "...         ...                 ...                 ...                 ...                 ...                 ...                 ...                 ...                 ...                 ...                 ...                  ...                  ...   \n",
      "899995   512632                   0                   0                   0                   0                   0                   0                   0                   0                   0                   0                    0                    0   \n",
      "899996   872929                   0                   0                   0                   0                   0                   0                   0                   0                   0                   0                    0                    0   \n",
      "899997   833411                   0                   0                   0                   1                   0                   0                   0                   0                   0                   0                    0                    0   \n",
      "899998   404337                   0                   0                   0                   0                   0                   0                   0                   1                   0                   0                    0                    0   \n",
      "899999   482613                   0                   1                   0                   0                   0                   0                   0                   0                   0                   0                    0                    0   \n",
      "\n",
      "        product_category_12  product_category_13  product_category_14  product_category_15  product_category_16  product_category_17  product_category_0_percent  product_category_1_percent  product_category_2_percent  product_category_3_percent  product_category_4_percent  \\\n",
      "0                         0                    0                    0                    0                    0                    1                         0.0                         0.0                         0.0                         0.0                         0.0   \n",
      "1                         0                    0                    0                    0                    0                    0                         0.0                         0.0                         1.0                         0.0                         0.0   \n",
      "2                         0                    0                    0                    0                    0                    0                         0.0                         1.0                         0.0                         0.0                         0.0   \n",
      "3                         0                    0                    0                    0                    0                    0                         0.0                         1.0                         0.0                         0.0                         0.0   \n",
      "4                         0                    0                    0                    0                    0                    0                         0.0                         0.0                         1.0                         0.0                         0.0   \n",
      "...                     ...                  ...                  ...                  ...                  ...                  ...                         ...                         ...                         ...                         ...                         ...   \n",
      "899995                    0                    0                    0                    0                    0                    1                         0.0                         0.0                         0.0                         0.0                         0.0   \n",
      "899996                    1                    0                    0                    0                    0                    0                         0.0                         0.0                         0.0                         0.0                         0.0   \n",
      "899997                    0                    0                    0                    0                    0                    0                         0.0                         0.0                         0.0                         1.0                         0.0   \n",
      "899998                    0                    0                    0                    0                    0                    0                         0.0                         0.0                         0.0                         0.0                         0.0   \n",
      "899999                    0                    0                    0                    0                    0                    0                         0.0                         1.0                         0.0                         0.0                         0.0   \n",
      "\n",
      "        product_category_5_percent  product_category_6_percent  product_category_7_percent  product_category_8_percent  product_category_9_percent  product_category_10_percent  product_category_11_percent  product_category_12_percent  product_category_13_percent  \\\n",
      "0                              0.0                         0.0                         0.0                         0.0                         0.0                          0.0                          0.0                          0.0                          0.0   \n",
      "1                              0.0                         0.0                         0.0                         0.0                         0.0                          0.0                          0.0                          0.0                          0.0   \n",
      "2                              0.0                         0.0                         0.0                         0.0                         0.0                          0.0                          0.0                          0.0                          0.0   \n",
      "3                              0.0                         0.0                         0.0                         0.0                         0.0                          0.0                          0.0                          0.0                          0.0   \n",
      "4                              0.0                         0.0                         0.0                         0.0                         0.0                          0.0                          0.0                          0.0                          0.0   \n",
      "...                            ...                         ...                         ...                         ...                         ...                          ...                          ...                          ...                          ...   \n",
      "899995                         0.0                         0.0                         0.0                         0.0                         0.0                          0.0                          0.0                          0.0                          0.0   \n",
      "899996                         0.0                         0.0                         0.0                         0.0                         0.0                          0.0                          0.0                          1.0                          0.0   \n",
      "899997                         0.0                         0.0                         0.0                         0.0                         0.0                          0.0                          0.0                          0.0                          0.0   \n",
      "899998                         0.0                         0.0                         1.0                         0.0                         0.0                          0.0                          0.0                          0.0                          0.0   \n",
      "899999                         0.0                         0.0                         0.0                         0.0                         0.0                          0.0                          0.0                          0.0                          0.0   \n",
      "\n",
      "        product_category_14_percent  product_category_15_percent  product_category_16_percent  product_category_17_percent  \n",
      "0                               0.0                          0.0                          0.0                          1.0  \n",
      "1                               0.0                          0.0                          0.0                          0.0  \n",
      "2                               0.0                          0.0                          0.0                          0.0  \n",
      "3                               0.0                          0.0                          0.0                          0.0  \n",
      "4                               0.0                          0.0                          0.0                          0.0  \n",
      "...                             ...                          ...                          ...                          ...  \n",
      "899995                          0.0                          0.0                          0.0                          1.0  \n",
      "899996                          0.0                          0.0                          0.0                          0.0  \n",
      "899997                          0.0                          0.0                          0.0                          0.0  \n",
      "899998                          0.0                          0.0                          0.0                          0.0  \n",
      "899999                          0.0                          0.0                          0.0                          0.0  \n",
      "\n",
      "[900000 rows x 37 columns]\n"
     ]
    }
   ],
   "source": [
    "product_category_df.to_pickle(f'{preprocess_path}/product_category.pkl')\n",
    "print(product_category_df)"
   ]
  },
  {
   "cell_type": "code",
   "execution_count": null,
   "metadata": {},
   "outputs": [],
   "source": [
    "print((np.array(list([1,2,3]))/ 6).tolist() +[1])"
   ]
  },
  {
   "cell_type": "code",
   "execution_count": null,
   "metadata": {},
   "outputs": [],
   "source": []
  }
 ],
 "metadata": {
  "kernelspec": {
   "display_name": "Python 3",
   "language": "python",
   "name": "python3"
  },
  "language_info": {
   "codemirror_mode": {
    "name": "ipython",
    "version": 3
   },
   "file_extension": ".py",
   "mimetype": "text/x-python",
   "name": "python",
   "nbconvert_exporter": "python",
   "pygments_lexer": "ipython3",
   "version": "3.7.3"
  }
 },
 "nbformat": 4,
 "nbformat_minor": 2
}
