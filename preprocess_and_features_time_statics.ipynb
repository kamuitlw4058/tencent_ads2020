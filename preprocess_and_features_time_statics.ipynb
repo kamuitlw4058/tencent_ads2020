{
 "cells": [
  {
   "cell_type": "code",
   "execution_count": 1,
   "metadata": {},
   "outputs": [
    {
     "name": "stdout",
     "output_type": "stream",
     "text": [
      "INFO: Pandarallel will run on 8 workers.\n",
      "INFO: Pandarallel will use Memory file system to transfer data between the main process and workers.\n"
     ]
    }
   ],
   "source": [
    "import os\n",
    "import pandas as pd\n",
    "import numpy as np\n",
    "import random\n",
    "import gc\n",
    "from datetime import datetime\n",
    "from tqdm import tqdm\n",
    "import matplotlib.pyplot as plt\n",
    "from gensim.corpora import WikiCorpus\n",
    "from gensim.models import Word2Vec\n",
    "from gensim.models.word2vec import LineSentence\n",
    "from sklearn.feature_extraction.text import TfidfVectorizer\n",
    "from sklearn.model_selection import train_test_split\n",
    "from  collections import Counter\n",
    "from pandarallel import pandarallel\n",
    "\n",
    "pandarallel.initialize(progress_bar=True)\n",
    "\n",
    "np.random.seed(2019)\n",
    "random.seed(2019)\n",
    "pd.set_option('display.max_rows', 6)\n",
    "pd.set_option('display.max_columns', 500)\n",
    "pd.set_option('display.width', 280)\n",
    "pd.set_option('display.max_colwidth', 150)\n",
    "data_path = '/data/workspace/kimi/tencent_ads/2020/dataset'\n",
    "preprocess_path = 'preprocess'\n"
   ]
  },
  {
   "cell_type": "code",
   "execution_count": 2,
   "metadata": {},
   "outputs": [],
   "source": [
    "def get_cols_statics(grouped_df,pivod,output_col):\n",
    "    max_df = grouped_df.groupby([pivod])[[output_col]].max().reset_index().rename(columns={output_col:f'{output_col}_max'})\n",
    "    min_df = grouped_df.groupby([pivod])[[output_col]].min().reset_index().rename(columns={output_col:f'{output_col}_min'})\n",
    "    mean_df = grouped_df.groupby([pivod])[[output_col]].mean().reset_index().rename(columns={output_col:f'{output_col}_mean'})\n",
    "    std_df = grouped_df.groupby([pivod])[[output_col]].std().reset_index().rename(columns={output_col:f'{output_col}_std'})\n",
    "    ret_df  = max_df.merge(min_df,on=pivod)\n",
    "    ret_df  = ret_df.merge(mean_df,on=pivod)\n",
    "    ret_df  = ret_df.merge(std_df,on=pivod)\n",
    "    return ret_df \n"
   ]
  },
  {
   "cell_type": "code",
   "execution_count": 3,
   "metadata": {},
   "outputs": [],
   "source": [
    "def get_user_statics(log):\n",
    "    user_df =  log.groupby(['user_id']).click_times.sum().reset_index().rename(columns={'click_times':'total_clks'})\n",
    "    user_active_days_df = log.groupby(['user_id']).time.nunique().reset_index().rename(columns={'time':'active_days'})\n",
    "    return user_df.merge(user_active_days_df,on='user_id')"
   ]
  },
  {
   "cell_type": "code",
   "execution_count": 4,
   "metadata": {},
   "outputs": [],
   "source": [
    "def get_user_day_statics(log):\n",
    "    user_day_clks_df = log.groupby(['user_id','time']).creative_id.count().reset_index().rename(columns={'creative_id':'day_clks'})\n",
    "    user_day_clks_df['week'] =   user_day_clks_df['time'].apply(lambda x :int((x+ 5) /7))\n",
    "    user_day_clks_df['wday'] =   user_day_clks_df['time'].apply(lambda x :int((x+ 5) %7))\n",
    "    user_day_clks_df['is_weekend'] =   user_day_clks_df['wday'].apply(lambda x : 1 if x > 5 else 0 )\n",
    "    user_day_clks_df['month'] =   user_day_clks_df['time'].apply(lambda x :int((x /30)))\n",
    "    return user_day_clks_df"
   ]
  },
  {
   "cell_type": "code",
   "execution_count": 5,
   "metadata": {},
   "outputs": [
    {
     "name": "stdout",
     "output_type": "stream",
     "text": [
      "          time   user_id  creative_id  click_times      ad_id  product_id  product_category  advertiser_id  industry\n",
      "0          9.0   30920.0     567330.0          1.0   504423.0     30673.0               3.0        32638.0     319.0\n",
      "1         15.0  320815.0     567330.0          1.0   504423.0     30673.0               3.0        32638.0     319.0\n",
      "2         11.0  355089.0     567330.0          1.0   504423.0     30673.0               3.0        32638.0     319.0\n",
      "...        ...       ...          ...          ...        ...         ...               ...            ...       ...\n",
      "30082768  76.0  309198.0    3686554.0          2.0  3172440.0      3979.0               2.0        52506.0     247.0\n",
      "30082769  50.0  309198.0    2386973.0          1.0  2057811.0      1946.0               2.0        17757.0     259.0\n",
      "30082770  12.0   30920.0     717026.0          1.0   634512.0        -1.0              18.0        26466.0     126.0\n",
      "\n",
      "[30082771 rows x 9 columns]\n"
     ]
    }
   ],
   "source": [
    "merged_df = pd.read_pickle(f'{preprocess_path}/train_merged_log.pkl' )\n",
    "print(merged_df)"
   ]
  },
  {
   "cell_type": "code",
   "execution_count": 6,
   "metadata": {},
   "outputs": [
    {
     "name": "stdout",
     "output_type": "stream",
     "text": [
      "         user_id  total_clks  active_days\n",
      "0            1.0        14.0           10\n",
      "1            2.0        46.0           28\n",
      "2            3.0        30.0           23\n",
      "...          ...         ...          ...\n",
      "899997  899998.0        15.0           10\n",
      "899998  899999.0        22.0           17\n",
      "899999  900000.0        12.0           12\n",
      "\n",
      "[900000 rows x 3 columns]\n"
     ]
    }
   ],
   "source": [
    "user_df = get_user_statics(merged_df)\n",
    "print(user_df)"
   ]
  },
  {
   "cell_type": "code",
   "execution_count": 7,
   "metadata": {},
   "outputs": [
    {
     "name": "stdout",
     "output_type": "stream",
     "text": [
      "           user_id  time  day_clks  week  wday  is_weekend  month\n",
      "0              1.0  20.0         3     3     4           0      0\n",
      "1              1.0  39.0         1     6     2           0      1\n",
      "2              1.0  40.0         1     6     3           0      1\n",
      "...            ...   ...       ...   ...   ...         ...    ...\n",
      "19825288  900000.0  72.0         1    11     0           0      2\n",
      "19825289  900000.0  74.0         1    11     2           0      2\n",
      "19825290  900000.0  91.0         1    13     5           0      3\n",
      "\n",
      "[19825291 rows x 7 columns]\n"
     ]
    }
   ],
   "source": [
    "user_day_df = get_user_day_statics(merged_df)\n",
    "print(user_day_df)\n",
    "del merged_df\n"
   ]
  },
  {
   "cell_type": "code",
   "execution_count": 8,
   "metadata": {},
   "outputs": [
    {
     "name": "stdout",
     "output_type": "stream",
     "text": [
      "         user_id  day_clks_max  day_clks_min  day_clks_mean  day_clks_std\n",
      "0            1.0             3             1       1.300000      0.674949\n",
      "1            2.0             4             1       1.607143      0.994030\n",
      "2            3.0             3             1       1.304348      0.634950\n",
      "...          ...           ...           ...            ...           ...\n",
      "899997  899998.0             3             1       1.400000      0.699206\n",
      "899998  899999.0             2             1       1.294118      0.469668\n",
      "899999  900000.0             1             1       1.000000      0.000000\n",
      "\n",
      "[900000 rows x 5 columns]\n"
     ]
    }
   ],
   "source": [
    "day_statics_df =  get_cols_statics(user_day_df,'user_id','day_clks')\n",
    "print(day_statics_df)"
   ]
  },
  {
   "cell_type": "code",
   "execution_count": 9,
   "metadata": {},
   "outputs": [
    {
     "name": "stdout",
     "output_type": "stream",
     "text": [
      "         user_id  week_clks_max  week_clks_min  week_clks_mean  week_clks_std\n",
      "0            1.0              3              1        2.166667       0.983192\n",
      "1            2.0              7              1        4.090909       2.256304\n",
      "2            3.0              6              1        3.000000       1.763834\n",
      "...          ...            ...            ...             ...            ...\n",
      "899997  899998.0              7              1        2.333333       2.338090\n",
      "899998  899999.0              4              1        2.444444       1.130388\n",
      "899999  900000.0              2              1        1.333333       0.500000\n",
      "\n",
      "[900000 rows x 5 columns]\n"
     ]
    }
   ],
   "source": [
    "user_week_clks_df = user_day_df.groupby(['user_id','week']).day_clks.sum().reset_index().rename(columns={'day_clks':'week_clks'})\n",
    "week_statics_df =  get_cols_statics(user_week_clks_df,'user_id','week_clks')\n",
    "print(week_statics_df)"
   ]
  },
  {
   "cell_type": "code",
   "execution_count": 10,
   "metadata": {},
   "outputs": [
    {
     "name": "stdout",
     "output_type": "stream",
     "text": [
      "           user_id  time  day_clks  week  wday  is_weekend  month\n",
      "3              1.0  43.0         1     6     6           1      1\n",
      "7              1.0  64.0         2     9     6           1      2\n",
      "32             2.0  78.0         1    11     6           1      2\n",
      "...            ...   ...       ...   ...   ...         ...    ...\n",
      "19825269  899999.0  29.0         2     4     6           1      0\n",
      "19825286  900000.0  57.0         1     8     6           1      1\n",
      "19825287  900000.0  71.0         1    10     6           1      2\n",
      "\n",
      "[2966620 rows x 7 columns]\n",
      "         user_id  weekend_clks_max  weekend_clks_min  weekend_clks_mean  weekend_clks_std\n",
      "0            1.0                 2                 1               1.50          0.707107\n",
      "1            2.0                 1                 1               1.00          0.000000\n",
      "2            3.0                 2                 1               1.25          0.500000\n",
      "...          ...               ...               ...                ...               ...\n",
      "838473  899998.0                 3                 1               2.00          1.414214\n",
      "838474  899999.0                 2                 2               2.00               NaN\n",
      "838475  900000.0                 1                 1               1.00          0.000000\n",
      "\n",
      "[838476 rows x 5 columns]\n"
     ]
    }
   ],
   "source": [
    "weekend_df = user_day_df[user_day_df.is_weekend > 0]\n",
    "print(weekend_df)\n",
    "user_weekend_clks_df = weekend_df.groupby(['user_id','week']).day_clks.sum().reset_index().rename(columns={'day_clks':'weekend_clks'})\n",
    "weekend_statics_df =  get_cols_statics(user_weekend_clks_df,'user_id','weekend_clks')\n",
    "print(weekend_statics_df)"
   ]
  },
  {
   "cell_type": "code",
   "execution_count": 11,
   "metadata": {},
   "outputs": [
    {
     "name": "stdout",
     "output_type": "stream",
     "text": [
      "         user_id  workday_clks_max  workday_clks_min  workday_clks_mean  workday_clks_std\n",
      "0            1.0                 3                 1           1.666667          0.816497\n",
      "1            2.0                 7                 1           4.300000          2.057507\n",
      "2            3.0                 5                 1           2.500000          1.509231\n",
      "...          ...               ...               ...                ...               ...\n",
      "899992  899998.0                 4                 1           2.000000          1.224745\n",
      "899993  899999.0                 4                 1           2.222222          1.201850\n",
      "899994  900000.0                 2                 1           1.250000          0.462910\n",
      "\n",
      "[899995 rows x 5 columns]\n"
     ]
    }
   ],
   "source": [
    "workday_df = user_day_df[user_day_df.is_weekend == 0]\n",
    "user_work_clks_df = workday_df.groupby(['user_id','week']).day_clks.sum().reset_index().rename(columns={'day_clks':'workday_clks'})\n",
    "workday_statics_df =  get_cols_statics(user_work_clks_df,'user_id','workday_clks')\n",
    "print(workday_statics_df)"
   ]
  },
  {
   "cell_type": "code",
   "execution_count": 12,
   "metadata": {},
   "outputs": [
    {
     "name": "stdout",
     "output_type": "stream",
     "text": [
      "         user_id  workday_clks_max  workday_clks_min  workday_clks_mean  workday_clks_std\n",
      "0            1.0                 3                 1           1.666667          0.816497\n",
      "1            2.0                 7                 1           4.300000          2.057507\n",
      "2            3.0                 5                 1           2.500000          1.509231\n",
      "3            4.0                11                 1           4.166667          3.868678\n",
      "4            5.0                 7                 1           2.727273          1.848833\n",
      "5            6.0                 4                 1           2.500000          1.224745\n",
      "6            7.0                 2                 1           1.166667          0.408248\n",
      "7            8.0                 6                 1           3.363636          1.286291\n",
      "8            9.0                 5                 1           2.000000          1.322876\n",
      "9           10.0                 2                 1           1.500000          0.547723\n",
      "10          11.0                 3                 1           2.000000          0.707107\n",
      "11          12.0                 3                 1           1.375000          0.744024\n",
      "12          13.0                 9                 1           3.333333          2.269695\n",
      "13          14.0                 7                 1           3.750000          1.864745\n",
      "14          15.0                 7                 2           4.000000          2.097618\n",
      "15          16.0                 4                 1           2.166667          1.329160\n",
      "16          17.0                11                 1           3.666667          2.708013\n",
      "17          18.0                 3                 1           1.833333          0.983192\n",
      "18          19.0                 7                 1           3.000000          1.802776\n",
      "19          20.0                 3                 1           1.833333          0.983192\n",
      "20          21.0                 2                 1           1.333333          0.516398\n",
      "21          22.0                 3                 1           1.666667          0.816497\n",
      "22          23.0                 9                 1           3.500000          2.976095\n",
      "23          24.0                 2                 1           1.125000          0.353553\n",
      "24          25.0                 3                 1           2.000000          0.816497\n",
      "25          26.0                 5                 1           2.000000          1.549193\n",
      "26          27.0                16                 1           4.846154          3.933746\n",
      "27          28.0                 3                 1           1.400000          0.894427\n",
      "28          29.0                 6                 1           2.555556          1.810463\n",
      "29          30.0                 4                 1           2.636364          0.809040\n",
      "30          31.0                 5                 1           2.181818          1.167748\n",
      "31          32.0                 5                 1           1.909091          1.375103\n",
      "32          33.0                 8                 2           4.153846          1.724633\n",
      "33          34.0                15                 1           4.916667          4.756973\n",
      "34          35.0                 4                 1           1.666667          1.211060\n",
      "35          36.0                 4                 1           2.000000          0.925820\n",
      "36          37.0                17                 5           9.153846          3.693376\n",
      "37          38.0                 5                 1           2.272727          1.489356\n",
      "38          39.0                 3                 1           1.571429          0.786796\n",
      "39          40.0                 4                 1           2.000000          1.000000\n",
      "40          41.0                 7                 1           3.571429          2.225395\n",
      "41          42.0                 8                 1           3.000000          2.061553\n",
      "42          43.0                 4                 1           1.666667          1.211060\n",
      "43          44.0                 6                 1           2.000000          1.772811\n",
      "44          45.0                 2                 1           1.600000          0.516398\n",
      "45          46.0                 3                 1           2.000000          0.816497\n",
      "46          47.0                 9                 1           4.333333          2.738613\n",
      "47          48.0                 3                 1           1.545455          0.687552\n",
      "48          49.0                 6                 1           2.250000          1.544786\n",
      "49          50.0                 3                 1           2.000000          0.894427\n",
      "...          ...               ...               ...                ...               ...\n",
      "899945  899951.0                10                 1           2.777778          2.905933\n",
      "899946  899952.0                 6                 1           2.428571          1.812654\n",
      "899947  899953.0                 4                 1           2.142857          1.214986\n",
      "899948  899954.0                 5                 1           2.384615          1.120897\n",
      "899949  899955.0                12                 1           4.692308          3.224506\n",
      "899950  899956.0                 2                 1           1.250000          0.462910\n",
      "899951  899957.0                 5                 1           2.100000          1.370320\n",
      "899952  899958.0                 8                 1           2.400000          3.130495\n",
      "899953  899959.0                 3                 1           2.000000          0.816497\n",
      "899954  899960.0                 3                 1           1.666667          0.816497\n",
      "899955  899961.0                 3                 1           1.833333          0.752773\n",
      "899956  899962.0                 4                 1           2.100000          0.994429\n",
      "899957  899963.0                 4                 1           2.000000          1.549193\n",
      "899958  899964.0                 2                 1           1.142857          0.377964\n",
      "899959  899965.0                 8                 1           4.454545          3.012097\n",
      "899960  899966.0                 8                 1           4.538462          2.066212\n",
      "899961  899967.0                 7                 1           3.363636          2.013590\n",
      "899962  899968.0                 9                 1           3.666667          2.645751\n",
      "899963  899969.0                 9                 1           5.000000          4.618802\n",
      "899964  899970.0                 5                 1           2.800000          1.316561\n",
      "899965  899971.0                10                 1           4.625000          3.067689\n",
      "899966  899972.0                 4                 1           2.750000          0.753778\n",
      "899967  899973.0                 3                 1           1.600000          0.894427\n",
      "899968  899974.0                 6                 1           2.200000          2.167948\n",
      "899969  899975.0                 3                 1           1.333333          0.707107\n",
      "899970  899976.0                 4                 1           1.700000          0.948683\n",
      "899971  899977.0                 5                 1           2.500000          1.414214\n",
      "899972  899978.0                 4                 1           1.500000          0.971825\n",
      "899973  899979.0                 2                 1           1.666667          0.516398\n",
      "899974  899980.0                10                 1           3.666667          3.025147\n",
      "899975  899981.0                46                 1           8.142857         16.717541\n",
      "899976  899982.0                 9                 1           3.400000          2.412928\n",
      "899977  899983.0                 7                 1           3.250000          1.712255\n",
      "899978  899984.0                 6                 1           4.083333          1.621354\n",
      "899979  899985.0                 6                 1           3.000000          1.651446\n",
      "899980  899986.0                18                 3          10.000000          4.262237\n",
      "899981  899987.0                 3                 1           1.777778          0.833333\n",
      "899982  899988.0                 6                 1           2.300000          1.636392\n",
      "899983  899989.0                 7                 1           3.615385          1.938146\n",
      "899984  899990.0                 4                 1           1.571429          1.133893\n",
      "899985  899991.0                21                 4           9.538462          4.892433\n",
      "899986  899992.0                 5                 1           2.250000          1.484771\n",
      "899987  899993.0                 7                 1           3.181818          2.088932\n",
      "899988  899994.0                 3                 1           1.571429          0.975900\n",
      "899989  899995.0                 5                 1           2.000000          1.414214\n",
      "899990  899996.0                 3                 1           1.500000          0.925820\n",
      "899991  899997.0                 6                 1           2.833333          1.722401\n",
      "899992  899998.0                 4                 1           2.000000          1.224745\n",
      "899993  899999.0                 4                 1           2.222222          1.201850\n",
      "899994  900000.0                 2                 1           1.250000          0.462910\n",
      "\n",
      "[899995 rows x 5 columns]\n"
     ]
    }
   ],
   "source": [
    "pd.set_option('display.max_rows', 100)\n",
    "print(workday_statics_df)\n",
    "pd.set_option('display.max_rows', 6)"
   ]
  },
  {
   "cell_type": "code",
   "execution_count": 13,
   "metadata": {},
   "outputs": [
    {
     "name": "stdout",
     "output_type": "stream",
     "text": [
      "         user_id  month_clks_max  month_clks_min  month_clks_mean  month_clks_std\n",
      "0            1.0               5               3         4.333333        1.154701\n",
      "1            2.0              21               1        11.250000        8.958236\n",
      "2            3.0              12               8        10.000000        2.000000\n",
      "...          ...             ...             ...              ...             ...\n",
      "899997  899998.0               9               1         3.500000        3.785939\n",
      "899998  899999.0               9               5         7.333333        2.081666\n",
      "899999  900000.0               4               1         3.000000        1.414214\n",
      "\n",
      "[900000 rows x 5 columns]\n"
     ]
    }
   ],
   "source": [
    "user_month_clks_df = user_day_df.groupby(['user_id','month']).day_clks.sum().reset_index().rename(columns={'day_clks':'month_clks'})\n",
    "month_statics_df =  get_cols_statics(user_month_clks_df,'user_id','month_clks')\n",
    "print(month_statics_df)"
   ]
  },
  {
   "cell_type": "code",
   "execution_count": 14,
   "metadata": {},
   "outputs": [],
   "source": [
    "user_df =  user_df.merge(day_statics_df,on='user_id')\n",
    "user_df =  user_df.merge(week_statics_df,on='user_id')\n",
    "user_df =  user_df.merge(weekend_statics_df,on='user_id')\n",
    "user_df =  user_df.merge(workday_statics_df,on='user_id')\n",
    "user_df =  user_df.merge(month_statics_df,on='user_id')\n",
    "user_df = user_df.fillna(0)\n",
    "user_df.to_pickle(f'{preprocess_path}/train_user.pkl' )\n",
    "print(user_df)\n"
   ]
  }
 ],
 "metadata": {
  "kernelspec": {
   "display_name": "Python 3",
   "language": "python",
   "name": "python3"
  },
  "language_info": {
   "codemirror_mode": {
    "name": "ipython",
    "version": 3
   },
   "file_extension": ".py",
   "mimetype": "text/x-python",
   "name": "python",
   "nbconvert_exporter": "python",
   "pygments_lexer": "ipython3",
   "version": "3.7.3"
  }
 },
 "nbformat": 4,
 "nbformat_minor": 2
}
